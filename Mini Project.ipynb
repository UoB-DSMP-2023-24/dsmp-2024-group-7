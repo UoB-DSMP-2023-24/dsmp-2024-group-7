{
 "cells": [
  {
   "cell_type": "code",
   "execution_count": 38,
   "id": "692cbb62",
   "metadata": {
    "scrolled": true
   },
   "outputs": [
    {
     "data": {
      "text/plain": [
       "array(['complex.id', 'gene', 'cdr3', 'v.segm', 'j.segm', 'species',\n",
       "       'mhc.a', 'mhc.b', 'mhc.class', 'antigen.epitope', 'antigen.gene',\n",
       "       'antigen.species', 'reference.id', 'method', 'meta', 'cdr3fix',\n",
       "       'vdjdb.score', 'web.method', 'web.method.seq', 'web.cdr3fix.nc',\n",
       "       'web.cdr3fix.unmp'], dtype=object)"
      ]
     },
     "execution_count": 38,
     "metadata": {},
     "output_type": "execute_result"
    }
   ],
   "source": [
    "import pandas as pd\n",
    "# Read the entire file into a DataFrame\n",
    "df = pd.read_csv(\"vdjdb.txt\", delimiter='\\t')  # Assuming the file is tab-delimited, adjust if needed\n",
    "\n",
    "# Display the DataFrame\n",
    "df.columns.values"
   ]
  },
  {
   "cell_type": "code",
   "execution_count": 39,
   "id": "f82871e3",
   "metadata": {
    "scrolled": true
   },
   "outputs": [],
   "source": [
    "df = df[['complex.id', 'gene', 'cdr3', 'v.segm', 'j.segm', 'species',\n",
    "       'mhc.a', 'mhc.b', 'mhc.class', 'antigen.epitope', 'antigen.gene',\n",
    "       'antigen.species','vdjdb.score', 'meta']]"
   ]
  },
  {
   "cell_type": "code",
   "execution_count": 40,
   "id": "534a32a2",
   "metadata": {},
   "outputs": [
    {
     "data": {
      "text/plain": [
       "array(['HomoSapiens', 'MusMusculus', 'MacacaMulatta'], dtype=object)"
      ]
     },
     "execution_count": 40,
     "metadata": {},
     "output_type": "execute_result"
    }
   ],
   "source": [
    "df['species'].unique()"
   ]
  },
  {
   "cell_type": "code",
   "execution_count": 41,
   "id": "056a8f05",
   "metadata": {},
   "outputs": [
    {
     "data": {
      "text/html": [
       "<div>\n",
       "<style scoped>\n",
       "    .dataframe tbody tr th:only-of-type {\n",
       "        vertical-align: middle;\n",
       "    }\n",
       "\n",
       "    .dataframe tbody tr th {\n",
       "        vertical-align: top;\n",
       "    }\n",
       "\n",
       "    .dataframe thead th {\n",
       "        text-align: right;\n",
       "    }\n",
       "</style>\n",
       "<table border=\"1\" class=\"dataframe\">\n",
       "  <thead>\n",
       "    <tr style=\"text-align: right;\">\n",
       "      <th></th>\n",
       "      <th>meta</th>\n",
       "    </tr>\n",
       "  </thead>\n",
       "  <tbody>\n",
       "    <tr>\n",
       "      <th>0</th>\n",
       "      <td>{\"cell.subset\": \"CD8+\", \"clone.id\": \"\", \"donor.MHC\": \"HLA-A*02:01,HLA-A*24:02;HLA-B*08:01,HLA-B*5701;HLA-Cw*06:02,HLA-Cw*07:01;HLA-DRB*07:01,HLA-DRB*13:01\", \"donor.MHC.method\": \"\", \"epitope.id\": \"\", \"replica.id\": \"\", \"samples.found\": 1, \"structure.id\": \"\", \"studies.found\": 1, \"study.id\": \"\", \"subject.cohort\": \"HIV+\", \"subject.id\": \"005\", \"tissue\": \"PBMC\"}</td>\n",
       "    </tr>\n",
       "    <tr>\n",
       "      <th>1</th>\n",
       "      <td>{\"cell.subset\": \"CD8+\", \"clone.id\": \"\", \"donor.MHC\": \"HLA-A*02:01,HLA-A*24:02;HLA-B*08:01,HLA-B*5701;HLA-Cw*06:02,HLA-Cw*07:01;HLA-DRB*07:01,HLA-DRB*13:01\", \"donor.MHC.method\": \"\", \"epitope.id\": \"\", \"replica.id\": \"\", \"samples.found\": 1, \"structure.id\": \"\", \"studies.found\": 1, \"study.id\": \"\", \"subject.cohort\": \"HIV+\", \"subject.id\": \"005\", \"tissue\": \"PBMC\"}</td>\n",
       "    </tr>\n",
       "    <tr>\n",
       "      <th>2</th>\n",
       "      <td>{\"cell.subset\": \"CD8+\", \"clone.id\": \"\", \"donor.MHC\": \"HLA-A*01:01,HLA-A*02:01;HLA-B*08:01,HLA-B*57:01;HLA-Cw*06:02,HLA-Cw*07:01;HLA-DRB*08:03:2,HLA-DRB*15:01:1\", \"donor.MHC.method\": \"\", \"epitope.id\": \"\", \"replica.id\": \"\", \"samples.found\": 1, \"structure.id\": \"\", \"studies.found\": 1, \"study.id\": \"\", \"subject.cohort\": \"HIV+\", \"subject.id\": \"065\", \"tissue\": \"PBMC\"}</td>\n",
       "    </tr>\n",
       "  </tbody>\n",
       "</table>\n",
       "</div>"
      ],
      "text/plain": [
       "                                                                                                                                                                                                                                                                                                                                                                         meta\n",
       "0       {\"cell.subset\": \"CD8+\", \"clone.id\": \"\", \"donor.MHC\": \"HLA-A*02:01,HLA-A*24:02;HLA-B*08:01,HLA-B*5701;HLA-Cw*06:02,HLA-Cw*07:01;HLA-DRB*07:01,HLA-DRB*13:01\", \"donor.MHC.method\": \"\", \"epitope.id\": \"\", \"replica.id\": \"\", \"samples.found\": 1, \"structure.id\": \"\", \"studies.found\": 1, \"study.id\": \"\", \"subject.cohort\": \"HIV+\", \"subject.id\": \"005\", \"tissue\": \"PBMC\"}\n",
       "1       {\"cell.subset\": \"CD8+\", \"clone.id\": \"\", \"donor.MHC\": \"HLA-A*02:01,HLA-A*24:02;HLA-B*08:01,HLA-B*5701;HLA-Cw*06:02,HLA-Cw*07:01;HLA-DRB*07:01,HLA-DRB*13:01\", \"donor.MHC.method\": \"\", \"epitope.id\": \"\", \"replica.id\": \"\", \"samples.found\": 1, \"structure.id\": \"\", \"studies.found\": 1, \"study.id\": \"\", \"subject.cohort\": \"HIV+\", \"subject.id\": \"005\", \"tissue\": \"PBMC\"}\n",
       "2  {\"cell.subset\": \"CD8+\", \"clone.id\": \"\", \"donor.MHC\": \"HLA-A*01:01,HLA-A*02:01;HLA-B*08:01,HLA-B*57:01;HLA-Cw*06:02,HLA-Cw*07:01;HLA-DRB*08:03:2,HLA-DRB*15:01:1\", \"donor.MHC.method\": \"\", \"epitope.id\": \"\", \"replica.id\": \"\", \"samples.found\": 1, \"structure.id\": \"\", \"studies.found\": 1, \"study.id\": \"\", \"subject.cohort\": \"HIV+\", \"subject.id\": \"065\", \"tissue\": \"PBMC\"}"
      ]
     },
     "execution_count": 41,
     "metadata": {},
     "output_type": "execute_result"
    }
   ],
   "source": [
    "pd.set_option('display.max_colwidth', None)\n",
    "df[['meta']].head(3)"
   ]
  },
  {
   "cell_type": "code",
   "execution_count": 42,
   "id": "d00d390a",
   "metadata": {
    "scrolled": true
   },
   "outputs": [
    {
     "data": {
      "text/html": [
       "<div>\n",
       "<style scoped>\n",
       "    .dataframe tbody tr th:only-of-type {\n",
       "        vertical-align: middle;\n",
       "    }\n",
       "\n",
       "    .dataframe tbody tr th {\n",
       "        vertical-align: top;\n",
       "    }\n",
       "\n",
       "    .dataframe thead th {\n",
       "        text-align: right;\n",
       "    }\n",
       "</style>\n",
       "<table border=\"1\" class=\"dataframe\">\n",
       "  <thead>\n",
       "    <tr style=\"text-align: right;\">\n",
       "      <th></th>\n",
       "      <th>complex.id</th>\n",
       "      <th>gene</th>\n",
       "      <th>cdr3</th>\n",
       "      <th>v.segm</th>\n",
       "      <th>j.segm</th>\n",
       "      <th>species</th>\n",
       "      <th>mhc.a</th>\n",
       "      <th>mhc.b</th>\n",
       "      <th>mhc.class</th>\n",
       "      <th>antigen.epitope</th>\n",
       "      <th>antigen.gene</th>\n",
       "      <th>antigen.species</th>\n",
       "      <th>vdjdb.score</th>\n",
       "      <th>meta</th>\n",
       "    </tr>\n",
       "  </thead>\n",
       "  <tbody>\n",
       "    <tr>\n",
       "      <th>7</th>\n",
       "      <td>4</td>\n",
       "      <td>TRA</td>\n",
       "      <td>CAYRPPGTYKYIF</td>\n",
       "      <td>TRAV38-2/DV8*01</td>\n",
       "      <td>TRAJ40*01</td>\n",
       "      <td>HomoSapiens</td>\n",
       "      <td>HLA-B*08</td>\n",
       "      <td>B2M</td>\n",
       "      <td>MHCI</td>\n",
       "      <td>FLKEKGGL</td>\n",
       "      <td>Nef</td>\n",
       "      <td>HIV-1</td>\n",
       "      <td>2</td>\n",
       "      <td>{\"cell.subset\": \"CD8+\", \"clone.id\": \"\", \"donor...</td>\n",
       "    </tr>\n",
       "    <tr>\n",
       "      <th>8</th>\n",
       "      <td>4</td>\n",
       "      <td>TRB</td>\n",
       "      <td>CASSALASLNEQFF</td>\n",
       "      <td>TRBV14*01</td>\n",
       "      <td>TRBJ2-1*01</td>\n",
       "      <td>HomoSapiens</td>\n",
       "      <td>HLA-B*08</td>\n",
       "      <td>B2M</td>\n",
       "      <td>MHCI</td>\n",
       "      <td>FLKEKGGL</td>\n",
       "      <td>Nef</td>\n",
       "      <td>HIV-1</td>\n",
       "      <td>2</td>\n",
       "      <td>{\"cell.subset\": \"CD8+\", \"clone.id\": \"\", \"donor...</td>\n",
       "    </tr>\n",
       "  </tbody>\n",
       "</table>\n",
       "</div>"
      ],
      "text/plain": [
       "   complex.id gene            cdr3           v.segm      j.segm      species  \\\n",
       "7           4  TRA   CAYRPPGTYKYIF  TRAV38-2/DV8*01   TRAJ40*01  HomoSapiens   \n",
       "8           4  TRB  CASSALASLNEQFF        TRBV14*01  TRBJ2-1*01  HomoSapiens   \n",
       "\n",
       "      mhc.a mhc.b mhc.class antigen.epitope antigen.gene antigen.species  \\\n",
       "7  HLA-B*08   B2M      MHCI        FLKEKGGL          Nef           HIV-1   \n",
       "8  HLA-B*08   B2M      MHCI        FLKEKGGL          Nef           HIV-1   \n",
       "\n",
       "   vdjdb.score                                               meta  \n",
       "7            2  {\"cell.subset\": \"CD8+\", \"clone.id\": \"\", \"donor...  \n",
       "8            2  {\"cell.subset\": \"CD8+\", \"clone.id\": \"\", \"donor...  "
      ]
     },
     "execution_count": 42,
     "metadata": {},
     "output_type": "execute_result"
    }
   ],
   "source": [
    "pd.reset_option('display.max_colwidth')\n",
    "\n",
    "filtered_df = df[df['complex.id'] == 4]\n",
    "filtered_df.head(5)"
   ]
  },
  {
   "cell_type": "code",
   "execution_count": 43,
   "id": "5329a145",
   "metadata": {
    "scrolled": false
   },
   "outputs": [
    {
     "name": "stdout",
     "output_type": "stream",
     "text": [
      "<class 'pandas.core.frame.DataFrame'>\n",
      "RangeIndex: 92771 entries, 0 to 92770\n",
      "Data columns (total 14 columns):\n",
      " #   Column           Non-Null Count  Dtype \n",
      "---  ------           --------------  ----- \n",
      " 0   complex.id       92771 non-null  int64 \n",
      " 1   gene             92771 non-null  object\n",
      " 2   cdr3             92771 non-null  object\n",
      " 3   v.segm           92670 non-null  object\n",
      " 4   j.segm           91626 non-null  object\n",
      " 5   species          92771 non-null  object\n",
      " 6   mhc.a            92771 non-null  object\n",
      " 7   mhc.b            92771 non-null  object\n",
      " 8   mhc.class        92771 non-null  object\n",
      " 9   antigen.epitope  92771 non-null  object\n",
      " 10  antigen.gene     92709 non-null  object\n",
      " 11  antigen.species  92771 non-null  object\n",
      " 12  vdjdb.score      92771 non-null  int64 \n",
      " 13  meta             92771 non-null  object\n",
      "dtypes: int64(2), object(12)\n",
      "memory usage: 9.9+ MB\n"
     ]
    }
   ],
   "source": [
    "df.info()"
   ]
  },
  {
   "cell_type": "code",
   "execution_count": 44,
   "id": "11a97679",
   "metadata": {},
   "outputs": [
    {
     "data": {
      "text/plain": [
       "complex.id          int64\n",
       "gene               object\n",
       "cdr3               object\n",
       "v.segm             object\n",
       "j.segm             object\n",
       "species            object\n",
       "mhc.a              object\n",
       "mhc.b              object\n",
       "mhc.class          object\n",
       "antigen.epitope    object\n",
       "antigen.gene       object\n",
       "antigen.species    object\n",
       "vdjdb.score         int64\n",
       "meta               object\n",
       "dtype: object"
      ]
     },
     "execution_count": 44,
     "metadata": {},
     "output_type": "execute_result"
    }
   ],
   "source": [
    "df.dtypes"
   ]
  },
  {
   "cell_type": "code",
   "execution_count": 45,
   "id": "acf6ee46",
   "metadata": {},
   "outputs": [
    {
     "data": {
      "text/plain": [
       "(92771, 14)"
      ]
     },
     "execution_count": 45,
     "metadata": {},
     "output_type": "execute_result"
    }
   ],
   "source": [
    "df.shape"
   ]
  },
  {
   "cell_type": "code",
   "execution_count": 46,
   "id": "5aabee6d",
   "metadata": {},
   "outputs": [
    {
     "data": {
      "text/plain": [
       "(280, 14)"
      ]
     },
     "execution_count": 46,
     "metadata": {},
     "output_type": "execute_result"
    }
   ],
   "source": [
    "# Number of duplicate rows\n",
    "duplicate_rows_df = df[df.duplicated()]\n",
    "duplicate_rows_df.shape"
   ]
  },
  {
   "cell_type": "code",
   "execution_count": 47,
   "id": "b5c301ef",
   "metadata": {
    "scrolled": false
   },
   "outputs": [
    {
     "data": {
      "text/plain": [
       "complex.id         92771\n",
       "gene               92771\n",
       "cdr3               92771\n",
       "v.segm             92670\n",
       "j.segm             91626\n",
       "species            92771\n",
       "mhc.a              92771\n",
       "mhc.b              92771\n",
       "mhc.class          92771\n",
       "antigen.epitope    92771\n",
       "antigen.gene       92709\n",
       "antigen.species    92771\n",
       "vdjdb.score        92771\n",
       "meta               92771\n",
       "dtype: int64"
      ]
     },
     "execution_count": 47,
     "metadata": {},
     "output_type": "execute_result"
    }
   ],
   "source": [
    "df.count()"
   ]
  },
  {
   "cell_type": "markdown",
   "id": "a5816557",
   "metadata": {},
   "source": [
    "### Dropping duplicate columns"
   ]
  },
  {
   "cell_type": "code",
   "execution_count": 48,
   "id": "6c954574",
   "metadata": {},
   "outputs": [
    {
     "data": {
      "text/plain": [
       "(92491, 14)"
      ]
     },
     "execution_count": 48,
     "metadata": {},
     "output_type": "execute_result"
    }
   ],
   "source": [
    "# Drop duplicate rows\n",
    "df=df.drop_duplicates()\n",
    "df.shape"
   ]
  },
  {
   "cell_type": "markdown",
   "id": "43ad8db4",
   "metadata": {},
   "source": [
    "### Dropping missing and null value"
   ]
  },
  {
   "cell_type": "code",
   "execution_count": 49,
   "id": "13f28026",
   "metadata": {},
   "outputs": [
    {
     "name": "stdout",
     "output_type": "stream",
     "text": [
      "complex.id            0\n",
      "gene                  0\n",
      "cdr3                  0\n",
      "v.segm               99\n",
      "j.segm             1141\n",
      "species               0\n",
      "mhc.a                 0\n",
      "mhc.b                 0\n",
      "mhc.class             0\n",
      "antigen.epitope       0\n",
      "antigen.gene         62\n",
      "antigen.species       0\n",
      "vdjdb.score           0\n",
      "meta                  0\n",
      "dtype: int64\n"
     ]
    }
   ],
   "source": [
    "print(df.isnull().sum())"
   ]
  },
  {
   "cell_type": "code",
   "execution_count": 50,
   "id": "c5d87c67",
   "metadata": {},
   "outputs": [
    {
     "data": {
      "text/plain": [
       "(91274, 14)"
      ]
     },
     "execution_count": 50,
     "metadata": {},
     "output_type": "execute_result"
    }
   ],
   "source": [
    "df=df.dropna()\n",
    "df.shape"
   ]
  },
  {
   "cell_type": "markdown",
   "id": "4efc7d83",
   "metadata": {},
   "source": [
    "**After dropping null value**\n",
    "* Bulleted"
   ]
  },
  {
   "cell_type": "code",
   "execution_count": 51,
   "id": "077556f0",
   "metadata": {},
   "outputs": [
    {
     "name": "stdout",
     "output_type": "stream",
     "text": [
      "complex.id         0\n",
      "gene               0\n",
      "cdr3               0\n",
      "v.segm             0\n",
      "j.segm             0\n",
      "species            0\n",
      "mhc.a              0\n",
      "mhc.b              0\n",
      "mhc.class          0\n",
      "antigen.epitope    0\n",
      "antigen.gene       0\n",
      "antigen.species    0\n",
      "vdjdb.score        0\n",
      "meta               0\n",
      "dtype: int64\n"
     ]
    }
   ],
   "source": [
    "print(df.isnull().sum())"
   ]
  },
  {
   "cell_type": "markdown",
   "id": "f0e2cc93",
   "metadata": {},
   "source": [
    "<div class=\"alert alert-block alert-info\">\n",
    "<b>Tip:</b> Use blue boxes (alert-info) for tips and notes. \n",
    "If it’s a note, you don’t have to include the word “Note”.\n",
    "</div>\n"
   ]
  },
  {
   "cell_type": "markdown",
   "id": "fb96bfb3",
   "metadata": {},
   "source": [
    "<div class=\"alert alert-block alert-warning\">\n",
    "<b>Example:</b> Use yellow boxes for examples that are not \n",
    "inside code cells, or use for mathematical formulas if needed.\n",
    "</div>"
   ]
  },
  {
   "cell_type": "markdown",
   "id": "54cb5219",
   "metadata": {},
   "source": [
    ">**## Exploring the data ##**"
   ]
  },
  {
   "cell_type": "code",
   "execution_count": 52,
   "id": "1c2cbb3d",
   "metadata": {},
   "outputs": [
    {
     "data": {
      "text/html": [
       "<div>\n",
       "<style scoped>\n",
       "    .dataframe tbody tr th:only-of-type {\n",
       "        vertical-align: middle;\n",
       "    }\n",
       "\n",
       "    .dataframe tbody tr th {\n",
       "        vertical-align: top;\n",
       "    }\n",
       "\n",
       "    .dataframe thead th {\n",
       "        text-align: right;\n",
       "    }\n",
       "</style>\n",
       "<table border=\"1\" class=\"dataframe\">\n",
       "  <thead>\n",
       "    <tr style=\"text-align: right;\">\n",
       "      <th></th>\n",
       "      <th>complex.id</th>\n",
       "      <th>gene</th>\n",
       "      <th>cdr3</th>\n",
       "      <th>v.segm</th>\n",
       "      <th>j.segm</th>\n",
       "      <th>species</th>\n",
       "      <th>mhc.a</th>\n",
       "      <th>mhc.b</th>\n",
       "      <th>mhc.class</th>\n",
       "      <th>antigen.epitope</th>\n",
       "      <th>antigen.gene</th>\n",
       "      <th>antigen.species</th>\n",
       "      <th>vdjdb.score</th>\n",
       "      <th>meta</th>\n",
       "    </tr>\n",
       "  </thead>\n",
       "  <tbody>\n",
       "    <tr>\n",
       "      <th>5309</th>\n",
       "      <td>0</td>\n",
       "      <td>TRB</td>\n",
       "      <td>CASSKLASTAGEQYF</td>\n",
       "      <td>TRBV2*01</td>\n",
       "      <td>TRBJ2-7*01</td>\n",
       "      <td>HomoSapiens</td>\n",
       "      <td>HLA-DRA*01:01</td>\n",
       "      <td>HLA-DRB1*11:01</td>\n",
       "      <td>MHCII</td>\n",
       "      <td>DRFYKTLRAEQASQEV</td>\n",
       "      <td>Gag</td>\n",
       "      <td>HIV-1</td>\n",
       "      <td>1</td>\n",
       "      <td>{\"cell.subset\": \"CD8+\", \"clone.id\": \"\", \"donor...</td>\n",
       "    </tr>\n",
       "    <tr>\n",
       "      <th>5310</th>\n",
       "      <td>0</td>\n",
       "      <td>TRB</td>\n",
       "      <td>CASSGGQETQYF</td>\n",
       "      <td>TRBV14*01</td>\n",
       "      <td>TRBJ2-5*01</td>\n",
       "      <td>HomoSapiens</td>\n",
       "      <td>HLA-DRA*01:01</td>\n",
       "      <td>HLA-DRB1*01:01</td>\n",
       "      <td>MHCII</td>\n",
       "      <td>LNKIVRMYSPTSILD</td>\n",
       "      <td>Gag</td>\n",
       "      <td>HIV-1</td>\n",
       "      <td>1</td>\n",
       "      <td>{\"cell.subset\": \"CD8+\", \"clone.id\": \"\", \"donor...</td>\n",
       "    </tr>\n",
       "    <tr>\n",
       "      <th>5311</th>\n",
       "      <td>0</td>\n",
       "      <td>TRB</td>\n",
       "      <td>CASSWDSNYGYTF</td>\n",
       "      <td>TRBV5-5*01</td>\n",
       "      <td>TRBJ1-2*01</td>\n",
       "      <td>HomoSapiens</td>\n",
       "      <td>HLA-DRA*01:01</td>\n",
       "      <td>HLA-DRB1*01:01</td>\n",
       "      <td>MHCII</td>\n",
       "      <td>DRFYKTLRAEQASQEV</td>\n",
       "      <td>Gag</td>\n",
       "      <td>HIV-1</td>\n",
       "      <td>1</td>\n",
       "      <td>{\"cell.subset\": \"CD8+\", \"clone.id\": \"\", \"donor...</td>\n",
       "    </tr>\n",
       "  </tbody>\n",
       "</table>\n",
       "</div>"
      ],
      "text/plain": [
       "      complex.id gene             cdr3      v.segm      j.segm      species  \\\n",
       "5309           0  TRB  CASSKLASTAGEQYF    TRBV2*01  TRBJ2-7*01  HomoSapiens   \n",
       "5310           0  TRB     CASSGGQETQYF   TRBV14*01  TRBJ2-5*01  HomoSapiens   \n",
       "5311           0  TRB    CASSWDSNYGYTF  TRBV5-5*01  TRBJ1-2*01  HomoSapiens   \n",
       "\n",
       "              mhc.a           mhc.b mhc.class   antigen.epitope antigen.gene  \\\n",
       "5309  HLA-DRA*01:01  HLA-DRB1*11:01     MHCII  DRFYKTLRAEQASQEV          Gag   \n",
       "5310  HLA-DRA*01:01  HLA-DRB1*01:01     MHCII   LNKIVRMYSPTSILD          Gag   \n",
       "5311  HLA-DRA*01:01  HLA-DRB1*01:01     MHCII  DRFYKTLRAEQASQEV          Gag   \n",
       "\n",
       "     antigen.species  vdjdb.score  \\\n",
       "5309           HIV-1            1   \n",
       "5310           HIV-1            1   \n",
       "5311           HIV-1            1   \n",
       "\n",
       "                                                   meta  \n",
       "5309  {\"cell.subset\": \"CD8+\", \"clone.id\": \"\", \"donor...  \n",
       "5310  {\"cell.subset\": \"CD8+\", \"clone.id\": \"\", \"donor...  \n",
       "5311  {\"cell.subset\": \"CD8+\", \"clone.id\": \"\", \"donor...  "
      ]
     },
     "execution_count": 52,
     "metadata": {},
     "output_type": "execute_result"
    }
   ],
   "source": [
    "# Specify the substring to search for\n",
    "# pd.set_option('display.max_colwidth', None)\n",
    "pd.reset_option('display.max_colwidth')\n",
    "substring = 'CD8+'\n",
    "\n",
    "# Use boolean indexing to filter rows containing the substring in 'Description'\n",
    "filtered_df = df[df['meta'].str.contains(substring, case=False, na=False)]\n",
    "\n",
    "filtered_df[filtered_df['mhc.class']=='MHCII'].head(3)\n",
    "\n"
   ]
  },
  {
   "cell_type": "markdown",
   "id": "1533c1dd",
   "metadata": {},
   "source": [
    "##  TCRDist3"
   ]
  },
  {
   "cell_type": "code",
   "execution_count": 53,
   "id": "e9c93c70",
   "metadata": {},
   "outputs": [],
   "source": [
    "df_dash = pd.read_csv(\"https://raw.githubusercontent.com/kmayerb/tcrdist2/API2/tcrdist/test_files_compact/dash.csv\")"
   ]
  },
  {
   "cell_type": "code",
   "execution_count": 54,
   "id": "0e6a1daf",
   "metadata": {},
   "outputs": [
    {
     "data": {
      "text/html": [
       "<div>\n",
       "<style scoped>\n",
       "    .dataframe tbody tr th:only-of-type {\n",
       "        vertical-align: middle;\n",
       "    }\n",
       "\n",
       "    .dataframe tbody tr th {\n",
       "        vertical-align: top;\n",
       "    }\n",
       "\n",
       "    .dataframe thead th {\n",
       "        text-align: right;\n",
       "    }\n",
       "</style>\n",
       "<table border=\"1\" class=\"dataframe\">\n",
       "  <thead>\n",
       "    <tr style=\"text-align: right;\">\n",
       "      <th></th>\n",
       "      <th>subject</th>\n",
       "      <th>epitope</th>\n",
       "      <th>count</th>\n",
       "      <th>v_a_gene</th>\n",
       "      <th>j_a_gene</th>\n",
       "      <th>cdr3_a_aa</th>\n",
       "      <th>cdr3_a_nucseq</th>\n",
       "      <th>v_b_gene</th>\n",
       "      <th>j_b_gene</th>\n",
       "      <th>cdr3_b_aa</th>\n",
       "      <th>cdr3_b_nucseq</th>\n",
       "      <th>clone_id</th>\n",
       "    </tr>\n",
       "  </thead>\n",
       "  <tbody>\n",
       "    <tr>\n",
       "      <th>0</th>\n",
       "      <td>mouse_subject0050</td>\n",
       "      <td>PA</td>\n",
       "      <td>2</td>\n",
       "      <td>TRAV7-3*01</td>\n",
       "      <td>TRAJ33*01</td>\n",
       "      <td>CAVSLDSNYQLIW</td>\n",
       "      <td>tgtgcagtgagcctcgatagcaactatcagttgatctgg</td>\n",
       "      <td>TRBV13-1*01</td>\n",
       "      <td>TRBJ2-3*01</td>\n",
       "      <td>CASSDFDWGGDAETLYF</td>\n",
       "      <td>tgtgccagcagtgatttcgactggggaggggatgcagaaacgctgt...</td>\n",
       "      <td>mouse_tcr0072.clone</td>\n",
       "    </tr>\n",
       "    <tr>\n",
       "      <th>1</th>\n",
       "      <td>mouse_subject0050</td>\n",
       "      <td>PA</td>\n",
       "      <td>6</td>\n",
       "      <td>TRAV6D-6*01</td>\n",
       "      <td>TRAJ56*01</td>\n",
       "      <td>CALGDRATGGNNKLTF</td>\n",
       "      <td>tgtgctctgggtgacagggctactggaggcaataataagctgactttt</td>\n",
       "      <td>TRBV29*01</td>\n",
       "      <td>TRBJ1-1*01</td>\n",
       "      <td>CASSPDRGEVFF</td>\n",
       "      <td>tgtgctagcagtccggacaggggtgaagtcttcttt</td>\n",
       "      <td>mouse_tcr0096.clone</td>\n",
       "    </tr>\n",
       "    <tr>\n",
       "      <th>2</th>\n",
       "      <td>mouse_subject0050</td>\n",
       "      <td>PA</td>\n",
       "      <td>1</td>\n",
       "      <td>TRAV6D-6*01</td>\n",
       "      <td>TRAJ49*01</td>\n",
       "      <td>CALGSNTGYQNFYF</td>\n",
       "      <td>tgtgctctgggctcgaacacgggttaccagaacttctatttt</td>\n",
       "      <td>TRBV29*01</td>\n",
       "      <td>TRBJ1-5*01</td>\n",
       "      <td>CASTGGGAPLF</td>\n",
       "      <td>tgtgctagcacagggggaggggctccgcttttt</td>\n",
       "      <td>mouse_tcr0276.clone</td>\n",
       "    </tr>\n",
       "  </tbody>\n",
       "</table>\n",
       "</div>"
      ],
      "text/plain": [
       "             subject epitope  count     v_a_gene   j_a_gene         cdr3_a_aa  \\\n",
       "0  mouse_subject0050      PA      2   TRAV7-3*01  TRAJ33*01     CAVSLDSNYQLIW   \n",
       "1  mouse_subject0050      PA      6  TRAV6D-6*01  TRAJ56*01  CALGDRATGGNNKLTF   \n",
       "2  mouse_subject0050      PA      1  TRAV6D-6*01  TRAJ49*01    CALGSNTGYQNFYF   \n",
       "\n",
       "                                      cdr3_a_nucseq     v_b_gene    j_b_gene  \\\n",
       "0           tgtgcagtgagcctcgatagcaactatcagttgatctgg  TRBV13-1*01  TRBJ2-3*01   \n",
       "1  tgtgctctgggtgacagggctactggaggcaataataagctgactttt    TRBV29*01  TRBJ1-1*01   \n",
       "2        tgtgctctgggctcgaacacgggttaccagaacttctatttt    TRBV29*01  TRBJ1-5*01   \n",
       "\n",
       "           cdr3_b_aa                                      cdr3_b_nucseq  \\\n",
       "0  CASSDFDWGGDAETLYF  tgtgccagcagtgatttcgactggggaggggatgcagaaacgctgt...   \n",
       "1       CASSPDRGEVFF               tgtgctagcagtccggacaggggtgaagtcttcttt   \n",
       "2        CASTGGGAPLF                  tgtgctagcacagggggaggggctccgcttttt   \n",
       "\n",
       "              clone_id  \n",
       "0  mouse_tcr0072.clone  \n",
       "1  mouse_tcr0096.clone  \n",
       "2  mouse_tcr0276.clone  "
      ]
     },
     "execution_count": 54,
     "metadata": {},
     "output_type": "execute_result"
    }
   ],
   "source": [
    "df_dash.head(3)"
   ]
  },
  {
   "cell_type": "markdown",
   "id": "c3465abc",
   "metadata": {},
   "source": [
    "## Installing tcrdist3 package ##"
   ]
  },
  {
   "cell_type": "code",
   "execution_count": 55,
   "id": "90d806a4",
   "metadata": {},
   "outputs": [],
   "source": [
    "# pip install tcrdist3\n",
    "# installing tcrdist3"
   ]
  },
  {
   "cell_type": "code",
   "execution_count": 56,
   "id": "6a0919ce",
   "metadata": {},
   "outputs": [],
   "source": [
    "# from tcrdist.repertoire import TCRrep\n",
    "# tr = TCRrep(cell_df = df_dash, \n",
    "#             organism = 'mouse', \n",
    "#             chains = ['alpha','beta'], \n",
    "#             db_file = 'alphabeta_gammadelta_db.tsv')\n",
    "# tr.pw_alpha\n",
    "# # tr.pw_beta\n",
    "# # tr.pw_cdr3_a_aa\n",
    "# # tr.pw_cdr3_b_aa"
   ]
  },
  {
   "cell_type": "code",
   "execution_count": 57,
   "id": "48806023",
   "metadata": {},
   "outputs": [],
   "source": [
    "# tr = TCRrep(cell_df = df_dash,\n",
    "#             organism = 'mouse',\n",
    "#             chains = ['alpha','beta'],\n",
    "#             db_file = 'alphabeta_gammadelta_db.tsv',\n",
    "#             compute_distances = False)\n",
    "\n",
    "# tr.cpus = 2\n",
    "# tr.compute_sparse_rect_distances(radius = 50, chunk_size = 100)\n",
    "# tr.rw_beta\n",
    "# # \"\"\"<1920x1920 sparse matrix of type '<class 'numpy.int16'>'\n",
    "# # with 108846 stored elements in Compressed Sparse Row format>\n",
    "# # \"\"\"\n",
    "# # print(tr.rw_beta)    "
   ]
  },
  {
   "cell_type": "code",
   "execution_count": 58,
   "id": "bcf4bb76",
   "metadata": {},
   "outputs": [],
   "source": [
    "# print(tr.rw_beta)    "
   ]
  },
  {
   "cell_type": "markdown",
   "id": "3f3d8607",
   "metadata": {},
   "source": [
    "## Preprocess vdjdb.text data frame for tcrdist3"
   ]
  },
  {
   "cell_type": "code",
   "execution_count": 59,
   "id": "d09c4960",
   "metadata": {},
   "outputs": [
    {
     "data": {
      "text/plain": [
       "array(['complex.id', 'gene', 'cdr3', 'v.segm', 'j.segm', 'species',\n",
       "       'mhc.a', 'mhc.b', 'mhc.class', 'antigen.epitope', 'antigen.gene',\n",
       "       'antigen.species', 'vdjdb.score', 'meta'], dtype=object)"
      ]
     },
     "execution_count": 59,
     "metadata": {},
     "output_type": "execute_result"
    }
   ],
   "source": [
    "df.columns.values"
   ]
  },
  {
   "cell_type": "code",
   "execution_count": 60,
   "id": "83898518",
   "metadata": {},
   "outputs": [],
   "source": [
    "df = df[['complex.id', 'gene', 'cdr3', 'v.segm', 'j.segm', 'species', 'antigen.epitope', 'antigen.gene']]"
   ]
  },
  {
   "cell_type": "code",
   "execution_count": 61,
   "id": "48953943",
   "metadata": {
    "scrolled": true
   },
   "outputs": [
    {
     "data": {
      "text/html": [
       "<div>\n",
       "<style scoped>\n",
       "    .dataframe tbody tr th:only-of-type {\n",
       "        vertical-align: middle;\n",
       "    }\n",
       "\n",
       "    .dataframe tbody tr th {\n",
       "        vertical-align: top;\n",
       "    }\n",
       "\n",
       "    .dataframe thead th {\n",
       "        text-align: right;\n",
       "    }\n",
       "</style>\n",
       "<table border=\"1\" class=\"dataframe\">\n",
       "  <thead>\n",
       "    <tr style=\"text-align: right;\">\n",
       "      <th></th>\n",
       "      <th>complex.id</th>\n",
       "      <th>gene</th>\n",
       "      <th>cdr3</th>\n",
       "      <th>v.segm</th>\n",
       "      <th>j.segm</th>\n",
       "      <th>species</th>\n",
       "      <th>antigen.epitope</th>\n",
       "      <th>antigen.gene</th>\n",
       "    </tr>\n",
       "  </thead>\n",
       "  <tbody>\n",
       "    <tr>\n",
       "      <th>0</th>\n",
       "      <td>1</td>\n",
       "      <td>TRA</td>\n",
       "      <td>CIVRAPGRADMRF</td>\n",
       "      <td>TRAV26-1*01</td>\n",
       "      <td>TRAJ43*01</td>\n",
       "      <td>HomoSapiens</td>\n",
       "      <td>FLKEKGGL</td>\n",
       "      <td>Nef</td>\n",
       "    </tr>\n",
       "    <tr>\n",
       "      <th>1</th>\n",
       "      <td>1</td>\n",
       "      <td>TRB</td>\n",
       "      <td>CASSYLPGQGDHYSNQPQHF</td>\n",
       "      <td>TRBV13*01</td>\n",
       "      <td>TRBJ1-5*01</td>\n",
       "      <td>HomoSapiens</td>\n",
       "      <td>FLKEKGGL</td>\n",
       "      <td>Nef</td>\n",
       "    </tr>\n",
       "    <tr>\n",
       "      <th>2</th>\n",
       "      <td>0</td>\n",
       "      <td>TRB</td>\n",
       "      <td>CASSFEAGQGFFSNQPQHF</td>\n",
       "      <td>TRBV13*01</td>\n",
       "      <td>TRBJ1-5*01</td>\n",
       "      <td>HomoSapiens</td>\n",
       "      <td>FLKEKGGL</td>\n",
       "      <td>Nef</td>\n",
       "    </tr>\n",
       "  </tbody>\n",
       "</table>\n",
       "</div>"
      ],
      "text/plain": [
       "   complex.id gene                  cdr3       v.segm      j.segm  \\\n",
       "0           1  TRA         CIVRAPGRADMRF  TRAV26-1*01   TRAJ43*01   \n",
       "1           1  TRB  CASSYLPGQGDHYSNQPQHF    TRBV13*01  TRBJ1-5*01   \n",
       "2           0  TRB   CASSFEAGQGFFSNQPQHF    TRBV13*01  TRBJ1-5*01   \n",
       "\n",
       "       species antigen.epitope antigen.gene  \n",
       "0  HomoSapiens        FLKEKGGL          Nef  \n",
       "1  HomoSapiens        FLKEKGGL          Nef  \n",
       "2  HomoSapiens        FLKEKGGL          Nef  "
      ]
     },
     "execution_count": 61,
     "metadata": {},
     "output_type": "execute_result"
    }
   ],
   "source": [
    "df.head(3)"
   ]
  },
  {
   "cell_type": "markdown",
   "id": "6ddbd0b2",
   "metadata": {},
   "source": [
    "# Separating data set in to alpha and beta dataframe"
   ]
  },
  {
   "cell_type": "code",
   "execution_count": 62,
   "id": "011e65d0",
   "metadata": {},
   "outputs": [
    {
     "data": {
      "text/html": [
       "<div>\n",
       "<style scoped>\n",
       "    .dataframe tbody tr th:only-of-type {\n",
       "        vertical-align: middle;\n",
       "    }\n",
       "\n",
       "    .dataframe tbody tr th {\n",
       "        vertical-align: top;\n",
       "    }\n",
       "\n",
       "    .dataframe thead th {\n",
       "        text-align: right;\n",
       "    }\n",
       "</style>\n",
       "<table border=\"1\" class=\"dataframe\">\n",
       "  <thead>\n",
       "    <tr style=\"text-align: right;\">\n",
       "      <th></th>\n",
       "      <th>complex.id</th>\n",
       "      <th>gene</th>\n",
       "      <th>cdr3_a_aa</th>\n",
       "      <th>v_a_gene</th>\n",
       "      <th>j_a_gene</th>\n",
       "      <th>species</th>\n",
       "      <th>epitope</th>\n",
       "      <th>antigen.gene</th>\n",
       "      <th>cdr3_b_aa</th>\n",
       "      <th>v_b_gene</th>\n",
       "      <th>j_b_gene</th>\n",
       "    </tr>\n",
       "  </thead>\n",
       "  <tbody>\n",
       "    <tr>\n",
       "      <th>0</th>\n",
       "      <td>1</td>\n",
       "      <td>TRA</td>\n",
       "      <td>CIVRAPGRADMRF</td>\n",
       "      <td>TRAV26-1*01</td>\n",
       "      <td>TRAJ43*01</td>\n",
       "      <td>HomoSapiens</td>\n",
       "      <td>FLKEKGGL</td>\n",
       "      <td>Nef</td>\n",
       "      <td>NaN</td>\n",
       "      <td>NaN</td>\n",
       "      <td>NaN</td>\n",
       "    </tr>\n",
       "    <tr>\n",
       "      <th>1</th>\n",
       "      <td>2</td>\n",
       "      <td>TRA</td>\n",
       "      <td>CAVPSGAGSYQLTF</td>\n",
       "      <td>TRAV20*01</td>\n",
       "      <td>TRAJ28*01</td>\n",
       "      <td>HomoSapiens</td>\n",
       "      <td>FLKEKGGL</td>\n",
       "      <td>Nef</td>\n",
       "      <td>NaN</td>\n",
       "      <td>NaN</td>\n",
       "      <td>NaN</td>\n",
       "    </tr>\n",
       "    <tr>\n",
       "      <th>2</th>\n",
       "      <td>4</td>\n",
       "      <td>TRA</td>\n",
       "      <td>CAYRPPGTYKYIF</td>\n",
       "      <td>TRAV38-2/DV8*01</td>\n",
       "      <td>TRAJ40*01</td>\n",
       "      <td>HomoSapiens</td>\n",
       "      <td>FLKEKGGL</td>\n",
       "      <td>Nef</td>\n",
       "      <td>NaN</td>\n",
       "      <td>NaN</td>\n",
       "      <td>NaN</td>\n",
       "    </tr>\n",
       "    <tr>\n",
       "      <th>3</th>\n",
       "      <td>5</td>\n",
       "      <td>TRA</td>\n",
       "      <td>CIVRAPGRADMRF</td>\n",
       "      <td>TRAV26-1*01</td>\n",
       "      <td>TRAJ43*01</td>\n",
       "      <td>HomoSapiens</td>\n",
       "      <td>FLKEQGGL</td>\n",
       "      <td>Nef</td>\n",
       "      <td>NaN</td>\n",
       "      <td>NaN</td>\n",
       "      <td>NaN</td>\n",
       "    </tr>\n",
       "    <tr>\n",
       "      <th>4</th>\n",
       "      <td>6</td>\n",
       "      <td>TRA</td>\n",
       "      <td>CAVPSGAGSYQLTF</td>\n",
       "      <td>TRAV20*01</td>\n",
       "      <td>TRAJ28*01</td>\n",
       "      <td>HomoSapiens</td>\n",
       "      <td>FLKEQGGL</td>\n",
       "      <td>Nef</td>\n",
       "      <td>NaN</td>\n",
       "      <td>NaN</td>\n",
       "      <td>NaN</td>\n",
       "    </tr>\n",
       "    <tr>\n",
       "      <th>...</th>\n",
       "      <td>...</td>\n",
       "      <td>...</td>\n",
       "      <td>...</td>\n",
       "      <td>...</td>\n",
       "      <td>...</td>\n",
       "      <td>...</td>\n",
       "      <td>...</td>\n",
       "      <td>...</td>\n",
       "      <td>...</td>\n",
       "      <td>...</td>\n",
       "      <td>...</td>\n",
       "    </tr>\n",
       "    <tr>\n",
       "      <th>91269</th>\n",
       "      <td>30590</td>\n",
       "      <td>TRB</td>\n",
       "      <td>NaN</td>\n",
       "      <td>NaN</td>\n",
       "      <td>NaN</td>\n",
       "      <td>HomoSapiens</td>\n",
       "      <td>PQPELPYPQPQL</td>\n",
       "      <td>Gluten</td>\n",
       "      <td>CASSVRSTDTQYF</td>\n",
       "      <td>TRBV7-2*01</td>\n",
       "      <td>TRBJ2-3*01</td>\n",
       "    </tr>\n",
       "    <tr>\n",
       "      <th>91270</th>\n",
       "      <td>30591</td>\n",
       "      <td>TRB</td>\n",
       "      <td>NaN</td>\n",
       "      <td>NaN</td>\n",
       "      <td>NaN</td>\n",
       "      <td>HomoSapiens</td>\n",
       "      <td>PQPELPYPQPQL</td>\n",
       "      <td>Gluten</td>\n",
       "      <td>CASSLRYTDTQYF</td>\n",
       "      <td>TRBV7-2*01</td>\n",
       "      <td>TRBJ2-3*01</td>\n",
       "    </tr>\n",
       "    <tr>\n",
       "      <th>91271</th>\n",
       "      <td>30592</td>\n",
       "      <td>TRB</td>\n",
       "      <td>NaN</td>\n",
       "      <td>NaN</td>\n",
       "      <td>NaN</td>\n",
       "      <td>HomoSapiens</td>\n",
       "      <td>PQQPFPQPEQPFP</td>\n",
       "      <td>Gluten</td>\n",
       "      <td>CASSPGQGGDNEQFF</td>\n",
       "      <td>TRBV7-3*01</td>\n",
       "      <td>TRBJ2-1*01</td>\n",
       "    </tr>\n",
       "    <tr>\n",
       "      <th>91272</th>\n",
       "      <td>30593</td>\n",
       "      <td>TRB</td>\n",
       "      <td>NaN</td>\n",
       "      <td>NaN</td>\n",
       "      <td>NaN</td>\n",
       "      <td>HomoSapiens</td>\n",
       "      <td>PQQPFPQPEQPFP</td>\n",
       "      <td>Gluten</td>\n",
       "      <td>CASSLGAGGQETQYF</td>\n",
       "      <td>TRBV5-1*01</td>\n",
       "      <td>TRBJ2-5*01</td>\n",
       "    </tr>\n",
       "    <tr>\n",
       "      <th>91273</th>\n",
       "      <td>30594</td>\n",
       "      <td>TRB</td>\n",
       "      <td>NaN</td>\n",
       "      <td>NaN</td>\n",
       "      <td>NaN</td>\n",
       "      <td>HomoSapiens</td>\n",
       "      <td>PQQPFPQPEQPFP</td>\n",
       "      <td>Gluten</td>\n",
       "      <td>CASSSTAQETQYF</td>\n",
       "      <td>TRBV11-2*01</td>\n",
       "      <td>TRBJ2-5*01</td>\n",
       "    </tr>\n",
       "  </tbody>\n",
       "</table>\n",
       "<p>91274 rows × 11 columns</p>\n",
       "</div>"
      ],
      "text/plain": [
       "       complex.id gene       cdr3_a_aa         v_a_gene   j_a_gene  \\\n",
       "0               1  TRA   CIVRAPGRADMRF      TRAV26-1*01  TRAJ43*01   \n",
       "1               2  TRA  CAVPSGAGSYQLTF        TRAV20*01  TRAJ28*01   \n",
       "2               4  TRA   CAYRPPGTYKYIF  TRAV38-2/DV8*01  TRAJ40*01   \n",
       "3               5  TRA   CIVRAPGRADMRF      TRAV26-1*01  TRAJ43*01   \n",
       "4               6  TRA  CAVPSGAGSYQLTF        TRAV20*01  TRAJ28*01   \n",
       "...           ...  ...             ...              ...        ...   \n",
       "91269       30590  TRB             NaN              NaN        NaN   \n",
       "91270       30591  TRB             NaN              NaN        NaN   \n",
       "91271       30592  TRB             NaN              NaN        NaN   \n",
       "91272       30593  TRB             NaN              NaN        NaN   \n",
       "91273       30594  TRB             NaN              NaN        NaN   \n",
       "\n",
       "           species        epitope antigen.gene        cdr3_b_aa     v_b_gene  \\\n",
       "0      HomoSapiens       FLKEKGGL          Nef              NaN          NaN   \n",
       "1      HomoSapiens       FLKEKGGL          Nef              NaN          NaN   \n",
       "2      HomoSapiens       FLKEKGGL          Nef              NaN          NaN   \n",
       "3      HomoSapiens       FLKEQGGL          Nef              NaN          NaN   \n",
       "4      HomoSapiens       FLKEQGGL          Nef              NaN          NaN   \n",
       "...            ...            ...          ...              ...          ...   \n",
       "91269  HomoSapiens   PQPELPYPQPQL       Gluten    CASSVRSTDTQYF   TRBV7-2*01   \n",
       "91270  HomoSapiens   PQPELPYPQPQL       Gluten    CASSLRYTDTQYF   TRBV7-2*01   \n",
       "91271  HomoSapiens  PQQPFPQPEQPFP       Gluten  CASSPGQGGDNEQFF   TRBV7-3*01   \n",
       "91272  HomoSapiens  PQQPFPQPEQPFP       Gluten  CASSLGAGGQETQYF   TRBV5-1*01   \n",
       "91273  HomoSapiens  PQQPFPQPEQPFP       Gluten    CASSSTAQETQYF  TRBV11-2*01   \n",
       "\n",
       "         j_b_gene  \n",
       "0             NaN  \n",
       "1             NaN  \n",
       "2             NaN  \n",
       "3             NaN  \n",
       "4             NaN  \n",
       "...           ...  \n",
       "91269  TRBJ2-3*01  \n",
       "91270  TRBJ2-3*01  \n",
       "91271  TRBJ2-1*01  \n",
       "91272  TRBJ2-5*01  \n",
       "91273  TRBJ2-5*01  \n",
       "\n",
       "[91274 rows x 11 columns]"
      ]
     },
     "execution_count": 62,
     "metadata": {},
     "output_type": "execute_result"
    }
   ],
   "source": [
    "import pandas as pd\n",
    "\n",
    "# Assuming df is your original dataframe\n",
    "# Create separate dataframes for alpha and beta chains\n",
    "df_alpha = df[df['gene'] == 'TRA'].rename(columns={'cdr3': 'cdr3_a_aa', 'v.segm': 'v_a_gene', 'j.segm': 'j_a_gene','antigen.epitope':'epitope'})\n",
    "df_beta = df[df['gene'] == 'TRB'].rename(columns={'cdr3': 'cdr3_b_aa', 'v.segm': 'v_b_gene', 'j.segm': 'j_b_gene','antigen.epitope':'epitope'})\n",
    "\n",
    "# df = df.rename(columns={'cdr3': 'cdr3_b_aa', 'v.segm': 'v_b_gene', 'j.segm': 'j_b_gene'})\n",
    "# df.drop([ 'cdr3', 'v.segm', 'j.segm'], axis=1, inplace=True)\n",
    "df = pd.concat([df_alpha, df_beta], ignore_index=True)\n",
    "df"
   ]
  },
  {
   "cell_type": "code",
   "execution_count": 63,
   "id": "c0b34128",
   "metadata": {},
   "outputs": [],
   "source": [
    "df_alpha.reset_index(drop=True, inplace=True)\n",
    "df_beta.reset_index(drop=True, inplace=True)\n",
    "df.reset_index(drop=True,inplace=True)"
   ]
  },
  {
   "cell_type": "code",
   "execution_count": 64,
   "id": "876bed93",
   "metadata": {},
   "outputs": [
    {
     "data": {
      "text/html": [
       "<div>\n",
       "<style scoped>\n",
       "    .dataframe tbody tr th:only-of-type {\n",
       "        vertical-align: middle;\n",
       "    }\n",
       "\n",
       "    .dataframe tbody tr th {\n",
       "        vertical-align: top;\n",
       "    }\n",
       "\n",
       "    .dataframe thead th {\n",
       "        text-align: right;\n",
       "    }\n",
       "</style>\n",
       "<table border=\"1\" class=\"dataframe\">\n",
       "  <thead>\n",
       "    <tr style=\"text-align: right;\">\n",
       "      <th></th>\n",
       "      <th>complex.id</th>\n",
       "      <th>gene</th>\n",
       "      <th>cdr3_a_aa</th>\n",
       "      <th>v_a_gene</th>\n",
       "      <th>j_a_gene</th>\n",
       "      <th>species</th>\n",
       "      <th>epitope</th>\n",
       "      <th>antigen.gene</th>\n",
       "    </tr>\n",
       "  </thead>\n",
       "  <tbody>\n",
       "    <tr>\n",
       "      <th>0</th>\n",
       "      <td>1</td>\n",
       "      <td>TRA</td>\n",
       "      <td>CIVRAPGRADMRF</td>\n",
       "      <td>TRAV26-1*01</td>\n",
       "      <td>TRAJ43*01</td>\n",
       "      <td>HomoSapiens</td>\n",
       "      <td>FLKEKGGL</td>\n",
       "      <td>Nef</td>\n",
       "    </tr>\n",
       "    <tr>\n",
       "      <th>1</th>\n",
       "      <td>2</td>\n",
       "      <td>TRA</td>\n",
       "      <td>CAVPSGAGSYQLTF</td>\n",
       "      <td>TRAV20*01</td>\n",
       "      <td>TRAJ28*01</td>\n",
       "      <td>HomoSapiens</td>\n",
       "      <td>FLKEKGGL</td>\n",
       "      <td>Nef</td>\n",
       "    </tr>\n",
       "    <tr>\n",
       "      <th>2</th>\n",
       "      <td>4</td>\n",
       "      <td>TRA</td>\n",
       "      <td>CAYRPPGTYKYIF</td>\n",
       "      <td>TRAV38-2/DV8*01</td>\n",
       "      <td>TRAJ40*01</td>\n",
       "      <td>HomoSapiens</td>\n",
       "      <td>FLKEKGGL</td>\n",
       "      <td>Nef</td>\n",
       "    </tr>\n",
       "    <tr>\n",
       "      <th>3</th>\n",
       "      <td>5</td>\n",
       "      <td>TRA</td>\n",
       "      <td>CIVRAPGRADMRF</td>\n",
       "      <td>TRAV26-1*01</td>\n",
       "      <td>TRAJ43*01</td>\n",
       "      <td>HomoSapiens</td>\n",
       "      <td>FLKEQGGL</td>\n",
       "      <td>Nef</td>\n",
       "    </tr>\n",
       "    <tr>\n",
       "      <th>4</th>\n",
       "      <td>6</td>\n",
       "      <td>TRA</td>\n",
       "      <td>CAVPSGAGSYQLTF</td>\n",
       "      <td>TRAV20*01</td>\n",
       "      <td>TRAJ28*01</td>\n",
       "      <td>HomoSapiens</td>\n",
       "      <td>FLKEQGGL</td>\n",
       "      <td>Nef</td>\n",
       "    </tr>\n",
       "    <tr>\n",
       "      <th>...</th>\n",
       "      <td>...</td>\n",
       "      <td>...</td>\n",
       "      <td>...</td>\n",
       "      <td>...</td>\n",
       "      <td>...</td>\n",
       "      <td>...</td>\n",
       "      <td>...</td>\n",
       "      <td>...</td>\n",
       "    </tr>\n",
       "    <tr>\n",
       "      <th>36910</th>\n",
       "      <td>30590</td>\n",
       "      <td>TRA</td>\n",
       "      <td>CMDEGGSNYKLTF</td>\n",
       "      <td>TRAV26-1*01</td>\n",
       "      <td>TRAJ53*01</td>\n",
       "      <td>HomoSapiens</td>\n",
       "      <td>PQPELPYPQPQL</td>\n",
       "      <td>Gluten</td>\n",
       "    </tr>\n",
       "    <tr>\n",
       "      <th>36911</th>\n",
       "      <td>30591</td>\n",
       "      <td>TRA</td>\n",
       "      <td>CSLYNNNDMRF</td>\n",
       "      <td>TRAV26-1*01</td>\n",
       "      <td>TRAJ43*01</td>\n",
       "      <td>HomoSapiens</td>\n",
       "      <td>PQPELPYPQPQL</td>\n",
       "      <td>Gluten</td>\n",
       "    </tr>\n",
       "    <tr>\n",
       "      <th>36912</th>\n",
       "      <td>30592</td>\n",
       "      <td>TRA</td>\n",
       "      <td>CALSTDSWGKLQF</td>\n",
       "      <td>TRAV6*01</td>\n",
       "      <td>TRAJ24*01</td>\n",
       "      <td>HomoSapiens</td>\n",
       "      <td>PQQPFPQPEQPFP</td>\n",
       "      <td>Gluten</td>\n",
       "    </tr>\n",
       "    <tr>\n",
       "      <th>36913</th>\n",
       "      <td>30593</td>\n",
       "      <td>TRA</td>\n",
       "      <td>CAPQGATNKLIF</td>\n",
       "      <td>TRAV12-2*01</td>\n",
       "      <td>TRAJ32*01</td>\n",
       "      <td>HomoSapiens</td>\n",
       "      <td>PQQPFPQPEQPFP</td>\n",
       "      <td>Gluten</td>\n",
       "    </tr>\n",
       "    <tr>\n",
       "      <th>36914</th>\n",
       "      <td>30594</td>\n",
       "      <td>TRA</td>\n",
       "      <td>CLVGGSGGYNKLIF</td>\n",
       "      <td>TRAV4*01</td>\n",
       "      <td>TRAJ4*01</td>\n",
       "      <td>HomoSapiens</td>\n",
       "      <td>PQQPFPQPEQPFP</td>\n",
       "      <td>Gluten</td>\n",
       "    </tr>\n",
       "  </tbody>\n",
       "</table>\n",
       "<p>36915 rows × 8 columns</p>\n",
       "</div>"
      ],
      "text/plain": [
       "       complex.id gene       cdr3_a_aa         v_a_gene   j_a_gene  \\\n",
       "0               1  TRA   CIVRAPGRADMRF      TRAV26-1*01  TRAJ43*01   \n",
       "1               2  TRA  CAVPSGAGSYQLTF        TRAV20*01  TRAJ28*01   \n",
       "2               4  TRA   CAYRPPGTYKYIF  TRAV38-2/DV8*01  TRAJ40*01   \n",
       "3               5  TRA   CIVRAPGRADMRF      TRAV26-1*01  TRAJ43*01   \n",
       "4               6  TRA  CAVPSGAGSYQLTF        TRAV20*01  TRAJ28*01   \n",
       "...           ...  ...             ...              ...        ...   \n",
       "36910       30590  TRA   CMDEGGSNYKLTF      TRAV26-1*01  TRAJ53*01   \n",
       "36911       30591  TRA     CSLYNNNDMRF      TRAV26-1*01  TRAJ43*01   \n",
       "36912       30592  TRA   CALSTDSWGKLQF         TRAV6*01  TRAJ24*01   \n",
       "36913       30593  TRA    CAPQGATNKLIF      TRAV12-2*01  TRAJ32*01   \n",
       "36914       30594  TRA  CLVGGSGGYNKLIF         TRAV4*01   TRAJ4*01   \n",
       "\n",
       "           species        epitope antigen.gene  \n",
       "0      HomoSapiens       FLKEKGGL          Nef  \n",
       "1      HomoSapiens       FLKEKGGL          Nef  \n",
       "2      HomoSapiens       FLKEKGGL          Nef  \n",
       "3      HomoSapiens       FLKEQGGL          Nef  \n",
       "4      HomoSapiens       FLKEQGGL          Nef  \n",
       "...            ...            ...          ...  \n",
       "36910  HomoSapiens   PQPELPYPQPQL       Gluten  \n",
       "36911  HomoSapiens   PQPELPYPQPQL       Gluten  \n",
       "36912  HomoSapiens  PQQPFPQPEQPFP       Gluten  \n",
       "36913  HomoSapiens  PQQPFPQPEQPFP       Gluten  \n",
       "36914  HomoSapiens  PQQPFPQPEQPFP       Gluten  \n",
       "\n",
       "[36915 rows x 8 columns]"
      ]
     },
     "execution_count": 64,
     "metadata": {},
     "output_type": "execute_result"
    }
   ],
   "source": [
    "df_alpha"
   ]
  },
  {
   "cell_type": "code",
   "execution_count": 65,
   "id": "dc96e937",
   "metadata": {
    "scrolled": false
   },
   "outputs": [
    {
     "data": {
      "text/plain": [
       "array(['HomoSapiens', 'MusMusculus'], dtype=object)"
      ]
     },
     "execution_count": 65,
     "metadata": {},
     "output_type": "execute_result"
    }
   ],
   "source": [
    "df_alpha['species'].unique()\n"
   ]
  },
  {
   "cell_type": "markdown",
   "id": "3821120f",
   "metadata": {},
   "source": [
    "# Removing mouse and monkey"
   ]
  },
  {
   "cell_type": "code",
   "execution_count": 66,
   "id": "1e75096b",
   "metadata": {},
   "outputs": [],
   "source": [
    "df = df[~df['species'].isin(['MusMusculus', 'MacacaMulatta'])]\n",
    "df_alpha = df_alpha[~df_alpha['species'].isin(['MusMusculus', 'MacacaMulatta'])]\n",
    "df_beta = df_beta[~df_beta['species'].isin(['MusMusculus', 'MacacaMulatta'])]"
   ]
  },
  {
   "cell_type": "code",
   "execution_count": 67,
   "id": "3633c68c",
   "metadata": {
    "scrolled": true
   },
   "outputs": [
    {
     "data": {
      "text/plain": [
       "array(['HomoSapiens'], dtype=object)"
      ]
     },
     "execution_count": 67,
     "metadata": {},
     "output_type": "execute_result"
    }
   ],
   "source": [
    "df_alpha['species'].unique()"
   ]
  },
  {
   "cell_type": "code",
   "execution_count": 68,
   "id": "5a8c3cc3",
   "metadata": {
    "scrolled": false
   },
   "outputs": [
    {
     "name": "stdout",
     "output_type": "stream",
     "text": [
      "<class 'pandas.core.frame.DataFrame'>\n",
      "Int64Index: 34669 entries, 0 to 36914\n",
      "Data columns (total 8 columns):\n",
      " #   Column        Non-Null Count  Dtype \n",
      "---  ------        --------------  ----- \n",
      " 0   complex.id    34669 non-null  int64 \n",
      " 1   gene          34669 non-null  object\n",
      " 2   cdr3_a_aa     34669 non-null  object\n",
      " 3   v_a_gene      34669 non-null  object\n",
      " 4   j_a_gene      34669 non-null  object\n",
      " 5   species       34669 non-null  object\n",
      " 6   epitope       34669 non-null  object\n",
      " 7   antigen.gene  34669 non-null  object\n",
      "dtypes: int64(1), object(7)\n",
      "memory usage: 2.4+ MB\n"
     ]
    }
   ],
   "source": [
    "df_alpha.info()"
   ]
  },
  {
   "cell_type": "markdown",
   "id": "a1560a6d",
   "metadata": {},
   "source": [
    "## Dropping null values"
   ]
  },
  {
   "cell_type": "code",
   "execution_count": 69,
   "id": "1ad9abf1",
   "metadata": {
    "scrolled": true
   },
   "outputs": [
    {
     "name": "stdout",
     "output_type": "stream",
     "text": [
      "complex.id      0\n",
      "gene            0\n",
      "cdr3_a_aa       0\n",
      "v_a_gene        0\n",
      "j_a_gene        0\n",
      "species         0\n",
      "epitope         0\n",
      "antigen.gene    0\n",
      "dtype: int64\n"
     ]
    }
   ],
   "source": [
    "df_alpha=df_alpha.dropna()\n",
    "print(df_alpha.isnull().sum())\n",
    "df_beta=df_beta.dropna()"
   ]
  },
  {
   "cell_type": "markdown",
   "id": "46bd62e0",
   "metadata": {},
   "source": [
    "## Dropping duplicates"
   ]
  },
  {
   "cell_type": "code",
   "execution_count": 70,
   "id": "ff0cfe66",
   "metadata": {},
   "outputs": [
    {
     "data": {
      "text/plain": [
       "(80377, 11)"
      ]
     },
     "execution_count": 70,
     "metadata": {},
     "output_type": "execute_result"
    }
   ],
   "source": [
    "df_alpha=df_alpha.drop_duplicates()\n",
    "df_beta=df_beta.drop_duplicates()\n",
    "df=df.drop_duplicates()\n",
    "df.shape"
   ]
  },
  {
   "cell_type": "markdown",
   "id": "16622957",
   "metadata": {},
   "source": [
    "## Run TCRDist on alpha gene dataset"
   ]
  },
  {
   "cell_type": "code",
   "execution_count": 71,
   "id": "8ddfc43d",
   "metadata": {},
   "outputs": [
    {
     "name": "stderr",
     "output_type": "stream",
     "text": [
      "D:\\Anaconda\\Lib\\site-packages\\tcrdist\\repertoire.py:159: UserWarning: cell_df needs a counts column to track clonal number of frequency\n",
      "\n",
      "  self._validate_cell_df()\n",
      "D:\\Anaconda\\Lib\\site-packages\\tcrdist\\repertoire.py:791: UserWarning: No 'count' column provided; count column set to 1\n",
      "  warnings.warn(\"No 'count' column provided; count column set to 1\")\n"
     ]
    },
    {
     "data": {
      "application/vnd.jupyter.widget-view+json": {
       "model_id": "9feacd01a763484ebb875bab593b8103",
       "version_major": 2,
       "version_minor": 0
      },
      "text/plain": [
       "  0%|          | 0/340 [00:00<?, ?it/s]"
      ]
     },
     "metadata": {},
     "output_type": "display_data"
    },
    {
     "name": "stdout",
     "output_type": "stream",
     "text": [
      "  (0, 0)\t-1\n",
      "  (0, 4027)\t48\n",
      "  (0, 4129)\t48\n",
      "  (0, 4174)\t48\n",
      "  (0, 10794)\t45\n",
      "  (0, 11873)\t48\n",
      "  (0, 14962)\t45\n",
      "  (0, 15916)\t48\n",
      "  (0, 21172)\t48\n",
      "  (0, 25676)\t45\n",
      "  (0, 26754)\t48\n",
      "  (0, 27623)\t45\n",
      "  (1, 1)\t-1\n",
      "  (1, 335)\t47\n",
      "  (1, 1409)\t33\n",
      "  (1, 2676)\t47\n",
      "  (1, 2936)\t50\n",
      "  (1, 2994)\t-1\n",
      "  (1, 3361)\t36\n",
      "  (1, 3374)\t24\n",
      "  (1, 3696)\t36\n",
      "  (1, 3862)\t36\n",
      "  (1, 4091)\t33\n",
      "  (1, 4101)\t36\n",
      "  (1, 4118)\t36\n",
      "  :\t:\n",
      "  (33984, 27295)\t48\n",
      "  (33984, 27771)\t48\n",
      "  (33984, 27961)\t36\n",
      "  (33984, 28614)\t21\n",
      "  (33984, 29533)\t21\n",
      "  (33984, 29536)\t45\n",
      "  (33984, 29589)\t48\n",
      "  (33984, 29597)\t48\n",
      "  (33984, 29752)\t36\n",
      "  (33984, 30703)\t24\n",
      "  (33984, 30704)\t24\n",
      "  (33984, 30706)\t36\n",
      "  (33984, 31686)\t48\n",
      "  (33984, 31883)\t48\n",
      "  (33984, 32609)\t24\n",
      "  (33984, 32945)\t36\n",
      "  (33984, 33000)\t48\n",
      "  (33984, 33340)\t48\n",
      "  (33984, 33751)\t48\n",
      "  (33984, 33760)\t48\n",
      "  (33984, 33861)\t36\n",
      "  (33984, 33958)\t9\n",
      "  (33984, 33959)\t-1\n",
      "  (33984, 33960)\t-1\n",
      "  (33984, 33984)\t-1\n"
     ]
    }
   ],
   "source": [
    "from tcrdist.repertoire import TCRrep\n",
    "tr_a = TCRrep(cell_df = df_alpha, \n",
    "            organism = 'human', \n",
    "            chains = ['alpha'], \n",
    "            db_file = 'alphabeta_gammadelta_db.tsv',\n",
    "            compute_distances=False)\n",
    "tr_a.cpus=2\n",
    "tr_a.compute_sparse_rect_distances(radius = 50, chunk_size = 100)\n",
    "print(tr_a.rw_alpha)\n",
    "# tr_b = TCRrep(cell_df = df_beta, \n",
    "#             organism = 'human', \n",
    "#             chains = ['beta'], \n",
    "#             db_file = 'alphabeta_gammadelta_db.tsv',\n",
    "#             compute_distances=False)\n",
    "# tr_b.cpus=2\n",
    "# tr_b.compute_sparse_rect_distances(radius = 50, chunk_size = 100)\n",
    "# print(tr_b.rw_beta)\n"
   ]
  },
  {
   "cell_type": "code",
   "execution_count": 72,
   "id": "749e217f",
   "metadata": {},
   "outputs": [],
   "source": [
    "import os\n",
    "import numpy as np\n",
    "import pandas as pd\n",
    "from tcrdist.repertoire import TCRrep\n",
    "from tcrdist.sample import _default_sampler\n",
    "from tcrdist.background import get_stratified_gene_usage_frequency\n",
    "from tcrdist.centers import calc_radii\n",
    "from tcrdist.public import _neighbors_sparse_variable_radius, _neighbors_variable_radius\n",
    "from tcrdist.public import TCRpublic\n",
    "from tcrdist.ecdf import _plot_manuscript_ecdfs\n",
    "import matplotlib.pyplot as plt\n",
    "from tcrsampler.setup_db import install_all_next_gen;"
   ]
  },
  {
   "cell_type": "code",
   "execution_count": 73,
   "id": "7d292e68",
   "metadata": {
    "scrolled": true
   },
   "outputs": [
    {
     "name": "stdout",
     "output_type": "stream",
     "text": [
      "RUNNING: curl -o D:\\Anaconda\\Lib\\site-packages\\tcrsampler\\db\\wiraninha_sampler.zip https://www.dropbox.com/s/ily0td3tn1uc7bi/wiraninha_sampler.zip?dl=1 -L\n",
      "RUNNING: curl -o D:\\Anaconda\\Lib\\site-packages\\tcrsampler\\db\\ravens_samplers.zip https://www.dropbox.com/s/bahxa6x86drq0n5/ravens_samplers.zip?dl=1 -L\n",
      "RUNNING: curl -o D:\\Anaconda\\Lib\\site-packages\\tcrsampler\\db\\olga_sampler.zip https://www.dropbox.com/s/qlsxvst8bn04l0n/olga_sampler.zip?dl=1 -L\n",
      "RUNNING: curl -o D:\\Anaconda\\Lib\\site-packages\\tcrsampler\\db\\ruggiero_mouse_sampler.zip https://www.dropbox.com/s/yz8v1c1gf2eyzxk/ruggiero_mouse_sampler.zip?dl=1 -L\n",
      "RUNNING: curl -o D:\\Anaconda\\Lib\\site-packages\\tcrsampler\\db\\ruggiero_human_sampler.zip https://www.dropbox.com/s/jda6qtemk65zlfk/ruggiero_human_sampler.zip?dl=1 -L\n",
      "RUNNING: curl -o D:\\Anaconda\\Lib\\site-packages\\tcrsampler\\db\\emerson_human_beta_t_cmvneg.tsv.sampler.tsv.zip https://www.dropbox.com/s/04mxrzw7f5wkg1x/emerson_human_beta_t_cmvneg.tsv.sampler.tsv.zip?dl=1 -L\n",
      "RUNNING: curl -o D:\\Anaconda\\Lib\\site-packages\\tcrsampler\\db\\britanova_human_beta_t_cb.tsv.sampler.tsv.zip https://www.dropbox.com/s/87n5v2by80xhy1q/britanova_human_beta_t_cb.tsv.sampler.tsv.zip?dl=1 -L\n"
     ]
    },
    {
     "name": "stderr",
     "output_type": "stream",
     "text": [
      "D:\\Anaconda\\Lib\\site-packages\\tcrdist\\repertoire.py:159: UserWarning: cell_df needs a counts column to track clonal number of frequency\n",
      "\n",
      "  self._validate_cell_df()\n",
      "D:\\Anaconda\\Lib\\site-packages\\tcrdist\\repertoire.py:791: UserWarning: No 'count' column provided; count column set to 1\n",
      "  warnings.warn(\"No 'count' column provided; count column set to 1\")\n"
     ]
    },
    {
     "name": "stdout",
     "output_type": "stream",
     "text": [
      "britanova_human_beta_t_cb.tsv.sampler.tsv\n",
      "RUNNING: curl -o D:\\Anaconda\\Lib\\site-packages\\tcrsampler\\db\\britanova_human_beta_t_cb.tsv.sampler.tsv.zip https://www.dropbox.com/s/87n5v2by80xhy1q/britanova_human_beta_t_cb.tsv.sampler.tsv.zip?dl=1 -L\n"
     ]
    },
    {
     "ename": "OSError",
     "evalue": "D:\\Anaconda\\Lib\\site-packages\\tcrsampler\\db\\britanova_human_beta_t_cb.tsv.sampler.tsv default file not found. Download a default background using python -c \"from tcrsampler.setup_db import install_all_next_gen; install_all_next_gen(dry_run = False)\"",
     "output_type": "error",
     "traceback": [
      "\u001b[1;31m---------------------------------------------------------------------------\u001b[0m",
      "\u001b[1;31mOSError\u001b[0m                                   Traceback (most recent call last)",
      "File \u001b[1;32mD:\\Anaconda\\Lib\\site-packages\\tcrdist\\sample.py:140\u001b[0m, in \u001b[0;36m_default_tcrsampler_human_beta\u001b[1;34m(default_background, default_background_if_missing)\u001b[0m\n\u001b[0;32m    139\u001b[0m \u001b[38;5;28;01mtry\u001b[39;00m: \n\u001b[1;32m--> 140\u001b[0m     t \u001b[38;5;241m=\u001b[39m TCRsampler(default_background\u001b[38;5;241m=\u001b[39mdefault_background)\n\u001b[0;32m    141\u001b[0m \u001b[38;5;28;01mexcept\u001b[39;00m \u001b[38;5;167;01mOSError\u001b[39;00m:\n",
      "File \u001b[1;32mD:\\Anaconda\\Lib\\site-packages\\tcrsampler\\sampler.py:73\u001b[0m, in \u001b[0;36mTCRsampler.__init__\u001b[1;34m(self, default_background)\u001b[0m\n\u001b[0;32m     72\u001b[0m \u001b[38;5;28;01mif\u001b[39;00m \u001b[38;5;129;01mnot\u001b[39;00m os\u001b[38;5;241m.\u001b[39mpath\u001b[38;5;241m.\u001b[39misfile(path_to_db_bkgd):\n\u001b[1;32m---> 73\u001b[0m   \u001b[38;5;28;01mraise\u001b[39;00m \u001b[38;5;167;01mOSError\u001b[39;00m(\u001b[38;5;124mf\u001b[39m\u001b[38;5;124m'\u001b[39m\u001b[38;5;132;01m{\u001b[39;00mpath_to_db_bkgd\u001b[38;5;132;01m}\u001b[39;00m\u001b[38;5;124m default file not found. Download a default background using python -c \u001b[39m\u001b[38;5;124m\"\u001b[39m\u001b[38;5;124mfrom tcrsampler.setup_db import install_all_next_gen; install_all_next_gen(dry_run = False)\u001b[39m\u001b[38;5;124m\"\u001b[39m\u001b[38;5;124m'\u001b[39m)\n\u001b[0;32m     74\u001b[0m \u001b[38;5;28;01melse\u001b[39;00m:\n",
      "\u001b[1;31mOSError\u001b[0m: D:\\Anaconda\\Lib\\site-packages\\tcrsampler\\db\\britanova_human_beta_t_cb.tsv.sampler.tsv default file not found. Download a default background using python -c \"from tcrsampler.setup_db import install_all_next_gen; install_all_next_gen(dry_run = False)\"",
      "\nDuring handling of the above exception, another exception occurred:\n",
      "\u001b[1;31mOSError\u001b[0m                                   Traceback (most recent call last)",
      "Cell \u001b[1;32mIn[73], line 11\u001b[0m\n\u001b[0;32m      5\u001b[0m tr \u001b[38;5;241m=\u001b[39m TCRrep(cell_df \u001b[38;5;241m=\u001b[39m df_test\u001b[38;5;241m.\u001b[39mcopy(), \n\u001b[0;32m      6\u001b[0m             organism \u001b[38;5;241m=\u001b[39m \u001b[38;5;124m'\u001b[39m\u001b[38;5;124mhuman\u001b[39m\u001b[38;5;124m'\u001b[39m, \n\u001b[0;32m      7\u001b[0m             chains \u001b[38;5;241m=\u001b[39m [\u001b[38;5;124m'\u001b[39m\u001b[38;5;124mbeta\u001b[39m\u001b[38;5;124m'\u001b[39m], \n\u001b[0;32m      8\u001b[0m             db_file \u001b[38;5;241m=\u001b[39m \u001b[38;5;124m'\u001b[39m\u001b[38;5;124malphabeta_gammadelta_db.tsv\u001b[39m\u001b[38;5;124m'\u001b[39m,\n\u001b[0;32m      9\u001b[0m             compute_distances \u001b[38;5;241m=\u001b[39m \u001b[38;5;28;01mFalse\u001b[39;00m)\n\u001b[0;32m     10\u001b[0m tr\u001b[38;5;241m.\u001b[39mcpus\u001b[38;5;241m=\u001b[39m\u001b[38;5;241m2\u001b[39m\n\u001b[1;32m---> 11\u001b[0m ts \u001b[38;5;241m=\u001b[39m _default_sampler(organism \u001b[38;5;241m=\u001b[39m \u001b[38;5;124m\"\u001b[39m\u001b[38;5;124mhuman\u001b[39m\u001b[38;5;124m\"\u001b[39m, chain \u001b[38;5;241m=\u001b[39m \u001b[38;5;124m\"\u001b[39m\u001b[38;5;124mbeta\u001b[39m\u001b[38;5;124m\"\u001b[39m)()\n\u001b[0;32m     12\u001b[0m ts \u001b[38;5;241m=\u001b[39m get_stratified_gene_usage_frequency(ts \u001b[38;5;241m=\u001b[39m ts, replace \u001b[38;5;241m=\u001b[39m \u001b[38;5;28;01mTrue\u001b[39;00m)\n",
      "File \u001b[1;32mD:\\Anaconda\\Lib\\site-packages\\tcrdist\\sample.py:144\u001b[0m, in \u001b[0;36m_default_tcrsampler_human_beta\u001b[1;34m(default_background, default_background_if_missing)\u001b[0m\n\u001b[0;32m    142\u001b[0m     t \u001b[38;5;241m=\u001b[39m TCRsampler()\n\u001b[0;32m    143\u001b[0m     t\u001b[38;5;241m.\u001b[39mdownload_background_file(default_background_if_missing)\n\u001b[1;32m--> 144\u001b[0m     t \u001b[38;5;241m=\u001b[39m TCRsampler(default_background\u001b[38;5;241m=\u001b[39mdefault_background)\n\u001b[0;32m    145\u001b[0m \u001b[38;5;28;01mreturn\u001b[39;00m t\n",
      "File \u001b[1;32mD:\\Anaconda\\Lib\\site-packages\\tcrsampler\\sampler.py:73\u001b[0m, in \u001b[0;36mTCRsampler.__init__\u001b[1;34m(self, default_background)\u001b[0m\n\u001b[0;32m     71\u001b[0m path_to_db_bkgd \u001b[38;5;241m=\u001b[39m os\u001b[38;5;241m.\u001b[39mpath\u001b[38;5;241m.\u001b[39mjoin(path_to_db, \u001b[38;5;28mself\u001b[39m\u001b[38;5;241m.\u001b[39mdefault_bkgd)\n\u001b[0;32m     72\u001b[0m \u001b[38;5;28;01mif\u001b[39;00m \u001b[38;5;129;01mnot\u001b[39;00m os\u001b[38;5;241m.\u001b[39mpath\u001b[38;5;241m.\u001b[39misfile(path_to_db_bkgd):\n\u001b[1;32m---> 73\u001b[0m   \u001b[38;5;28;01mraise\u001b[39;00m \u001b[38;5;167;01mOSError\u001b[39;00m(\u001b[38;5;124mf\u001b[39m\u001b[38;5;124m'\u001b[39m\u001b[38;5;132;01m{\u001b[39;00mpath_to_db_bkgd\u001b[38;5;132;01m}\u001b[39;00m\u001b[38;5;124m default file not found. Download a default background using python -c \u001b[39m\u001b[38;5;124m\"\u001b[39m\u001b[38;5;124mfrom tcrsampler.setup_db import install_all_next_gen; install_all_next_gen(dry_run = False)\u001b[39m\u001b[38;5;124m\"\u001b[39m\u001b[38;5;124m'\u001b[39m)\n\u001b[0;32m     74\u001b[0m \u001b[38;5;28;01melse\u001b[39;00m:\n\u001b[0;32m     75\u001b[0m   bar \u001b[38;5;241m=\u001b[39m IncrementalBar(\u001b[38;5;124mf\u001b[39m\u001b[38;5;124m'\u001b[39m\u001b[38;5;124mLoading \u001b[39m\u001b[38;5;132;01m{\u001b[39;00m\u001b[38;5;28mself\u001b[39m\u001b[38;5;241m.\u001b[39mdefault_bkgd\u001b[38;5;132;01m}\u001b[39;00m\u001b[38;5;124m'\u001b[39m, \u001b[38;5;28mmax\u001b[39m \u001b[38;5;241m=\u001b[39m \u001b[38;5;241m2\u001b[39m, suffix\u001b[38;5;241m=\u001b[39m\u001b[38;5;124m'\u001b[39m\u001b[38;5;132;01m%(percent)d\u001b[39;00m\u001b[38;5;132;01m%%\u001b[39;00m\u001b[38;5;124m'\u001b[39m)\n",
      "\u001b[1;31mOSError\u001b[0m: D:\\Anaconda\\Lib\\site-packages\\tcrsampler\\db\\britanova_human_beta_t_cb.tsv.sampler.tsv default file not found. Download a default background using python -c \"from tcrsampler.setup_db import install_all_next_gen; install_all_next_gen(dry_run = False)\""
     ]
    }
   ],
   "source": [
    "install_all_next_gen(dry_run = False)\n",
    "df_test = df_beta.query('epitope == \"PA\"').\\\n",
    "    reset_index(drop = True)\n",
    "\n",
    "tr = TCRrep(cell_df = df_test.copy(), \n",
    "            organism = 'human', \n",
    "            chains = ['beta'], \n",
    "            db_file = 'alphabeta_gammadelta_db.tsv',\n",
    "            compute_distances = False)\n",
    "tr.cpus=2\n",
    "ts = _default_sampler(organism = \"human\", chain = \"beta\")()\n",
    "ts = get_stratified_gene_usage_frequency(ts = ts, replace = True)"
   ]
  },
  {
   "cell_type": "markdown",
   "id": "4bdb6078",
   "metadata": {},
   "source": []
  },
  {
   "cell_type": "code",
   "execution_count": null,
   "id": "bc8a2259",
   "metadata": {},
   "outputs": [],
   "source": [
    "df_vj_background = tr.synthesize_vj_matched_background(ts = ts, chain = 'beta')\n",
    "trb = TCRrep(cell_df = df_vj_background.copy(), \n",
    "            organism = 'human', \n",
    "            chains = ['beta'], \n",
    "            db_file = 'alphabeta_gammadelta_db.tsv',\n",
    "            compute_distances = False)\n",
    "tr.cpus = 2\n",
    "radii, thresholds, ecdfs = \\\n",
    "    calc_radii(tr = tr, \n",
    "        tr_bkgd = trb, \n",
    "        chain = 'beta', \n",
    "        ctrl_bkgd = 10**-5, \n",
    "        use_sparse = True, \n",
    "        max_radius=50)\n",
    "# tr.clone_df['radius'] = radii\n",
    "# tr.clone_df['radius'][tr.clone_df['radius'] > 26] = 26"
   ]
  },
  {
   "cell_type": "code",
   "execution_count": null,
   "id": "d65eefdd",
   "metadata": {},
   "outputs": [],
   "source": [
    "tr.clone_df['neighbors'] = _neighbors_variable_radius(\n",
    "    pwmat = tr.pw_beta, \n",
    "    radius_list = tr.clone_df['radius'])"
   ]
  }
 ],
 "metadata": {
  "kernelspec": {
   "display_name": "Python 3 (ipykernel)",
   "language": "python",
   "name": "python3"
  },
  "language_info": {
   "codemirror_mode": {
    "name": "ipython",
    "version": 3
   },
   "file_extension": ".py",
   "mimetype": "text/x-python",
   "name": "python",
   "nbconvert_exporter": "python",
   "pygments_lexer": "ipython3",
   "version": "3.11.4"
  }
 },
 "nbformat": 4,
 "nbformat_minor": 5
}
