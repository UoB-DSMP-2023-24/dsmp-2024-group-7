{
 "cells": [
  {
   "cell_type": "code",
   "execution_count": 100,
   "id": "692cbb62",
   "metadata": {
    "scrolled": false
   },
   "outputs": [
    {
     "data": {
      "text/plain": [
       "array(['complex.id', 'gene', 'cdr3', 'v.segm', 'j.segm', 'species',\n",
       "       'mhc.a', 'mhc.b', 'mhc.class', 'antigen.epitope', 'antigen.gene',\n",
       "       'antigen.species', 'reference.id', 'method', 'meta', 'cdr3fix',\n",
       "       'vdjdb.score', 'web.method', 'web.method.seq', 'web.cdr3fix.nc',\n",
       "       'web.cdr3fix.unmp'], dtype=object)"
      ]
     },
     "execution_count": 100,
     "metadata": {},
     "output_type": "execute_result"
    }
   ],
   "source": [
    "import pandas as pd\n",
    "# Read the entire file into a DataFrame\n",
    "df = pd.read_csv(\"vdjdb.txt\", delimiter='\\t')  # Assuming the file is tab-delimited, adjust if needed\n",
    "\n",
    "# Display the DataFrame\n",
    "df.columns.values"
   ]
  },
  {
   "cell_type": "code",
   "execution_count": 101,
   "id": "f82871e3",
   "metadata": {
    "scrolled": true
   },
   "outputs": [],
   "source": [
    "df = df[['complex.id', 'gene', 'cdr3', 'v.segm', 'j.segm', 'species',\n",
    "       'mhc.a', 'mhc.b', 'mhc.class', 'antigen.epitope', 'antigen.gene',\n",
    "       'antigen.species','vdjdb.score', 'meta']]"
   ]
  },
  {
   "cell_type": "code",
   "execution_count": 102,
   "id": "534a32a2",
   "metadata": {},
   "outputs": [
    {
     "data": {
      "text/plain": [
       "array(['HomoSapiens', 'MusMusculus', 'MacacaMulatta'], dtype=object)"
      ]
     },
     "execution_count": 102,
     "metadata": {},
     "output_type": "execute_result"
    }
   ],
   "source": [
    "df['species'].unique()"
   ]
  },
  {
   "cell_type": "code",
   "execution_count": 103,
   "id": "056a8f05",
   "metadata": {},
   "outputs": [
    {
     "data": {
      "text/html": [
       "<div>\n",
       "<style scoped>\n",
       "    .dataframe tbody tr th:only-of-type {\n",
       "        vertical-align: middle;\n",
       "    }\n",
       "\n",
       "    .dataframe tbody tr th {\n",
       "        vertical-align: top;\n",
       "    }\n",
       "\n",
       "    .dataframe thead th {\n",
       "        text-align: right;\n",
       "    }\n",
       "</style>\n",
       "<table border=\"1\" class=\"dataframe\">\n",
       "  <thead>\n",
       "    <tr style=\"text-align: right;\">\n",
       "      <th></th>\n",
       "      <th>meta</th>\n",
       "    </tr>\n",
       "  </thead>\n",
       "  <tbody>\n",
       "    <tr>\n",
       "      <th>0</th>\n",
       "      <td>{\"cell.subset\": \"CD8+\", \"clone.id\": \"\", \"donor.MHC\": \"HLA-A*02:01,HLA-A*24:02;HLA-B*08:01,HLA-B*5701;HLA-Cw*06:02,HLA-Cw*07:01;HLA-DRB*07:01,HLA-DRB*13:01\", \"donor.MHC.method\": \"\", \"epitope.id\": \"\", \"replica.id\": \"\", \"samples.found\": 1, \"structure.id\": \"\", \"studies.found\": 1, \"study.id\": \"\", \"subject.cohort\": \"HIV+\", \"subject.id\": \"005\", \"tissue\": \"PBMC\"}</td>\n",
       "    </tr>\n",
       "    <tr>\n",
       "      <th>1</th>\n",
       "      <td>{\"cell.subset\": \"CD8+\", \"clone.id\": \"\", \"donor.MHC\": \"HLA-A*02:01,HLA-A*24:02;HLA-B*08:01,HLA-B*5701;HLA-Cw*06:02,HLA-Cw*07:01;HLA-DRB*07:01,HLA-DRB*13:01\", \"donor.MHC.method\": \"\", \"epitope.id\": \"\", \"replica.id\": \"\", \"samples.found\": 1, \"structure.id\": \"\", \"studies.found\": 1, \"study.id\": \"\", \"subject.cohort\": \"HIV+\", \"subject.id\": \"005\", \"tissue\": \"PBMC\"}</td>\n",
       "    </tr>\n",
       "    <tr>\n",
       "      <th>2</th>\n",
       "      <td>{\"cell.subset\": \"CD8+\", \"clone.id\": \"\", \"donor.MHC\": \"HLA-A*01:01,HLA-A*02:01;HLA-B*08:01,HLA-B*57:01;HLA-Cw*06:02,HLA-Cw*07:01;HLA-DRB*08:03:2,HLA-DRB*15:01:1\", \"donor.MHC.method\": \"\", \"epitope.id\": \"\", \"replica.id\": \"\", \"samples.found\": 1, \"structure.id\": \"\", \"studies.found\": 1, \"study.id\": \"\", \"subject.cohort\": \"HIV+\", \"subject.id\": \"065\", \"tissue\": \"PBMC\"}</td>\n",
       "    </tr>\n",
       "  </tbody>\n",
       "</table>\n",
       "</div>"
      ],
      "text/plain": [
       "                                                                                                                                                                                                                                                                                                                                                                         meta\n",
       "0       {\"cell.subset\": \"CD8+\", \"clone.id\": \"\", \"donor.MHC\": \"HLA-A*02:01,HLA-A*24:02;HLA-B*08:01,HLA-B*5701;HLA-Cw*06:02,HLA-Cw*07:01;HLA-DRB*07:01,HLA-DRB*13:01\", \"donor.MHC.method\": \"\", \"epitope.id\": \"\", \"replica.id\": \"\", \"samples.found\": 1, \"structure.id\": \"\", \"studies.found\": 1, \"study.id\": \"\", \"subject.cohort\": \"HIV+\", \"subject.id\": \"005\", \"tissue\": \"PBMC\"}\n",
       "1       {\"cell.subset\": \"CD8+\", \"clone.id\": \"\", \"donor.MHC\": \"HLA-A*02:01,HLA-A*24:02;HLA-B*08:01,HLA-B*5701;HLA-Cw*06:02,HLA-Cw*07:01;HLA-DRB*07:01,HLA-DRB*13:01\", \"donor.MHC.method\": \"\", \"epitope.id\": \"\", \"replica.id\": \"\", \"samples.found\": 1, \"structure.id\": \"\", \"studies.found\": 1, \"study.id\": \"\", \"subject.cohort\": \"HIV+\", \"subject.id\": \"005\", \"tissue\": \"PBMC\"}\n",
       "2  {\"cell.subset\": \"CD8+\", \"clone.id\": \"\", \"donor.MHC\": \"HLA-A*01:01,HLA-A*02:01;HLA-B*08:01,HLA-B*57:01;HLA-Cw*06:02,HLA-Cw*07:01;HLA-DRB*08:03:2,HLA-DRB*15:01:1\", \"donor.MHC.method\": \"\", \"epitope.id\": \"\", \"replica.id\": \"\", \"samples.found\": 1, \"structure.id\": \"\", \"studies.found\": 1, \"study.id\": \"\", \"subject.cohort\": \"HIV+\", \"subject.id\": \"065\", \"tissue\": \"PBMC\"}"
      ]
     },
     "execution_count": 103,
     "metadata": {},
     "output_type": "execute_result"
    }
   ],
   "source": [
    "pd.set_option('display.max_colwidth', None)\n",
    "df[['meta']].head(3)"
   ]
  },
  {
   "cell_type": "code",
   "execution_count": 104,
   "id": "d00d390a",
   "metadata": {
    "scrolled": true
   },
   "outputs": [
    {
     "data": {
      "text/html": [
       "<div>\n",
       "<style scoped>\n",
       "    .dataframe tbody tr th:only-of-type {\n",
       "        vertical-align: middle;\n",
       "    }\n",
       "\n",
       "    .dataframe tbody tr th {\n",
       "        vertical-align: top;\n",
       "    }\n",
       "\n",
       "    .dataframe thead th {\n",
       "        text-align: right;\n",
       "    }\n",
       "</style>\n",
       "<table border=\"1\" class=\"dataframe\">\n",
       "  <thead>\n",
       "    <tr style=\"text-align: right;\">\n",
       "      <th></th>\n",
       "      <th>complex.id</th>\n",
       "      <th>gene</th>\n",
       "      <th>cdr3</th>\n",
       "      <th>v.segm</th>\n",
       "      <th>j.segm</th>\n",
       "      <th>species</th>\n",
       "      <th>mhc.a</th>\n",
       "      <th>mhc.b</th>\n",
       "      <th>mhc.class</th>\n",
       "      <th>antigen.epitope</th>\n",
       "      <th>antigen.gene</th>\n",
       "      <th>antigen.species</th>\n",
       "      <th>vdjdb.score</th>\n",
       "      <th>meta</th>\n",
       "    </tr>\n",
       "  </thead>\n",
       "  <tbody>\n",
       "    <tr>\n",
       "      <th>7</th>\n",
       "      <td>4</td>\n",
       "      <td>TRA</td>\n",
       "      <td>CAYRPPGTYKYIF</td>\n",
       "      <td>TRAV38-2/DV8*01</td>\n",
       "      <td>TRAJ40*01</td>\n",
       "      <td>HomoSapiens</td>\n",
       "      <td>HLA-B*08</td>\n",
       "      <td>B2M</td>\n",
       "      <td>MHCI</td>\n",
       "      <td>FLKEKGGL</td>\n",
       "      <td>Nef</td>\n",
       "      <td>HIV-1</td>\n",
       "      <td>2</td>\n",
       "      <td>{\"cell.subset\": \"CD8+\", \"clone.id\": \"\", \"donor...</td>\n",
       "    </tr>\n",
       "    <tr>\n",
       "      <th>8</th>\n",
       "      <td>4</td>\n",
       "      <td>TRB</td>\n",
       "      <td>CASSALASLNEQFF</td>\n",
       "      <td>TRBV14*01</td>\n",
       "      <td>TRBJ2-1*01</td>\n",
       "      <td>HomoSapiens</td>\n",
       "      <td>HLA-B*08</td>\n",
       "      <td>B2M</td>\n",
       "      <td>MHCI</td>\n",
       "      <td>FLKEKGGL</td>\n",
       "      <td>Nef</td>\n",
       "      <td>HIV-1</td>\n",
       "      <td>2</td>\n",
       "      <td>{\"cell.subset\": \"CD8+\", \"clone.id\": \"\", \"donor...</td>\n",
       "    </tr>\n",
       "  </tbody>\n",
       "</table>\n",
       "</div>"
      ],
      "text/plain": [
       "   complex.id gene            cdr3           v.segm      j.segm      species  \\\n",
       "7           4  TRA   CAYRPPGTYKYIF  TRAV38-2/DV8*01   TRAJ40*01  HomoSapiens   \n",
       "8           4  TRB  CASSALASLNEQFF        TRBV14*01  TRBJ2-1*01  HomoSapiens   \n",
       "\n",
       "      mhc.a mhc.b mhc.class antigen.epitope antigen.gene antigen.species  \\\n",
       "7  HLA-B*08   B2M      MHCI        FLKEKGGL          Nef           HIV-1   \n",
       "8  HLA-B*08   B2M      MHCI        FLKEKGGL          Nef           HIV-1   \n",
       "\n",
       "   vdjdb.score                                               meta  \n",
       "7            2  {\"cell.subset\": \"CD8+\", \"clone.id\": \"\", \"donor...  \n",
       "8            2  {\"cell.subset\": \"CD8+\", \"clone.id\": \"\", \"donor...  "
      ]
     },
     "execution_count": 104,
     "metadata": {},
     "output_type": "execute_result"
    }
   ],
   "source": [
    "pd.reset_option('display.max_colwidth')\n",
    "\n",
    "filtered_df = df[df['complex.id'] == 4]\n",
    "filtered_df.head(5)"
   ]
  },
  {
   "cell_type": "code",
   "execution_count": 105,
   "id": "5329a145",
   "metadata": {
    "scrolled": false
   },
   "outputs": [
    {
     "name": "stdout",
     "output_type": "stream",
     "text": [
      "<class 'pandas.core.frame.DataFrame'>\n",
      "RangeIndex: 92771 entries, 0 to 92770\n",
      "Data columns (total 14 columns):\n",
      " #   Column           Non-Null Count  Dtype \n",
      "---  ------           --------------  ----- \n",
      " 0   complex.id       92771 non-null  int64 \n",
      " 1   gene             92771 non-null  object\n",
      " 2   cdr3             92771 non-null  object\n",
      " 3   v.segm           92670 non-null  object\n",
      " 4   j.segm           91626 non-null  object\n",
      " 5   species          92771 non-null  object\n",
      " 6   mhc.a            92771 non-null  object\n",
      " 7   mhc.b            92771 non-null  object\n",
      " 8   mhc.class        92771 non-null  object\n",
      " 9   antigen.epitope  92771 non-null  object\n",
      " 10  antigen.gene     92709 non-null  object\n",
      " 11  antigen.species  92771 non-null  object\n",
      " 12  vdjdb.score      92771 non-null  int64 \n",
      " 13  meta             92771 non-null  object\n",
      "dtypes: int64(2), object(12)\n",
      "memory usage: 9.9+ MB\n"
     ]
    }
   ],
   "source": [
    "df.info()"
   ]
  },
  {
   "cell_type": "code",
   "execution_count": 106,
   "id": "acf6ee46",
   "metadata": {},
   "outputs": [
    {
     "data": {
      "text/plain": [
       "(92771, 14)"
      ]
     },
     "execution_count": 106,
     "metadata": {},
     "output_type": "execute_result"
    }
   ],
   "source": [
    "df.shape"
   ]
  },
  {
   "cell_type": "code",
   "execution_count": 107,
   "id": "5aabee6d",
   "metadata": {},
   "outputs": [
    {
     "data": {
      "text/plain": [
       "(280, 14)"
      ]
     },
     "execution_count": 107,
     "metadata": {},
     "output_type": "execute_result"
    }
   ],
   "source": [
    "# Number of duplicate rows\n",
    "duplicate_rows_df = df[df.duplicated()]\n",
    "duplicate_rows_df.shape"
   ]
  },
  {
   "cell_type": "code",
   "execution_count": 108,
   "id": "b5c301ef",
   "metadata": {
    "scrolled": false
   },
   "outputs": [
    {
     "data": {
      "text/plain": [
       "complex.id         92771\n",
       "gene               92771\n",
       "cdr3               92771\n",
       "v.segm             92670\n",
       "j.segm             91626\n",
       "species            92771\n",
       "mhc.a              92771\n",
       "mhc.b              92771\n",
       "mhc.class          92771\n",
       "antigen.epitope    92771\n",
       "antigen.gene       92709\n",
       "antigen.species    92771\n",
       "vdjdb.score        92771\n",
       "meta               92771\n",
       "dtype: int64"
      ]
     },
     "execution_count": 108,
     "metadata": {},
     "output_type": "execute_result"
    }
   ],
   "source": [
    "df.count()"
   ]
  },
  {
   "cell_type": "markdown",
   "id": "a5816557",
   "metadata": {},
   "source": [
    "### Dropping duplicate rows"
   ]
  },
  {
   "cell_type": "code",
   "execution_count": 109,
   "id": "6c954574",
   "metadata": {},
   "outputs": [],
   "source": [
    "# # Drop duplicate rows\n",
    "# df=df.drop_duplicates()\n",
    "# df.shape"
   ]
  },
  {
   "cell_type": "markdown",
   "id": "43ad8db4",
   "metadata": {},
   "source": [
    "### Dropping missing and null value"
   ]
  },
  {
   "cell_type": "code",
   "execution_count": 110,
   "id": "13f28026",
   "metadata": {},
   "outputs": [
    {
     "name": "stdout",
     "output_type": "stream",
     "text": [
      "complex.id            0\n",
      "gene                  0\n",
      "cdr3                  0\n",
      "v.segm              101\n",
      "j.segm             1145\n",
      "species               0\n",
      "mhc.a                 0\n",
      "mhc.b                 0\n",
      "mhc.class             0\n",
      "antigen.epitope       0\n",
      "antigen.gene         62\n",
      "antigen.species       0\n",
      "vdjdb.score           0\n",
      "meta                  0\n",
      "dtype: int64\n"
     ]
    }
   ],
   "source": [
    "print(df.isnull().sum())"
   ]
  },
  {
   "cell_type": "code",
   "execution_count": 111,
   "id": "c5d87c67",
   "metadata": {},
   "outputs": [
    {
     "data": {
      "text/plain": [
       "(91550, 14)"
      ]
     },
     "execution_count": 111,
     "metadata": {},
     "output_type": "execute_result"
    }
   ],
   "source": [
    "df=df.dropna()\n",
    "df.shape"
   ]
  },
  {
   "cell_type": "markdown",
   "id": "4efc7d83",
   "metadata": {},
   "source": [
    "**After dropping null value**\n",
    "* Bulleted"
   ]
  },
  {
   "cell_type": "code",
   "execution_count": 112,
   "id": "077556f0",
   "metadata": {
    "scrolled": true
   },
   "outputs": [
    {
     "name": "stdout",
     "output_type": "stream",
     "text": [
      "complex.id         0\n",
      "gene               0\n",
      "cdr3               0\n",
      "v.segm             0\n",
      "j.segm             0\n",
      "species            0\n",
      "mhc.a              0\n",
      "mhc.b              0\n",
      "mhc.class          0\n",
      "antigen.epitope    0\n",
      "antigen.gene       0\n",
      "antigen.species    0\n",
      "vdjdb.score        0\n",
      "meta               0\n",
      "dtype: int64\n"
     ]
    }
   ],
   "source": [
    "print(df.isnull().sum())"
   ]
  },
  {
   "cell_type": "markdown",
   "id": "f0e2cc93",
   "metadata": {},
   "source": [
    "<div class=\"alert alert-block alert-info\">\n",
    "<b>Tip:</b> Use blue boxes (alert-info) for tips and notes. \n",
    "If it’s a note, you don’t have to include the word “Note”.\n",
    "</div>\n"
   ]
  },
  {
   "cell_type": "markdown",
   "id": "fb96bfb3",
   "metadata": {},
   "source": [
    "<div class=\"alert alert-block alert-warning\">\n",
    "<b>Example:</b> Use yellow boxes for examples that are not \n",
    "inside code cells, or use for mathematical formulas if needed.\n",
    "</div>"
   ]
  },
  {
   "cell_type": "markdown",
   "id": "54cb5219",
   "metadata": {},
   "source": [
    ">**## Exploring the data ##**"
   ]
  },
  {
   "cell_type": "code",
   "execution_count": 113,
   "id": "1c2cbb3d",
   "metadata": {},
   "outputs": [
    {
     "data": {
      "text/html": [
       "<div>\n",
       "<style scoped>\n",
       "    .dataframe tbody tr th:only-of-type {\n",
       "        vertical-align: middle;\n",
       "    }\n",
       "\n",
       "    .dataframe tbody tr th {\n",
       "        vertical-align: top;\n",
       "    }\n",
       "\n",
       "    .dataframe thead th {\n",
       "        text-align: right;\n",
       "    }\n",
       "</style>\n",
       "<table border=\"1\" class=\"dataframe\">\n",
       "  <thead>\n",
       "    <tr style=\"text-align: right;\">\n",
       "      <th></th>\n",
       "      <th>complex.id</th>\n",
       "      <th>gene</th>\n",
       "      <th>cdr3</th>\n",
       "      <th>v.segm</th>\n",
       "      <th>j.segm</th>\n",
       "      <th>species</th>\n",
       "      <th>mhc.a</th>\n",
       "      <th>mhc.b</th>\n",
       "      <th>mhc.class</th>\n",
       "      <th>antigen.epitope</th>\n",
       "      <th>antigen.gene</th>\n",
       "      <th>antigen.species</th>\n",
       "      <th>vdjdb.score</th>\n",
       "      <th>meta</th>\n",
       "    </tr>\n",
       "  </thead>\n",
       "  <tbody>\n",
       "    <tr>\n",
       "      <th>5309</th>\n",
       "      <td>0</td>\n",
       "      <td>TRB</td>\n",
       "      <td>CASSKLASTAGEQYF</td>\n",
       "      <td>TRBV2*01</td>\n",
       "      <td>TRBJ2-7*01</td>\n",
       "      <td>HomoSapiens</td>\n",
       "      <td>HLA-DRA*01:01</td>\n",
       "      <td>HLA-DRB1*11:01</td>\n",
       "      <td>MHCII</td>\n",
       "      <td>DRFYKTLRAEQASQEV</td>\n",
       "      <td>Gag</td>\n",
       "      <td>HIV-1</td>\n",
       "      <td>1</td>\n",
       "      <td>{\"cell.subset\": \"CD8+\", \"clone.id\": \"\", \"donor...</td>\n",
       "    </tr>\n",
       "    <tr>\n",
       "      <th>5310</th>\n",
       "      <td>0</td>\n",
       "      <td>TRB</td>\n",
       "      <td>CASSGGQETQYF</td>\n",
       "      <td>TRBV14*01</td>\n",
       "      <td>TRBJ2-5*01</td>\n",
       "      <td>HomoSapiens</td>\n",
       "      <td>HLA-DRA*01:01</td>\n",
       "      <td>HLA-DRB1*01:01</td>\n",
       "      <td>MHCII</td>\n",
       "      <td>LNKIVRMYSPTSILD</td>\n",
       "      <td>Gag</td>\n",
       "      <td>HIV-1</td>\n",
       "      <td>1</td>\n",
       "      <td>{\"cell.subset\": \"CD8+\", \"clone.id\": \"\", \"donor...</td>\n",
       "    </tr>\n",
       "  </tbody>\n",
       "</table>\n",
       "</div>"
      ],
      "text/plain": [
       "      complex.id gene             cdr3     v.segm      j.segm      species  \\\n",
       "5309           0  TRB  CASSKLASTAGEQYF   TRBV2*01  TRBJ2-7*01  HomoSapiens   \n",
       "5310           0  TRB     CASSGGQETQYF  TRBV14*01  TRBJ2-5*01  HomoSapiens   \n",
       "\n",
       "              mhc.a           mhc.b mhc.class   antigen.epitope antigen.gene  \\\n",
       "5309  HLA-DRA*01:01  HLA-DRB1*11:01     MHCII  DRFYKTLRAEQASQEV          Gag   \n",
       "5310  HLA-DRA*01:01  HLA-DRB1*01:01     MHCII   LNKIVRMYSPTSILD          Gag   \n",
       "\n",
       "     antigen.species  vdjdb.score  \\\n",
       "5309           HIV-1            1   \n",
       "5310           HIV-1            1   \n",
       "\n",
       "                                                   meta  \n",
       "5309  {\"cell.subset\": \"CD8+\", \"clone.id\": \"\", \"donor...  \n",
       "5310  {\"cell.subset\": \"CD8+\", \"clone.id\": \"\", \"donor...  "
      ]
     },
     "execution_count": 113,
     "metadata": {},
     "output_type": "execute_result"
    }
   ],
   "source": [
    "# Specify the substring to search for\n",
    "# pd.set_option('display.max_colwidth', None)\n",
    "pd.reset_option('display.max_colwidth')\n",
    "substring = 'CD8+'\n",
    "\n",
    "# Use boolean indexing to filter rows containing the substring in 'Description'\n",
    "\n",
    "filtered_df = df[df['meta'].str.contains(substring, case=False, na=False)]\n",
    "\n",
    "filtered_df[filtered_df['mhc.class']=='MHCII'].head(2)\n",
    "\n"
   ]
  },
  {
   "cell_type": "markdown",
   "id": "1533c1dd",
   "metadata": {},
   "source": [
    "##  TCRDist3"
   ]
  },
  {
   "cell_type": "code",
   "execution_count": 16,
   "id": "e9c93c70",
   "metadata": {},
   "outputs": [],
   "source": [
    "df_dash = pd.read_csv(\"https://raw.githubusercontent.com/kmayerb/tcrdist2/API2/tcrdist/test_files_compact/dash.csv\")"
   ]
  },
  {
   "cell_type": "code",
   "execution_count": 17,
   "id": "0e6a1daf",
   "metadata": {
    "scrolled": true
   },
   "outputs": [
    {
     "data": {
      "text/html": [
       "<div>\n",
       "<style scoped>\n",
       "    .dataframe tbody tr th:only-of-type {\n",
       "        vertical-align: middle;\n",
       "    }\n",
       "\n",
       "    .dataframe tbody tr th {\n",
       "        vertical-align: top;\n",
       "    }\n",
       "\n",
       "    .dataframe thead th {\n",
       "        text-align: right;\n",
       "    }\n",
       "</style>\n",
       "<table border=\"1\" class=\"dataframe\">\n",
       "  <thead>\n",
       "    <tr style=\"text-align: right;\">\n",
       "      <th></th>\n",
       "      <th>subject</th>\n",
       "      <th>epitope</th>\n",
       "      <th>count</th>\n",
       "      <th>v_a_gene</th>\n",
       "      <th>j_a_gene</th>\n",
       "      <th>cdr3_a_aa</th>\n",
       "      <th>cdr3_a_nucseq</th>\n",
       "      <th>v_b_gene</th>\n",
       "      <th>j_b_gene</th>\n",
       "      <th>cdr3_b_aa</th>\n",
       "      <th>cdr3_b_nucseq</th>\n",
       "      <th>clone_id</th>\n",
       "    </tr>\n",
       "  </thead>\n",
       "  <tbody>\n",
       "    <tr>\n",
       "      <th>0</th>\n",
       "      <td>mouse_subject0050</td>\n",
       "      <td>PA</td>\n",
       "      <td>2</td>\n",
       "      <td>TRAV7-3*01</td>\n",
       "      <td>TRAJ33*01</td>\n",
       "      <td>CAVSLDSNYQLIW</td>\n",
       "      <td>tgtgcagtgagcctcgatagcaactatcagttgatctgg</td>\n",
       "      <td>TRBV13-1*01</td>\n",
       "      <td>TRBJ2-3*01</td>\n",
       "      <td>CASSDFDWGGDAETLYF</td>\n",
       "      <td>tgtgccagcagtgatttcgactggggaggggatgcagaaacgctgt...</td>\n",
       "      <td>mouse_tcr0072.clone</td>\n",
       "    </tr>\n",
       "    <tr>\n",
       "      <th>1</th>\n",
       "      <td>mouse_subject0050</td>\n",
       "      <td>PA</td>\n",
       "      <td>6</td>\n",
       "      <td>TRAV6D-6*01</td>\n",
       "      <td>TRAJ56*01</td>\n",
       "      <td>CALGDRATGGNNKLTF</td>\n",
       "      <td>tgtgctctgggtgacagggctactggaggcaataataagctgactttt</td>\n",
       "      <td>TRBV29*01</td>\n",
       "      <td>TRBJ1-1*01</td>\n",
       "      <td>CASSPDRGEVFF</td>\n",
       "      <td>tgtgctagcagtccggacaggggtgaagtcttcttt</td>\n",
       "      <td>mouse_tcr0096.clone</td>\n",
       "    </tr>\n",
       "    <tr>\n",
       "      <th>2</th>\n",
       "      <td>mouse_subject0050</td>\n",
       "      <td>PA</td>\n",
       "      <td>1</td>\n",
       "      <td>TRAV6D-6*01</td>\n",
       "      <td>TRAJ49*01</td>\n",
       "      <td>CALGSNTGYQNFYF</td>\n",
       "      <td>tgtgctctgggctcgaacacgggttaccagaacttctatttt</td>\n",
       "      <td>TRBV29*01</td>\n",
       "      <td>TRBJ1-5*01</td>\n",
       "      <td>CASTGGGAPLF</td>\n",
       "      <td>tgtgctagcacagggggaggggctccgcttttt</td>\n",
       "      <td>mouse_tcr0276.clone</td>\n",
       "    </tr>\n",
       "  </tbody>\n",
       "</table>\n",
       "</div>"
      ],
      "text/plain": [
       "             subject epitope  count     v_a_gene   j_a_gene         cdr3_a_aa  \\\n",
       "0  mouse_subject0050      PA      2   TRAV7-3*01  TRAJ33*01     CAVSLDSNYQLIW   \n",
       "1  mouse_subject0050      PA      6  TRAV6D-6*01  TRAJ56*01  CALGDRATGGNNKLTF   \n",
       "2  mouse_subject0050      PA      1  TRAV6D-6*01  TRAJ49*01    CALGSNTGYQNFYF   \n",
       "\n",
       "                                      cdr3_a_nucseq     v_b_gene    j_b_gene  \\\n",
       "0           tgtgcagtgagcctcgatagcaactatcagttgatctgg  TRBV13-1*01  TRBJ2-3*01   \n",
       "1  tgtgctctgggtgacagggctactggaggcaataataagctgactttt    TRBV29*01  TRBJ1-1*01   \n",
       "2        tgtgctctgggctcgaacacgggttaccagaacttctatttt    TRBV29*01  TRBJ1-5*01   \n",
       "\n",
       "           cdr3_b_aa                                      cdr3_b_nucseq  \\\n",
       "0  CASSDFDWGGDAETLYF  tgtgccagcagtgatttcgactggggaggggatgcagaaacgctgt...   \n",
       "1       CASSPDRGEVFF               tgtgctagcagtccggacaggggtgaagtcttcttt   \n",
       "2        CASTGGGAPLF                  tgtgctagcacagggggaggggctccgcttttt   \n",
       "\n",
       "              clone_id  \n",
       "0  mouse_tcr0072.clone  \n",
       "1  mouse_tcr0096.clone  \n",
       "2  mouse_tcr0276.clone  "
      ]
     },
     "execution_count": 17,
     "metadata": {},
     "output_type": "execute_result"
    }
   ],
   "source": [
    "df_dash.head(3)"
   ]
  },
  {
   "cell_type": "markdown",
   "id": "c3465abc",
   "metadata": {},
   "source": [
    "## Installing tcrdist3 package ##"
   ]
  },
  {
   "cell_type": "code",
   "execution_count": 18,
   "id": "90d806a4",
   "metadata": {},
   "outputs": [],
   "source": [
    "# pip install tcrdist3\n",
    "# installing tcrdist3"
   ]
  },
  {
   "cell_type": "code",
   "execution_count": 19,
   "id": "6a0919ce",
   "metadata": {},
   "outputs": [],
   "source": [
    "# from tcrdist.repertoire import TCRrep\n",
    "# tr = TCRrep(cell_df = df_dash, \n",
    "#             organism = 'mouse', \n",
    "#             chains = ['alpha','beta'], \n",
    "#             db_file = 'alphabeta_gammadelta_db.tsv')\n",
    "\n",
    "# tr.pw_alpha\n",
    "# # tr.pw_beta\n",
    "# # tr.pw_cdr3_a_aa\n",
    "# # tr.pw_cdr3_b_aa"
   ]
  },
  {
   "cell_type": "code",
   "execution_count": 20,
   "id": "48806023",
   "metadata": {},
   "outputs": [],
   "source": [
    "# tr = TCRrep(cell_df = df_dash,\n",
    "#             organism = 'mouse',\n",
    "#             chains = ['alpha','beta'],\n",
    "#             db_file = 'alphabeta_gammadelta_db.tsv',\n",
    "#             compute_distances = False)\n",
    "\n",
    "# tr.cpus = 2\n",
    "# tr.compute_sparse_rect_distances(radius = 50, chunk_size = 100)\n",
    "# tr.rw_beta\n",
    "# # \"\"\"<1920x1920 sparse matrix of type '<class 'numpy.int16'>'\n",
    "# # with 108846 stored elements in Compressed Sparse Row format>\n",
    "# # \"\"\"\n",
    "# # print(tr.rw_beta)    "
   ]
  },
  {
   "cell_type": "code",
   "execution_count": 21,
   "id": "bcf4bb76",
   "metadata": {},
   "outputs": [],
   "source": [
    "# print(tr.rw_beta)    "
   ]
  },
  {
   "cell_type": "markdown",
   "id": "3f3d8607",
   "metadata": {},
   "source": [
    "## Preprocess vdjdb.text data frame for tcrdist3"
   ]
  },
  {
   "cell_type": "code",
   "execution_count": 114,
   "id": "d09c4960",
   "metadata": {
    "scrolled": true
   },
   "outputs": [
    {
     "data": {
      "text/plain": [
       "array(['complex.id', 'gene', 'cdr3', 'v.segm', 'j.segm', 'species',\n",
       "       'mhc.a', 'mhc.b', 'mhc.class', 'antigen.epitope', 'antigen.gene',\n",
       "       'antigen.species', 'vdjdb.score', 'meta'], dtype=object)"
      ]
     },
     "execution_count": 114,
     "metadata": {},
     "output_type": "execute_result"
    }
   ],
   "source": [
    "df.columns.values"
   ]
  },
  {
   "cell_type": "code",
   "execution_count": 115,
   "id": "83898518",
   "metadata": {},
   "outputs": [],
   "source": [
    "df = df[['complex.id', 'gene', 'cdr3', 'v.segm', 'j.segm', 'species', 'antigen.epitope', 'antigen.gene', 'vdjdb.score']]"
   ]
  },
  {
   "cell_type": "code",
   "execution_count": 117,
   "id": "48953943",
   "metadata": {
    "scrolled": false
   },
   "outputs": [
    {
     "data": {
      "text/html": [
       "<div>\n",
       "<style scoped>\n",
       "    .dataframe tbody tr th:only-of-type {\n",
       "        vertical-align: middle;\n",
       "    }\n",
       "\n",
       "    .dataframe tbody tr th {\n",
       "        vertical-align: top;\n",
       "    }\n",
       "\n",
       "    .dataframe thead th {\n",
       "        text-align: right;\n",
       "    }\n",
       "</style>\n",
       "<table border=\"1\" class=\"dataframe\">\n",
       "  <thead>\n",
       "    <tr style=\"text-align: right;\">\n",
       "      <th></th>\n",
       "      <th>complex.id</th>\n",
       "      <th>gene</th>\n",
       "      <th>cdr3</th>\n",
       "      <th>v.segm</th>\n",
       "      <th>j.segm</th>\n",
       "      <th>species</th>\n",
       "      <th>antigen.epitope</th>\n",
       "      <th>antigen.gene</th>\n",
       "      <th>vdjdb.score</th>\n",
       "    </tr>\n",
       "  </thead>\n",
       "  <tbody>\n",
       "    <tr>\n",
       "      <th>0</th>\n",
       "      <td>1</td>\n",
       "      <td>TRA</td>\n",
       "      <td>CIVRAPGRADMRF</td>\n",
       "      <td>TRAV26-1*01</td>\n",
       "      <td>TRAJ43*01</td>\n",
       "      <td>HomoSapiens</td>\n",
       "      <td>FLKEKGGL</td>\n",
       "      <td>Nef</td>\n",
       "      <td>2</td>\n",
       "    </tr>\n",
       "    <tr>\n",
       "      <th>1</th>\n",
       "      <td>1</td>\n",
       "      <td>TRB</td>\n",
       "      <td>CASSYLPGQGDHYSNQPQHF</td>\n",
       "      <td>TRBV13*01</td>\n",
       "      <td>TRBJ1-5*01</td>\n",
       "      <td>HomoSapiens</td>\n",
       "      <td>FLKEKGGL</td>\n",
       "      <td>Nef</td>\n",
       "      <td>2</td>\n",
       "    </tr>\n",
       "    <tr>\n",
       "      <th>2</th>\n",
       "      <td>0</td>\n",
       "      <td>TRB</td>\n",
       "      <td>CASSFEAGQGFFSNQPQHF</td>\n",
       "      <td>TRBV13*01</td>\n",
       "      <td>TRBJ1-5*01</td>\n",
       "      <td>HomoSapiens</td>\n",
       "      <td>FLKEKGGL</td>\n",
       "      <td>Nef</td>\n",
       "      <td>2</td>\n",
       "    </tr>\n",
       "  </tbody>\n",
       "</table>\n",
       "</div>"
      ],
      "text/plain": [
       "   complex.id gene                  cdr3       v.segm      j.segm  \\\n",
       "0           1  TRA         CIVRAPGRADMRF  TRAV26-1*01   TRAJ43*01   \n",
       "1           1  TRB  CASSYLPGQGDHYSNQPQHF    TRBV13*01  TRBJ1-5*01   \n",
       "2           0  TRB   CASSFEAGQGFFSNQPQHF    TRBV13*01  TRBJ1-5*01   \n",
       "\n",
       "       species antigen.epitope antigen.gene  vdjdb.score  \n",
       "0  HomoSapiens        FLKEKGGL          Nef            2  \n",
       "1  HomoSapiens        FLKEKGGL          Nef            2  \n",
       "2  HomoSapiens        FLKEKGGL          Nef            2  "
      ]
     },
     "execution_count": 117,
     "metadata": {},
     "output_type": "execute_result"
    }
   ],
   "source": [
    "filter=df['vdjdb.score']==0\n",
    "df=df[~filter]\n",
    "df.head(3)"
   ]
  },
  {
   "cell_type": "markdown",
   "id": "6ddbd0b2",
   "metadata": {},
   "source": [
    "# Separating data set in to alpha and beta dataframe"
   ]
  },
  {
   "cell_type": "markdown",
   "id": "2122dfa5",
   "metadata": {},
   "source": [
    "# Alpha data frame"
   ]
  },
  {
   "cell_type": "code",
   "execution_count": 144,
   "id": "011e65d0",
   "metadata": {},
   "outputs": [],
   "source": [
    "import pandas as pd\n",
    "\n",
    "# Assuming df is your original dataframe\n",
    "# Create separate dataframes for alpha and beta chains\n",
    "df_alpha = df[df['gene'] == 'TRA'].rename(columns={'cdr3': 'cdr3_a_aa', 'v.segm': 'v_a_gene', 'j.segm': 'j_a_gene'})\n",
    "df_beta = df[df['gene'] == 'TRB'].rename(columns={'cdr3': 'cdr3_b_aa', 'v.segm': 'v_b_gene', 'j.segm': 'j_b_gene'})"
   ]
  },
  {
   "cell_type": "code",
   "execution_count": 145,
   "id": "c0b34128",
   "metadata": {},
   "outputs": [],
   "source": [
    "df_alpha.reset_index(drop=True, inplace=True)"
   ]
  },
  {
   "cell_type": "code",
   "execution_count": 155,
   "id": "075b3c02",
   "metadata": {
    "scrolled": true
   },
   "outputs": [],
   "source": [
    "#remove complex_id 0\n",
    "filter=df_alpha['complex.id']==0\n",
    "df_alpha=df_alpha[~filter]"
   ]
  },
  {
   "cell_type": "markdown",
   "id": "3821120f",
   "metadata": {},
   "source": [
    "### Removing mouse and monkey"
   ]
  },
  {
   "cell_type": "code",
   "execution_count": 156,
   "id": "1e75096b",
   "metadata": {},
   "outputs": [],
   "source": [
    "df_alpha = df_alpha[~df_alpha['species'].isin(['MusMusculus', 'MacacaMulatta'])]"
   ]
  },
  {
   "cell_type": "code",
   "execution_count": 157,
   "id": "3633c68c",
   "metadata": {
    "scrolled": true
   },
   "outputs": [
    {
     "data": {
      "text/plain": [
       "array(['HomoSapiens'], dtype=object)"
      ]
     },
     "execution_count": 157,
     "metadata": {},
     "output_type": "execute_result"
    }
   ],
   "source": [
    "df_alpha['species'].unique()"
   ]
  },
  {
   "cell_type": "code",
   "execution_count": 158,
   "id": "5a8c3cc3",
   "metadata": {
    "scrolled": false
   },
   "outputs": [
    {
     "name": "stdout",
     "output_type": "stream",
     "text": [
      "<class 'pandas.core.frame.DataFrame'>\n",
      "Int64Index: 1913 entries, 0 to 3675\n",
      "Data columns (total 10 columns):\n",
      " #   Column           Non-Null Count  Dtype \n",
      "---  ------           --------------  ----- \n",
      " 0   complex.id       1913 non-null   int64 \n",
      " 1   gene             1913 non-null   object\n",
      " 2   cdr3_a_aa        1913 non-null   object\n",
      " 3   v_a_gene         1913 non-null   object\n",
      " 4   j_a_gene         1913 non-null   object\n",
      " 5   species          1913 non-null   object\n",
      " 6   antigen.epitope  1913 non-null   object\n",
      " 7   antigen.gene     1913 non-null   object\n",
      " 8   vdjdb.score      1913 non-null   int64 \n",
      " 9   count            1913 non-null   int64 \n",
      "dtypes: int64(3), object(7)\n",
      "memory usage: 164.4+ KB\n"
     ]
    }
   ],
   "source": [
    "df_alpha.info()"
   ]
  },
  {
   "cell_type": "markdown",
   "id": "a1560a6d",
   "metadata": {},
   "source": [
    "### Dropping null values"
   ]
  },
  {
   "cell_type": "code",
   "execution_count": 159,
   "id": "1ad9abf1",
   "metadata": {
    "scrolled": false
   },
   "outputs": [
    {
     "name": "stdout",
     "output_type": "stream",
     "text": [
      "complex.id         0\n",
      "gene               0\n",
      "cdr3_a_aa          0\n",
      "v_a_gene           0\n",
      "j_a_gene           0\n",
      "species            0\n",
      "antigen.epitope    0\n",
      "antigen.gene       0\n",
      "vdjdb.score        0\n",
      "count              0\n",
      "dtype: int64\n"
     ]
    }
   ],
   "source": [
    "df_alpha=df_alpha.dropna()\n",
    "print(df_alpha.isnull().sum())"
   ]
  },
  {
   "cell_type": "markdown",
   "id": "46bd62e0",
   "metadata": {},
   "source": [
    "### Dropping duplicates"
   ]
  },
  {
   "cell_type": "code",
   "execution_count": 160,
   "id": "ff0cfe66",
   "metadata": {
    "scrolled": true
   },
   "outputs": [],
   "source": [
    "# df_alpha=df_alpha.drop_duplicates()\n",
    "# df_alpha.shape"
   ]
  },
  {
   "cell_type": "markdown",
   "id": "16622957",
   "metadata": {},
   "source": [
    "## Run TCRDist on alpha gene dataset"
   ]
  },
  {
   "cell_type": "code",
   "execution_count": 161,
   "id": "8ddfc43d",
   "metadata": {},
   "outputs": [],
   "source": [
    "from tcrdist.repertoire import TCRrep\n",
    "tr = TCRrep(cell_df = df_alpha, \n",
    "            organism = 'human', \n",
    "            chains = ['alpha'], \n",
    "            db_file = 'alphabeta_gammadelta_db.tsv')"
   ]
  },
  {
   "cell_type": "code",
   "execution_count": 205,
   "id": "63dea6cc",
   "metadata": {},
   "outputs": [],
   "source": [
    "#tcrdist3 create a clone df that matches with the resulting distance matrix, \n",
    "#use this to concatnate the distance matrix with the corresponding epitope\n",
    "tr.clone_df.shape\n",
    "tr.clone_df.head(5)\n",
    "clone_df=tr.clone_df"
   ]
  },
  {
   "cell_type": "code",
   "execution_count": 270,
   "id": "8320dd97",
   "metadata": {
    "scrolled": true
   },
   "outputs": [
    {
     "data": {
      "text/plain": [
       "array([[  0, 138, 110, ..., 159, 194, 149],\n",
       "       [138,   0, 131, ..., 141, 152, 132],\n",
       "       [110, 131,   0, ..., 166, 173, 129],\n",
       "       ...,\n",
       "       [159, 141, 166, ...,   0, 141, 133],\n",
       "       [194, 152, 173, ..., 141,   0, 158],\n",
       "       [149, 132, 129, ..., 133, 158,   0]], dtype=int16)"
      ]
     },
     "execution_count": 270,
     "metadata": {},
     "output_type": "execute_result"
    }
   ],
   "source": [
    "alpha_chain = tr.pw_alpha\n",
    "alpha_chain"
   ]
  },
  {
   "cell_type": "code",
   "execution_count": 273,
   "id": "88125e49",
   "metadata": {},
   "outputs": [],
   "source": [
    "#Scaling the matrix\n",
    "\n",
    "from sklearn.preprocessing import StandardScaler\n",
    "std_scaler = StandardScaler()\n",
    "alpha_scaled_df = std_scaler.fit_transform(alpha_chain)"
   ]
  },
  {
   "cell_type": "code",
   "execution_count": 274,
   "id": "04fece26",
   "metadata": {},
   "outputs": [],
   "source": [
    "from sklearn.decomposition import PCA\n",
    "pca = PCA(n_components=2)\n",
    "pca_alpha = pca.fit_transform(alpha_scaled_df)"
   ]
  },
  {
   "cell_type": "code",
   "execution_count": 275,
   "id": "3eb6b77a",
   "metadata": {},
   "outputs": [],
   "source": [
    "alpha_dist_df = pd.DataFrame(pca_alpha, columns =['A', 'B'])"
   ]
  },
  {
   "cell_type": "code",
   "execution_count": 276,
   "id": "25adf6ae",
   "metadata": {
    "scrolled": true
   },
   "outputs": [],
   "source": [
    "# combining the columns of the two dataframes\n",
    "df_concat_a = pd.concat([alpha_dist_df.reset_index(drop=True),clone_df.reset_index(drop=True)], axis=1)"
   ]
  },
  {
   "cell_type": "code",
   "execution_count": 277,
   "id": "e524e356",
   "metadata": {},
   "outputs": [
    {
     "data": {
      "text/html": [
       "<div>\n",
       "<style scoped>\n",
       "    .dataframe tbody tr th:only-of-type {\n",
       "        vertical-align: middle;\n",
       "    }\n",
       "\n",
       "    .dataframe tbody tr th {\n",
       "        vertical-align: top;\n",
       "    }\n",
       "\n",
       "    .dataframe thead th {\n",
       "        text-align: right;\n",
       "    }\n",
       "</style>\n",
       "<table border=\"1\" class=\"dataframe\">\n",
       "  <thead>\n",
       "    <tr style=\"text-align: right;\">\n",
       "      <th></th>\n",
       "      <th>A</th>\n",
       "      <th>B</th>\n",
       "      <th>complex.id</th>\n",
       "      <th>gene</th>\n",
       "      <th>cdr3_a_aa</th>\n",
       "      <th>v_a_gene</th>\n",
       "      <th>j_a_gene</th>\n",
       "      <th>species</th>\n",
       "      <th>antigen.epitope</th>\n",
       "      <th>antigen.gene</th>\n",
       "      <th>vdjdb.score</th>\n",
       "      <th>cdr1_a_aa</th>\n",
       "      <th>cdr2_a_aa</th>\n",
       "      <th>pmhc_a_aa</th>\n",
       "      <th>count</th>\n",
       "      <th>clone_id</th>\n",
       "    </tr>\n",
       "  </thead>\n",
       "  <tbody>\n",
       "    <tr>\n",
       "      <th>0</th>\n",
       "      <td>1.787086</td>\n",
       "      <td>3.648197</td>\n",
       "      <td>1</td>\n",
       "      <td>TRA</td>\n",
       "      <td>CIVRAPGRADMRF</td>\n",
       "      <td>TRAV26-1*01</td>\n",
       "      <td>TRAJ43*01</td>\n",
       "      <td>HomoSapiens</td>\n",
       "      <td>FLKEKGGL</td>\n",
       "      <td>Nef</td>\n",
       "      <td>2</td>\n",
       "      <td>TISG.....NEY</td>\n",
       "      <td>GLK.....NN</td>\n",
       "      <td>TEDRKS</td>\n",
       "      <td>1</td>\n",
       "      <td>1</td>\n",
       "    </tr>\n",
       "    <tr>\n",
       "      <th>1</th>\n",
       "      <td>-8.303628</td>\n",
       "      <td>4.370601</td>\n",
       "      <td>2</td>\n",
       "      <td>TRA</td>\n",
       "      <td>CAVPSGAGSYQLTF</td>\n",
       "      <td>TRAV20*01</td>\n",
       "      <td>TRAJ28*01</td>\n",
       "      <td>HomoSapiens</td>\n",
       "      <td>FLKEKGGL</td>\n",
       "      <td>Nef</td>\n",
       "      <td>2</td>\n",
       "      <td>VSG......LRG</td>\n",
       "      <td>LYSA...GEE</td>\n",
       "      <td>TK..KE</td>\n",
       "      <td>1</td>\n",
       "      <td>2</td>\n",
       "    </tr>\n",
       "    <tr>\n",
       "      <th>2</th>\n",
       "      <td>-1.919664</td>\n",
       "      <td>-18.641167</td>\n",
       "      <td>4</td>\n",
       "      <td>TRA</td>\n",
       "      <td>CAYRPPGTYKYIF</td>\n",
       "      <td>TRAV38-2/DV8*01</td>\n",
       "      <td>TRAJ40*01</td>\n",
       "      <td>HomoSapiens</td>\n",
       "      <td>FLKEKGGL</td>\n",
       "      <td>Nef</td>\n",
       "      <td>2</td>\n",
       "      <td>TSES.....DYY</td>\n",
       "      <td>QEAY..KQQN</td>\n",
       "      <td>QKAAKS</td>\n",
       "      <td>1</td>\n",
       "      <td>3</td>\n",
       "    </tr>\n",
       "  </tbody>\n",
       "</table>\n",
       "</div>"
      ],
      "text/plain": [
       "          A          B  complex.id gene       cdr3_a_aa         v_a_gene  \\\n",
       "0  1.787086   3.648197           1  TRA   CIVRAPGRADMRF      TRAV26-1*01   \n",
       "1 -8.303628   4.370601           2  TRA  CAVPSGAGSYQLTF        TRAV20*01   \n",
       "2 -1.919664 -18.641167           4  TRA   CAYRPPGTYKYIF  TRAV38-2/DV8*01   \n",
       "\n",
       "    j_a_gene      species antigen.epitope antigen.gene  vdjdb.score  \\\n",
       "0  TRAJ43*01  HomoSapiens        FLKEKGGL          Nef            2   \n",
       "1  TRAJ28*01  HomoSapiens        FLKEKGGL          Nef            2   \n",
       "2  TRAJ40*01  HomoSapiens        FLKEKGGL          Nef            2   \n",
       "\n",
       "      cdr1_a_aa   cdr2_a_aa pmhc_a_aa  count  clone_id  \n",
       "0  TISG.....NEY  GLK.....NN    TEDRKS      1         1  \n",
       "1  VSG......LRG  LYSA...GEE    TK..KE      1         2  \n",
       "2  TSES.....DYY  QEAY..KQQN    QKAAKS      1         3  "
      ]
     },
     "execution_count": 277,
     "metadata": {},
     "output_type": "execute_result"
    }
   ],
   "source": [
    "df_concat_a.head(3)"
   ]
  },
  {
   "cell_type": "code",
   "execution_count": 282,
   "id": "604512ff",
   "metadata": {
    "scrolled": true
   },
   "outputs": [],
   "source": [
    "plot_a_df = df_concat_a[['antigen.gene', 'A', 'B']]"
   ]
  },
  {
   "cell_type": "code",
   "execution_count": 283,
   "id": "ae93e79d",
   "metadata": {},
   "outputs": [
    {
     "data": {
      "text/plain": [
       "['pp65',\n",
       " 'Spike',\n",
       " 'M',\n",
       " 'NS3',\n",
       " 'BMLF1',\n",
       " 'MLANA',\n",
       " 'Gluten',\n",
       " 'BZLF1',\n",
       " 'NY-ESO-1',\n",
       " 'synthetic']"
      ]
     },
     "execution_count": 283,
     "metadata": {},
     "output_type": "execute_result"
    }
   ],
   "source": [
    "top_10_epitope = plot_a_df['antigen.gene'].value_counts().nlargest(10)\n",
    "# convert to list\n",
    "list_top10epitopes = top_10_epitope.index.tolist()\n",
    "list_top10epitopes"
   ]
  },
  {
   "cell_type": "code",
   "execution_count": 284,
   "id": "5502130d",
   "metadata": {
    "scrolled": true
   },
   "outputs": [
    {
     "data": {
      "text/plain": [
       "pp65         464\n",
       "Spike        291\n",
       "M            246\n",
       "NS3           84\n",
       "BMLF1         70\n",
       "MLANA         50\n",
       "Gluten        46\n",
       "BZLF1         37\n",
       "NY-ESO-1      37\n",
       "synthetic     33\n",
       "Name: antigen.gene, dtype: int64"
      ]
     },
     "execution_count": 284,
     "metadata": {},
     "output_type": "execute_result"
    }
   ],
   "source": [
    "#Taking in only top 10 epitope gene\n",
    "plot_a_df=plot_a_df[plot_a_df['antigen.gene'].isin(list_top10epitopes)]\n",
    "plot_a_df['antigen.gene'].value_counts()"
   ]
  },
  {
   "cell_type": "code",
   "execution_count": 285,
   "id": "c153e9f6",
   "metadata": {},
   "outputs": [
    {
     "data": {
      "text/html": [
       "<div>\n",
       "<style scoped>\n",
       "    .dataframe tbody tr th:only-of-type {\n",
       "        vertical-align: middle;\n",
       "    }\n",
       "\n",
       "    .dataframe tbody tr th {\n",
       "        vertical-align: top;\n",
       "    }\n",
       "\n",
       "    .dataframe thead th {\n",
       "        text-align: right;\n",
       "    }\n",
       "</style>\n",
       "<table border=\"1\" class=\"dataframe\">\n",
       "  <thead>\n",
       "    <tr style=\"text-align: right;\">\n",
       "      <th></th>\n",
       "      <th>antigen.gene</th>\n",
       "      <th>A</th>\n",
       "      <th>B</th>\n",
       "    </tr>\n",
       "  </thead>\n",
       "  <tbody>\n",
       "    <tr>\n",
       "      <th>9</th>\n",
       "      <td>MLANA</td>\n",
       "      <td>9.218188</td>\n",
       "      <td>19.681488</td>\n",
       "    </tr>\n",
       "    <tr>\n",
       "      <th>41</th>\n",
       "      <td>M</td>\n",
       "      <td>-9.880943</td>\n",
       "      <td>37.441426</td>\n",
       "    </tr>\n",
       "    <tr>\n",
       "      <th>46</th>\n",
       "      <td>BZLF1</td>\n",
       "      <td>2.231702</td>\n",
       "      <td>-16.173267</td>\n",
       "    </tr>\n",
       "    <tr>\n",
       "      <th>47</th>\n",
       "      <td>NY-ESO-1</td>\n",
       "      <td>24.805343</td>\n",
       "      <td>-20.135565</td>\n",
       "    </tr>\n",
       "    <tr>\n",
       "      <th>48</th>\n",
       "      <td>NY-ESO-1</td>\n",
       "      <td>24.805343</td>\n",
       "      <td>-20.135565</td>\n",
       "    </tr>\n",
       "  </tbody>\n",
       "</table>\n",
       "</div>"
      ],
      "text/plain": [
       "   antigen.gene          A          B\n",
       "9         MLANA   9.218188  19.681488\n",
       "41            M  -9.880943  37.441426\n",
       "46        BZLF1   2.231702 -16.173267\n",
       "47     NY-ESO-1  24.805343 -20.135565\n",
       "48     NY-ESO-1  24.805343 -20.135565"
      ]
     },
     "execution_count": 285,
     "metadata": {},
     "output_type": "execute_result"
    }
   ],
   "source": [
    "plot_a_df.head(5)"
   ]
  },
  {
   "cell_type": "code",
   "execution_count": 286,
   "id": "02e7473c",
   "metadata": {},
   "outputs": [
    {
     "data": {
      "text/plain": [
       "<AxesSubplot:xlabel='A', ylabel='B'>"
      ]
     },
     "execution_count": 286,
     "metadata": {},
     "output_type": "execute_result"
    },
    {
     "data": {
      "image/png": "[encoded data removed]",
      "text/plain": [
       "<Figure size 800x600 with 1 Axes>"
      ]
     },
     "metadata": {},
     "output_type": "display_data"
    }
   ],
   "source": [
    "import seaborn as sns\n",
    "plt.figure(figsize=(8, 6))\n",
    "sns.scatterplot(data=plot_a_df, x='A', y='B', hue='antigen.gene', palette='viridis', alpha=0.7)"
   ]
  },
  {
   "cell_type": "code",
   "execution_count": 267,
   "id": "825aa247",
   "metadata": {},
   "outputs": [
    {
     "data": {
      "image/png": "[encoded data removed]",
      "text/plain": [
       "<Figure size 800x600 with 1 Axes>"
      ]
     },
     "metadata": {},
     "output_type": "display_data"
    }
   ],
   "source": [
    "# Plotting\n",
    "plt.figure(figsize=(8, 6))\n",
    "\n",
    "# Iterate over unique genes and plot points with the same gene using a unique color\n",
    "for gene in plot_a_df['antigen.gene'].unique():\n",
    "    subset = plot_a_df[plot_a_df['antigen.gene'] == gene]\n",
    "    plt.scatter(subset['A'], subset['B'], label=gene, alpha=0.7)\n",
    "\n",
    "# Adding labels and legend\n",
    "plt.title(\"Scatter Plot with Genes Colored\")\n",
    "plt.xlabel(\"A\")\n",
    "plt.ylabel(\"B\")\n",
    "plt.legend()\n",
    "\n",
    "# Show the plot\n",
    "plt.show()\n"
   ]
  },
  {
   "cell_type": "code",
   "execution_count": 254,
   "id": "7b01abae",
   "metadata": {},
   "outputs": [],
   "source": [
    "# plt.figure(figsize=(8, 6))\n",
    "# plt.scatter(X_reduced[:, 0], X_reduced[:, 1], c=y, cmap=plt.cm.get_cmap(\"jet\", 10))\n",
    "# plt.colorbar(label='Digit Label', ticks=range(10))\n",
    "# plt.title(\"MDS Visualization of Digits Dataset\")\n",
    "# plt.xlabel(\"MDS Dimension 1\")\n",
    "# plt.ylabel(\"MDS Dimension 2\")\n",
    "# plt.show()"
   ]
  },
  {
   "cell_type": "markdown",
   "id": "44be08e4",
   "metadata": {},
   "source": [
    "# Beta data frame - human"
   ]
  },
  {
   "cell_type": "code",
   "execution_count": 36,
   "id": "d792f1a5",
   "metadata": {},
   "outputs": [],
   "source": [
    "df_beta = df[df['gene'] == 'TRB'].rename(columns={'cdr3': 'cdr3_b_aa', 'v.segm': 'v_b_gene', 'j.segm': 'j_b_gene'})"
   ]
  },
  {
   "cell_type": "code",
   "execution_count": 37,
   "id": "9a9467d5",
   "metadata": {},
   "outputs": [
    {
     "data": {
      "text/plain": [
       "array(['HomoSapiens', 'MusMusculus', 'MacacaMulatta'], dtype=object)"
      ]
     },
     "execution_count": 37,
     "metadata": {},
     "output_type": "execute_result"
    }
   ],
   "source": [
    "df_beta['species'].unique()"
   ]
  },
  {
   "cell_type": "code",
   "execution_count": 38,
   "id": "b60cecfe",
   "metadata": {},
   "outputs": [],
   "source": [
    "df_beta = df_beta[~df_beta['species'].isin(['MusMusculus', 'MacacaMulatta'])]"
   ]
  },
  {
   "cell_type": "code",
   "execution_count": 39,
   "id": "76f7e575",
   "metadata": {
    "scrolled": false
   },
   "outputs": [
    {
     "name": "stdout",
     "output_type": "stream",
     "text": [
      "<class 'pandas.core.frame.DataFrame'>\n",
      "Int64Index: 6471 entries, 1 to 92768\n",
      "Data columns (total 9 columns):\n",
      " #   Column           Non-Null Count  Dtype \n",
      "---  ------           --------------  ----- \n",
      " 0   complex.id       6471 non-null   int64 \n",
      " 1   gene             6471 non-null   object\n",
      " 2   cdr3_b_aa        6471 non-null   object\n",
      " 3   v_b_gene         6471 non-null   object\n",
      " 4   j_b_gene         6471 non-null   object\n",
      " 5   species          6471 non-null   object\n",
      " 6   antigen.epitope  6471 non-null   object\n",
      " 7   antigen.gene     6471 non-null   object\n",
      " 8   vdjdb.score      6471 non-null   int64 \n",
      "dtypes: int64(2), object(7)\n",
      "memory usage: 505.5+ KB\n"
     ]
    }
   ],
   "source": [
    "df_beta.info()"
   ]
  },
  {
   "cell_type": "code",
   "execution_count": 40,
   "id": "a3e7fc05",
   "metadata": {},
   "outputs": [
    {
     "name": "stdout",
     "output_type": "stream",
     "text": [
      "complex.id         0\n",
      "gene               0\n",
      "cdr3_b_aa          0\n",
      "v_b_gene           0\n",
      "j_b_gene           0\n",
      "species            0\n",
      "antigen.epitope    0\n",
      "antigen.gene       0\n",
      "vdjdb.score        0\n",
      "dtype: int64\n"
     ]
    }
   ],
   "source": [
    "df_beta=df_beta.dropna()\n",
    "print(df_beta.isnull().sum())"
   ]
  },
  {
   "cell_type": "code",
   "execution_count": 41,
   "id": "19555ddf",
   "metadata": {
    "scrolled": true
   },
   "outputs": [
    {
     "data": {
      "text/plain": [
       "(5263, 9)"
      ]
     },
     "execution_count": 41,
     "metadata": {},
     "output_type": "execute_result"
    }
   ],
   "source": [
    "# df_beta=df_beta.drop_duplicates()\n",
    "# df_beta.shape"
   ]
  },
  {
   "cell_type": "code",
   "execution_count": 42,
   "id": "fc72ccdd",
   "metadata": {},
   "outputs": [
    {
     "name": "stderr",
     "output_type": "stream",
     "text": [
      "/opt/anaconda3/lib/python3.9/site-packages/tcrdist/repertoire.py:159: UserWarning: cell_df needs a counts column to track clonal number of frequency\n",
      "\n",
      "  self._validate_cell_df()\n",
      "/opt/anaconda3/lib/python3.9/site-packages/tcrdist/repertoire.py:791: UserWarning: No 'count' column provided; count column set to 1\n",
      "  warnings.warn(\"No 'count' column provided; count column set to 1\")\n"
     ]
    },
    {
     "data": {
      "text/plain": [
       "array([[  0, 170, 159, ..., 151, 141, 140],\n",
       "       [170,   0, 127, ..., 148, 174, 160],\n",
       "       [159, 127,   0, ..., 140, 157, 153],\n",
       "       ...,\n",
       "       [151, 148, 140, ...,   0, 121,  97],\n",
       "       [141, 174, 157, ..., 121,   0, 122],\n",
       "       [140, 160, 153, ...,  97, 122,   0]], dtype=int16)"
      ]
     },
     "execution_count": 42,
     "metadata": {},
     "output_type": "execute_result"
    }
   ],
   "source": [
    "from tcrdist.repertoire import TCRrep\n",
    "tr = TCRrep(cell_df = df_beta, \n",
    "            organism = 'human', \n",
    "            chains = ['beta'], \n",
    "            db_file = 'alphabeta_gammadelta_db.tsv')"
   ]
  },
  {
   "cell_type": "code",
   "execution_count": 43,
   "id": "45d3d4d6",
   "metadata": {
    "scrolled": true
   },
   "outputs": [
    {
     "name": "stdout",
     "output_type": "stream",
     "text": [
      "(5263, 5263)\n"
     ]
    }
   ],
   "source": [
    "print(tr.pw_beta.shape)"
   ]
  },
  {
   "cell_type": "markdown",
   "id": "6966d1d8",
   "metadata": {},
   "source": [
    "## Create data frame with alpha and beta chain"
   ]
  },
  {
   "cell_type": "code",
   "execution_count": 47,
   "id": "a2113d5f",
   "metadata": {},
   "outputs": [],
   "source": [
    "df_alpha = df[df['gene'] == 'TRA'].rename(columns={'cdr3': 'cdr3_a_aa', 'v.segm': 'v_a_gene', 'j.segm': 'j_a_gene'})\n",
    "df_beta = df[df['gene'] == 'TRB'].rename(columns={'cdr3': 'cdr3_b_aa', 'v.segm': 'v_b_gene', 'j.segm': 'j_b_gene'})"
   ]
  },
  {
   "cell_type": "code",
   "execution_count": 49,
   "id": "bfed3f99",
   "metadata": {},
   "outputs": [],
   "source": [
    "df_alpha = df_alpha[df_alpha['complex.id'] != 0].reset_index(drop=True)\n",
    "df_beta = df_beta[df_beta['complex.id'] != 0].reset_index(drop=True)"
   ]
  },
  {
   "cell_type": "code",
   "execution_count": 50,
   "id": "df0dadec",
   "metadata": {},
   "outputs": [
    {
     "data": {
      "text/plain": [
       "(2739, 17)"
      ]
     },
     "execution_count": 50,
     "metadata": {},
     "output_type": "execute_result"
    }
   ],
   "source": [
    "df_merge = pd.merge(df_alpha, df_beta, on='complex.id')\n",
    "df_merge.shape"
   ]
  },
  {
   "cell_type": "code",
   "execution_count": 51,
   "id": "2a854191",
   "metadata": {},
   "outputs": [],
   "source": [
    "df_merge.drop(['species_y'], axis=1, inplace=True)"
   ]
  },
  {
   "cell_type": "code",
   "execution_count": 52,
   "id": "a6d6f93f",
   "metadata": {},
   "outputs": [
    {
     "data": {
      "text/plain": [
       "HomoSapiens    1840\n",
       "MusMusculus     899\n",
       "Name: species_x, dtype: int64"
      ]
     },
     "execution_count": 52,
     "metadata": {},
     "output_type": "execute_result"
    }
   ],
   "source": [
    "df_merge.species_x.value_counts()"
   ]
  },
  {
   "cell_type": "code",
   "execution_count": 165,
   "id": "2bedd189",
   "metadata": {
    "scrolled": true
   },
   "outputs": [
    {
     "data": {
      "text/html": [
       "<div>\n",
       "<style scoped>\n",
       "    .dataframe tbody tr th:only-of-type {\n",
       "        vertical-align: middle;\n",
       "    }\n",
       "\n",
       "    .dataframe tbody tr th {\n",
       "        vertical-align: top;\n",
       "    }\n",
       "\n",
       "    .dataframe thead th {\n",
       "        text-align: right;\n",
       "    }\n",
       "</style>\n",
       "<table border=\"1\" class=\"dataframe\">\n",
       "  <thead>\n",
       "    <tr style=\"text-align: right;\">\n",
       "      <th></th>\n",
       "      <th>complex.id</th>\n",
       "      <th>cdr3_a_aa</th>\n",
       "      <th>v_a_gene</th>\n",
       "      <th>j_a_gene</th>\n",
       "      <th>species_x</th>\n",
       "      <th>antigen.epitope_x</th>\n",
       "      <th>vdjdb.score_x</th>\n",
       "      <th>gene_y</th>\n",
       "      <th>cdr3_b_aa</th>\n",
       "      <th>v_b_gene</th>\n",
       "      <th>j_b_gene</th>\n",
       "      <th>antigen.epitope_y</th>\n",
       "      <th>count</th>\n",
       "    </tr>\n",
       "  </thead>\n",
       "  <tbody>\n",
       "    <tr>\n",
       "      <th>0</th>\n",
       "      <td>114</td>\n",
       "      <td>CAGAGSQGNLIF</td>\n",
       "      <td>TRAV27*01</td>\n",
       "      <td>TRAJ42*01</td>\n",
       "      <td>HomoSapiens</td>\n",
       "      <td>GILGFVFTL</td>\n",
       "      <td>3</td>\n",
       "      <td>TRB</td>\n",
       "      <td>CASSSRSSYEQYF</td>\n",
       "      <td>TRBV19*01</td>\n",
       "      <td>TRBJ2-7*01</td>\n",
       "      <td>GILGFVFTL</td>\n",
       "      <td>1</td>\n",
       "    </tr>\n",
       "    <tr>\n",
       "      <th>1</th>\n",
       "      <td>136</td>\n",
       "      <td>CAGAGSQGNLIF</td>\n",
       "      <td>TRAV27*01</td>\n",
       "      <td>TRAJ42*01</td>\n",
       "      <td>HomoSapiens</td>\n",
       "      <td>GILGFVFTL</td>\n",
       "      <td>3</td>\n",
       "      <td>TRB</td>\n",
       "      <td>CASSSRSSYEQYF</td>\n",
       "      <td>TRBV19*01</td>\n",
       "      <td>TRBJ2-7*01</td>\n",
       "      <td>GILGFVFTL</td>\n",
       "      <td>1</td>\n",
       "    </tr>\n",
       "    <tr>\n",
       "      <th>2</th>\n",
       "      <td>137</td>\n",
       "      <td>CAGAGSQGNLIF</td>\n",
       "      <td>TRAV27*01</td>\n",
       "      <td>TRAJ42*01</td>\n",
       "      <td>HomoSapiens</td>\n",
       "      <td>GILGFVFTL</td>\n",
       "      <td>3</td>\n",
       "      <td>TRB</td>\n",
       "      <td>CASSSRSSYEQYF</td>\n",
       "      <td>TRBV19*01</td>\n",
       "      <td>TRBJ2-7*01</td>\n",
       "      <td>GILGFVFTL</td>\n",
       "      <td>1</td>\n",
       "    </tr>\n",
       "  </tbody>\n",
       "</table>\n",
       "</div>"
      ],
      "text/plain": [
       "   complex.id     cdr3_a_aa   v_a_gene   j_a_gene    species_x  \\\n",
       "0         114  CAGAGSQGNLIF  TRAV27*01  TRAJ42*01  HomoSapiens   \n",
       "1         136  CAGAGSQGNLIF  TRAV27*01  TRAJ42*01  HomoSapiens   \n",
       "2         137  CAGAGSQGNLIF  TRAV27*01  TRAJ42*01  HomoSapiens   \n",
       "\n",
       "  antigen.epitope_x  vdjdb.score_x gene_y      cdr3_b_aa   v_b_gene  \\\n",
       "0         GILGFVFTL              3    TRB  CASSSRSSYEQYF  TRBV19*01   \n",
       "1         GILGFVFTL              3    TRB  CASSSRSSYEQYF  TRBV19*01   \n",
       "2         GILGFVFTL              3    TRB  CASSSRSSYEQYF  TRBV19*01   \n",
       "\n",
       "     j_b_gene antigen.epitope_y  count  \n",
       "0  TRBJ2-7*01         GILGFVFTL      1  \n",
       "1  TRBJ2-7*01         GILGFVFTL      1  \n",
       "2  TRBJ2-7*01         GILGFVFTL      1  "
      ]
     },
     "execution_count": 165,
     "metadata": {},
     "output_type": "execute_result"
    }
   ],
   "source": [
    "filter=df_merge['species_x']=='MusMusculus'\n",
    "df_merge[~filter].reset_index(drop=True, inplace=True)\n",
    "df_merge.head(3)"
   ]
  },
  {
   "cell_type": "code",
   "execution_count": 166,
   "id": "19f3ddcf",
   "metadata": {},
   "outputs": [
    {
     "name": "stdout",
     "output_type": "stream",
     "text": [
      "<class 'pandas.core.frame.DataFrame'>\n",
      "RangeIndex: 1629 entries, 0 to 1628\n",
      "Data columns (total 13 columns):\n",
      " #   Column             Non-Null Count  Dtype \n",
      "---  ------             --------------  ----- \n",
      " 0   complex.id         1629 non-null   int64 \n",
      " 1   cdr3_a_aa          1629 non-null   object\n",
      " 2   v_a_gene           1629 non-null   object\n",
      " 3   j_a_gene           1629 non-null   object\n",
      " 4   species_x          1629 non-null   object\n",
      " 5   antigen.epitope_x  1629 non-null   object\n",
      " 6   vdjdb.score_x      1629 non-null   int64 \n",
      " 7   gene_y             1629 non-null   object\n",
      " 8   cdr3_b_aa          1629 non-null   object\n",
      " 9   v_b_gene           1629 non-null   object\n",
      " 10  j_b_gene           1629 non-null   object\n",
      " 11  antigen.epitope_y  1629 non-null   object\n",
      " 12  count              1629 non-null   int64 \n",
      "dtypes: int64(3), object(10)\n",
      "memory usage: 165.6+ KB\n"
     ]
    }
   ],
   "source": [
    "df_merge.info()"
   ]
  },
  {
   "cell_type": "code",
   "execution_count": 56,
   "id": "7a8ab5ff",
   "metadata": {},
   "outputs": [],
   "source": [
    "# df_dash\n",
    "\n",
    "# df = df_dash[df_dash['subject'].str.contains('mouse')] \n",
    "# #search for a specific string in a cell\n",
    "# #select rows that contain specific text using pandas"
   ]
  },
  {
   "cell_type": "markdown",
   "id": "514a0384",
   "metadata": {},
   "source": [
    "### Select only top 10 epitopes"
   ]
  },
  {
   "cell_type": "code",
   "execution_count": 57,
   "id": "28ed955f",
   "metadata": {},
   "outputs": [
    {
     "name": "stdout",
     "output_type": "stream",
     "text": [
      "NLVPMVATV         441\n",
      "SSYRRPVGI         257\n",
      "GILGFVFTL         246\n",
      "ASNENMETM         131\n",
      "SSLENFRAYV        128\n",
      "SSPPMFRV          105\n",
      "HGIRNASFI         100\n",
      "TFEYVSQPFLMDLE     87\n",
      "GLCTLVAML          70\n",
      "YLQPRTFLL          64\n",
      "Name: antigen.epitope_y, dtype: int64\n"
     ]
    }
   ],
   "source": [
    "top_10_epitope = df_merge['antigen.epitope_y'].value_counts().nlargest(10)\n",
    "print(top_10_epitope)\n",
    "\n",
    "# convert to list\n",
    "list_top10epitopes = top_10_epitope.index.tolist()"
   ]
  },
  {
   "cell_type": "code",
   "execution_count": 96,
   "id": "a6dcedc4",
   "metadata": {
    "scrolled": false
   },
   "outputs": [],
   "source": [
    "# df_merge=df_merge.drop_duplicates()\n",
    "# df_merge.shape"
   ]
  },
  {
   "cell_type": "markdown",
   "id": "33adb1ae",
   "metadata": {},
   "source": [
    "**Extract top 10 most common epitope from df_merge data frame**"
   ]
  },
  {
   "cell_type": "code",
   "execution_count": 59,
   "id": "05b0c160",
   "metadata": {
    "scrolled": true
   },
   "outputs": [],
   "source": [
    "df_merge = df_merge[df_merge['antigen.epitope_x'].\\\n",
    "                    isin(list_top10epitopes)].reset_index(drop = True)"
   ]
  },
  {
   "cell_type": "code",
   "execution_count": 253,
   "id": "5089df18",
   "metadata": {
    "scrolled": true
   },
   "outputs": [
    {
     "data": {
      "text/plain": [
       "(1629, 13)"
      ]
     },
     "execution_count": 253,
     "metadata": {},
     "output_type": "execute_result"
    }
   ],
   "source": [
    "df_merge.shape"
   ]
  },
  {
   "cell_type": "markdown",
   "id": "be050c10",
   "metadata": {},
   "source": [
    "### How to implement PCA, tSNE and UMAP."
   ]
  },
  {
   "cell_type": "code",
   "execution_count": 61,
   "id": "f1479f0c",
   "metadata": {},
   "outputs": [
    {
     "name": "stderr",
     "output_type": "stream",
     "text": [
      "/opt/anaconda3/lib/python3.9/site-packages/tcrdist/repertoire.py:159: UserWarning: cell_df needs a counts column to track clonal number of frequency\n",
      "\n",
      "  self._validate_cell_df()\n",
      "/opt/anaconda3/lib/python3.9/site-packages/tcrdist/repertoire.py:791: UserWarning: No 'count' column provided; count column set to 1\n",
      "  warnings.warn(\"No 'count' column provided; count column set to 1\")\n",
      "/opt/anaconda3/lib/python3.9/site-packages/tcrdist/repertoire.py:500: UserWarning: TRAV21/DV12*01 gene was not recognized in reference db no cdr seq could be inferred\n",
      "  f0 = lambda v : self._map_gene_to_reference_seq2(gene = v,\n",
      "/opt/anaconda3/lib/python3.9/site-packages/tcrdist/repertoire.py:500: UserWarning: TRAV14-1*01 gene was not recognized in reference db no cdr seq could be inferred\n",
      "  f0 = lambda v : self._map_gene_to_reference_seq2(gene = v,\n",
      "/opt/anaconda3/lib/python3.9/site-packages/tcrdist/repertoire.py:500: UserWarning: TRAV4-2*01 gene was not recognized in reference db no cdr seq could be inferred\n",
      "  f0 = lambda v : self._map_gene_to_reference_seq2(gene = v,\n",
      "/opt/anaconda3/lib/python3.9/site-packages/tcrdist/repertoire.py:500: UserWarning: TRAV3-1*01 gene was not recognized in reference db no cdr seq could be inferred\n",
      "  f0 = lambda v : self._map_gene_to_reference_seq2(gene = v,\n",
      "/opt/anaconda3/lib/python3.9/site-packages/tcrdist/repertoire.py:500: UserWarning: TRAV14-2*02 gene was not recognized in reference db no cdr seq could be inferred\n",
      "  f0 = lambda v : self._map_gene_to_reference_seq2(gene = v,\n",
      "/opt/anaconda3/lib/python3.9/site-packages/tcrdist/repertoire.py:500: UserWarning: TRAV4N-4*01 gene was not recognized in reference db no cdr seq could be inferred\n",
      "  f0 = lambda v : self._map_gene_to_reference_seq2(gene = v,\n",
      "/opt/anaconda3/lib/python3.9/site-packages/tcrdist/repertoire.py:500: UserWarning: TRAV4D-3*01 gene was not recognized in reference db no cdr seq could be inferred\n",
      "  f0 = lambda v : self._map_gene_to_reference_seq2(gene = v,\n",
      "/opt/anaconda3/lib/python3.9/site-packages/tcrdist/repertoire.py:500: UserWarning: TRAV4D-4*01 gene was not recognized in reference db no cdr seq could be inferred\n",
      "  f0 = lambda v : self._map_gene_to_reference_seq2(gene = v,\n",
      "/opt/anaconda3/lib/python3.9/site-packages/tcrdist/repertoire.py:500: UserWarning: TRAV7D-2*01 gene was not recognized in reference db no cdr seq could be inferred\n",
      "  f0 = lambda v : self._map_gene_to_reference_seq2(gene = v,\n",
      "/opt/anaconda3/lib/python3.9/site-packages/tcrdist/repertoire.py:500: UserWarning: TRAV5N-4*01 gene was not recognized in reference db no cdr seq could be inferred\n",
      "  f0 = lambda v : self._map_gene_to_reference_seq2(gene = v,\n",
      "/opt/anaconda3/lib/python3.9/site-packages/tcrdist/repertoire.py:500: UserWarning: TRAV7-4*01 gene was not recognized in reference db no cdr seq could be inferred\n",
      "  f0 = lambda v : self._map_gene_to_reference_seq2(gene = v,\n",
      "/opt/anaconda3/lib/python3.9/site-packages/tcrdist/repertoire.py:500: UserWarning: TRAV7D-4*01 gene was not recognized in reference db no cdr seq could be inferred\n",
      "  f0 = lambda v : self._map_gene_to_reference_seq2(gene = v,\n",
      "/opt/anaconda3/lib/python3.9/site-packages/tcrdist/repertoire.py:500: UserWarning: TRAV7-3*04 gene was not recognized in reference db no cdr seq could be inferred\n",
      "  f0 = lambda v : self._map_gene_to_reference_seq2(gene = v,\n",
      "/opt/anaconda3/lib/python3.9/site-packages/tcrdist/repertoire.py:500: UserWarning: TRAV14D-3/DV8*02 gene was not recognized in reference db no cdr seq could be inferred\n",
      "  f0 = lambda v : self._map_gene_to_reference_seq2(gene = v,\n",
      "/opt/anaconda3/lib/python3.9/site-packages/tcrdist/repertoire.py:500: UserWarning: TRAV14D-1*01 gene was not recognized in reference db no cdr seq could be inferred\n",
      "  f0 = lambda v : self._map_gene_to_reference_seq2(gene = v,\n",
      "/opt/anaconda3/lib/python3.9/site-packages/tcrdist/repertoire.py:500: UserWarning: TRAV7-2*02 gene was not recognized in reference db no cdr seq could be inferred\n",
      "  f0 = lambda v : self._map_gene_to_reference_seq2(gene = v,\n",
      "/opt/anaconda3/lib/python3.9/site-packages/tcrdist/repertoire.py:500: UserWarning: TRAV14N-3*01 gene was not recognized in reference db no cdr seq could be inferred\n",
      "  f0 = lambda v : self._map_gene_to_reference_seq2(gene = v,\n",
      "/opt/anaconda3/lib/python3.9/site-packages/tcrdist/repertoire.py:500: UserWarning: TRAV10N*01 gene was not recognized in reference db no cdr seq could be inferred\n",
      "  f0 = lambda v : self._map_gene_to_reference_seq2(gene = v,\n",
      "/opt/anaconda3/lib/python3.9/site-packages/tcrdist/repertoire.py:500: UserWarning: TRAV14N-1*01 gene was not recognized in reference db no cdr seq could be inferred\n",
      "  f0 = lambda v : self._map_gene_to_reference_seq2(gene = v,\n",
      "/opt/anaconda3/lib/python3.9/site-packages/tcrdist/repertoire.py:500: UserWarning: TRAV14N-2*01 gene was not recognized in reference db no cdr seq could be inferred\n",
      "  f0 = lambda v : self._map_gene_to_reference_seq2(gene = v,\n",
      "/opt/anaconda3/lib/python3.9/site-packages/tcrdist/repertoire.py:500: UserWarning: TRAV14D-3/DV8*08 gene was not recognized in reference db no cdr seq could be inferred\n",
      "  f0 = lambda v : self._map_gene_to_reference_seq2(gene = v,\n",
      "/opt/anaconda3/lib/python3.9/site-packages/tcrdist/repertoire.py:500: UserWarning: TRAV3N-3*01 gene was not recognized in reference db no cdr seq could be inferred\n",
      "  f0 = lambda v : self._map_gene_to_reference_seq2(gene = v,\n",
      "/opt/anaconda3/lib/python3.9/site-packages/tcrdist/repertoire.py:500: UserWarning: TRAV7D-3*01 gene was not recognized in reference db no cdr seq could be inferred\n",
      "  f0 = lambda v : self._map_gene_to_reference_seq2(gene = v,\n",
      "/opt/anaconda3/lib/python3.9/site-packages/tcrdist/repertoire.py:500: UserWarning: TRAV3-3*01 gene was not recognized in reference db no cdr seq could be inferred\n",
      "  f0 = lambda v : self._map_gene_to_reference_seq2(gene = v,\n",
      "/opt/anaconda3/lib/python3.9/site-packages/tcrdist/repertoire.py:500: UserWarning: TRAV13N-2*01 gene was not recognized in reference db no cdr seq could be inferred\n",
      "  f0 = lambda v : self._map_gene_to_reference_seq2(gene = v,\n",
      "/opt/anaconda3/lib/python3.9/site-packages/tcrdist/repertoire.py:500: UserWarning: TRAV16D/DV11*02 gene was not recognized in reference db no cdr seq could be inferred\n",
      "  f0 = lambda v : self._map_gene_to_reference_seq2(gene = v,\n",
      "/opt/anaconda3/lib/python3.9/site-packages/tcrdist/repertoire.py:500: UserWarning: TRAV9N-3*01 gene was not recognized in reference db no cdr seq could be inferred\n",
      "  f0 = lambda v : self._map_gene_to_reference_seq2(gene = v,\n",
      "/opt/anaconda3/lib/python3.9/site-packages/tcrdist/repertoire.py:500: UserWarning: TRAV6D-6*02 gene was not recognized in reference db no cdr seq could be inferred\n",
      "  f0 = lambda v : self._map_gene_to_reference_seq2(gene = v,\n",
      "/opt/anaconda3/lib/python3.9/site-packages/tcrdist/repertoire.py:500: UserWarning: TRAV6-4*03 gene was not recognized in reference db no cdr seq could be inferred\n",
      "  f0 = lambda v : self._map_gene_to_reference_seq2(gene = v,\n",
      "/opt/anaconda3/lib/python3.9/site-packages/tcrdist/repertoire.py:500: UserWarning: TRAV6D-4*01 gene was not recognized in reference db no cdr seq could be inferred\n",
      "  f0 = lambda v : self._map_gene_to_reference_seq2(gene = v,\n",
      "/opt/anaconda3/lib/python3.9/site-packages/tcrdist/repertoire.py:500: UserWarning: TRAV6N-6*01 gene was not recognized in reference db no cdr seq could be inferred\n",
      "  f0 = lambda v : self._map_gene_to_reference_seq2(gene = v,\n",
      "/opt/anaconda3/lib/python3.9/site-packages/tcrdist/repertoire.py:500: UserWarning: TRAV12N-3*01 gene was not recognized in reference db no cdr seq could be inferred\n",
      "  f0 = lambda v : self._map_gene_to_reference_seq2(gene = v,\n",
      "/opt/anaconda3/lib/python3.9/site-packages/tcrdist/repertoire.py:500: UserWarning: TRAV6N-5*01 gene was not recognized in reference db no cdr seq could be inferred\n",
      "  f0 = lambda v : self._map_gene_to_reference_seq2(gene = v,\n",
      "/opt/anaconda3/lib/python3.9/site-packages/tcrdist/repertoire.py:500: UserWarning: TRAV6-6*01 gene was not recognized in reference db no cdr seq could be inferred\n",
      "  f0 = lambda v : self._map_gene_to_reference_seq2(gene = v,\n",
      "/opt/anaconda3/lib/python3.9/site-packages/tcrdist/repertoire.py:500: UserWarning: TRAV6N-7*01 gene was not recognized in reference db no cdr seq could be inferred\n",
      "  f0 = lambda v : self._map_gene_to_reference_seq2(gene = v,\n",
      "/opt/anaconda3/lib/python3.9/site-packages/tcrdist/repertoire.py:500: UserWarning: TRAV9N-4*01 gene was not recognized in reference db no cdr seq could be inferred\n",
      "  f0 = lambda v : self._map_gene_to_reference_seq2(gene = v,\n",
      "/opt/anaconda3/lib/python3.9/site-packages/tcrdist/repertoire.py:500: UserWarning: TRAV8N-2*01 gene was not recognized in reference db no cdr seq could be inferred\n",
      "  f0 = lambda v : self._map_gene_to_reference_seq2(gene = v,\n",
      "/opt/anaconda3/lib/python3.9/site-packages/tcrdist/repertoire.py:500: UserWarning: TRAV16D/DV11*01 gene was not recognized in reference db no cdr seq could be inferred\n",
      "  f0 = lambda v : self._map_gene_to_reference_seq2(gene = v,\n",
      "/opt/anaconda3/lib/python3.9/site-packages/tcrdist/repertoire.py:500: UserWarning: TRAV12N-2*01 gene was not recognized in reference db no cdr seq could be inferred\n",
      "  f0 = lambda v : self._map_gene_to_reference_seq2(gene = v,\n",
      "/opt/anaconda3/lib/python3.9/site-packages/tcrdist/repertoire.py:500: UserWarning: TRAV12D-1*01 gene was not recognized in reference db no cdr seq could be inferred\n",
      "  f0 = lambda v : self._map_gene_to_reference_seq2(gene = v,\n",
      "/opt/anaconda3/lib/python3.9/site-packages/tcrdist/repertoire.py:500: UserWarning: TRAV6-5*04 gene was not recognized in reference db no cdr seq could be inferred\n",
      "  f0 = lambda v : self._map_gene_to_reference_seq2(gene = v,\n",
      "/opt/anaconda3/lib/python3.9/site-packages/tcrdist/repertoire.py:500: UserWarning: TRAV6-7/DV9*01 gene was not recognized in reference db no cdr seq could be inferred\n",
      "  f0 = lambda v : self._map_gene_to_reference_seq2(gene = v,\n",
      "/opt/anaconda3/lib/python3.9/site-packages/tcrdist/repertoire.py:500: UserWarning: TRAV15-1/DV6-1*01 gene was not recognized in reference db no cdr seq could be inferred\n",
      "  f0 = lambda v : self._map_gene_to_reference_seq2(gene = v,\n",
      "/opt/anaconda3/lib/python3.9/site-packages/tcrdist/repertoire.py:500: UserWarning: TRAV6D-3*01 gene was not recognized in reference db no cdr seq could be inferred\n",
      "  f0 = lambda v : self._map_gene_to_reference_seq2(gene = v,\n",
      "/opt/anaconda3/lib/python3.9/site-packages/tcrdist/repertoire.py:500: UserWarning: TRAV16N*01 gene was not recognized in reference db no cdr seq could be inferred\n",
      "  f0 = lambda v : self._map_gene_to_reference_seq2(gene = v,\n",
      "/opt/anaconda3/lib/python3.9/site-packages/tcrdist/repertoire.py:500: UserWarning: TRAV8D-1*01 gene was not recognized in reference db no cdr seq could be inferred\n",
      "  f0 = lambda v : self._map_gene_to_reference_seq2(gene = v,\n",
      "/opt/anaconda3/lib/python3.9/site-packages/tcrdist/repertoire.py:500: UserWarning: TRAV8D-2*03 gene was not recognized in reference db no cdr seq could be inferred\n",
      "  f0 = lambda v : self._map_gene_to_reference_seq2(gene = v,\n",
      "/opt/anaconda3/lib/python3.9/site-packages/tcrdist/repertoire.py:500: UserWarning: TRAV1*01 gene was not recognized in reference db no cdr seq could be inferred\n",
      "  f0 = lambda v : self._map_gene_to_reference_seq2(gene = v,\n",
      "/opt/anaconda3/lib/python3.9/site-packages/tcrdist/repertoire.py:500: UserWarning: TRAV7D-5*01 gene was not recognized in reference db no cdr seq could be inferred\n",
      "  f0 = lambda v : self._map_gene_to_reference_seq2(gene = v,\n",
      "/opt/anaconda3/lib/python3.9/site-packages/tcrdist/repertoire.py:500: UserWarning: TRAV7N-5*01 gene was not recognized in reference db no cdr seq could be inferred\n",
      "  f0 = lambda v : self._map_gene_to_reference_seq2(gene = v,\n",
      "/opt/anaconda3/lib/python3.9/site-packages/tcrdist/repertoire.py:500: UserWarning: TRAV7N-4*01 gene was not recognized in reference db no cdr seq could be inferred\n",
      "  f0 = lambda v : self._map_gene_to_reference_seq2(gene = v,\n",
      "/opt/anaconda3/lib/python3.9/site-packages/tcrdist/repertoire.py:500: UserWarning: TRAV9-1*02 gene was not recognized in reference db no cdr seq could be inferred\n",
      "  f0 = lambda v : self._map_gene_to_reference_seq2(gene = v,\n",
      "/opt/anaconda3/lib/python3.9/site-packages/tcrdist/repertoire.py:500: UserWarning: TRAV3-4*01 gene was not recognized in reference db no cdr seq could be inferred\n",
      "  f0 = lambda v : self._map_gene_to_reference_seq2(gene = v,\n",
      "/opt/anaconda3/lib/python3.9/site-packages/tcrdist/repertoire.py:500: UserWarning: TRAV3D-3*02 gene was not recognized in reference db no cdr seq could be inferred\n",
      "  f0 = lambda v : self._map_gene_to_reference_seq2(gene = v,\n",
      "/opt/anaconda3/lib/python3.9/site-packages/tcrdist/repertoire.py:500: UserWarning: TRAV7-1*01 gene was not recognized in reference db no cdr seq could be inferred\n",
      "  f0 = lambda v : self._map_gene_to_reference_seq2(gene = v,\n",
      "/opt/anaconda3/lib/python3.9/site-packages/tcrdist/repertoire.py:500: UserWarning: TRAV7N-6*01 gene was not recognized in reference db no cdr seq could be inferred\n",
      "  f0 = lambda v : self._map_gene_to_reference_seq2(gene = v,\n",
      "/opt/anaconda3/lib/python3.9/site-packages/tcrdist/repertoire.py:500: UserWarning: TRAV4-2*02 gene was not recognized in reference db no cdr seq could be inferred\n",
      "  f0 = lambda v : self._map_gene_to_reference_seq2(gene = v,\n",
      "/opt/anaconda3/lib/python3.9/site-packages/tcrdist/repertoire.py:500: UserWarning: TRAV5-1*01 gene was not recognized in reference db no cdr seq could be inferred\n",
      "  f0 = lambda v : self._map_gene_to_reference_seq2(gene = v,\n",
      "/opt/anaconda3/lib/python3.9/site-packages/tcrdist/repertoire.py:500: UserWarning: TRAV9N-2*01 gene was not recognized in reference db no cdr seq could be inferred\n",
      "  f0 = lambda v : self._map_gene_to_reference_seq2(gene = v,\n",
      "/opt/anaconda3/lib/python3.9/site-packages/tcrdist/repertoire.py:500: UserWarning: TRAV11*02 gene was not recognized in reference db no cdr seq could be inferred\n",
      "  f0 = lambda v : self._map_gene_to_reference_seq2(gene = v,\n",
      "/opt/anaconda3/lib/python3.9/site-packages/tcrdist/repertoire.py:500: UserWarning: TRAV6-1*01 gene was not recognized in reference db no cdr seq could be inferred\n",
      "  f0 = lambda v : self._map_gene_to_reference_seq2(gene = v,\n",
      "/opt/anaconda3/lib/python3.9/site-packages/tcrdist/repertoire.py:500: UserWarning: TRAV6-2*01 gene was not recognized in reference db no cdr seq could be inferred\n",
      "  f0 = lambda v : self._map_gene_to_reference_seq2(gene = v,\n",
      "/opt/anaconda3/lib/python3.9/site-packages/tcrdist/repertoire.py:500: UserWarning: TRAV13-5*01 gene was not recognized in reference db no cdr seq could be inferred\n",
      "  f0 = lambda v : self._map_gene_to_reference_seq2(gene = v,\n",
      "/opt/anaconda3/lib/python3.9/site-packages/tcrdist/repertoire.py:504: UserWarning: TRAV21/DV12*01 gene was not recognized in reference db no cdr seq could be inferred\n",
      "  f1 = lambda v : self._map_gene_to_reference_seq2(gene = v,\n",
      "/opt/anaconda3/lib/python3.9/site-packages/tcrdist/repertoire.py:504: UserWarning: TRAV14-1*01 gene was not recognized in reference db no cdr seq could be inferred\n",
      "  f1 = lambda v : self._map_gene_to_reference_seq2(gene = v,\n",
      "/opt/anaconda3/lib/python3.9/site-packages/tcrdist/repertoire.py:504: UserWarning: TRAV4-2*01 gene was not recognized in reference db no cdr seq could be inferred\n",
      "  f1 = lambda v : self._map_gene_to_reference_seq2(gene = v,\n",
      "/opt/anaconda3/lib/python3.9/site-packages/tcrdist/repertoire.py:504: UserWarning: TRAV3-1*01 gene was not recognized in reference db no cdr seq could be inferred\n",
      "  f1 = lambda v : self._map_gene_to_reference_seq2(gene = v,\n",
      "/opt/anaconda3/lib/python3.9/site-packages/tcrdist/repertoire.py:504: UserWarning: TRAV14-2*02 gene was not recognized in reference db no cdr seq could be inferred\n",
      "  f1 = lambda v : self._map_gene_to_reference_seq2(gene = v,\n",
      "/opt/anaconda3/lib/python3.9/site-packages/tcrdist/repertoire.py:504: UserWarning: TRAV4N-4*01 gene was not recognized in reference db no cdr seq could be inferred\n",
      "  f1 = lambda v : self._map_gene_to_reference_seq2(gene = v,\n",
      "/opt/anaconda3/lib/python3.9/site-packages/tcrdist/repertoire.py:504: UserWarning: TRAV4D-3*01 gene was not recognized in reference db no cdr seq could be inferred\n",
      "  f1 = lambda v : self._map_gene_to_reference_seq2(gene = v,\n",
      "/opt/anaconda3/lib/python3.9/site-packages/tcrdist/repertoire.py:504: UserWarning: TRAV4D-4*01 gene was not recognized in reference db no cdr seq could be inferred\n",
      "  f1 = lambda v : self._map_gene_to_reference_seq2(gene = v,\n",
      "/opt/anaconda3/lib/python3.9/site-packages/tcrdist/repertoire.py:504: UserWarning: TRAV7D-2*01 gene was not recognized in reference db no cdr seq could be inferred\n",
      "  f1 = lambda v : self._map_gene_to_reference_seq2(gene = v,\n",
      "/opt/anaconda3/lib/python3.9/site-packages/tcrdist/repertoire.py:504: UserWarning: TRAV5N-4*01 gene was not recognized in reference db no cdr seq could be inferred\n",
      "  f1 = lambda v : self._map_gene_to_reference_seq2(gene = v,\n",
      "/opt/anaconda3/lib/python3.9/site-packages/tcrdist/repertoire.py:504: UserWarning: TRAV7-4*01 gene was not recognized in reference db no cdr seq could be inferred\n",
      "  f1 = lambda v : self._map_gene_to_reference_seq2(gene = v,\n",
      "/opt/anaconda3/lib/python3.9/site-packages/tcrdist/repertoire.py:504: UserWarning: TRAV7D-4*01 gene was not recognized in reference db no cdr seq could be inferred\n",
      "  f1 = lambda v : self._map_gene_to_reference_seq2(gene = v,\n",
      "/opt/anaconda3/lib/python3.9/site-packages/tcrdist/repertoire.py:504: UserWarning: TRAV7-3*04 gene was not recognized in reference db no cdr seq could be inferred\n",
      "  f1 = lambda v : self._map_gene_to_reference_seq2(gene = v,\n",
      "/opt/anaconda3/lib/python3.9/site-packages/tcrdist/repertoire.py:504: UserWarning: TRAV14D-3/DV8*02 gene was not recognized in reference db no cdr seq could be inferred\n",
      "  f1 = lambda v : self._map_gene_to_reference_seq2(gene = v,\n",
      "/opt/anaconda3/lib/python3.9/site-packages/tcrdist/repertoire.py:504: UserWarning: TRAV14D-1*01 gene was not recognized in reference db no cdr seq could be inferred\n",
      "  f1 = lambda v : self._map_gene_to_reference_seq2(gene = v,\n",
      "/opt/anaconda3/lib/python3.9/site-packages/tcrdist/repertoire.py:504: UserWarning: TRAV7-2*02 gene was not recognized in reference db no cdr seq could be inferred\n",
      "  f1 = lambda v : self._map_gene_to_reference_seq2(gene = v,\n",
      "/opt/anaconda3/lib/python3.9/site-packages/tcrdist/repertoire.py:504: UserWarning: TRAV14N-3*01 gene was not recognized in reference db no cdr seq could be inferred\n",
      "  f1 = lambda v : self._map_gene_to_reference_seq2(gene = v,\n",
      "/opt/anaconda3/lib/python3.9/site-packages/tcrdist/repertoire.py:504: UserWarning: TRAV10N*01 gene was not recognized in reference db no cdr seq could be inferred\n",
      "  f1 = lambda v : self._map_gene_to_reference_seq2(gene = v,\n",
      "/opt/anaconda3/lib/python3.9/site-packages/tcrdist/repertoire.py:504: UserWarning: TRAV14N-1*01 gene was not recognized in reference db no cdr seq could be inferred\n",
      "  f1 = lambda v : self._map_gene_to_reference_seq2(gene = v,\n",
      "/opt/anaconda3/lib/python3.9/site-packages/tcrdist/repertoire.py:504: UserWarning: TRAV14N-2*01 gene was not recognized in reference db no cdr seq could be inferred\n",
      "  f1 = lambda v : self._map_gene_to_reference_seq2(gene = v,\n",
      "/opt/anaconda3/lib/python3.9/site-packages/tcrdist/repertoire.py:504: UserWarning: TRAV14D-3/DV8*08 gene was not recognized in reference db no cdr seq could be inferred\n",
      "  f1 = lambda v : self._map_gene_to_reference_seq2(gene = v,\n",
      "/opt/anaconda3/lib/python3.9/site-packages/tcrdist/repertoire.py:504: UserWarning: TRAV3N-3*01 gene was not recognized in reference db no cdr seq could be inferred\n",
      "  f1 = lambda v : self._map_gene_to_reference_seq2(gene = v,\n",
      "/opt/anaconda3/lib/python3.9/site-packages/tcrdist/repertoire.py:504: UserWarning: TRAV7D-3*01 gene was not recognized in reference db no cdr seq could be inferred\n",
      "  f1 = lambda v : self._map_gene_to_reference_seq2(gene = v,\n",
      "/opt/anaconda3/lib/python3.9/site-packages/tcrdist/repertoire.py:504: UserWarning: TRAV3-3*01 gene was not recognized in reference db no cdr seq could be inferred\n",
      "  f1 = lambda v : self._map_gene_to_reference_seq2(gene = v,\n",
      "/opt/anaconda3/lib/python3.9/site-packages/tcrdist/repertoire.py:504: UserWarning: TRAV13N-2*01 gene was not recognized in reference db no cdr seq could be inferred\n",
      "  f1 = lambda v : self._map_gene_to_reference_seq2(gene = v,\n",
      "/opt/anaconda3/lib/python3.9/site-packages/tcrdist/repertoire.py:504: UserWarning: TRAV16D/DV11*02 gene was not recognized in reference db no cdr seq could be inferred\n",
      "  f1 = lambda v : self._map_gene_to_reference_seq2(gene = v,\n",
      "/opt/anaconda3/lib/python3.9/site-packages/tcrdist/repertoire.py:504: UserWarning: TRAV9N-3*01 gene was not recognized in reference db no cdr seq could be inferred\n",
      "  f1 = lambda v : self._map_gene_to_reference_seq2(gene = v,\n",
      "/opt/anaconda3/lib/python3.9/site-packages/tcrdist/repertoire.py:504: UserWarning: TRAV6D-6*02 gene was not recognized in reference db no cdr seq could be inferred\n",
      "  f1 = lambda v : self._map_gene_to_reference_seq2(gene = v,\n",
      "/opt/anaconda3/lib/python3.9/site-packages/tcrdist/repertoire.py:504: UserWarning: TRAV6-4*03 gene was not recognized in reference db no cdr seq could be inferred\n",
      "  f1 = lambda v : self._map_gene_to_reference_seq2(gene = v,\n",
      "/opt/anaconda3/lib/python3.9/site-packages/tcrdist/repertoire.py:504: UserWarning: TRAV6D-4*01 gene was not recognized in reference db no cdr seq could be inferred\n",
      "  f1 = lambda v : self._map_gene_to_reference_seq2(gene = v,\n",
      "/opt/anaconda3/lib/python3.9/site-packages/tcrdist/repertoire.py:504: UserWarning: TRAV6N-6*01 gene was not recognized in reference db no cdr seq could be inferred\n",
      "  f1 = lambda v : self._map_gene_to_reference_seq2(gene = v,\n",
      "/opt/anaconda3/lib/python3.9/site-packages/tcrdist/repertoire.py:504: UserWarning: TRAV12N-3*01 gene was not recognized in reference db no cdr seq could be inferred\n",
      "  f1 = lambda v : self._map_gene_to_reference_seq2(gene = v,\n",
      "/opt/anaconda3/lib/python3.9/site-packages/tcrdist/repertoire.py:504: UserWarning: TRAV6N-5*01 gene was not recognized in reference db no cdr seq could be inferred\n",
      "  f1 = lambda v : self._map_gene_to_reference_seq2(gene = v,\n",
      "/opt/anaconda3/lib/python3.9/site-packages/tcrdist/repertoire.py:504: UserWarning: TRAV6-6*01 gene was not recognized in reference db no cdr seq could be inferred\n",
      "  f1 = lambda v : self._map_gene_to_reference_seq2(gene = v,\n",
      "/opt/anaconda3/lib/python3.9/site-packages/tcrdist/repertoire.py:504: UserWarning: TRAV6N-7*01 gene was not recognized in reference db no cdr seq could be inferred\n",
      "  f1 = lambda v : self._map_gene_to_reference_seq2(gene = v,\n",
      "/opt/anaconda3/lib/python3.9/site-packages/tcrdist/repertoire.py:504: UserWarning: TRAV9N-4*01 gene was not recognized in reference db no cdr seq could be inferred\n",
      "  f1 = lambda v : self._map_gene_to_reference_seq2(gene = v,\n",
      "/opt/anaconda3/lib/python3.9/site-packages/tcrdist/repertoire.py:504: UserWarning: TRAV8N-2*01 gene was not recognized in reference db no cdr seq could be inferred\n",
      "  f1 = lambda v : self._map_gene_to_reference_seq2(gene = v,\n",
      "/opt/anaconda3/lib/python3.9/site-packages/tcrdist/repertoire.py:504: UserWarning: TRAV16D/DV11*01 gene was not recognized in reference db no cdr seq could be inferred\n",
      "  f1 = lambda v : self._map_gene_to_reference_seq2(gene = v,\n",
      "/opt/anaconda3/lib/python3.9/site-packages/tcrdist/repertoire.py:504: UserWarning: TRAV12N-2*01 gene was not recognized in reference db no cdr seq could be inferred\n",
      "  f1 = lambda v : self._map_gene_to_reference_seq2(gene = v,\n",
      "/opt/anaconda3/lib/python3.9/site-packages/tcrdist/repertoire.py:504: UserWarning: TRAV12D-1*01 gene was not recognized in reference db no cdr seq could be inferred\n",
      "  f1 = lambda v : self._map_gene_to_reference_seq2(gene = v,\n",
      "/opt/anaconda3/lib/python3.9/site-packages/tcrdist/repertoire.py:504: UserWarning: TRAV6-5*04 gene was not recognized in reference db no cdr seq could be inferred\n",
      "  f1 = lambda v : self._map_gene_to_reference_seq2(gene = v,\n",
      "/opt/anaconda3/lib/python3.9/site-packages/tcrdist/repertoire.py:504: UserWarning: TRAV6-7/DV9*01 gene was not recognized in reference db no cdr seq could be inferred\n",
      "  f1 = lambda v : self._map_gene_to_reference_seq2(gene = v,\n",
      "/opt/anaconda3/lib/python3.9/site-packages/tcrdist/repertoire.py:504: UserWarning: TRAV15-1/DV6-1*01 gene was not recognized in reference db no cdr seq could be inferred\n",
      "  f1 = lambda v : self._map_gene_to_reference_seq2(gene = v,\n",
      "/opt/anaconda3/lib/python3.9/site-packages/tcrdist/repertoire.py:504: UserWarning: TRAV6D-3*01 gene was not recognized in reference db no cdr seq could be inferred\n",
      "  f1 = lambda v : self._map_gene_to_reference_seq2(gene = v,\n",
      "/opt/anaconda3/lib/python3.9/site-packages/tcrdist/repertoire.py:504: UserWarning: TRAV16N*01 gene was not recognized in reference db no cdr seq could be inferred\n",
      "  f1 = lambda v : self._map_gene_to_reference_seq2(gene = v,\n",
      "/opt/anaconda3/lib/python3.9/site-packages/tcrdist/repertoire.py:504: UserWarning: TRAV8D-1*01 gene was not recognized in reference db no cdr seq could be inferred\n",
      "  f1 = lambda v : self._map_gene_to_reference_seq2(gene = v,\n",
      "/opt/anaconda3/lib/python3.9/site-packages/tcrdist/repertoire.py:504: UserWarning: TRAV8D-2*03 gene was not recognized in reference db no cdr seq could be inferred\n",
      "  f1 = lambda v : self._map_gene_to_reference_seq2(gene = v,\n",
      "/opt/anaconda3/lib/python3.9/site-packages/tcrdist/repertoire.py:504: UserWarning: TRAV1*01 gene was not recognized in reference db no cdr seq could be inferred\n",
      "  f1 = lambda v : self._map_gene_to_reference_seq2(gene = v,\n",
      "/opt/anaconda3/lib/python3.9/site-packages/tcrdist/repertoire.py:504: UserWarning: TRAV7D-5*01 gene was not recognized in reference db no cdr seq could be inferred\n",
      "  f1 = lambda v : self._map_gene_to_reference_seq2(gene = v,\n",
      "/opt/anaconda3/lib/python3.9/site-packages/tcrdist/repertoire.py:504: UserWarning: TRAV7N-5*01 gene was not recognized in reference db no cdr seq could be inferred\n",
      "  f1 = lambda v : self._map_gene_to_reference_seq2(gene = v,\n",
      "/opt/anaconda3/lib/python3.9/site-packages/tcrdist/repertoire.py:504: UserWarning: TRAV7N-4*01 gene was not recognized in reference db no cdr seq could be inferred\n",
      "  f1 = lambda v : self._map_gene_to_reference_seq2(gene = v,\n",
      "/opt/anaconda3/lib/python3.9/site-packages/tcrdist/repertoire.py:504: UserWarning: TRAV9-1*02 gene was not recognized in reference db no cdr seq could be inferred\n",
      "  f1 = lambda v : self._map_gene_to_reference_seq2(gene = v,\n",
      "/opt/anaconda3/lib/python3.9/site-packages/tcrdist/repertoire.py:504: UserWarning: TRAV3-4*01 gene was not recognized in reference db no cdr seq could be inferred\n",
      "  f1 = lambda v : self._map_gene_to_reference_seq2(gene = v,\n",
      "/opt/anaconda3/lib/python3.9/site-packages/tcrdist/repertoire.py:504: UserWarning: TRAV3D-3*02 gene was not recognized in reference db no cdr seq could be inferred\n",
      "  f1 = lambda v : self._map_gene_to_reference_seq2(gene = v,\n",
      "/opt/anaconda3/lib/python3.9/site-packages/tcrdist/repertoire.py:504: UserWarning: TRAV7-1*01 gene was not recognized in reference db no cdr seq could be inferred\n",
      "  f1 = lambda v : self._map_gene_to_reference_seq2(gene = v,\n",
      "/opt/anaconda3/lib/python3.9/site-packages/tcrdist/repertoire.py:504: UserWarning: TRAV7N-6*01 gene was not recognized in reference db no cdr seq could be inferred\n",
      "  f1 = lambda v : self._map_gene_to_reference_seq2(gene = v,\n",
      "/opt/anaconda3/lib/python3.9/site-packages/tcrdist/repertoire.py:504: UserWarning: TRAV4-2*02 gene was not recognized in reference db no cdr seq could be inferred\n",
      "  f1 = lambda v : self._map_gene_to_reference_seq2(gene = v,\n",
      "/opt/anaconda3/lib/python3.9/site-packages/tcrdist/repertoire.py:504: UserWarning: TRAV5-1*01 gene was not recognized in reference db no cdr seq could be inferred\n",
      "  f1 = lambda v : self._map_gene_to_reference_seq2(gene = v,\n",
      "/opt/anaconda3/lib/python3.9/site-packages/tcrdist/repertoire.py:504: UserWarning: TRAV9N-2*01 gene was not recognized in reference db no cdr seq could be inferred\n",
      "  f1 = lambda v : self._map_gene_to_reference_seq2(gene = v,\n",
      "/opt/anaconda3/lib/python3.9/site-packages/tcrdist/repertoire.py:504: UserWarning: TRAV11*02 gene was not recognized in reference db no cdr seq could be inferred\n",
      "  f1 = lambda v : self._map_gene_to_reference_seq2(gene = v,\n",
      "/opt/anaconda3/lib/python3.9/site-packages/tcrdist/repertoire.py:504: UserWarning: TRAV6-1*01 gene was not recognized in reference db no cdr seq could be inferred\n",
      "  f1 = lambda v : self._map_gene_to_reference_seq2(gene = v,\n",
      "/opt/anaconda3/lib/python3.9/site-packages/tcrdist/repertoire.py:504: UserWarning: TRAV6-2*01 gene was not recognized in reference db no cdr seq could be inferred\n",
      "  f1 = lambda v : self._map_gene_to_reference_seq2(gene = v,\n",
      "/opt/anaconda3/lib/python3.9/site-packages/tcrdist/repertoire.py:504: UserWarning: TRAV13-5*01 gene was not recognized in reference db no cdr seq could be inferred\n",
      "  f1 = lambda v : self._map_gene_to_reference_seq2(gene = v,\n",
      "/opt/anaconda3/lib/python3.9/site-packages/tcrdist/repertoire.py:508: UserWarning: TRAV21/DV12*01 gene was not recognized in reference db no cdr seq could be inferred\n",
      "  f2 = lambda v : self._map_gene_to_reference_seq2(gene = v,\n",
      "/opt/anaconda3/lib/python3.9/site-packages/tcrdist/repertoire.py:508: UserWarning: TRAV14-1*01 gene was not recognized in reference db no cdr seq could be inferred\n",
      "  f2 = lambda v : self._map_gene_to_reference_seq2(gene = v,\n",
      "/opt/anaconda3/lib/python3.9/site-packages/tcrdist/repertoire.py:508: UserWarning: TRAV4-2*01 gene was not recognized in reference db no cdr seq could be inferred\n",
      "  f2 = lambda v : self._map_gene_to_reference_seq2(gene = v,\n",
      "/opt/anaconda3/lib/python3.9/site-packages/tcrdist/repertoire.py:508: UserWarning: TRAV3-1*01 gene was not recognized in reference db no cdr seq could be inferred\n",
      "  f2 = lambda v : self._map_gene_to_reference_seq2(gene = v,\n",
      "/opt/anaconda3/lib/python3.9/site-packages/tcrdist/repertoire.py:508: UserWarning: TRAV14-2*02 gene was not recognized in reference db no cdr seq could be inferred\n",
      "  f2 = lambda v : self._map_gene_to_reference_seq2(gene = v,\n",
      "/opt/anaconda3/lib/python3.9/site-packages/tcrdist/repertoire.py:508: UserWarning: TRAV4N-4*01 gene was not recognized in reference db no cdr seq could be inferred\n",
      "  f2 = lambda v : self._map_gene_to_reference_seq2(gene = v,\n",
      "/opt/anaconda3/lib/python3.9/site-packages/tcrdist/repertoire.py:508: UserWarning: TRAV4D-3*01 gene was not recognized in reference db no cdr seq could be inferred\n",
      "  f2 = lambda v : self._map_gene_to_reference_seq2(gene = v,\n",
      "/opt/anaconda3/lib/python3.9/site-packages/tcrdist/repertoire.py:508: UserWarning: TRAV4D-4*01 gene was not recognized in reference db no cdr seq could be inferred\n",
      "  f2 = lambda v : self._map_gene_to_reference_seq2(gene = v,\n",
      "/opt/anaconda3/lib/python3.9/site-packages/tcrdist/repertoire.py:508: UserWarning: TRAV7D-2*01 gene was not recognized in reference db no cdr seq could be inferred\n",
      "  f2 = lambda v : self._map_gene_to_reference_seq2(gene = v,\n",
      "/opt/anaconda3/lib/python3.9/site-packages/tcrdist/repertoire.py:508: UserWarning: TRAV5N-4*01 gene was not recognized in reference db no cdr seq could be inferred\n",
      "  f2 = lambda v : self._map_gene_to_reference_seq2(gene = v,\n",
      "/opt/anaconda3/lib/python3.9/site-packages/tcrdist/repertoire.py:508: UserWarning: TRAV7-4*01 gene was not recognized in reference db no cdr seq could be inferred\n",
      "  f2 = lambda v : self._map_gene_to_reference_seq2(gene = v,\n",
      "/opt/anaconda3/lib/python3.9/site-packages/tcrdist/repertoire.py:508: UserWarning: TRAV7D-4*01 gene was not recognized in reference db no cdr seq could be inferred\n",
      "  f2 = lambda v : self._map_gene_to_reference_seq2(gene = v,\n",
      "/opt/anaconda3/lib/python3.9/site-packages/tcrdist/repertoire.py:508: UserWarning: TRAV7-3*04 gene was not recognized in reference db no cdr seq could be inferred\n",
      "  f2 = lambda v : self._map_gene_to_reference_seq2(gene = v,\n",
      "/opt/anaconda3/lib/python3.9/site-packages/tcrdist/repertoire.py:508: UserWarning: TRAV14D-3/DV8*02 gene was not recognized in reference db no cdr seq could be inferred\n",
      "  f2 = lambda v : self._map_gene_to_reference_seq2(gene = v,\n",
      "/opt/anaconda3/lib/python3.9/site-packages/tcrdist/repertoire.py:508: UserWarning: TRAV14D-1*01 gene was not recognized in reference db no cdr seq could be inferred\n",
      "  f2 = lambda v : self._map_gene_to_reference_seq2(gene = v,\n",
      "/opt/anaconda3/lib/python3.9/site-packages/tcrdist/repertoire.py:508: UserWarning: TRAV7-2*02 gene was not recognized in reference db no cdr seq could be inferred\n",
      "  f2 = lambda v : self._map_gene_to_reference_seq2(gene = v,\n",
      "/opt/anaconda3/lib/python3.9/site-packages/tcrdist/repertoire.py:508: UserWarning: TRAV14N-3*01 gene was not recognized in reference db no cdr seq could be inferred\n",
      "  f2 = lambda v : self._map_gene_to_reference_seq2(gene = v,\n",
      "/opt/anaconda3/lib/python3.9/site-packages/tcrdist/repertoire.py:508: UserWarning: TRAV10N*01 gene was not recognized in reference db no cdr seq could be inferred\n",
      "  f2 = lambda v : self._map_gene_to_reference_seq2(gene = v,\n",
      "/opt/anaconda3/lib/python3.9/site-packages/tcrdist/repertoire.py:508: UserWarning: TRAV14N-1*01 gene was not recognized in reference db no cdr seq could be inferred\n",
      "  f2 = lambda v : self._map_gene_to_reference_seq2(gene = v,\n",
      "/opt/anaconda3/lib/python3.9/site-packages/tcrdist/repertoire.py:508: UserWarning: TRAV14N-2*01 gene was not recognized in reference db no cdr seq could be inferred\n",
      "  f2 = lambda v : self._map_gene_to_reference_seq2(gene = v,\n",
      "/opt/anaconda3/lib/python3.9/site-packages/tcrdist/repertoire.py:508: UserWarning: TRAV14D-3/DV8*08 gene was not recognized in reference db no cdr seq could be inferred\n",
      "  f2 = lambda v : self._map_gene_to_reference_seq2(gene = v,\n",
      "/opt/anaconda3/lib/python3.9/site-packages/tcrdist/repertoire.py:508: UserWarning: TRAV3N-3*01 gene was not recognized in reference db no cdr seq could be inferred\n",
      "  f2 = lambda v : self._map_gene_to_reference_seq2(gene = v,\n",
      "/opt/anaconda3/lib/python3.9/site-packages/tcrdist/repertoire.py:508: UserWarning: TRAV7D-3*01 gene was not recognized in reference db no cdr seq could be inferred\n",
      "  f2 = lambda v : self._map_gene_to_reference_seq2(gene = v,\n",
      "/opt/anaconda3/lib/python3.9/site-packages/tcrdist/repertoire.py:508: UserWarning: TRAV3-3*01 gene was not recognized in reference db no cdr seq could be inferred\n",
      "  f2 = lambda v : self._map_gene_to_reference_seq2(gene = v,\n",
      "/opt/anaconda3/lib/python3.9/site-packages/tcrdist/repertoire.py:508: UserWarning: TRAV13N-2*01 gene was not recognized in reference db no cdr seq could be inferred\n",
      "  f2 = lambda v : self._map_gene_to_reference_seq2(gene = v,\n",
      "/opt/anaconda3/lib/python3.9/site-packages/tcrdist/repertoire.py:508: UserWarning: TRAV16D/DV11*02 gene was not recognized in reference db no cdr seq could be inferred\n",
      "  f2 = lambda v : self._map_gene_to_reference_seq2(gene = v,\n",
      "/opt/anaconda3/lib/python3.9/site-packages/tcrdist/repertoire.py:508: UserWarning: TRAV9N-3*01 gene was not recognized in reference db no cdr seq could be inferred\n",
      "  f2 = lambda v : self._map_gene_to_reference_seq2(gene = v,\n",
      "/opt/anaconda3/lib/python3.9/site-packages/tcrdist/repertoire.py:508: UserWarning: TRAV6D-6*02 gene was not recognized in reference db no cdr seq could be inferred\n",
      "  f2 = lambda v : self._map_gene_to_reference_seq2(gene = v,\n",
      "/opt/anaconda3/lib/python3.9/site-packages/tcrdist/repertoire.py:508: UserWarning: TRAV6-4*03 gene was not recognized in reference db no cdr seq could be inferred\n",
      "  f2 = lambda v : self._map_gene_to_reference_seq2(gene = v,\n",
      "/opt/anaconda3/lib/python3.9/site-packages/tcrdist/repertoire.py:508: UserWarning: TRAV6D-4*01 gene was not recognized in reference db no cdr seq could be inferred\n",
      "  f2 = lambda v : self._map_gene_to_reference_seq2(gene = v,\n",
      "/opt/anaconda3/lib/python3.9/site-packages/tcrdist/repertoire.py:508: UserWarning: TRAV6N-6*01 gene was not recognized in reference db no cdr seq could be inferred\n",
      "  f2 = lambda v : self._map_gene_to_reference_seq2(gene = v,\n",
      "/opt/anaconda3/lib/python3.9/site-packages/tcrdist/repertoire.py:508: UserWarning: TRAV12N-3*01 gene was not recognized in reference db no cdr seq could be inferred\n",
      "  f2 = lambda v : self._map_gene_to_reference_seq2(gene = v,\n",
      "/opt/anaconda3/lib/python3.9/site-packages/tcrdist/repertoire.py:508: UserWarning: TRAV6N-5*01 gene was not recognized in reference db no cdr seq could be inferred\n",
      "  f2 = lambda v : self._map_gene_to_reference_seq2(gene = v,\n",
      "/opt/anaconda3/lib/python3.9/site-packages/tcrdist/repertoire.py:508: UserWarning: TRAV6-6*01 gene was not recognized in reference db no cdr seq could be inferred\n",
      "  f2 = lambda v : self._map_gene_to_reference_seq2(gene = v,\n",
      "/opt/anaconda3/lib/python3.9/site-packages/tcrdist/repertoire.py:508: UserWarning: TRAV6N-7*01 gene was not recognized in reference db no cdr seq could be inferred\n",
      "  f2 = lambda v : self._map_gene_to_reference_seq2(gene = v,\n",
      "/opt/anaconda3/lib/python3.9/site-packages/tcrdist/repertoire.py:508: UserWarning: TRAV9N-4*01 gene was not recognized in reference db no cdr seq could be inferred\n",
      "  f2 = lambda v : self._map_gene_to_reference_seq2(gene = v,\n",
      "/opt/anaconda3/lib/python3.9/site-packages/tcrdist/repertoire.py:508: UserWarning: TRAV8N-2*01 gene was not recognized in reference db no cdr seq could be inferred\n",
      "  f2 = lambda v : self._map_gene_to_reference_seq2(gene = v,\n",
      "/opt/anaconda3/lib/python3.9/site-packages/tcrdist/repertoire.py:508: UserWarning: TRAV16D/DV11*01 gene was not recognized in reference db no cdr seq could be inferred\n",
      "  f2 = lambda v : self._map_gene_to_reference_seq2(gene = v,\n",
      "/opt/anaconda3/lib/python3.9/site-packages/tcrdist/repertoire.py:508: UserWarning: TRAV12N-2*01 gene was not recognized in reference db no cdr seq could be inferred\n",
      "  f2 = lambda v : self._map_gene_to_reference_seq2(gene = v,\n",
      "/opt/anaconda3/lib/python3.9/site-packages/tcrdist/repertoire.py:508: UserWarning: TRAV12D-1*01 gene was not recognized in reference db no cdr seq could be inferred\n",
      "  f2 = lambda v : self._map_gene_to_reference_seq2(gene = v,\n",
      "/opt/anaconda3/lib/python3.9/site-packages/tcrdist/repertoire.py:508: UserWarning: TRAV6-5*04 gene was not recognized in reference db no cdr seq could be inferred\n",
      "  f2 = lambda v : self._map_gene_to_reference_seq2(gene = v,\n",
      "/opt/anaconda3/lib/python3.9/site-packages/tcrdist/repertoire.py:508: UserWarning: TRAV6-7/DV9*01 gene was not recognized in reference db no cdr seq could be inferred\n",
      "  f2 = lambda v : self._map_gene_to_reference_seq2(gene = v,\n",
      "/opt/anaconda3/lib/python3.9/site-packages/tcrdist/repertoire.py:508: UserWarning: TRAV15-1/DV6-1*01 gene was not recognized in reference db no cdr seq could be inferred\n",
      "  f2 = lambda v : self._map_gene_to_reference_seq2(gene = v,\n",
      "/opt/anaconda3/lib/python3.9/site-packages/tcrdist/repertoire.py:508: UserWarning: TRAV6D-3*01 gene was not recognized in reference db no cdr seq could be inferred\n",
      "  f2 = lambda v : self._map_gene_to_reference_seq2(gene = v,\n",
      "/opt/anaconda3/lib/python3.9/site-packages/tcrdist/repertoire.py:508: UserWarning: TRAV16N*01 gene was not recognized in reference db no cdr seq could be inferred\n",
      "  f2 = lambda v : self._map_gene_to_reference_seq2(gene = v,\n",
      "/opt/anaconda3/lib/python3.9/site-packages/tcrdist/repertoire.py:508: UserWarning: TRAV8D-1*01 gene was not recognized in reference db no cdr seq could be inferred\n",
      "  f2 = lambda v : self._map_gene_to_reference_seq2(gene = v,\n",
      "/opt/anaconda3/lib/python3.9/site-packages/tcrdist/repertoire.py:508: UserWarning: TRAV8D-2*03 gene was not recognized in reference db no cdr seq could be inferred\n",
      "  f2 = lambda v : self._map_gene_to_reference_seq2(gene = v,\n",
      "/opt/anaconda3/lib/python3.9/site-packages/tcrdist/repertoire.py:508: UserWarning: TRAV1*01 gene was not recognized in reference db no cdr seq could be inferred\n",
      "  f2 = lambda v : self._map_gene_to_reference_seq2(gene = v,\n",
      "/opt/anaconda3/lib/python3.9/site-packages/tcrdist/repertoire.py:508: UserWarning: TRAV7D-5*01 gene was not recognized in reference db no cdr seq could be inferred\n",
      "  f2 = lambda v : self._map_gene_to_reference_seq2(gene = v,\n",
      "/opt/anaconda3/lib/python3.9/site-packages/tcrdist/repertoire.py:508: UserWarning: TRAV7N-5*01 gene was not recognized in reference db no cdr seq could be inferred\n",
      "  f2 = lambda v : self._map_gene_to_reference_seq2(gene = v,\n",
      "/opt/anaconda3/lib/python3.9/site-packages/tcrdist/repertoire.py:508: UserWarning: TRAV7N-4*01 gene was not recognized in reference db no cdr seq could be inferred\n",
      "  f2 = lambda v : self._map_gene_to_reference_seq2(gene = v,\n",
      "/opt/anaconda3/lib/python3.9/site-packages/tcrdist/repertoire.py:508: UserWarning: TRAV9-1*02 gene was not recognized in reference db no cdr seq could be inferred\n",
      "  f2 = lambda v : self._map_gene_to_reference_seq2(gene = v,\n",
      "/opt/anaconda3/lib/python3.9/site-packages/tcrdist/repertoire.py:508: UserWarning: TRAV3-4*01 gene was not recognized in reference db no cdr seq could be inferred\n",
      "  f2 = lambda v : self._map_gene_to_reference_seq2(gene = v,\n",
      "/opt/anaconda3/lib/python3.9/site-packages/tcrdist/repertoire.py:508: UserWarning: TRAV3D-3*02 gene was not recognized in reference db no cdr seq could be inferred\n",
      "  f2 = lambda v : self._map_gene_to_reference_seq2(gene = v,\n",
      "/opt/anaconda3/lib/python3.9/site-packages/tcrdist/repertoire.py:508: UserWarning: TRAV7-1*01 gene was not recognized in reference db no cdr seq could be inferred\n",
      "  f2 = lambda v : self._map_gene_to_reference_seq2(gene = v,\n",
      "/opt/anaconda3/lib/python3.9/site-packages/tcrdist/repertoire.py:508: UserWarning: TRAV7N-6*01 gene was not recognized in reference db no cdr seq could be inferred\n",
      "  f2 = lambda v : self._map_gene_to_reference_seq2(gene = v,\n",
      "/opt/anaconda3/lib/python3.9/site-packages/tcrdist/repertoire.py:508: UserWarning: TRAV4-2*02 gene was not recognized in reference db no cdr seq could be inferred\n",
      "  f2 = lambda v : self._map_gene_to_reference_seq2(gene = v,\n",
      "/opt/anaconda3/lib/python3.9/site-packages/tcrdist/repertoire.py:508: UserWarning: TRAV5-1*01 gene was not recognized in reference db no cdr seq could be inferred\n",
      "  f2 = lambda v : self._map_gene_to_reference_seq2(gene = v,\n",
      "/opt/anaconda3/lib/python3.9/site-packages/tcrdist/repertoire.py:508: UserWarning: TRAV9N-2*01 gene was not recognized in reference db no cdr seq could be inferred\n",
      "  f2 = lambda v : self._map_gene_to_reference_seq2(gene = v,\n",
      "/opt/anaconda3/lib/python3.9/site-packages/tcrdist/repertoire.py:508: UserWarning: TRAV11*02 gene was not recognized in reference db no cdr seq could be inferred\n",
      "  f2 = lambda v : self._map_gene_to_reference_seq2(gene = v,\n",
      "/opt/anaconda3/lib/python3.9/site-packages/tcrdist/repertoire.py:508: UserWarning: TRAV6-1*01 gene was not recognized in reference db no cdr seq could be inferred\n",
      "  f2 = lambda v : self._map_gene_to_reference_seq2(gene = v,\n",
      "/opt/anaconda3/lib/python3.9/site-packages/tcrdist/repertoire.py:508: UserWarning: TRAV6-2*01 gene was not recognized in reference db no cdr seq could be inferred\n",
      "  f2 = lambda v : self._map_gene_to_reference_seq2(gene = v,\n",
      "/opt/anaconda3/lib/python3.9/site-packages/tcrdist/repertoire.py:508: UserWarning: TRAV13-5*01 gene was not recognized in reference db no cdr seq could be inferred\n",
      "  f2 = lambda v : self._map_gene_to_reference_seq2(gene = v,\n",
      "/opt/anaconda3/lib/python3.9/site-packages/tcrdist/repertoire.py:500: UserWarning: TRBV29*01 gene was not recognized in reference db no cdr seq could be inferred\n",
      "  f0 = lambda v : self._map_gene_to_reference_seq2(gene = v,\n",
      "/opt/anaconda3/lib/python3.9/site-packages/tcrdist/repertoire.py:500: UserWarning: TRBV4*01 gene was not recognized in reference db no cdr seq could be inferred\n",
      "  f0 = lambda v : self._map_gene_to_reference_seq2(gene = v,\n",
      "/opt/anaconda3/lib/python3.9/site-packages/tcrdist/repertoire.py:500: UserWarning: TRBV5*01 gene was not recognized in reference db no cdr seq could be inferred\n",
      "  f0 = lambda v : self._map_gene_to_reference_seq2(gene = v,\n",
      "/opt/anaconda3/lib/python3.9/site-packages/tcrdist/repertoire.py:500: UserWarning: TRBV31*01 gene was not recognized in reference db no cdr seq could be inferred\n",
      "  f0 = lambda v : self._map_gene_to_reference_seq2(gene = v,\n",
      "/opt/anaconda3/lib/python3.9/site-packages/tcrdist/repertoire.py:500: UserWarning: TRBV13-1*02 gene was not recognized in reference db no cdr seq could be inferred\n",
      "  f0 = lambda v : self._map_gene_to_reference_seq2(gene = v,\n",
      "/opt/anaconda3/lib/python3.9/site-packages/tcrdist/repertoire.py:500: UserWarning: TRBV13-2*01 gene was not recognized in reference db no cdr seq could be inferred\n",
      "  f0 = lambda v : self._map_gene_to_reference_seq2(gene = v,\n",
      "/opt/anaconda3/lib/python3.9/site-packages/tcrdist/repertoire.py:500: UserWarning: TRBV3*01 gene was not recognized in reference db no cdr seq could be inferred\n",
      "  f0 = lambda v : self._map_gene_to_reference_seq2(gene = v,\n",
      "/opt/anaconda3/lib/python3.9/site-packages/tcrdist/repertoire.py:500: UserWarning: TRBV13-3*01 gene was not recognized in reference db no cdr seq could be inferred\n",
      "  f0 = lambda v : self._map_gene_to_reference_seq2(gene = v,\n",
      "/opt/anaconda3/lib/python3.9/site-packages/tcrdist/repertoire.py:500: UserWarning: TRBV20*01 gene was not recognized in reference db no cdr seq could be inferred\n",
      "  f0 = lambda v : self._map_gene_to_reference_seq2(gene = v,\n",
      "/opt/anaconda3/lib/python3.9/site-packages/tcrdist/repertoire.py:500: UserWarning: TRBV23*01 gene was not recognized in reference db no cdr seq could be inferred\n",
      "  f0 = lambda v : self._map_gene_to_reference_seq2(gene = v,\n",
      "/opt/anaconda3/lib/python3.9/site-packages/tcrdist/repertoire.py:500: UserWarning: TRBV24*01 gene was not recognized in reference db no cdr seq could be inferred\n",
      "  f0 = lambda v : self._map_gene_to_reference_seq2(gene = v,\n",
      "/opt/anaconda3/lib/python3.9/site-packages/tcrdist/repertoire.py:504: UserWarning: TRBV29*01 gene was not recognized in reference db no cdr seq could be inferred\n",
      "  f1 = lambda v : self._map_gene_to_reference_seq2(gene = v,\n",
      "/opt/anaconda3/lib/python3.9/site-packages/tcrdist/repertoire.py:504: UserWarning: TRBV4*01 gene was not recognized in reference db no cdr seq could be inferred\n",
      "  f1 = lambda v : self._map_gene_to_reference_seq2(gene = v,\n",
      "/opt/anaconda3/lib/python3.9/site-packages/tcrdist/repertoire.py:504: UserWarning: TRBV5*01 gene was not recognized in reference db no cdr seq could be inferred\n",
      "  f1 = lambda v : self._map_gene_to_reference_seq2(gene = v,\n",
      "/opt/anaconda3/lib/python3.9/site-packages/tcrdist/repertoire.py:504: UserWarning: TRBV31*01 gene was not recognized in reference db no cdr seq could be inferred\n",
      "  f1 = lambda v : self._map_gene_to_reference_seq2(gene = v,\n",
      "/opt/anaconda3/lib/python3.9/site-packages/tcrdist/repertoire.py:504: UserWarning: TRBV13-1*02 gene was not recognized in reference db no cdr seq could be inferred\n",
      "  f1 = lambda v : self._map_gene_to_reference_seq2(gene = v,\n",
      "/opt/anaconda3/lib/python3.9/site-packages/tcrdist/repertoire.py:504: UserWarning: TRBV13-2*01 gene was not recognized in reference db no cdr seq could be inferred\n",
      "  f1 = lambda v : self._map_gene_to_reference_seq2(gene = v,\n",
      "/opt/anaconda3/lib/python3.9/site-packages/tcrdist/repertoire.py:504: UserWarning: TRBV3*01 gene was not recognized in reference db no cdr seq could be inferred\n",
      "  f1 = lambda v : self._map_gene_to_reference_seq2(gene = v,\n",
      "/opt/anaconda3/lib/python3.9/site-packages/tcrdist/repertoire.py:504: UserWarning: TRBV13-3*01 gene was not recognized in reference db no cdr seq could be inferred\n",
      "  f1 = lambda v : self._map_gene_to_reference_seq2(gene = v,\n",
      "/opt/anaconda3/lib/python3.9/site-packages/tcrdist/repertoire.py:504: UserWarning: TRBV20*01 gene was not recognized in reference db no cdr seq could be inferred\n",
      "  f1 = lambda v : self._map_gene_to_reference_seq2(gene = v,\n",
      "/opt/anaconda3/lib/python3.9/site-packages/tcrdist/repertoire.py:504: UserWarning: TRBV23*01 gene was not recognized in reference db no cdr seq could be inferred\n",
      "  f1 = lambda v : self._map_gene_to_reference_seq2(gene = v,\n",
      "/opt/anaconda3/lib/python3.9/site-packages/tcrdist/repertoire.py:504: UserWarning: TRBV24*01 gene was not recognized in reference db no cdr seq could be inferred\n",
      "  f1 = lambda v : self._map_gene_to_reference_seq2(gene = v,\n",
      "/opt/anaconda3/lib/python3.9/site-packages/tcrdist/repertoire.py:508: UserWarning: TRBV29*01 gene was not recognized in reference db no cdr seq could be inferred\n",
      "  f2 = lambda v : self._map_gene_to_reference_seq2(gene = v,\n",
      "/opt/anaconda3/lib/python3.9/site-packages/tcrdist/repertoire.py:508: UserWarning: TRBV4*01 gene was not recognized in reference db no cdr seq could be inferred\n",
      "  f2 = lambda v : self._map_gene_to_reference_seq2(gene = v,\n",
      "/opt/anaconda3/lib/python3.9/site-packages/tcrdist/repertoire.py:508: UserWarning: TRBV5*01 gene was not recognized in reference db no cdr seq could be inferred\n",
      "  f2 = lambda v : self._map_gene_to_reference_seq2(gene = v,\n",
      "/opt/anaconda3/lib/python3.9/site-packages/tcrdist/repertoire.py:508: UserWarning: TRBV31*01 gene was not recognized in reference db no cdr seq could be inferred\n",
      "  f2 = lambda v : self._map_gene_to_reference_seq2(gene = v,\n",
      "/opt/anaconda3/lib/python3.9/site-packages/tcrdist/repertoire.py:508: UserWarning: TRBV13-1*02 gene was not recognized in reference db no cdr seq could be inferred\n",
      "  f2 = lambda v : self._map_gene_to_reference_seq2(gene = v,\n",
      "/opt/anaconda3/lib/python3.9/site-packages/tcrdist/repertoire.py:508: UserWarning: TRBV13-2*01 gene was not recognized in reference db no cdr seq could be inferred\n",
      "  f2 = lambda v : self._map_gene_to_reference_seq2(gene = v,\n",
      "/opt/anaconda3/lib/python3.9/site-packages/tcrdist/repertoire.py:508: UserWarning: TRBV3*01 gene was not recognized in reference db no cdr seq could be inferred\n",
      "  f2 = lambda v : self._map_gene_to_reference_seq2(gene = v,\n",
      "/opt/anaconda3/lib/python3.9/site-packages/tcrdist/repertoire.py:508: UserWarning: TRBV13-3*01 gene was not recognized in reference db no cdr seq could be inferred\n",
      "  f2 = lambda v : self._map_gene_to_reference_seq2(gene = v,\n",
      "/opt/anaconda3/lib/python3.9/site-packages/tcrdist/repertoire.py:508: UserWarning: TRBV20*01 gene was not recognized in reference db no cdr seq could be inferred\n",
      "  f2 = lambda v : self._map_gene_to_reference_seq2(gene = v,\n",
      "/opt/anaconda3/lib/python3.9/site-packages/tcrdist/repertoire.py:508: UserWarning: TRBV23*01 gene was not recognized in reference db no cdr seq could be inferred\n",
      "  f2 = lambda v : self._map_gene_to_reference_seq2(gene = v,\n",
      "/opt/anaconda3/lib/python3.9/site-packages/tcrdist/repertoire.py:508: UserWarning: TRBV24*01 gene was not recognized in reference db no cdr seq could be inferred\n",
      "  f2 = lambda v : self._map_gene_to_reference_seq2(gene = v,\n",
      "/opt/anaconda3/lib/python3.9/site-packages/tcrdist/repertoire.py:190: UserWarning: Not all cells/sequences could be grouped into clones.695 of 1629 were not captured. This occurs when any of the values in the index columns are null or missing for a given sequence. To see entries with missing values use: tcrdist.repertoire.TCRrep._show_incomplete()\n",
      "  self.deduplicate()\n"
     ]
    }
   ],
   "source": [
    "from tcrdist.repertoire import TCRrep\n",
    "tr = TCRrep(cell_df = df_merge, \n",
    "            organism = 'human', \n",
    "            chains = ['alpha','beta'], \n",
    "            db_file = 'alphabeta_gammadelta_db.tsv',\n",
    "            deduplicate = True,\n",
    "            compute_distances = True)"
   ]
  },
  {
   "cell_type": "code",
   "execution_count": 63,
   "id": "5df0ac0c",
   "metadata": {},
   "outputs": [
    {
     "name": "stdout",
     "output_type": "stream",
     "text": [
      "alpha shape: (934, 934)\n",
      "beta shape (934, 934)\n"
     ]
    }
   ],
   "source": [
    "print(\"alpha shape:\", tr.pw_beta.shape)\n",
    "print(\"beta shape\", tr.pw_beta.shape)"
   ]
  },
  {
   "cell_type": "code",
   "execution_count": 64,
   "id": "4c61c8b9",
   "metadata": {
    "scrolled": true
   },
   "outputs": [
    {
     "name": "stdout",
     "output_type": "stream",
     "text": [
      "alpha shape: (934, 934)\n",
      "beta shape (934, 934)\n"
     ]
    }
   ],
   "source": [
    "print(\"alpha shape:\", tr.pw_cdr3_b_aa.shape)\n",
    "print(\"beta shape\", tr.pw_cdr3_b_aa.shape)"
   ]
  },
  {
   "cell_type": "markdown",
   "id": "05a93653",
   "metadata": {},
   "source": [
    "### Combined alpha and beta distance"
   ]
  },
  {
   "cell_type": "code",
   "execution_count": 65,
   "id": "24f470cf",
   "metadata": {},
   "outputs": [],
   "source": [
    "combined_pw_distance = tr.pw_cdr3_a_aa + tr.pw_cdr3_b_aa"
   ]
  },
  {
   "cell_type": "markdown",
   "id": "c5b38a51",
   "metadata": {},
   "source": [
    "### Testing PCA "
   ]
  },
  {
   "cell_type": "markdown",
   "id": "555cf069",
   "metadata": {},
   "source": [
    "Using a different dataset"
   ]
  },
  {
   "cell_type": "code",
   "execution_count": 67,
   "id": "2e04ea14",
   "metadata": {
    "collapsed": true
   },
   "outputs": [
    {
     "data": {
      "text/html": [
       "<div>\n",
       "<style scoped>\n",
       "    .dataframe tbody tr th:only-of-type {\n",
       "        vertical-align: middle;\n",
       "    }\n",
       "\n",
       "    .dataframe tbody tr th {\n",
       "        vertical-align: top;\n",
       "    }\n",
       "\n",
       "    .dataframe thead th {\n",
       "        text-align: right;\n",
       "    }\n",
       "</style>\n",
       "<table border=\"1\" class=\"dataframe\">\n",
       "  <thead>\n",
       "    <tr style=\"text-align: right;\">\n",
       "      <th></th>\n",
       "      <th>0</th>\n",
       "      <th>1</th>\n",
       "      <th>2</th>\n",
       "      <th>3</th>\n",
       "      <th>4</th>\n",
       "      <th>5</th>\n",
       "      <th>6</th>\n",
       "      <th>7</th>\n",
       "      <th>8</th>\n",
       "      <th>9</th>\n",
       "      <th>10</th>\n",
       "      <th>11</th>\n",
       "      <th>12</th>\n",
       "      <th>13</th>\n",
       "    </tr>\n",
       "  </thead>\n",
       "  <tbody>\n",
       "    <tr>\n",
       "      <th>0</th>\n",
       "      <td>1</td>\n",
       "      <td>14.23</td>\n",
       "      <td>1.71</td>\n",
       "      <td>2.43</td>\n",
       "      <td>15.6</td>\n",
       "      <td>127</td>\n",
       "      <td>2.80</td>\n",
       "      <td>3.06</td>\n",
       "      <td>0.28</td>\n",
       "      <td>2.29</td>\n",
       "      <td>5.64</td>\n",
       "      <td>1.04</td>\n",
       "      <td>3.92</td>\n",
       "      <td>1065</td>\n",
       "    </tr>\n",
       "    <tr>\n",
       "      <th>1</th>\n",
       "      <td>1</td>\n",
       "      <td>13.20</td>\n",
       "      <td>1.78</td>\n",
       "      <td>2.14</td>\n",
       "      <td>11.2</td>\n",
       "      <td>100</td>\n",
       "      <td>2.65</td>\n",
       "      <td>2.76</td>\n",
       "      <td>0.26</td>\n",
       "      <td>1.28</td>\n",
       "      <td>4.38</td>\n",
       "      <td>1.05</td>\n",
       "      <td>3.40</td>\n",
       "      <td>1050</td>\n",
       "    </tr>\n",
       "    <tr>\n",
       "      <th>2</th>\n",
       "      <td>1</td>\n",
       "      <td>13.16</td>\n",
       "      <td>2.36</td>\n",
       "      <td>2.67</td>\n",
       "      <td>18.6</td>\n",
       "      <td>101</td>\n",
       "      <td>2.80</td>\n",
       "      <td>3.24</td>\n",
       "      <td>0.30</td>\n",
       "      <td>2.81</td>\n",
       "      <td>5.68</td>\n",
       "      <td>1.03</td>\n",
       "      <td>3.17</td>\n",
       "      <td>1185</td>\n",
       "    </tr>\n",
       "    <tr>\n",
       "      <th>3</th>\n",
       "      <td>1</td>\n",
       "      <td>14.37</td>\n",
       "      <td>1.95</td>\n",
       "      <td>2.50</td>\n",
       "      <td>16.8</td>\n",
       "      <td>113</td>\n",
       "      <td>3.85</td>\n",
       "      <td>3.49</td>\n",
       "      <td>0.24</td>\n",
       "      <td>2.18</td>\n",
       "      <td>7.80</td>\n",
       "      <td>0.86</td>\n",
       "      <td>3.45</td>\n",
       "      <td>1480</td>\n",
       "    </tr>\n",
       "    <tr>\n",
       "      <th>4</th>\n",
       "      <td>1</td>\n",
       "      <td>13.24</td>\n",
       "      <td>2.59</td>\n",
       "      <td>2.87</td>\n",
       "      <td>21.0</td>\n",
       "      <td>118</td>\n",
       "      <td>2.80</td>\n",
       "      <td>2.69</td>\n",
       "      <td>0.39</td>\n",
       "      <td>1.82</td>\n",
       "      <td>4.32</td>\n",
       "      <td>1.04</td>\n",
       "      <td>2.93</td>\n",
       "      <td>735</td>\n",
       "    </tr>\n",
       "    <tr>\n",
       "      <th>...</th>\n",
       "      <td>...</td>\n",
       "      <td>...</td>\n",
       "      <td>...</td>\n",
       "      <td>...</td>\n",
       "      <td>...</td>\n",
       "      <td>...</td>\n",
       "      <td>...</td>\n",
       "      <td>...</td>\n",
       "      <td>...</td>\n",
       "      <td>...</td>\n",
       "      <td>...</td>\n",
       "      <td>...</td>\n",
       "      <td>...</td>\n",
       "      <td>...</td>\n",
       "    </tr>\n",
       "    <tr>\n",
       "      <th>173</th>\n",
       "      <td>3</td>\n",
       "      <td>13.71</td>\n",
       "      <td>5.65</td>\n",
       "      <td>2.45</td>\n",
       "      <td>20.5</td>\n",
       "      <td>95</td>\n",
       "      <td>1.68</td>\n",
       "      <td>0.61</td>\n",
       "      <td>0.52</td>\n",
       "      <td>1.06</td>\n",
       "      <td>7.70</td>\n",
       "      <td>0.64</td>\n",
       "      <td>1.74</td>\n",
       "      <td>740</td>\n",
       "    </tr>\n",
       "    <tr>\n",
       "      <th>174</th>\n",
       "      <td>3</td>\n",
       "      <td>13.40</td>\n",
       "      <td>3.91</td>\n",
       "      <td>2.48</td>\n",
       "      <td>23.0</td>\n",
       "      <td>102</td>\n",
       "      <td>1.80</td>\n",
       "      <td>0.75</td>\n",
       "      <td>0.43</td>\n",
       "      <td>1.41</td>\n",
       "      <td>7.30</td>\n",
       "      <td>0.70</td>\n",
       "      <td>1.56</td>\n",
       "      <td>750</td>\n",
       "    </tr>\n",
       "    <tr>\n",
       "      <th>175</th>\n",
       "      <td>3</td>\n",
       "      <td>13.27</td>\n",
       "      <td>4.28</td>\n",
       "      <td>2.26</td>\n",
       "      <td>20.0</td>\n",
       "      <td>120</td>\n",
       "      <td>1.59</td>\n",
       "      <td>0.69</td>\n",
       "      <td>0.43</td>\n",
       "      <td>1.35</td>\n",
       "      <td>10.20</td>\n",
       "      <td>0.59</td>\n",
       "      <td>1.56</td>\n",
       "      <td>835</td>\n",
       "    </tr>\n",
       "    <tr>\n",
       "      <th>176</th>\n",
       "      <td>3</td>\n",
       "      <td>13.17</td>\n",
       "      <td>2.59</td>\n",
       "      <td>2.37</td>\n",
       "      <td>20.0</td>\n",
       "      <td>120</td>\n",
       "      <td>1.65</td>\n",
       "      <td>0.68</td>\n",
       "      <td>0.53</td>\n",
       "      <td>1.46</td>\n",
       "      <td>9.30</td>\n",
       "      <td>0.60</td>\n",
       "      <td>1.62</td>\n",
       "      <td>840</td>\n",
       "    </tr>\n",
       "    <tr>\n",
       "      <th>177</th>\n",
       "      <td>3</td>\n",
       "      <td>14.13</td>\n",
       "      <td>4.10</td>\n",
       "      <td>2.74</td>\n",
       "      <td>24.5</td>\n",
       "      <td>96</td>\n",
       "      <td>2.05</td>\n",
       "      <td>0.76</td>\n",
       "      <td>0.56</td>\n",
       "      <td>1.35</td>\n",
       "      <td>9.20</td>\n",
       "      <td>0.61</td>\n",
       "      <td>1.60</td>\n",
       "      <td>560</td>\n",
       "    </tr>\n",
       "  </tbody>\n",
       "</table>\n",
       "<p>178 rows × 14 columns</p>\n",
       "</div>"
      ],
      "text/plain": [
       "     0      1     2     3     4    5     6     7     8     9      10    11  \\\n",
       "0     1  14.23  1.71  2.43  15.6  127  2.80  3.06  0.28  2.29   5.64  1.04   \n",
       "1     1  13.20  1.78  2.14  11.2  100  2.65  2.76  0.26  1.28   4.38  1.05   \n",
       "2     1  13.16  2.36  2.67  18.6  101  2.80  3.24  0.30  2.81   5.68  1.03   \n",
       "3     1  14.37  1.95  2.50  16.8  113  3.85  3.49  0.24  2.18   7.80  0.86   \n",
       "4     1  13.24  2.59  2.87  21.0  118  2.80  2.69  0.39  1.82   4.32  1.04   \n",
       "..   ..    ...   ...   ...   ...  ...   ...   ...   ...   ...    ...   ...   \n",
       "173   3  13.71  5.65  2.45  20.5   95  1.68  0.61  0.52  1.06   7.70  0.64   \n",
       "174   3  13.40  3.91  2.48  23.0  102  1.80  0.75  0.43  1.41   7.30  0.70   \n",
       "175   3  13.27  4.28  2.26  20.0  120  1.59  0.69  0.43  1.35  10.20  0.59   \n",
       "176   3  13.17  2.59  2.37  20.0  120  1.65  0.68  0.53  1.46   9.30  0.60   \n",
       "177   3  14.13  4.10  2.74  24.5   96  2.05  0.76  0.56  1.35   9.20  0.61   \n",
       "\n",
       "       12    13  \n",
       "0    3.92  1065  \n",
       "1    3.40  1050  \n",
       "2    3.17  1185  \n",
       "3    3.45  1480  \n",
       "4    2.93   735  \n",
       "..    ...   ...  \n",
       "173  1.74   740  \n",
       "174  1.56   750  \n",
       "175  1.56   835  \n",
       "176  1.62   840  \n",
       "177  1.60   560  \n",
       "\n",
       "[178 rows x 14 columns]"
      ]
     },
     "execution_count": 67,
     "metadata": {},
     "output_type": "execute_result"
    }
   ],
   "source": [
    "import pandas as pd\n",
    "df_wine = pd.read_csv('https://archive.ics.uci.edu/ml/'\n",
    "                      'machine-learning-databases/wine/wine.data',\n",
    "                      header=None)\n",
    "df_wine"
   ]
  },
  {
   "cell_type": "code",
   "execution_count": 68,
   "id": "14c4e7d1",
   "metadata": {},
   "outputs": [
    {
     "name": "stdout",
     "output_type": "stream",
     "text": [
      "Requirement already satisfied: scikit-learn in /opt/anaconda3/lib/python3.9/site-packages (1.4.1.post1)\n",
      "Requirement already satisfied: threadpoolctl>=2.0.0 in /opt/anaconda3/lib/python3.9/site-packages (from scikit-learn) (2.2.0)\n",
      "Requirement already satisfied: numpy<2.0,>=1.19.5 in /opt/anaconda3/lib/python3.9/site-packages (from scikit-learn) (1.21.5)\n",
      "Requirement already satisfied: scipy>=1.6.0 in /opt/anaconda3/lib/python3.9/site-packages (from scikit-learn) (1.9.1)\n",
      "Requirement already satisfied: joblib>=1.2.0 in /opt/anaconda3/lib/python3.9/site-packages (from scikit-learn) (1.3.2)\n",
      "Note: you may need to restart the kernel to use updated packages.\n"
     ]
    }
   ],
   "source": [
    "pip install -U scikit-learn"
   ]
  },
  {
   "cell_type": "code",
   "execution_count": 69,
   "id": "0e3a02ea",
   "metadata": {},
   "outputs": [],
   "source": [
    "from sklearn.model_selection import train_test_split\n",
    "from sklearn.preprocessing import StandardScaler\n",
    "\n",
    "# split into training and testing sets\n",
    "X, y = df_wine.iloc[:, 1:].values, df_wine.iloc[:, 0].values\n",
    "X_train, X_test, y_train, y_test = train_test_split(\n",
    "    X, y, test_size=0.3,\n",
    "    stratify=y, random_state=0\n",
    ")\n",
    "# standardize the features\n",
    "sc = StandardScaler()\n",
    "X_train_std = sc.fit_transform(X_train)\n",
    "X_test_std = sc.transform(X_test)"
   ]
  },
  {
   "cell_type": "code",
   "execution_count": 70,
   "id": "ee0210b9",
   "metadata": {},
   "outputs": [],
   "source": [
    "import numpy as np\n",
    "\n",
    "cov_mat = np.cov(X_train_std.T)\n",
    "eigen_vals, eigen_vecs = np.linalg.eig(cov_mat)"
   ]
  },
  {
   "cell_type": "code",
   "execution_count": 71,
   "id": "3f2d5f88",
   "metadata": {},
   "outputs": [
    {
     "data": {
      "image/png": "[encoded data removed]",
      "text/plain": [
       "<Figure size 640x480 with 1 Axes>"
      ]
     },
     "metadata": {},
     "output_type": "display_data"
    }
   ],
   "source": [
    "import matplotlib.pyplot as plt\n",
    "\n",
    "# calculate cumulative sum of explained variances\n",
    "tot = sum(eigen_vals)\n",
    "var_exp = [(i / tot) for i in sorted(eigen_vals, reverse=True)]\n",
    "cum_var_exp = np.cumsum(var_exp)\n",
    "\n",
    "# plot explained variances\n",
    "plt.bar(range(1,14), var_exp, alpha=0.5,\n",
    "        align='center', label='individual explained variance')\n",
    "plt.step(range(1,14), cum_var_exp, where='mid',\n",
    "         label='cumulative explained variance')\n",
    "plt.ylabel('Explained variance ratio')\n",
    "plt.xlabel('Principal component index')\n",
    "plt.legend(loc='best')\n",
    "plt.show()"
   ]
  },
  {
   "cell_type": "code",
   "execution_count": 72,
   "id": "513a6090",
   "metadata": {},
   "outputs": [],
   "source": [
    "# Make a list of (eigenvalue, eigenvector) tuples\n",
    "eigen_pairs = [(np.abs(eigen_vals[i]), eigen_vecs[:, i]) for i in range(len(eigen_vals))]\n",
    "\n",
    "# Sort the (eigenvalue, eigenvector) tuples from high to low\n",
    "eigen_pairs.sort(key=lambda k: k[0], reverse=True)"
   ]
  },
  {
   "cell_type": "code",
   "execution_count": 73,
   "id": "41e122b1",
   "metadata": {},
   "outputs": [
    {
     "name": "stdout",
     "output_type": "stream",
     "text": [
      "Matrix W:\n",
      " [[-0.13724218  0.50303478]\n",
      " [ 0.24724326  0.16487119]\n",
      " [-0.02545159  0.24456476]\n",
      " [ 0.20694508 -0.11352904]\n",
      " [-0.15436582  0.28974518]\n",
      " [-0.39376952  0.05080104]\n",
      " [-0.41735106 -0.02287338]\n",
      " [ 0.30572896  0.09048885]\n",
      " [-0.30668347  0.00835233]\n",
      " [ 0.07554066  0.54977581]\n",
      " [-0.32613263 -0.20716433]\n",
      " [-0.36861022 -0.24902536]\n",
      " [-0.29669651  0.38022942]]\n"
     ]
    }
   ],
   "source": [
    "w = np.hstack((eigen_pairs[0][1][:, np.newaxis], eigen_pairs[1][1][:, np.newaxis]))\n",
    "print('Matrix W:\\n', w)"
   ]
  },
  {
   "cell_type": "code",
   "execution_count": 74,
   "id": "d03978fb",
   "metadata": {},
   "outputs": [
    {
     "data": {
      "text/plain": [
       "array([2.38299011, 0.45458499])"
      ]
     },
     "execution_count": 74,
     "metadata": {},
     "output_type": "execute_result"
    }
   ],
   "source": [
    "X_train_std[0].dot(w)"
   ]
  },
  {
   "cell_type": "code",
   "execution_count": 75,
   "id": "01d4a6e8",
   "metadata": {},
   "outputs": [],
   "source": [
    "X_train_pca = X_train_std.dot(w)"
   ]
  },
  {
   "cell_type": "code",
   "execution_count": 76,
   "id": "004a8661",
   "metadata": {},
   "outputs": [
    {
     "data": {
      "image/png": "[encoded data removed]",
      "text/plain": [
       "<Figure size 640x480 with 1 Axes>"
      ]
     },
     "metadata": {},
     "output_type": "display_data"
    }
   ],
   "source": [
    "colors = ['r', 'b', 'g']\n",
    "markers = ['s', 'x', 'o']\n",
    "for l, c, m in zip(np.unique(y_train), colors, markers):\n",
    "    plt.scatter(X_train_pca[y_train==l, 0], \n",
    "                X_train_pca[y_train==l, 1], \n",
    "                c=c, label=l, marker=m) \n",
    "plt.xlabel('PC 1')\n",
    "plt.ylabel('PC 2')\n",
    "plt.legend(loc='lower left')\n",
    "plt.show()"
   ]
  },
  {
   "cell_type": "code",
   "execution_count": 77,
   "id": "e42bf67d",
   "metadata": {},
   "outputs": [
    {
     "data": {
      "text/html": [
       "<style>#sk-container-id-1 {\n",
       "  /* Definition of color scheme common for light and dark mode */\n",
       "  --sklearn-color-text: black;\n",
       "  --sklearn-color-line: gray;\n",
       "  /* Definition of color scheme for unfitted estimators */\n",
       "  --sklearn-color-unfitted-level-0: #fff5e6;\n",
       "  --sklearn-color-unfitted-level-1: #f6e4d2;\n",
       "  --sklearn-color-unfitted-level-2: #ffe0b3;\n",
       "  --sklearn-color-unfitted-level-3: chocolate;\n",
       "  /* Definition of color scheme for fitted estimators */\n",
       "  --sklearn-color-fitted-level-0: #f0f8ff;\n",
       "  --sklearn-color-fitted-level-1: #d4ebff;\n",
       "  --sklearn-color-fitted-level-2: #b3dbfd;\n",
       "  --sklearn-color-fitted-level-3: cornflowerblue;\n",
       "\n",
       "  /* Specific color for light theme */\n",
       "  --sklearn-color-text-on-default-background: var(--sg-text-color, var(--theme-code-foreground, var(--jp-content-font-color1, black)));\n",
       "  --sklearn-color-background: var(--sg-background-color, var(--theme-background, var(--jp-layout-color0, white)));\n",
       "  --sklearn-color-border-box: var(--sg-text-color, var(--theme-code-foreground, var(--jp-content-font-color1, black)));\n",
       "  --sklearn-color-icon: #696969;\n",
       "\n",
       "  @media (prefers-color-scheme: dark) {\n",
       "    /* Redefinition of color scheme for dark theme */\n",
       "    --sklearn-color-text-on-default-background: var(--sg-text-color, var(--theme-code-foreground, var(--jp-content-font-color1, white)));\n",
       "    --sklearn-color-background: var(--sg-background-color, var(--theme-background, var(--jp-layout-color0, #111)));\n",
       "    --sklearn-color-border-box: var(--sg-text-color, var(--theme-code-foreground, var(--jp-content-font-color1, white)));\n",
       "    --sklearn-color-icon: #878787;\n",
       "  }\n",
       "}\n",
       "\n",
       "#sk-container-id-1 {\n",
       "  color: var(--sklearn-color-text);\n",
       "}\n",
       "\n",
       "#sk-container-id-1 pre {\n",
       "  padding: 0;\n",
       "}\n",
       "\n",
       "#sk-container-id-1 input.sk-hidden--visually {\n",
       "  border: 0;\n",
       "  clip: rect(1px 1px 1px 1px);\n",
       "  clip: rect(1px, 1px, 1px, 1px);\n",
       "  height: 1px;\n",
       "  margin: -1px;\n",
       "  overflow: hidden;\n",
       "  padding: 0;\n",
       "  position: absolute;\n",
       "  width: 1px;\n",
       "}\n",
       "\n",
       "#sk-container-id-1 div.sk-dashed-wrapped {\n",
       "  border: 1px dashed var(--sklearn-color-line);\n",
       "  margin: 0 0.4em 0.5em 0.4em;\n",
       "  box-sizing: border-box;\n",
       "  padding-bottom: 0.4em;\n",
       "  background-color: var(--sklearn-color-background);\n",
       "}\n",
       "\n",
       "#sk-container-id-1 div.sk-container {\n",
       "  /* jupyter's `normalize.less` sets `[hidden] { display: none; }`\n",
       "     but bootstrap.min.css set `[hidden] { display: none !important; }`\n",
       "     so we also need the `!important` here to be able to override the\n",
       "     default hidden behavior on the sphinx rendered scikit-learn.org.\n",
       "     See: https://github.com/scikit-learn/scikit-learn/issues/21755 */\n",
       "  display: inline-block !important;\n",
       "  position: relative;\n",
       "}\n",
       "\n",
       "#sk-container-id-1 div.sk-text-repr-fallback {\n",
       "  display: none;\n",
       "}\n",
       "\n",
       "div.sk-parallel-item,\n",
       "div.sk-serial,\n",
       "div.sk-item {\n",
       "  /* draw centered vertical line to link estimators */\n",
       "  background-image: linear-gradient(var(--sklearn-color-text-on-default-background), var(--sklearn-color-text-on-default-background));\n",
       "  background-size: 2px 100%;\n",
       "  background-repeat: no-repeat;\n",
       "  background-position: center center;\n",
       "}\n",
       "\n",
       "/* Parallel-specific style estimator block */\n",
       "\n",
       "#sk-container-id-1 div.sk-parallel-item::after {\n",
       "  content: \"\";\n",
       "  width: 100%;\n",
       "  border-bottom: 2px solid var(--sklearn-color-text-on-default-background);\n",
       "  flex-grow: 1;\n",
       "}\n",
       "\n",
       "#sk-container-id-1 div.sk-parallel {\n",
       "  display: flex;\n",
       "  align-items: stretch;\n",
       "  justify-content: center;\n",
       "  background-color: var(--sklearn-color-background);\n",
       "  position: relative;\n",
       "}\n",
       "\n",
       "#sk-container-id-1 div.sk-parallel-item {\n",
       "  display: flex;\n",
       "  flex-direction: column;\n",
       "}\n",
       "\n",
       "#sk-container-id-1 div.sk-parallel-item:first-child::after {\n",
       "  align-self: flex-end;\n",
       "  width: 50%;\n",
       "}\n",
       "\n",
       "#sk-container-id-1 div.sk-parallel-item:last-child::after {\n",
       "  align-self: flex-start;\n",
       "  width: 50%;\n",
       "}\n",
       "\n",
       "#sk-container-id-1 div.sk-parallel-item:only-child::after {\n",
       "  width: 0;\n",
       "}\n",
       "\n",
       "/* Serial-specific style estimator block */\n",
       "\n",
       "#sk-container-id-1 div.sk-serial {\n",
       "  display: flex;\n",
       "  flex-direction: column;\n",
       "  align-items: center;\n",
       "  background-color: var(--sklearn-color-background);\n",
       "  padding-right: 1em;\n",
       "  padding-left: 1em;\n",
       "}\n",
       "\n",
       "\n",
       "/* Toggleable style: style used for estimator/Pipeline/ColumnTransformer box that is\n",
       "clickable and can be expanded/collapsed.\n",
       "- Pipeline and ColumnTransformer use this feature and define the default style\n",
       "- Estimators will overwrite some part of the style using the `sk-estimator` class\n",
       "*/\n",
       "\n",
       "/* Pipeline and ColumnTransformer style (default) */\n",
       "\n",
       "#sk-container-id-1 div.sk-toggleable {\n",
       "  /* Default theme specific background. It is overwritten whether we have a\n",
       "  specific estimator or a Pipeline/ColumnTransformer */\n",
       "  background-color: var(--sklearn-color-background);\n",
       "}\n",
       "\n",
       "/* Toggleable label */\n",
       "#sk-container-id-1 label.sk-toggleable__label {\n",
       "  cursor: pointer;\n",
       "  display: block;\n",
       "  width: 100%;\n",
       "  margin-bottom: 0;\n",
       "  padding: 0.5em;\n",
       "  box-sizing: border-box;\n",
       "  text-align: center;\n",
       "}\n",
       "\n",
       "#sk-container-id-1 label.sk-toggleable__label-arrow:before {\n",
       "  /* Arrow on the left of the label */\n",
       "  content: \"▸\";\n",
       "  float: left;\n",
       "  margin-right: 0.25em;\n",
       "  color: var(--sklearn-color-icon);\n",
       "}\n",
       "\n",
       "#sk-container-id-1 label.sk-toggleable__label-arrow:hover:before {\n",
       "  color: var(--sklearn-color-text);\n",
       "}\n",
       "\n",
       "/* Toggleable content - dropdown */\n",
       "\n",
       "#sk-container-id-1 div.sk-toggleable__content {\n",
       "  max-height: 0;\n",
       "  max-width: 0;\n",
       "  overflow: hidden;\n",
       "  text-align: left;\n",
       "  /* unfitted */\n",
       "  background-color: var(--sklearn-color-unfitted-level-0);\n",
       "}\n",
       "\n",
       "#sk-container-id-1 div.sk-toggleable__content.fitted {\n",
       "  /* fitted */\n",
       "  background-color: var(--sklearn-color-fitted-level-0);\n",
       "}\n",
       "\n",
       "#sk-container-id-1 div.sk-toggleable__content pre {\n",
       "  margin: 0.2em;\n",
       "  border-radius: 0.25em;\n",
       "  color: var(--sklearn-color-text);\n",
       "  /* unfitted */\n",
       "  background-color: var(--sklearn-color-unfitted-level-0);\n",
       "}\n",
       "\n",
       "#sk-container-id-1 div.sk-toggleable__content.fitted pre {\n",
       "  /* unfitted */\n",
       "  background-color: var(--sklearn-color-fitted-level-0);\n",
       "}\n",
       "\n",
       "#sk-container-id-1 input.sk-toggleable__control:checked~div.sk-toggleable__content {\n",
       "  /* Expand drop-down */\n",
       "  max-height: 200px;\n",
       "  max-width: 100%;\n",
       "  overflow: auto;\n",
       "}\n",
       "\n",
       "#sk-container-id-1 input.sk-toggleable__control:checked~label.sk-toggleable__label-arrow:before {\n",
       "  content: \"▾\";\n",
       "}\n",
       "\n",
       "/* Pipeline/ColumnTransformer-specific style */\n",
       "\n",
       "#sk-container-id-1 div.sk-label input.sk-toggleable__control:checked~label.sk-toggleable__label {\n",
       "  color: var(--sklearn-color-text);\n",
       "  background-color: var(--sklearn-color-unfitted-level-2);\n",
       "}\n",
       "\n",
       "#sk-container-id-1 div.sk-label.fitted input.sk-toggleable__control:checked~label.sk-toggleable__label {\n",
       "  background-color: var(--sklearn-color-fitted-level-2);\n",
       "}\n",
       "\n",
       "/* Estimator-specific style */\n",
       "\n",
       "/* Colorize estimator box */\n",
       "#sk-container-id-1 div.sk-estimator input.sk-toggleable__control:checked~label.sk-toggleable__label {\n",
       "  /* unfitted */\n",
       "  background-color: var(--sklearn-color-unfitted-level-2);\n",
       "}\n",
       "\n",
       "#sk-container-id-1 div.sk-estimator.fitted input.sk-toggleable__control:checked~label.sk-toggleable__label {\n",
       "  /* fitted */\n",
       "  background-color: var(--sklearn-color-fitted-level-2);\n",
       "}\n",
       "\n",
       "#sk-container-id-1 div.sk-label label.sk-toggleable__label,\n",
       "#sk-container-id-1 div.sk-label label {\n",
       "  /* The background is the default theme color */\n",
       "  color: var(--sklearn-color-text-on-default-background);\n",
       "}\n",
       "\n",
       "/* On hover, darken the color of the background */\n",
       "#sk-container-id-1 div.sk-label:hover label.sk-toggleable__label {\n",
       "  color: var(--sklearn-color-text);\n",
       "  background-color: var(--sklearn-color-unfitted-level-2);\n",
       "}\n",
       "\n",
       "/* Label box, darken color on hover, fitted */\n",
       "#sk-container-id-1 div.sk-label.fitted:hover label.sk-toggleable__label.fitted {\n",
       "  color: var(--sklearn-color-text);\n",
       "  background-color: var(--sklearn-color-fitted-level-2);\n",
       "}\n",
       "\n",
       "/* Estimator label */\n",
       "\n",
       "#sk-container-id-1 div.sk-label label {\n",
       "  font-family: monospace;\n",
       "  font-weight: bold;\n",
       "  display: inline-block;\n",
       "  line-height: 1.2em;\n",
       "}\n",
       "\n",
       "#sk-container-id-1 div.sk-label-container {\n",
       "  text-align: center;\n",
       "}\n",
       "\n",
       "/* Estimator-specific */\n",
       "#sk-container-id-1 div.sk-estimator {\n",
       "  font-family: monospace;\n",
       "  border: 1px dotted var(--sklearn-color-border-box);\n",
       "  border-radius: 0.25em;\n",
       "  box-sizing: border-box;\n",
       "  margin-bottom: 0.5em;\n",
       "  /* unfitted */\n",
       "  background-color: var(--sklearn-color-unfitted-level-0);\n",
       "}\n",
       "\n",
       "#sk-container-id-1 div.sk-estimator.fitted {\n",
       "  /* fitted */\n",
       "  background-color: var(--sklearn-color-fitted-level-0);\n",
       "}\n",
       "\n",
       "/* on hover */\n",
       "#sk-container-id-1 div.sk-estimator:hover {\n",
       "  /* unfitted */\n",
       "  background-color: var(--sklearn-color-unfitted-level-2);\n",
       "}\n",
       "\n",
       "#sk-container-id-1 div.sk-estimator.fitted:hover {\n",
       "  /* fitted */\n",
       "  background-color: var(--sklearn-color-fitted-level-2);\n",
       "}\n",
       "\n",
       "/* Specification for estimator info (e.g. \"i\" and \"?\") */\n",
       "\n",
       "/* Common style for \"i\" and \"?\" */\n",
       "\n",
       ".sk-estimator-doc-link,\n",
       "a:link.sk-estimator-doc-link,\n",
       "a:visited.sk-estimator-doc-link {\n",
       "  float: right;\n",
       "  font-size: smaller;\n",
       "  line-height: 1em;\n",
       "  font-family: monospace;\n",
       "  background-color: var(--sklearn-color-background);\n",
       "  border-radius: 1em;\n",
       "  height: 1em;\n",
       "  width: 1em;\n",
       "  text-decoration: none !important;\n",
       "  margin-left: 1ex;\n",
       "  /* unfitted */\n",
       "  border: var(--sklearn-color-unfitted-level-1) 1pt solid;\n",
       "  color: var(--sklearn-color-unfitted-level-1);\n",
       "}\n",
       "\n",
       ".sk-estimator-doc-link.fitted,\n",
       "a:link.sk-estimator-doc-link.fitted,\n",
       "a:visited.sk-estimator-doc-link.fitted {\n",
       "  /* fitted */\n",
       "  border: var(--sklearn-color-fitted-level-1) 1pt solid;\n",
       "  color: var(--sklearn-color-fitted-level-1);\n",
       "}\n",
       "\n",
       "/* On hover */\n",
       "div.sk-estimator:hover .sk-estimator-doc-link:hover,\n",
       ".sk-estimator-doc-link:hover,\n",
       "div.sk-label-container:hover .sk-estimator-doc-link:hover,\n",
       ".sk-estimator-doc-link:hover {\n",
       "  /* unfitted */\n",
       "  background-color: var(--sklearn-color-unfitted-level-3);\n",
       "  color: var(--sklearn-color-background);\n",
       "  text-decoration: none;\n",
       "}\n",
       "\n",
       "div.sk-estimator.fitted:hover .sk-estimator-doc-link.fitted:hover,\n",
       ".sk-estimator-doc-link.fitted:hover,\n",
       "div.sk-label-container:hover .sk-estimator-doc-link.fitted:hover,\n",
       ".sk-estimator-doc-link.fitted:hover {\n",
       "  /* fitted */\n",
       "  background-color: var(--sklearn-color-fitted-level-3);\n",
       "  color: var(--sklearn-color-background);\n",
       "  text-decoration: none;\n",
       "}\n",
       "\n",
       "/* Span, style for the box shown on hovering the info icon */\n",
       ".sk-estimator-doc-link span {\n",
       "  display: none;\n",
       "  z-index: 9999;\n",
       "  position: relative;\n",
       "  font-weight: normal;\n",
       "  right: .2ex;\n",
       "  padding: .5ex;\n",
       "  margin: .5ex;\n",
       "  width: min-content;\n",
       "  min-width: 20ex;\n",
       "  max-width: 50ex;\n",
       "  color: var(--sklearn-color-text);\n",
       "  box-shadow: 2pt 2pt 4pt #999;\n",
       "  /* unfitted */\n",
       "  background: var(--sklearn-color-unfitted-level-0);\n",
       "  border: .5pt solid var(--sklearn-color-unfitted-level-3);\n",
       "}\n",
       "\n",
       ".sk-estimator-doc-link.fitted span {\n",
       "  /* fitted */\n",
       "  background: var(--sklearn-color-fitted-level-0);\n",
       "  border: var(--sklearn-color-fitted-level-3);\n",
       "}\n",
       "\n",
       ".sk-estimator-doc-link:hover span {\n",
       "  display: block;\n",
       "}\n",
       "\n",
       "/* \"?\"-specific style due to the `<a>` HTML tag */\n",
       "\n",
       "#sk-container-id-1 a.estimator_doc_link {\n",
       "  float: right;\n",
       "  font-size: 1rem;\n",
       "  line-height: 1em;\n",
       "  font-family: monospace;\n",
       "  background-color: var(--sklearn-color-background);\n",
       "  border-radius: 1rem;\n",
       "  height: 1rem;\n",
       "  width: 1rem;\n",
       "  text-decoration: none;\n",
       "  /* unfitted */\n",
       "  color: var(--sklearn-color-unfitted-level-1);\n",
       "  border: var(--sklearn-color-unfitted-level-1) 1pt solid;\n",
       "}\n",
       "\n",
       "#sk-container-id-1 a.estimator_doc_link.fitted {\n",
       "  /* fitted */\n",
       "  border: var(--sklearn-color-fitted-level-1) 1pt solid;\n",
       "  color: var(--sklearn-color-fitted-level-1);\n",
       "}\n",
       "\n",
       "/* On hover */\n",
       "#sk-container-id-1 a.estimator_doc_link:hover {\n",
       "  /* unfitted */\n",
       "  background-color: var(--sklearn-color-unfitted-level-3);\n",
       "  color: var(--sklearn-color-background);\n",
       "  text-decoration: none;\n",
       "}\n",
       "\n",
       "#sk-container-id-1 a.estimator_doc_link.fitted:hover {\n",
       "  /* fitted */\n",
       "  background-color: var(--sklearn-color-fitted-level-3);\n",
       "}\n",
       "</style><div id=\"sk-container-id-1\" class=\"sk-top-container\"><div class=\"sk-text-repr-fallback\"><pre>LogisticRegression(solver=&#x27;liblinear&#x27;)</pre><b>In a Jupyter environment, please rerun this cell to show the HTML representation or trust the notebook. <br />On GitHub, the HTML representation is unable to render, please try loading this page with nbviewer.org.</b></div><div class=\"sk-container\" hidden><div class=\"sk-item\"><div class=\"sk-estimator fitted sk-toggleable\"><input class=\"sk-toggleable__control sk-hidden--visually\" id=\"sk-estimator-id-1\" type=\"checkbox\" checked><label for=\"sk-estimator-id-1\" class=\"sk-toggleable__label fitted sk-toggleable__label-arrow fitted\">&nbsp;&nbsp;LogisticRegression<a class=\"sk-estimator-doc-link fitted\" rel=\"noreferrer\" target=\"_blank\" href=\"https://scikit-learn.org/1.4/modules/generated/sklearn.linear_model.LogisticRegression.html\">?<span>Documentation for LogisticRegression</span></a><span class=\"sk-estimator-doc-link fitted\">i<span>Fitted</span></span></label><div class=\"sk-toggleable__content fitted\"><pre>LogisticRegression(solver=&#x27;liblinear&#x27;)</pre></div> </div></div></div></div>"
      ],
      "text/plain": [
       "LogisticRegression(solver='liblinear')"
      ]
     },
     "execution_count": 77,
     "metadata": {},
     "output_type": "execute_result"
    }
   ],
   "source": [
    "from sklearn.linear_model import LogisticRegression\n",
    "from sklearn.decomposition import PCA\n",
    "\n",
    "# intialize pca and logistic regression model\n",
    "pca = PCA(n_components=2)\n",
    "lr = LogisticRegression(multi_class='auto', solver='liblinear')\n",
    "\n",
    "# fit and transform data\n",
    "X_train_pca = pca.fit_transform(X_train_std)\n",
    "X_test_pca = pca.transform(X_test_std)\n",
    "lr.fit(X_train_pca, y_train)"
   ]
  },
  {
   "cell_type": "markdown",
   "id": "85f8412c",
   "metadata": {},
   "source": [
    "### Testing MDS\n",
    "\n",
    "With number classification dataset"
   ]
  },
  {
   "cell_type": "code",
   "execution_count": 80,
   "id": "1d8e3ebc",
   "metadata": {},
   "outputs": [
    {
     "name": "stdout",
     "output_type": "stream",
     "text": [
      "Original Dimesnion of X =  (1797, 64)\n",
      "Dimesnion of X after MDS =  (1797, 2)\n"
     ]
    },
    {
     "data": {
      "image/png": "[encoded data removed]",
      "text/plain": [
       "<Figure size 800x600 with 2 Axes>"
      ]
     },
     "metadata": {},
     "output_type": "display_data"
    }
   ],
   "source": [
    "import numpy as np\n",
    "import matplotlib.pyplot as plt\n",
    "from sklearn.datasets import load_digits\n",
    "from sklearn.manifold import MDS\n",
    "\n",
    "# Load a sample dataset (e.g., the digits dataset)\n",
    "data = load_digits()\n",
    "X, y = data.data, data.target\n",
    "\n",
    "print('Original Dimesnion of X = ', X.shape)\n",
    "# Create an MDS model with the desired number of dimensions\n",
    "# Number of dimensions for visualization\n",
    "n_components = 2\n",
    "mds = MDS(n_components=n_components)\n",
    "\n",
    "# Fit the MDS model to your data\n",
    "X_reduced = mds.fit_transform(X)\n",
    "\n",
    "print('Dimesnion of X after MDS = ',X_reduced.shape)\n",
    "\n",
    "# Visualize the reduced data\n",
    "plt.figure(figsize=(8, 6))\n",
    "plt.scatter(X_reduced[:, 0], X_reduced[:, 1], c=y, cmap=plt.cm.get_cmap(\"jet\", 10))\n",
    "plt.colorbar(label='Digit Label', ticks=range(10))\n",
    "plt.title(\"MDS Visualization of Digits Dataset\")\n",
    "plt.xlabel(\"MDS Dimension 1\")\n",
    "plt.ylabel(\"MDS Dimension 2\")\n",
    "plt.show()\n"
   ]
  },
  {
   "cell_type": "code",
   "execution_count": 81,
   "id": "8f2f2796",
   "metadata": {},
   "outputs": [
    {
     "data": {
      "text/plain": [
       "array([[ 0.,  0.,  5., ...,  0.,  0.,  0.],\n",
       "       [ 0.,  0.,  0., ..., 10.,  0.,  0.],\n",
       "       [ 0.,  0.,  0., ..., 16.,  9.,  0.],\n",
       "       ...,\n",
       "       [ 0.,  0.,  1., ...,  6.,  0.,  0.],\n",
       "       [ 0.,  0.,  2., ..., 12.,  0.,  0.],\n",
       "       [ 0.,  0., 10., ..., 12.,  1.,  0.]])"
      ]
     },
     "execution_count": 81,
     "metadata": {},
     "output_type": "execute_result"
    }
   ],
   "source": [
    "X"
   ]
  },
  {
   "cell_type": "code",
   "execution_count": 82,
   "id": "89d28133",
   "metadata": {},
   "outputs": [],
   "source": [
    "import numpy as np\n",
    "import matplotlib.pyplot as plt\n",
    "from sklearn.datasets import load_digits\n",
    "from sklearn.manifold import MDS"
   ]
  },
  {
   "cell_type": "code",
   "execution_count": 83,
   "id": "3a79202f",
   "metadata": {},
   "outputs": [
    {
     "data": {
      "text/plain": [
       "array([[  0,   0,   0, ..., 128, 125,  93],\n",
       "       [  0,   0,   0, ..., 128, 125,  93],\n",
       "       [  0,   0,   0, ..., 128, 125,  93],\n",
       "       ...,\n",
       "       [128, 128, 128, ...,   0, 133, 159],\n",
       "       [125, 125, 125, ..., 133,   0, 157],\n",
       "       [ 93,  93,  93, ..., 159, 157,   0]], dtype=int16)"
      ]
     },
     "execution_count": 83,
     "metadata": {},
     "output_type": "execute_result"
    }
   ],
   "source": [
    "alpha_chain = tr.pw_alpha\n",
    "alpha_chain"
   ]
  },
  {
   "cell_type": "code",
   "execution_count": 84,
   "id": "ffebfc92",
   "metadata": {},
   "outputs": [
    {
     "data": {
      "text/plain": [
       "array([0, 1, 2, ..., 8, 9, 8])"
      ]
     },
     "execution_count": 84,
     "metadata": {},
     "output_type": "execute_result"
    }
   ],
   "source": [
    "data.target"
   ]
  },
  {
   "cell_type": "code",
   "execution_count": 85,
   "id": "c86b2864",
   "metadata": {},
   "outputs": [
    {
     "name": "stdout",
     "output_type": "stream",
     "text": [
      "Original Dimensionn of alpha chain  = (934, 934)\n"
     ]
    },
    {
     "name": "stderr",
     "output_type": "stream",
     "text": [
      "/opt/anaconda3/lib/python3.9/site-packages/sklearn/manifold/_mds.py:626: UserWarning: The MDS API has changed. ``fit`` now constructs an dissimilarity matrix from data. To use a custom dissimilarity matrix, set ``dissimilarity='precomputed'``.\n",
      "  warnings.warn(\n"
     ]
    }
   ],
   "source": [
    "## Ploting pairwise alpha chain\n",
    "\n",
    "print(\"Original Dimensionn of alpha chain  =\", tr.pw_alpha.shape)\n",
    "\n",
    "#Create an MDS model with the desired number of dimensions\n",
    "#Number of dimensions for visualization\n",
    "\n",
    "n_components = 2\n",
    "msd = MDS(n_components = n_components)\n",
    "\n",
    "#Fit the MDS model to the data\n",
    "X_reduced = mds.fit_transform(alpha_chain)"
   ]
  },
  {
   "cell_type": "code",
   "execution_count": 86,
   "id": "7fb9b69d",
   "metadata": {},
   "outputs": [
    {
     "name": "stdout",
     "output_type": "stream",
     "text": [
      "(934, 2)\n"
     ]
    }
   ],
   "source": [
    "print(X_reduced.shape)"
   ]
  },
  {
   "cell_type": "code",
   "execution_count": 87,
   "id": "b9b09534",
   "metadata": {},
   "outputs": [
    {
     "data": {
      "text/plain": [
       "array([[-1088.73544074,   393.20019424],\n",
       "       [-1088.73544074,   393.20019424],\n",
       "       [-1088.73544074,   393.20019424],\n",
       "       ...,\n",
       "       [  164.17609334,  -749.19864382],\n",
       "       [   13.57007682,  -110.26541844],\n",
       "       [ -551.94398   ,  1303.56872779]])"
      ]
     },
     "execution_count": 87,
     "metadata": {},
     "output_type": "execute_result"
    }
   ],
   "source": [
    "X_reduced"
   ]
  },
  {
   "cell_type": "code",
   "execution_count": 88,
   "id": "c39c66c1",
   "metadata": {},
   "outputs": [
    {
     "data": {
      "image/png": "[encoded data removed]",
      "text/plain": [
       "<Figure size 800x600 with 1 Axes>"
      ]
     },
     "metadata": {},
     "output_type": "display_data"
    }
   ],
   "source": [
    "plt.figure(figsize=(8, 6))\n",
    "plt.scatter(X_reduced[:, 0], X_reduced[:, 1])\n",
    "plt.title(\"MDS Visualization of alpha chain\")\n",
    "plt.xlabel(\"MDS Dimension 1\")\n",
    "plt.ylabel(\"MDS Dimension 2\")\n",
    "plt.show()"
   ]
  },
  {
   "cell_type": "code",
   "execution_count": 89,
   "id": "23c68dd0",
   "metadata": {},
   "outputs": [
    {
     "name": "stderr",
     "output_type": "stream",
     "text": [
      "--2024-02-29 23:34:51--  https://raw.githubusercontent.com/kmayerb/tcrdist3_book_chapter/main/data/clonotypes_minervina.tsv\n",
      "Resolving raw.githubusercontent.com (raw.githubusercontent.com)... 185.199.108.133, 185.199.110.133, 185.199.109.133, ...\n",
      "Connecting to raw.githubusercontent.com (raw.githubusercontent.com)|185.199.108.133|:443... connected.\n",
      "HTTP request sent, awaiting response... 200 OK\n",
      "Length: 163902 (160K) [text/plain]\n",
      "Saving to: 'clonotypes_minervina.tsv'\n",
      "\n",
      "     0K .......... .......... .......... .......... .......... 31% 4.79M 0s\n",
      "    50K .......... .......... .......... .......... .......... 62% 4.51M 0s\n",
      "   100K .......... .......... .......... .......... .......... 93% 13.2M 0s\n",
      "   150K ..........                                            100% 25.1M=0.03s\n",
      "\n",
      "2024-02-29 23:34:52 (6.22 MB/s) - 'clonotypes_minervina.tsv' saved [163902/163902]\n",
      "\n"
     ]
    },
    {
     "data": {
      "text/html": [
       "<div>\n",
       "<style scoped>\n",
       "    .dataframe tbody tr th:only-of-type {\n",
       "        vertical-align: middle;\n",
       "    }\n",
       "\n",
       "    .dataframe tbody tr th {\n",
       "        vertical-align: top;\n",
       "    }\n",
       "\n",
       "    .dataframe thead th {\n",
       "        text-align: right;\n",
       "    }\n",
       "</style>\n",
       "<table border=\"1\" class=\"dataframe\">\n",
       "  <thead>\n",
       "    <tr style=\"text-align: right;\">\n",
       "      <th></th>\n",
       "      <th>cdr3_b_aa</th>\n",
       "      <th>cdr3b_nt</th>\n",
       "      <th>v_b_gene</th>\n",
       "      <th>j_b_gene</th>\n",
       "      <th>cdr3_a_aa</th>\n",
       "      <th>cdr3a_nt</th>\n",
       "      <th>v_a_gene</th>\n",
       "      <th>j_a_gene</th>\n",
       "      <th>clonotype_id</th>\n",
       "      <th>Degree</th>\n",
       "      <th>cl_120</th>\n",
       "      <th>cl_120_members</th>\n",
       "      <th>subject</th>\n",
       "      <th>epitope</th>\n",
       "      <th>specificity</th>\n",
       "      <th>category</th>\n",
       "    </tr>\n",
       "  </thead>\n",
       "  <tbody>\n",
       "    <tr>\n",
       "      <th>0</th>\n",
       "      <td>CASSLAGYEQYF</td>\n",
       "      <td>TGCGCCAGCAGCTTGGCGGGGTACGAGCAGTACTTC</td>\n",
       "      <td>TRBV5-1</td>\n",
       "      <td>TRBJ2-7</td>\n",
       "      <td>CAVDIRAGNMLTF</td>\n",
       "      <td>TGTGCCGTGGACATAAGAGCAGGCAACATGCTCACCTTT</td>\n",
       "      <td>TRAV39</td>\n",
       "      <td>TRAJ39</td>\n",
       "      <td>1</td>\n",
       "      <td>0</td>\n",
       "      <td>1</td>\n",
       "      <td>1</td>\n",
       "      <td>N2</td>\n",
       "      <td>A01_LTD</td>\n",
       "      <td>spike</td>\n",
       "      <td>vax</td>\n",
       "    </tr>\n",
       "    <tr>\n",
       "      <th>1</th>\n",
       "      <td>CASSLGFPNQPQHF</td>\n",
       "      <td>TGTGCCAGCAGTTTGGGTTTCCCCAATCAGCCCCAGCATTTT</td>\n",
       "      <td>TRBV27</td>\n",
       "      <td>TRBJ1-5</td>\n",
       "      <td>CGTELRGKLIF</td>\n",
       "      <td>TGCGGCACAGAGCTCCGGGGAAAGCTTATCTTC</td>\n",
       "      <td>TRAV30</td>\n",
       "      <td>TRAJ23</td>\n",
       "      <td>2</td>\n",
       "      <td>0</td>\n",
       "      <td>2</td>\n",
       "      <td>1</td>\n",
       "      <td>R9</td>\n",
       "      <td>A01_LTD</td>\n",
       "      <td>spike</td>\n",
       "      <td>after_2</td>\n",
       "    </tr>\n",
       "    <tr>\n",
       "      <th>2</th>\n",
       "      <td>CASSDDGTGIETQYF</td>\n",
       "      <td>TGTGCCAGCAGCGATGATGGGACAGGGATTGAGACCCAGTACTTC</td>\n",
       "      <td>TRBV9</td>\n",
       "      <td>TRBJ2-5</td>\n",
       "      <td>CAASAFISNTGKLIF</td>\n",
       "      <td>TGTGCAGCAAGCGCATTCATAAGCAACACAGGCAAACTAATCTTT</td>\n",
       "      <td>TRAV29/DV5</td>\n",
       "      <td>TRAJ37</td>\n",
       "      <td>3</td>\n",
       "      <td>0</td>\n",
       "      <td>3</td>\n",
       "      <td>1</td>\n",
       "      <td>R6</td>\n",
       "      <td>A01_TTD</td>\n",
       "      <td>non-spike</td>\n",
       "      <td>inf</td>\n",
       "    </tr>\n",
       "  </tbody>\n",
       "</table>\n",
       "</div>"
      ],
      "text/plain": [
       "         cdr3_b_aa                                       cdr3b_nt v_b_gene  \\\n",
       "0     CASSLAGYEQYF           TGCGCCAGCAGCTTGGCGGGGTACGAGCAGTACTTC  TRBV5-1   \n",
       "1   CASSLGFPNQPQHF     TGTGCCAGCAGTTTGGGTTTCCCCAATCAGCCCCAGCATTTT   TRBV27   \n",
       "2  CASSDDGTGIETQYF  TGTGCCAGCAGCGATGATGGGACAGGGATTGAGACCCAGTACTTC    TRBV9   \n",
       "\n",
       "  j_b_gene        cdr3_a_aa                                       cdr3a_nt  \\\n",
       "0  TRBJ2-7    CAVDIRAGNMLTF        TGTGCCGTGGACATAAGAGCAGGCAACATGCTCACCTTT   \n",
       "1  TRBJ1-5      CGTELRGKLIF              TGCGGCACAGAGCTCCGGGGAAAGCTTATCTTC   \n",
       "2  TRBJ2-5  CAASAFISNTGKLIF  TGTGCAGCAAGCGCATTCATAAGCAACACAGGCAAACTAATCTTT   \n",
       "\n",
       "     v_a_gene j_a_gene  clonotype_id  Degree  cl_120  cl_120_members subject  \\\n",
       "0      TRAV39   TRAJ39             1       0       1               1      N2   \n",
       "1      TRAV30   TRAJ23             2       0       2               1      R9   \n",
       "2  TRAV29/DV5   TRAJ37             3       0       3               1      R6   \n",
       "\n",
       "   epitope specificity category  \n",
       "0  A01_LTD       spike      vax  \n",
       "1  A01_LTD       spike  after_2  \n",
       "2  A01_TTD   non-spike      inf  "
      ]
     },
     "execution_count": 89,
     "metadata": {},
     "output_type": "execute_result"
    }
   ],
   "source": [
    "# Check that file for example 1 is available. If not, download it directly from GitHub\n",
    "import os\n",
    "f = 'clonotypes_minervina.tsv'\n",
    "if not os.path.isfile(f):\n",
    "    os.system('wget https://raw.githubusercontent.com/kmayerb/tcrdist3_book_chapter/main/data/clonotypes_minervina.tsv')\n",
    "          \n",
    "          \n",
    "# Make a folder ‘data’ where some outputs will be written\n",
    "path = 'data'\n",
    "if not os.path.isdir(path):\n",
    "    os.mkdir(path)\n",
    "import os\n",
    "import pandas as pd\n",
    "import numpy as np\n",
    "from tcrdist.repertoire import TCRrep\n",
    "# Load Pandas DataFrame from SI Table 6 (Minervina and Pogorelyy et al., 2021)\n",
    "f = 'clonotypes_minervina.tsv'\n",
    "df = pd.read_csv(f,sep =\"\\t\")\n",
    "# Subset to top 6 epitopes.\n",
    "list_of_epitopes = ['A01_TTD', 'A02_YLQ', 'A01_LTD', \n",
    "'B15_NQK', 'A01_FTS', 'A24_NYN']\n",
    "df = df[ df['epitope'].isin(list_of_epitopes)].\\\n",
    "reset_index(drop = True)\n",
    "# Rename columns.\n",
    "df = df.rename(columns = {\n",
    "'cdr3b':'cdr3_b_aa', \n",
    "'vb'   :'v_b_gene', \n",
    "'jb'   :'j_b_gene',\n",
    "'cdr3a':'cdr3_a_aa', \n",
    "'va'   :'v_a_gene', \n",
    "'ja'   :'j_a_gene',\n",
    "'donor':'subject'} )\n",
    "# Preview the first 2 lines of DataFrame.\n",
    "df.head(3)"
   ]
  },
  {
   "cell_type": "code",
   "execution_count": 90,
   "id": "438c0b9a",
   "metadata": {},
   "outputs": [
    {
     "data": {
      "text/html": [
       "<div>\n",
       "<style scoped>\n",
       "    .dataframe tbody tr th:only-of-type {\n",
       "        vertical-align: middle;\n",
       "    }\n",
       "\n",
       "    .dataframe tbody tr th {\n",
       "        vertical-align: top;\n",
       "    }\n",
       "\n",
       "    .dataframe thead th {\n",
       "        text-align: right;\n",
       "    }\n",
       "</style>\n",
       "<table border=\"1\" class=\"dataframe\">\n",
       "  <thead>\n",
       "    <tr style=\"text-align: right;\">\n",
       "      <th></th>\n",
       "      <th>complex.id</th>\n",
       "      <th>gene_x</th>\n",
       "      <th>cdr3_a_aa</th>\n",
       "      <th>v_a_gene</th>\n",
       "      <th>j_a_gene</th>\n",
       "      <th>species_x</th>\n",
       "      <th>antigen.epitope_x</th>\n",
       "      <th>antigen.gene_x</th>\n",
       "      <th>vdjdb.score_x</th>\n",
       "      <th>gene_y</th>\n",
       "      <th>cdr3_b_aa</th>\n",
       "      <th>v_b_gene</th>\n",
       "      <th>j_b_gene</th>\n",
       "      <th>antigen.epitope_y</th>\n",
       "      <th>antigen.gene_y</th>\n",
       "      <th>vdjdb.score_y</th>\n",
       "      <th>count</th>\n",
       "    </tr>\n",
       "  </thead>\n",
       "  <tbody>\n",
       "    <tr>\n",
       "      <th>0</th>\n",
       "      <td>114</td>\n",
       "      <td>TRA</td>\n",
       "      <td>CAGAGSQGNLIF</td>\n",
       "      <td>TRAV27*01</td>\n",
       "      <td>TRAJ42*01</td>\n",
       "      <td>HomoSapiens</td>\n",
       "      <td>GILGFVFTL</td>\n",
       "      <td>M</td>\n",
       "      <td>3</td>\n",
       "      <td>TRB</td>\n",
       "      <td>CASSSRSSYEQYF</td>\n",
       "      <td>TRBV19*01</td>\n",
       "      <td>TRBJ2-7*01</td>\n",
       "      <td>GILGFVFTL</td>\n",
       "      <td>M</td>\n",
       "      <td>3</td>\n",
       "      <td>1</td>\n",
       "    </tr>\n",
       "    <tr>\n",
       "      <th>1</th>\n",
       "      <td>136</td>\n",
       "      <td>TRA</td>\n",
       "      <td>CAGAGSQGNLIF</td>\n",
       "      <td>TRAV27*01</td>\n",
       "      <td>TRAJ42*01</td>\n",
       "      <td>HomoSapiens</td>\n",
       "      <td>GILGFVFTL</td>\n",
       "      <td>M</td>\n",
       "      <td>3</td>\n",
       "      <td>TRB</td>\n",
       "      <td>CASSSRSSYEQYF</td>\n",
       "      <td>TRBV19*01</td>\n",
       "      <td>TRBJ2-7*01</td>\n",
       "      <td>GILGFVFTL</td>\n",
       "      <td>M</td>\n",
       "      <td>3</td>\n",
       "      <td>1</td>\n",
       "    </tr>\n",
       "    <tr>\n",
       "      <th>2</th>\n",
       "      <td>137</td>\n",
       "      <td>TRA</td>\n",
       "      <td>CAGAGSQGNLIF</td>\n",
       "      <td>TRAV27*01</td>\n",
       "      <td>TRAJ42*01</td>\n",
       "      <td>HomoSapiens</td>\n",
       "      <td>GILGFVFTL</td>\n",
       "      <td>M</td>\n",
       "      <td>3</td>\n",
       "      <td>TRB</td>\n",
       "      <td>CASSSRSSYEQYF</td>\n",
       "      <td>TRBV19*01</td>\n",
       "      <td>TRBJ2-7*01</td>\n",
       "      <td>GILGFVFTL</td>\n",
       "      <td>M</td>\n",
       "      <td>3</td>\n",
       "      <td>1</td>\n",
       "    </tr>\n",
       "  </tbody>\n",
       "</table>\n",
       "</div>"
      ],
      "text/plain": [
       "   complex.id gene_x     cdr3_a_aa   v_a_gene   j_a_gene    species_x  \\\n",
       "0         114    TRA  CAGAGSQGNLIF  TRAV27*01  TRAJ42*01  HomoSapiens   \n",
       "1         136    TRA  CAGAGSQGNLIF  TRAV27*01  TRAJ42*01  HomoSapiens   \n",
       "2         137    TRA  CAGAGSQGNLIF  TRAV27*01  TRAJ42*01  HomoSapiens   \n",
       "\n",
       "  antigen.epitope_x antigen.gene_x  vdjdb.score_x gene_y      cdr3_b_aa  \\\n",
       "0         GILGFVFTL              M              3    TRB  CASSSRSSYEQYF   \n",
       "1         GILGFVFTL              M              3    TRB  CASSSRSSYEQYF   \n",
       "2         GILGFVFTL              M              3    TRB  CASSSRSSYEQYF   \n",
       "\n",
       "    v_b_gene    j_b_gene antigen.epitope_y antigen.gene_y  vdjdb.score_y  \\\n",
       "0  TRBV19*01  TRBJ2-7*01         GILGFVFTL              M              3   \n",
       "1  TRBV19*01  TRBJ2-7*01         GILGFVFTL              M              3   \n",
       "2  TRBV19*01  TRBJ2-7*01         GILGFVFTL              M              3   \n",
       "\n",
       "   count  \n",
       "0      1  \n",
       "1      1  \n",
       "2      1  "
      ]
     },
     "execution_count": 90,
     "metadata": {},
     "output_type": "execute_result"
    }
   ],
   "source": [
    "df_merge.head(3)"
   ]
  },
  {
   "cell_type": "code",
   "execution_count": 91,
   "id": "c553fea7",
   "metadata": {},
   "outputs": [],
   "source": [
    "df_merge.drop(columns=['gene_x', 'antigen.gene_x', 'antigen.gene_y', 'vdjdb.score_y'], inplace=True)\n"
   ]
  },
  {
   "cell_type": "code",
   "execution_count": 92,
   "id": "9a9fcee1",
   "metadata": {},
   "outputs": [],
   "source": [
    "# Add *01 allele level designation.\n",
    "df['v_a_gene']  = df['v_a_gene'].apply(lambda x: f\"{x}*01\")\n",
    "df['v_b_gene']  = df['v_b_gene'].apply(lambda x: f\"{x}*01\")\n",
    "df['j_a_gene']  = df['j_a_gene'].apply(lambda x: f\"{x}*01\")\n",
    "df['j_b_gene']  = df['j_b_gene'].apply(lambda x: f\"{x}*01\")\n",
    "df['count'] = 1\n",
    "\n",
    "\n",
    "from tcrdist.repertoire import TCRrep\n",
    "tr = TCRrep(cell_df = df[['subject','epitope','cdr3_a_aa','v_a_gene',\n",
    "'j_a_gene','cdr3_b_aa','v_b_gene','j_b_gene',\n",
    "'category','count','cdr3a_nt','cdr3b_nt']], \n",
    "organism = \"human\", \n",
    "chains = ['alpha','beta'],\n",
    "deduplicate = True,\n",
    "compute_distances = True)"
   ]
  },
  {
   "cell_type": "code",
   "execution_count": 93,
   "id": "df6a298d",
   "metadata": {},
   "outputs": [
    {
     "name": "stdout",
     "output_type": "stream",
     "text": [
      "alpha shape: (742, 742)\n",
      "beta shape (742, 742)\n"
     ]
    }
   ],
   "source": [
    "print(\"alpha shape:\", tr.pw_beta.shape)\n",
    "print(\"beta shape\", tr.pw_beta.shape)"
   ]
  },
  {
   "cell_type": "code",
   "execution_count": 94,
   "id": "01f71107",
   "metadata": {},
   "outputs": [],
   "source": [
    "tr.pw_alpha_beta = tr.pw_beta + tr.pw_alpha"
   ]
  },
  {
   "cell_type": "code",
   "execution_count": 95,
   "id": "1d34880b",
   "metadata": {},
   "outputs": [
    {
     "ename": "IndentationError",
     "evalue": "expected an indented block (451242876.py, line 9)",
     "output_type": "error",
     "traceback": [
      "\u001b[0;36m  File \u001b[0;32m\"/var/folders/sz/gqjdvyvj0gb5ct5sxhb6jj5c0000gn/T/ipykernel_4125/451242876.py\"\u001b[0;36m, line \u001b[0;32m9\u001b[0m\n\u001b[0;31m    for j in n:\u001b[0m\n\u001b[0m    ^\u001b[0m\n\u001b[0;31mIndentationError\u001b[0m\u001b[0;31m:\u001b[0m expected an indented block\n"
     ]
    }
   ],
   "source": [
    "from tcrdist.public import _neighbors_fixed_radius\n",
    "# <edge_threshold> is used to define maximum distance to for a network edge.\n",
    "edge_threshold = 120\n",
    "# <tr.pw_alpha_beta> is paired chain TCRdist.\n",
    "tr.pw_alpha_beta = tr.pw_beta + tr.pw_alpha\n",
    "# <network> initialize a list to populate with edges between TCRs.\n",
    "network = list()\n",
    "for i,n in enumerate(_neighbors_fixed_radius(tr.pw_alpha_beta, edge_threshold)):\n",
    "for j in n:\n",
    "if i != j:\n",
    "network.append((\n",
    "i,                                 # ‘node_1’ - row index\n",
    "j,                                 # ‘node_2’ - column index\n",
    "(tr.pw_alpha_beta )[i,j],          # ‘dist’- gets the distance between TCR(i,j)\n",
    "tr.clone_df[‘v_b_gene’].iloc[i],   # ‘v_b_gene_1’ - v beta gene of clone i\n",
    "tr.clone_df[‘v_b_gene’].iloc[j],   # ‘v_b_gene_2’ - v beta gene of clone j\n",
    "tr.clone_df[‘cdr3_b_aa’].iloc[i],  # ‘cdr3_b_aa_1’ - cdr3 beta of clone i\n",
    "tr.clone_df[‘cdr3_b_aa’].iloc[j],  # ‘cdr3_b_aa_2’ - cdr3 beta of clone j\n",
    "tr.clone_df[‘subject’].iloc[i],    # ‘subject_1’ - subject of clone i\n",
    "tr.clone_df[‘subject’].iloc[j],    # ‘subject_2’ - subject of clone j\n",
    "tr.clone_df[‘epitope’].iloc[i],    # ‘epitope_1’ - epitope associated with clone i\n",
    "tr.clone_df[‘epitope’].iloc[j],    # ‘epitope_2’ - epitope associated with clone j\n",
    "len(n)-1))                         # ‘K_neighbors’ - number of neighbors\n",
    "cols = [‘node_1’, ‘node_2’, ‘dist’, ‘v_b_gene_1’, ‘v_b_gene_2’, \n",
    "‘cdr3_b_aa_1’,’cdr3_b_aa_2’, ‘subject_1’,’subject_2’,\n",
    "‘epitope_1’,’epitope_2’, ‘K_neighbors’]\n",
    "# Store the <network> edge list as a DataFrame.\n",
    "df_net = pd.DataFrame(network, columns = cols)\n",
    "# Option to write the edge list to a file for use in Gephi, Cytoscape, R, etc.\n",
    "outfile = os.path.join(path,f\"{f}_paired_TCRdist_{edge_threshold}_network.csv\")\n",
    "df_net.to_csv(outfile, sep = “,”, index = False)\n"
   ]
  },
  {
   "cell_type": "code",
   "execution_count": null,
   "id": "9708b96b",
   "metadata": {},
   "outputs": [],
   "source": [
    "df.epitope.value_counts()"
   ]
  },
  {
   "cell_type": "code",
   "execution_count": null,
   "id": "5d18a729",
   "metadata": {},
   "outputs": [],
   "source": []
  }
 ],
 "metadata": {
  "kernelspec": {
   "display_name": "Python 3 (ipykernel)",
   "language": "python",
   "name": "python3"
  },
  "language_info": {
   "codemirror_mode": {
    "name": "ipython",
    "version": 3
   },
   "file_extension": ".py",
   "mimetype": "text/x-python",
   "name": "python",
   "nbconvert_exporter": "python",
   "pygments_lexer": "ipython3",
   "version": "3.9.13"
  }
 },
 "nbformat": 4,
 "nbformat_minor": 5
}
