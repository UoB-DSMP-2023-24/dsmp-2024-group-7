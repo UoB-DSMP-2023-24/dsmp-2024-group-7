{
 "cells": [
  {
   "cell_type": "code",
   "execution_count": 8,
   "id": "692cbb62",
   "metadata": {
    "scrolled": true
   },
   "outputs": [
    {
     "data": {
      "text/plain": [
       "array(['complex.id', 'gene', 'cdr3', 'v.segm', 'j.segm', 'species',\n",
       "       'mhc.a', 'mhc.b', 'mhc.class', 'antigen.epitope', 'antigen.gene',\n",
       "       'antigen.species', 'reference.id', 'method', 'meta', 'cdr3fix',\n",
       "       'vdjdb.score', 'web.method', 'web.method.seq', 'web.cdr3fix.nc',\n",
       "       'web.cdr3fix.unmp'], dtype=object)"
      ]
     },
     "execution_count": 8,
     "metadata": {},
     "output_type": "execute_result"
    }
   ],
   "source": [
    "import pandas as pd\n",
    "# Read the entire file into a DataFrame\n",
    "df = pd.read_csv(\"vdjdb.txt\", delimiter='\\t')  # Assuming the file is tab-delimited, adjust if needed\n",
    "\n",
    "# Display the DataFrame\n",
    "df.columns.values"
   ]
  },
  {
   "cell_type": "code",
   "execution_count": 9,
   "id": "f82871e3",
   "metadata": {
    "scrolled": true
   },
   "outputs": [],
   "source": [
    "df = df[['complex.id', 'gene', 'cdr3', 'v.segm', 'j.segm', 'species',\n",
    "       'mhc.a', 'mhc.b', 'mhc.class', 'antigen.epitope', 'antigen.gene',\n",
    "       'antigen.species','vdjdb.score', 'meta']]"
   ]
  },
  {
   "cell_type": "code",
   "execution_count": 59,
   "id": "534a32a2",
   "metadata": {},
   "outputs": [
    {
     "data": {
      "text/plain": [
       "array(['HomoSapiens', 'MusMusculus', 'MacacaMulatta'], dtype=object)"
      ]
     },
     "execution_count": 59,
     "metadata": {},
     "output_type": "execute_result"
    }
   ],
   "source": [
    "df['species'].unique()"
   ]
  },
  {
   "cell_type": "code",
   "execution_count": 60,
   "id": "056a8f05",
   "metadata": {},
   "outputs": [
    {
     "data": {
      "text/html": [
       "<div>\n",
       "<style scoped>\n",
       "    .dataframe tbody tr th:only-of-type {\n",
       "        vertical-align: middle;\n",
       "    }\n",
       "\n",
       "    .dataframe tbody tr th {\n",
       "        vertical-align: top;\n",
       "    }\n",
       "\n",
       "    .dataframe thead th {\n",
       "        text-align: right;\n",
       "    }\n",
       "</style>\n",
       "<table border=\"1\" class=\"dataframe\">\n",
       "  <thead>\n",
       "    <tr style=\"text-align: right;\">\n",
       "      <th></th>\n",
       "      <th>meta</th>\n",
       "    </tr>\n",
       "  </thead>\n",
       "  <tbody>\n",
       "    <tr>\n",
       "      <th>0</th>\n",
       "      <td>{\"cell.subset\": \"CD8+\", \"clone.id\": \"\", \"donor.MHC\": \"HLA-A*02:01,HLA-A*24:02;HLA-B*08:01,HLA-B*5701;HLA-Cw*06:02,HLA-Cw*07:01;HLA-DRB*07:01,HLA-DRB*13:01\", \"donor.MHC.method\": \"\", \"epitope.id\": \"\", \"replica.id\": \"\", \"samples.found\": 1, \"structure.id\": \"\", \"studies.found\": 1, \"study.id\": \"\", \"subject.cohort\": \"HIV+\", \"subject.id\": \"005\", \"tissue\": \"PBMC\"}</td>\n",
       "    </tr>\n",
       "    <tr>\n",
       "      <th>1</th>\n",
       "      <td>{\"cell.subset\": \"CD8+\", \"clone.id\": \"\", \"donor.MHC\": \"HLA-A*02:01,HLA-A*24:02;HLA-B*08:01,HLA-B*5701;HLA-Cw*06:02,HLA-Cw*07:01;HLA-DRB*07:01,HLA-DRB*13:01\", \"donor.MHC.method\": \"\", \"epitope.id\": \"\", \"replica.id\": \"\", \"samples.found\": 1, \"structure.id\": \"\", \"studies.found\": 1, \"study.id\": \"\", \"subject.cohort\": \"HIV+\", \"subject.id\": \"005\", \"tissue\": \"PBMC\"}</td>\n",
       "    </tr>\n",
       "    <tr>\n",
       "      <th>2</th>\n",
       "      <td>{\"cell.subset\": \"CD8+\", \"clone.id\": \"\", \"donor.MHC\": \"HLA-A*01:01,HLA-A*02:01;HLA-B*08:01,HLA-B*57:01;HLA-Cw*06:02,HLA-Cw*07:01;HLA-DRB*08:03:2,HLA-DRB*15:01:1\", \"donor.MHC.method\": \"\", \"epitope.id\": \"\", \"replica.id\": \"\", \"samples.found\": 1, \"structure.id\": \"\", \"studies.found\": 1, \"study.id\": \"\", \"subject.cohort\": \"HIV+\", \"subject.id\": \"065\", \"tissue\": \"PBMC\"}</td>\n",
       "    </tr>\n",
       "  </tbody>\n",
       "</table>\n",
       "</div>"
      ],
      "text/plain": [
       "                                                                                                                                                                                                                                                                                                                                                                         meta\n",
       "0       {\"cell.subset\": \"CD8+\", \"clone.id\": \"\", \"donor.MHC\": \"HLA-A*02:01,HLA-A*24:02;HLA-B*08:01,HLA-B*5701;HLA-Cw*06:02,HLA-Cw*07:01;HLA-DRB*07:01,HLA-DRB*13:01\", \"donor.MHC.method\": \"\", \"epitope.id\": \"\", \"replica.id\": \"\", \"samples.found\": 1, \"structure.id\": \"\", \"studies.found\": 1, \"study.id\": \"\", \"subject.cohort\": \"HIV+\", \"subject.id\": \"005\", \"tissue\": \"PBMC\"}\n",
       "1       {\"cell.subset\": \"CD8+\", \"clone.id\": \"\", \"donor.MHC\": \"HLA-A*02:01,HLA-A*24:02;HLA-B*08:01,HLA-B*5701;HLA-Cw*06:02,HLA-Cw*07:01;HLA-DRB*07:01,HLA-DRB*13:01\", \"donor.MHC.method\": \"\", \"epitope.id\": \"\", \"replica.id\": \"\", \"samples.found\": 1, \"structure.id\": \"\", \"studies.found\": 1, \"study.id\": \"\", \"subject.cohort\": \"HIV+\", \"subject.id\": \"005\", \"tissue\": \"PBMC\"}\n",
       "2  {\"cell.subset\": \"CD8+\", \"clone.id\": \"\", \"donor.MHC\": \"HLA-A*01:01,HLA-A*02:01;HLA-B*08:01,HLA-B*57:01;HLA-Cw*06:02,HLA-Cw*07:01;HLA-DRB*08:03:2,HLA-DRB*15:01:1\", \"donor.MHC.method\": \"\", \"epitope.id\": \"\", \"replica.id\": \"\", \"samples.found\": 1, \"structure.id\": \"\", \"studies.found\": 1, \"study.id\": \"\", \"subject.cohort\": \"HIV+\", \"subject.id\": \"065\", \"tissue\": \"PBMC\"}"
      ]
     },
     "execution_count": 60,
     "metadata": {},
     "output_type": "execute_result"
    }
   ],
   "source": [
    "pd.set_option('display.max_colwidth', None)\n",
    "df[['meta']].head(3)"
   ]
  },
  {
   "cell_type": "code",
   "execution_count": 61,
   "id": "d00d390a",
   "metadata": {
    "scrolled": true
   },
   "outputs": [
    {
     "data": {
      "text/html": [
       "<div>\n",
       "<style scoped>\n",
       "    .dataframe tbody tr th:only-of-type {\n",
       "        vertical-align: middle;\n",
       "    }\n",
       "\n",
       "    .dataframe tbody tr th {\n",
       "        vertical-align: top;\n",
       "    }\n",
       "\n",
       "    .dataframe thead th {\n",
       "        text-align: right;\n",
       "    }\n",
       "</style>\n",
       "<table border=\"1\" class=\"dataframe\">\n",
       "  <thead>\n",
       "    <tr style=\"text-align: right;\">\n",
       "      <th></th>\n",
       "      <th>complex.id</th>\n",
       "      <th>gene</th>\n",
       "      <th>cdr3</th>\n",
       "      <th>v.segm</th>\n",
       "      <th>j.segm</th>\n",
       "      <th>species</th>\n",
       "      <th>mhc.a</th>\n",
       "      <th>mhc.b</th>\n",
       "      <th>mhc.class</th>\n",
       "      <th>antigen.epitope</th>\n",
       "      <th>antigen.gene</th>\n",
       "      <th>antigen.species</th>\n",
       "      <th>vdjdb.score</th>\n",
       "      <th>meta</th>\n",
       "    </tr>\n",
       "  </thead>\n",
       "  <tbody>\n",
       "    <tr>\n",
       "      <th>7</th>\n",
       "      <td>4</td>\n",
       "      <td>TRA</td>\n",
       "      <td>CAYRPPGTYKYIF</td>\n",
       "      <td>TRAV38-2/DV8*01</td>\n",
       "      <td>TRAJ40*01</td>\n",
       "      <td>HomoSapiens</td>\n",
       "      <td>HLA-B*08</td>\n",
       "      <td>B2M</td>\n",
       "      <td>MHCI</td>\n",
       "      <td>FLKEKGGL</td>\n",
       "      <td>Nef</td>\n",
       "      <td>HIV-1</td>\n",
       "      <td>2</td>\n",
       "      <td>{\"cell.subset\": \"CD8+\", \"clone.id\": \"\", \"donor...</td>\n",
       "    </tr>\n",
       "    <tr>\n",
       "      <th>8</th>\n",
       "      <td>4</td>\n",
       "      <td>TRB</td>\n",
       "      <td>CASSALASLNEQFF</td>\n",
       "      <td>TRBV14*01</td>\n",
       "      <td>TRBJ2-1*01</td>\n",
       "      <td>HomoSapiens</td>\n",
       "      <td>HLA-B*08</td>\n",
       "      <td>B2M</td>\n",
       "      <td>MHCI</td>\n",
       "      <td>FLKEKGGL</td>\n",
       "      <td>Nef</td>\n",
       "      <td>HIV-1</td>\n",
       "      <td>2</td>\n",
       "      <td>{\"cell.subset\": \"CD8+\", \"clone.id\": \"\", \"donor...</td>\n",
       "    </tr>\n",
       "  </tbody>\n",
       "</table>\n",
       "</div>"
      ],
      "text/plain": [
       "   complex.id gene            cdr3           v.segm      j.segm      species  \\\n",
       "7           4  TRA   CAYRPPGTYKYIF  TRAV38-2/DV8*01   TRAJ40*01  HomoSapiens   \n",
       "8           4  TRB  CASSALASLNEQFF        TRBV14*01  TRBJ2-1*01  HomoSapiens   \n",
       "\n",
       "      mhc.a mhc.b mhc.class antigen.epitope antigen.gene antigen.species  \\\n",
       "7  HLA-B*08   B2M      MHCI        FLKEKGGL          Nef           HIV-1   \n",
       "8  HLA-B*08   B2M      MHCI        FLKEKGGL          Nef           HIV-1   \n",
       "\n",
       "   vdjdb.score                                               meta  \n",
       "7            2  {\"cell.subset\": \"CD8+\", \"clone.id\": \"\", \"donor...  \n",
       "8            2  {\"cell.subset\": \"CD8+\", \"clone.id\": \"\", \"donor...  "
      ]
     },
     "execution_count": 61,
     "metadata": {},
     "output_type": "execute_result"
    }
   ],
   "source": [
    "pd.reset_option('display.max_colwidth')\n",
    "\n",
    "filtered_df = df[df['complex.id'] == 4]\n",
    "filtered_df.head(5)"
   ]
  },
  {
   "cell_type": "code",
   "execution_count": 62,
   "id": "5329a145",
   "metadata": {
    "scrolled": false
   },
   "outputs": [
    {
     "name": "stdout",
     "output_type": "stream",
     "text": [
      "<class 'pandas.core.frame.DataFrame'>\n",
      "RangeIndex: 92771 entries, 0 to 92770\n",
      "Data columns (total 14 columns):\n",
      " #   Column           Non-Null Count  Dtype \n",
      "---  ------           --------------  ----- \n",
      " 0   complex.id       92771 non-null  int64 \n",
      " 1   gene             92771 non-null  object\n",
      " 2   cdr3             92771 non-null  object\n",
      " 3   v.segm           92670 non-null  object\n",
      " 4   j.segm           91626 non-null  object\n",
      " 5   species          92771 non-null  object\n",
      " 6   mhc.a            92771 non-null  object\n",
      " 7   mhc.b            92771 non-null  object\n",
      " 8   mhc.class        92771 non-null  object\n",
      " 9   antigen.epitope  92771 non-null  object\n",
      " 10  antigen.gene     92709 non-null  object\n",
      " 11  antigen.species  92771 non-null  object\n",
      " 12  vdjdb.score      92771 non-null  int64 \n",
      " 13  meta             92771 non-null  object\n",
      "dtypes: int64(2), object(12)\n",
      "memory usage: 9.9+ MB\n"
     ]
    }
   ],
   "source": [
    "df.info()"
   ]
  },
  {
   "cell_type": "code",
   "execution_count": 63,
   "id": "11a97679",
   "metadata": {},
   "outputs": [
    {
     "data": {
      "text/plain": [
       "complex.id          int64\n",
       "gene               object\n",
       "cdr3               object\n",
       "v.segm             object\n",
       "j.segm             object\n",
       "species            object\n",
       "mhc.a              object\n",
       "mhc.b              object\n",
       "mhc.class          object\n",
       "antigen.epitope    object\n",
       "antigen.gene       object\n",
       "antigen.species    object\n",
       "vdjdb.score         int64\n",
       "meta               object\n",
       "dtype: object"
      ]
     },
     "execution_count": 63,
     "metadata": {},
     "output_type": "execute_result"
    }
   ],
   "source": [
    "df.dtypes"
   ]
  },
  {
   "cell_type": "code",
   "execution_count": 64,
   "id": "acf6ee46",
   "metadata": {},
   "outputs": [
    {
     "data": {
      "text/plain": [
       "(92771, 14)"
      ]
     },
     "execution_count": 64,
     "metadata": {},
     "output_type": "execute_result"
    }
   ],
   "source": [
    "df.shape"
   ]
  },
  {
   "cell_type": "code",
   "execution_count": 65,
   "id": "5aabee6d",
   "metadata": {},
   "outputs": [
    {
     "data": {
      "text/plain": [
       "(280, 14)"
      ]
     },
     "execution_count": 65,
     "metadata": {},
     "output_type": "execute_result"
    }
   ],
   "source": [
    "# Number of duplicate rows\n",
    "duplicate_rows_df = df[df.duplicated()]\n",
    "duplicate_rows_df.shape"
   ]
  },
  {
   "cell_type": "code",
   "execution_count": 66,
   "id": "b5c301ef",
   "metadata": {
    "scrolled": false
   },
   "outputs": [
    {
     "data": {
      "text/plain": [
       "complex.id         92771\n",
       "gene               92771\n",
       "cdr3               92771\n",
       "v.segm             92670\n",
       "j.segm             91626\n",
       "species            92771\n",
       "mhc.a              92771\n",
       "mhc.b              92771\n",
       "mhc.class          92771\n",
       "antigen.epitope    92771\n",
       "antigen.gene       92709\n",
       "antigen.species    92771\n",
       "vdjdb.score        92771\n",
       "meta               92771\n",
       "dtype: int64"
      ]
     },
     "execution_count": 66,
     "metadata": {},
     "output_type": "execute_result"
    }
   ],
   "source": [
    "df.count()"
   ]
  },
  {
   "cell_type": "markdown",
   "id": "a5816557",
   "metadata": {},
   "source": [
    "### Dropping duplicate columns"
   ]
  },
  {
   "cell_type": "code",
   "execution_count": 67,
   "id": "6c954574",
   "metadata": {},
   "outputs": [
    {
     "data": {
      "text/plain": [
       "(92491, 14)"
      ]
     },
     "execution_count": 67,
     "metadata": {},
     "output_type": "execute_result"
    }
   ],
   "source": [
    "# Drop duplicate rows\n",
    "df=df.drop_duplicates()\n",
    "df.shape"
   ]
  },
  {
   "cell_type": "markdown",
   "id": "43ad8db4",
   "metadata": {},
   "source": [
    "### Dropping missing and null value"
   ]
  },
  {
   "cell_type": "code",
   "execution_count": 68,
   "id": "13f28026",
   "metadata": {},
   "outputs": [
    {
     "name": "stdout",
     "output_type": "stream",
     "text": [
      "complex.id            0\n",
      "gene                  0\n",
      "cdr3                  0\n",
      "v.segm               99\n",
      "j.segm             1141\n",
      "species               0\n",
      "mhc.a                 0\n",
      "mhc.b                 0\n",
      "mhc.class             0\n",
      "antigen.epitope       0\n",
      "antigen.gene         62\n",
      "antigen.species       0\n",
      "vdjdb.score           0\n",
      "meta                  0\n",
      "dtype: int64\n"
     ]
    }
   ],
   "source": [
    "print(df.isnull().sum())"
   ]
  },
  {
   "cell_type": "code",
   "execution_count": 69,
   "id": "c5d87c67",
   "metadata": {},
   "outputs": [
    {
     "data": {
      "text/plain": [
       "(91274, 14)"
      ]
     },
     "execution_count": 69,
     "metadata": {},
     "output_type": "execute_result"
    }
   ],
   "source": [
    "df=df.dropna()\n",
    "df.shape"
   ]
  },
  {
   "cell_type": "markdown",
   "id": "4efc7d83",
   "metadata": {},
   "source": [
    "**After dropping null value**\n",
    "* Bulleted"
   ]
  },
  {
   "cell_type": "code",
   "execution_count": 70,
   "id": "077556f0",
   "metadata": {},
   "outputs": [
    {
     "name": "stdout",
     "output_type": "stream",
     "text": [
      "complex.id         0\n",
      "gene               0\n",
      "cdr3               0\n",
      "v.segm             0\n",
      "j.segm             0\n",
      "species            0\n",
      "mhc.a              0\n",
      "mhc.b              0\n",
      "mhc.class          0\n",
      "antigen.epitope    0\n",
      "antigen.gene       0\n",
      "antigen.species    0\n",
      "vdjdb.score        0\n",
      "meta               0\n",
      "dtype: int64\n"
     ]
    }
   ],
   "source": [
    "print(df.isnull().sum())"
   ]
  },
  {
   "cell_type": "markdown",
   "id": "f0e2cc93",
   "metadata": {},
   "source": [
    "<div class=\"alert alert-block alert-info\">\n",
    "<b>Tip:</b> Use blue boxes (alert-info) for tips and notes. \n",
    "If it’s a note, you don’t have to include the word “Note”.\n",
    "</div>\n"
   ]
  },
  {
   "cell_type": "markdown",
   "id": "fb96bfb3",
   "metadata": {},
   "source": [
    "<div class=\"alert alert-block alert-warning\">\n",
    "<b>Example:</b> Use yellow boxes for examples that are not \n",
    "inside code cells, or use for mathematical formulas if needed.\n",
    "</div>"
   ]
  },
  {
   "cell_type": "markdown",
   "id": "54cb5219",
   "metadata": {},
   "source": [
    ">**## Exploring the data ##**"
   ]
  },
  {
   "cell_type": "code",
   "execution_count": 71,
   "id": "1c2cbb3d",
   "metadata": {},
   "outputs": [
    {
     "data": {
      "text/html": [
       "<div>\n",
       "<style scoped>\n",
       "    .dataframe tbody tr th:only-of-type {\n",
       "        vertical-align: middle;\n",
       "    }\n",
       "\n",
       "    .dataframe tbody tr th {\n",
       "        vertical-align: top;\n",
       "    }\n",
       "\n",
       "    .dataframe thead th {\n",
       "        text-align: right;\n",
       "    }\n",
       "</style>\n",
       "<table border=\"1\" class=\"dataframe\">\n",
       "  <thead>\n",
       "    <tr style=\"text-align: right;\">\n",
       "      <th></th>\n",
       "      <th>complex.id</th>\n",
       "      <th>gene</th>\n",
       "      <th>cdr3</th>\n",
       "      <th>v.segm</th>\n",
       "      <th>j.segm</th>\n",
       "      <th>species</th>\n",
       "      <th>mhc.a</th>\n",
       "      <th>mhc.b</th>\n",
       "      <th>mhc.class</th>\n",
       "      <th>antigen.epitope</th>\n",
       "      <th>antigen.gene</th>\n",
       "      <th>antigen.species</th>\n",
       "      <th>vdjdb.score</th>\n",
       "      <th>meta</th>\n",
       "    </tr>\n",
       "  </thead>\n",
       "  <tbody>\n",
       "    <tr>\n",
       "      <th>5309</th>\n",
       "      <td>0</td>\n",
       "      <td>TRB</td>\n",
       "      <td>CASSKLASTAGEQYF</td>\n",
       "      <td>TRBV2*01</td>\n",
       "      <td>TRBJ2-7*01</td>\n",
       "      <td>HomoSapiens</td>\n",
       "      <td>HLA-DRA*01:01</td>\n",
       "      <td>HLA-DRB1*11:01</td>\n",
       "      <td>MHCII</td>\n",
       "      <td>DRFYKTLRAEQASQEV</td>\n",
       "      <td>Gag</td>\n",
       "      <td>HIV-1</td>\n",
       "      <td>1</td>\n",
       "      <td>{\"cell.subset\": \"CD8+\", \"clone.id\": \"\", \"donor...</td>\n",
       "    </tr>\n",
       "    <tr>\n",
       "      <th>5310</th>\n",
       "      <td>0</td>\n",
       "      <td>TRB</td>\n",
       "      <td>CASSGGQETQYF</td>\n",
       "      <td>TRBV14*01</td>\n",
       "      <td>TRBJ2-5*01</td>\n",
       "      <td>HomoSapiens</td>\n",
       "      <td>HLA-DRA*01:01</td>\n",
       "      <td>HLA-DRB1*01:01</td>\n",
       "      <td>MHCII</td>\n",
       "      <td>LNKIVRMYSPTSILD</td>\n",
       "      <td>Gag</td>\n",
       "      <td>HIV-1</td>\n",
       "      <td>1</td>\n",
       "      <td>{\"cell.subset\": \"CD8+\", \"clone.id\": \"\", \"donor...</td>\n",
       "    </tr>\n",
       "    <tr>\n",
       "      <th>5311</th>\n",
       "      <td>0</td>\n",
       "      <td>TRB</td>\n",
       "      <td>CASSWDSNYGYTF</td>\n",
       "      <td>TRBV5-5*01</td>\n",
       "      <td>TRBJ1-2*01</td>\n",
       "      <td>HomoSapiens</td>\n",
       "      <td>HLA-DRA*01:01</td>\n",
       "      <td>HLA-DRB1*01:01</td>\n",
       "      <td>MHCII</td>\n",
       "      <td>DRFYKTLRAEQASQEV</td>\n",
       "      <td>Gag</td>\n",
       "      <td>HIV-1</td>\n",
       "      <td>1</td>\n",
       "      <td>{\"cell.subset\": \"CD8+\", \"clone.id\": \"\", \"donor...</td>\n",
       "    </tr>\n",
       "  </tbody>\n",
       "</table>\n",
       "</div>"
      ],
      "text/plain": [
       "      complex.id gene             cdr3      v.segm      j.segm      species  \\\n",
       "5309           0  TRB  CASSKLASTAGEQYF    TRBV2*01  TRBJ2-7*01  HomoSapiens   \n",
       "5310           0  TRB     CASSGGQETQYF   TRBV14*01  TRBJ2-5*01  HomoSapiens   \n",
       "5311           0  TRB    CASSWDSNYGYTF  TRBV5-5*01  TRBJ1-2*01  HomoSapiens   \n",
       "\n",
       "              mhc.a           mhc.b mhc.class   antigen.epitope antigen.gene  \\\n",
       "5309  HLA-DRA*01:01  HLA-DRB1*11:01     MHCII  DRFYKTLRAEQASQEV          Gag   \n",
       "5310  HLA-DRA*01:01  HLA-DRB1*01:01     MHCII   LNKIVRMYSPTSILD          Gag   \n",
       "5311  HLA-DRA*01:01  HLA-DRB1*01:01     MHCII  DRFYKTLRAEQASQEV          Gag   \n",
       "\n",
       "     antigen.species  vdjdb.score  \\\n",
       "5309           HIV-1            1   \n",
       "5310           HIV-1            1   \n",
       "5311           HIV-1            1   \n",
       "\n",
       "                                                   meta  \n",
       "5309  {\"cell.subset\": \"CD8+\", \"clone.id\": \"\", \"donor...  \n",
       "5310  {\"cell.subset\": \"CD8+\", \"clone.id\": \"\", \"donor...  \n",
       "5311  {\"cell.subset\": \"CD8+\", \"clone.id\": \"\", \"donor...  "
      ]
     },
     "execution_count": 71,
     "metadata": {},
     "output_type": "execute_result"
    }
   ],
   "source": [
    "# Specify the substring to search for\n",
    "# pd.set_option('display.max_colwidth', None)\n",
    "pd.reset_option('display.max_colwidth')\n",
    "substring = 'CD8+'\n",
    "\n",
    "# Use boolean indexing to filter rows containing the substring in 'Description'\n",
    "filtered_df = df[df['meta'].str.contains(substring, case=False, na=False)]\n",
    "\n",
    "filtered_df[filtered_df['mhc.class']=='MHCII'].head(3)\n",
    "\n"
   ]
  },
  {
   "cell_type": "markdown",
   "id": "1533c1dd",
   "metadata": {},
   "source": [
    "##  TCRDist3"
   ]
  },
  {
   "cell_type": "code",
   "execution_count": 10,
   "id": "e9c93c70",
   "metadata": {},
   "outputs": [],
   "source": [
    "df_dash = pd.read_csv(\"https://raw.githubusercontent.com/kmayerb/tcrdist2/API2/tcrdist/test_files_compact/dash.csv\")"
   ]
  },
  {
   "cell_type": "code",
   "execution_count": 11,
   "id": "0e6a1daf",
   "metadata": {},
   "outputs": [
    {
     "data": {
      "text/html": [
       "<div>\n",
       "<style scoped>\n",
       "    .dataframe tbody tr th:only-of-type {\n",
       "        vertical-align: middle;\n",
       "    }\n",
       "\n",
       "    .dataframe tbody tr th {\n",
       "        vertical-align: top;\n",
       "    }\n",
       "\n",
       "    .dataframe thead th {\n",
       "        text-align: right;\n",
       "    }\n",
       "</style>\n",
       "<table border=\"1\" class=\"dataframe\">\n",
       "  <thead>\n",
       "    <tr style=\"text-align: right;\">\n",
       "      <th></th>\n",
       "      <th>subject</th>\n",
       "      <th>epitope</th>\n",
       "      <th>count</th>\n",
       "      <th>v_a_gene</th>\n",
       "      <th>j_a_gene</th>\n",
       "      <th>cdr3_a_aa</th>\n",
       "      <th>cdr3_a_nucseq</th>\n",
       "      <th>v_b_gene</th>\n",
       "      <th>j_b_gene</th>\n",
       "      <th>cdr3_b_aa</th>\n",
       "      <th>cdr3_b_nucseq</th>\n",
       "      <th>clone_id</th>\n",
       "    </tr>\n",
       "  </thead>\n",
       "  <tbody>\n",
       "    <tr>\n",
       "      <th>0</th>\n",
       "      <td>mouse_subject0050</td>\n",
       "      <td>PA</td>\n",
       "      <td>2</td>\n",
       "      <td>TRAV7-3*01</td>\n",
       "      <td>TRAJ33*01</td>\n",
       "      <td>CAVSLDSNYQLIW</td>\n",
       "      <td>tgtgcagtgagcctcgatagcaactatcagttgatctgg</td>\n",
       "      <td>TRBV13-1*01</td>\n",
       "      <td>TRBJ2-3*01</td>\n",
       "      <td>CASSDFDWGGDAETLYF</td>\n",
       "      <td>tgtgccagcagtgatttcgactggggaggggatgcagaaacgctgt...</td>\n",
       "      <td>mouse_tcr0072.clone</td>\n",
       "    </tr>\n",
       "    <tr>\n",
       "      <th>1</th>\n",
       "      <td>mouse_subject0050</td>\n",
       "      <td>PA</td>\n",
       "      <td>6</td>\n",
       "      <td>TRAV6D-6*01</td>\n",
       "      <td>TRAJ56*01</td>\n",
       "      <td>CALGDRATGGNNKLTF</td>\n",
       "      <td>tgtgctctgggtgacagggctactggaggcaataataagctgactttt</td>\n",
       "      <td>TRBV29*01</td>\n",
       "      <td>TRBJ1-1*01</td>\n",
       "      <td>CASSPDRGEVFF</td>\n",
       "      <td>tgtgctagcagtccggacaggggtgaagtcttcttt</td>\n",
       "      <td>mouse_tcr0096.clone</td>\n",
       "    </tr>\n",
       "    <tr>\n",
       "      <th>2</th>\n",
       "      <td>mouse_subject0050</td>\n",
       "      <td>PA</td>\n",
       "      <td>1</td>\n",
       "      <td>TRAV6D-6*01</td>\n",
       "      <td>TRAJ49*01</td>\n",
       "      <td>CALGSNTGYQNFYF</td>\n",
       "      <td>tgtgctctgggctcgaacacgggttaccagaacttctatttt</td>\n",
       "      <td>TRBV29*01</td>\n",
       "      <td>TRBJ1-5*01</td>\n",
       "      <td>CASTGGGAPLF</td>\n",
       "      <td>tgtgctagcacagggggaggggctccgcttttt</td>\n",
       "      <td>mouse_tcr0276.clone</td>\n",
       "    </tr>\n",
       "  </tbody>\n",
       "</table>\n",
       "</div>"
      ],
      "text/plain": [
       "             subject epitope  count     v_a_gene   j_a_gene         cdr3_a_aa  \\\n",
       "0  mouse_subject0050      PA      2   TRAV7-3*01  TRAJ33*01     CAVSLDSNYQLIW   \n",
       "1  mouse_subject0050      PA      6  TRAV6D-6*01  TRAJ56*01  CALGDRATGGNNKLTF   \n",
       "2  mouse_subject0050      PA      1  TRAV6D-6*01  TRAJ49*01    CALGSNTGYQNFYF   \n",
       "\n",
       "                                      cdr3_a_nucseq     v_b_gene    j_b_gene  \\\n",
       "0           tgtgcagtgagcctcgatagcaactatcagttgatctgg  TRBV13-1*01  TRBJ2-3*01   \n",
       "1  tgtgctctgggtgacagggctactggaggcaataataagctgactttt    TRBV29*01  TRBJ1-1*01   \n",
       "2        tgtgctctgggctcgaacacgggttaccagaacttctatttt    TRBV29*01  TRBJ1-5*01   \n",
       "\n",
       "           cdr3_b_aa                                      cdr3_b_nucseq  \\\n",
       "0  CASSDFDWGGDAETLYF  tgtgccagcagtgatttcgactggggaggggatgcagaaacgctgt...   \n",
       "1       CASSPDRGEVFF               tgtgctagcagtccggacaggggtgaagtcttcttt   \n",
       "2        CASTGGGAPLF                  tgtgctagcacagggggaggggctccgcttttt   \n",
       "\n",
       "              clone_id  \n",
       "0  mouse_tcr0072.clone  \n",
       "1  mouse_tcr0096.clone  \n",
       "2  mouse_tcr0276.clone  "
      ]
     },
     "execution_count": 11,
     "metadata": {},
     "output_type": "execute_result"
    }
   ],
   "source": [
    "df_dash.head(3)"
   ]
  },
  {
   "cell_type": "markdown",
   "id": "c3465abc",
   "metadata": {},
   "source": [
    "## Installing tcrdist3 package ##"
   ]
  },
  {
   "cell_type": "code",
   "execution_count": 38,
   "id": "90d806a4",
   "metadata": {
    "collapsed": true
   },
   "outputs": [
    {
     "name": "stdout",
     "output_type": "stream",
     "text": [
      "Requirement already satisfied: tcrdist3 in /opt/anaconda3/lib/python3.9/site-packages (0.2.2)\n",
      "Requirement already satisfied: scipy>=1.4.1 in /opt/anaconda3/lib/python3.9/site-packages (from tcrdist3) (1.9.1)\n",
      "Requirement already satisfied: zipdist>=0.1.5 in /opt/anaconda3/lib/python3.9/site-packages (from tcrdist3) (0.1.5)\n",
      "Requirement already satisfied: olga>=1.2.1 in /opt/anaconda3/lib/python3.9/site-packages (from tcrdist3) (1.2.4)\n",
      "Requirement already satisfied: pwseqdist>=0.6 in /opt/anaconda3/lib/python3.9/site-packages (from tcrdist3) (0.6)\n",
      "Requirement already satisfied: numba in /opt/anaconda3/lib/python3.9/site-packages (from tcrdist3) (0.55.1)\n",
      "Requirement already satisfied: palmotif>=0.2 in /opt/anaconda3/lib/python3.9/site-packages (from tcrdist3) (0.4)\n",
      "Requirement already satisfied: parasail>=1.1.17 in /opt/anaconda3/lib/python3.9/site-packages (from tcrdist3) (1.3.4)\n",
      "Requirement already satisfied: tcrsampler>=0.1.9 in /opt/anaconda3/lib/python3.9/site-packages (from tcrdist3) (0.1.9)\n",
      "Requirement already satisfied: hierdiff>=0.4 in /opt/anaconda3/lib/python3.9/site-packages (from tcrdist3) (0.9)\n",
      "Requirement already satisfied: dill>=0.3.2 in /opt/anaconda3/lib/python3.9/site-packages (from tcrdist3) (0.3.4)\n",
      "Requirement already satisfied: fishersapi in /opt/anaconda3/lib/python3.9/site-packages (from tcrdist3) (0.5)\n",
      "Requirement already satisfied: parmap>=1.5.2 in /opt/anaconda3/lib/python3.9/site-packages (from tcrdist3) (1.7.0)\n",
      "Requirement already satisfied: numpy>=1.16.4 in /opt/anaconda3/lib/python3.9/site-packages (from tcrdist3) (1.21.5)\n",
      "Requirement already satisfied: pandas>=0.24.2 in /opt/anaconda3/lib/python3.9/site-packages (from tcrdist3) (1.4.4)\n",
      "Requirement already satisfied: joblib>=0.16 in /opt/anaconda3/lib/python3.9/site-packages (from hierdiff>=0.4->tcrdist3) (1.1.0)\n",
      "Requirement already satisfied: jinja2>=2.10.1 in /opt/anaconda3/lib/python3.9/site-packages (from hierdiff>=0.4->tcrdist3) (2.11.3)\n",
      "Requirement already satisfied: statsmodels>=0.10 in /opt/anaconda3/lib/python3.9/site-packages (from hierdiff>=0.4->tcrdist3) (0.13.2)\n",
      "Requirement already satisfied: fisher in /opt/anaconda3/lib/python3.9/site-packages (from fishersapi->tcrdist3) (0.1.14)\n",
      "Requirement already satisfied: svgwrite in /opt/anaconda3/lib/python3.9/site-packages (from palmotif>=0.2->tcrdist3) (1.4.3)\n",
      "Requirement already satisfied: matplotlib in /opt/anaconda3/lib/python3.9/site-packages (from palmotif>=0.2->tcrdist3) (3.5.2)\n",
      "Requirement already satisfied: python-dateutil>=2.8.1 in /opt/anaconda3/lib/python3.9/site-packages (from pandas>=0.24.2->tcrdist3) (2.8.2)\n",
      "Requirement already satisfied: pytz>=2020.1 in /opt/anaconda3/lib/python3.9/site-packages (from pandas>=0.24.2->tcrdist3) (2022.1)\n",
      "Requirement already satisfied: progress>=1.5 in /opt/anaconda3/lib/python3.9/site-packages (from tcrsampler>=0.1.9->tcrdist3) (1.6)\n",
      "Requirement already satisfied: feather-format>=0.4.1 in /opt/anaconda3/lib/python3.9/site-packages (from zipdist>=0.1.5->tcrdist3) (0.4.1)\n",
      "Requirement already satisfied: setuptools in /opt/anaconda3/lib/python3.9/site-packages (from numba->tcrdist3) (63.4.1)\n",
      "Requirement already satisfied: llvmlite<0.39,>=0.38.0rc1 in /opt/anaconda3/lib/python3.9/site-packages (from numba->tcrdist3) (0.38.0)\n",
      "Requirement already satisfied: pyarrow>=0.4.0 in /opt/anaconda3/lib/python3.9/site-packages (from feather-format>=0.4.1->zipdist>=0.1.5->tcrdist3) (15.0.0)\n",
      "Requirement already satisfied: MarkupSafe>=0.23 in /opt/anaconda3/lib/python3.9/site-packages (from jinja2>=2.10.1->hierdiff>=0.4->tcrdist3) (2.0.1)\n",
      "Requirement already satisfied: six>=1.5 in /opt/anaconda3/lib/python3.9/site-packages (from python-dateutil>=2.8.1->pandas>=0.24.2->tcrdist3) (1.16.0)\n",
      "Requirement already satisfied: packaging>=21.3 in /opt/anaconda3/lib/python3.9/site-packages (from statsmodels>=0.10->hierdiff>=0.4->tcrdist3) (21.3)\n",
      "Requirement already satisfied: patsy>=0.5.2 in /opt/anaconda3/lib/python3.9/site-packages (from statsmodels>=0.10->hierdiff>=0.4->tcrdist3) (0.5.2)\n",
      "Requirement already satisfied: cycler>=0.10 in /opt/anaconda3/lib/python3.9/site-packages (from matplotlib->palmotif>=0.2->tcrdist3) (0.11.0)\n",
      "Requirement already satisfied: pillow>=6.2.0 in /opt/anaconda3/lib/python3.9/site-packages (from matplotlib->palmotif>=0.2->tcrdist3) (9.2.0)\n",
      "Requirement already satisfied: pyparsing>=2.2.1 in /opt/anaconda3/lib/python3.9/site-packages (from matplotlib->palmotif>=0.2->tcrdist3) (3.0.9)\n",
      "Requirement already satisfied: kiwisolver>=1.0.1 in /opt/anaconda3/lib/python3.9/site-packages (from matplotlib->palmotif>=0.2->tcrdist3) (1.4.2)\n",
      "Requirement already satisfied: fonttools>=4.22.0 in /opt/anaconda3/lib/python3.9/site-packages (from matplotlib->palmotif>=0.2->tcrdist3) (4.25.0)\n",
      "Note: you may need to restart the kernel to use updated packages.\n"
     ]
    }
   ],
   "source": [
    "# pip install tcrdist3\n",
    "# installing tcrdist3"
   ]
  },
  {
   "cell_type": "code",
   "execution_count": 13,
   "id": "6a0919ce",
   "metadata": {},
   "outputs": [
    {
     "data": {
      "text/plain": [
       "array([[  0,  98,  85, ..., 122, 122, 108],\n",
       "       [ 98,   0,  82, ..., 117, 117, 134],\n",
       "       [ 85,  82,   0, ..., 119, 119, 144],\n",
       "       ...,\n",
       "       [122, 117, 119, ...,   0,  12, 118],\n",
       "       [122, 117, 119, ...,  12,   0, 130],\n",
       "       [108, 134, 144, ..., 118, 130,   0]], dtype=int16)"
      ]
     },
     "execution_count": 13,
     "metadata": {},
     "output_type": "execute_result"
    }
   ],
   "source": [
    "from tcrdist.repertoire import TCRrep\n",
    "tr = TCRrep(cell_df = df_dash, \n",
    "            organism = 'mouse', \n",
    "            chains = ['alpha','beta'], \n",
    "            db_file = 'alphabeta_gammadelta_db.tsv')\n",
    "\n",
    "tr.pw_alpha\n",
    "# tr.pw_beta\n",
    "# tr.pw_cdr3_a_aa\n",
    "# tr.pw_cdr3_b_aa"
   ]
  },
  {
   "cell_type": "code",
   "execution_count": 16,
   "id": "48806023",
   "metadata": {},
   "outputs": [
    {
     "data": {
      "application/vnd.jupyter.widget-view+json": {
       "model_id": "17fb6a27525548cb8261e85a40d08c2e",
       "version_major": 2,
       "version_minor": 0
      },
      "text/plain": [
       "  0%|          | 0/20 [00:00<?, ?it/s]"
      ]
     },
     "metadata": {},
     "output_type": "display_data"
    },
    {
     "data": {
      "application/vnd.jupyter.widget-view+json": {
       "model_id": "34afe51ebb13449d929144f5a5352868",
       "version_major": 2,
       "version_minor": 0
      },
      "text/plain": [
       "  0%|          | 0/20 [00:00<?, ?it/s]"
      ]
     },
     "metadata": {},
     "output_type": "display_data"
    },
    {
     "data": {
      "text/plain": [
       "<1920x1920 sparse matrix of type '<class 'numpy.int16'>'\n",
       "\twith 108846 stored elements in Compressed Sparse Row format>"
      ]
     },
     "execution_count": 16,
     "metadata": {},
     "output_type": "execute_result"
    }
   ],
   "source": [
    "tr = TCRrep(cell_df = df_dash,\n",
    "            organism = 'mouse',\n",
    "            chains = ['alpha','beta'],\n",
    "            db_file = 'alphabeta_gammadelta_db.tsv',\n",
    "            compute_distances = False)\n",
    "\n",
    "tr.cpus = 2\n",
    "tr.compute_sparse_rect_distances(radius = 50, chunk_size = 100)\n",
    "tr.rw_beta\n",
    "# \"\"\"<1920x1920 sparse matrix of type '<class 'numpy.int16'>'\n",
    "# with 108846 stored elements in Compressed Sparse Row format>\n",
    "# \"\"\"\n",
    "# print(tr.rw_beta)    "
   ]
  },
  {
   "cell_type": "code",
   "execution_count": 17,
   "id": "bcf4bb76",
   "metadata": {
    "collapsed": true
   },
   "outputs": [
    {
     "name": "stdout",
     "output_type": "stream",
     "text": [
      "  (0, 0)\t-1\n",
      "  (1, 1)\t-1\n",
      "  (1, 470)\t24\n",
      "  (1, 472)\t24\n",
      "  (2, 2)\t-1\n",
      "  (2, 9)\t48\n",
      "  (2, 18)\t39\n",
      "  (2, 21)\t36\n",
      "  (2, 49)\t12\n",
      "  (2, 73)\t12\n",
      "  (2, 94)\t42\n",
      "  (2, 115)\t36\n",
      "  (2, 116)\t24\n",
      "  (2, 117)\t24\n",
      "  (2, 139)\t36\n",
      "  (2, 140)\t36\n",
      "  (2, 141)\t39\n",
      "  (2, 150)\t39\n",
      "  (2, 171)\t36\n",
      "  (2, 195)\t48\n",
      "  (2, 201)\t12\n",
      "  (2, 202)\t33\n",
      "  (2, 211)\t36\n",
      "  (2, 212)\t36\n",
      "  (2, 218)\t36\n",
      "  :\t:\n",
      "  (1919, 1456)\t48\n",
      "  (1919, 1545)\t48\n",
      "  (1919, 1615)\t48\n",
      "  (1919, 1667)\t41\n",
      "  (1919, 1674)\t24\n",
      "  (1919, 1680)\t48\n",
      "  (1919, 1683)\t48\n",
      "  (1919, 1685)\t24\n",
      "  (1919, 1689)\t50\n",
      "  (1919, 1696)\t24\n",
      "  (1919, 1858)\t48\n",
      "  (1919, 1866)\t38\n",
      "  (1919, 1868)\t43\n",
      "  (1919, 1869)\t12\n",
      "  (1919, 1884)\t50\n",
      "  (1919, 1886)\t48\n",
      "  (1919, 1892)\t38\n",
      "  (1919, 1894)\t50\n",
      "  (1919, 1905)\t24\n",
      "  (1919, 1909)\t33\n",
      "  (1919, 1910)\t49\n",
      "  (1919, 1911)\t24\n",
      "  (1919, 1912)\t38\n",
      "  (1919, 1918)\t12\n",
      "  (1919, 1919)\t-1\n"
     ]
    }
   ],
   "source": [
    "print(tr.rw_beta)    "
   ]
  },
  {
   "cell_type": "markdown",
   "id": "3f3d8607",
   "metadata": {},
   "source": [
    "## Preprocess vdjdb.text data frame for tcrdist3"
   ]
  },
  {
   "cell_type": "code",
   "execution_count": 20,
   "id": "d09c4960",
   "metadata": {},
   "outputs": [
    {
     "data": {
      "text/plain": [
       "array(['complex.id', 'gene', 'cdr3', 'v.segm', 'j.segm', 'species',\n",
       "       'mhc.a', 'mhc.b', 'mhc.class', 'antigen.epitope', 'antigen.gene',\n",
       "       'antigen.species', 'vdjdb.score', 'meta'], dtype=object)"
      ]
     },
     "execution_count": 20,
     "metadata": {},
     "output_type": "execute_result"
    }
   ],
   "source": [
    "df.columns.values"
   ]
  },
  {
   "cell_type": "code",
   "execution_count": 21,
   "id": "83898518",
   "metadata": {},
   "outputs": [],
   "source": [
    "df = df[['complex.id', 'gene', 'cdr3', 'v.segm', 'j.segm', 'species']]"
   ]
  },
  {
   "cell_type": "code",
   "execution_count": 45,
   "id": "48953943",
   "metadata": {
    "scrolled": true
   },
   "outputs": [
    {
     "data": {
      "text/html": [
       "<div>\n",
       "<style scoped>\n",
       "    .dataframe tbody tr th:only-of-type {\n",
       "        vertical-align: middle;\n",
       "    }\n",
       "\n",
       "    .dataframe tbody tr th {\n",
       "        vertical-align: top;\n",
       "    }\n",
       "\n",
       "    .dataframe thead th {\n",
       "        text-align: right;\n",
       "    }\n",
       "</style>\n",
       "<table border=\"1\" class=\"dataframe\">\n",
       "  <thead>\n",
       "    <tr style=\"text-align: right;\">\n",
       "      <th></th>\n",
       "      <th>complex.id</th>\n",
       "      <th>gene</th>\n",
       "      <th>cdr3</th>\n",
       "      <th>v.segm</th>\n",
       "      <th>j.segm</th>\n",
       "      <th>species</th>\n",
       "    </tr>\n",
       "  </thead>\n",
       "  <tbody>\n",
       "    <tr>\n",
       "      <th>0</th>\n",
       "      <td>1</td>\n",
       "      <td>TRA</td>\n",
       "      <td>CIVRAPGRADMRF</td>\n",
       "      <td>TRAV26-1*01</td>\n",
       "      <td>TRAJ43*01</td>\n",
       "      <td>HomoSapiens</td>\n",
       "    </tr>\n",
       "    <tr>\n",
       "      <th>1</th>\n",
       "      <td>1</td>\n",
       "      <td>TRB</td>\n",
       "      <td>CASSYLPGQGDHYSNQPQHF</td>\n",
       "      <td>TRBV13*01</td>\n",
       "      <td>TRBJ1-5*01</td>\n",
       "      <td>HomoSapiens</td>\n",
       "    </tr>\n",
       "    <tr>\n",
       "      <th>2</th>\n",
       "      <td>0</td>\n",
       "      <td>TRB</td>\n",
       "      <td>CASSFEAGQGFFSNQPQHF</td>\n",
       "      <td>TRBV13*01</td>\n",
       "      <td>TRBJ1-5*01</td>\n",
       "      <td>HomoSapiens</td>\n",
       "    </tr>\n",
       "  </tbody>\n",
       "</table>\n",
       "</div>"
      ],
      "text/plain": [
       "   complex.id gene                  cdr3       v.segm      j.segm      species\n",
       "0           1  TRA         CIVRAPGRADMRF  TRAV26-1*01   TRAJ43*01  HomoSapiens\n",
       "1           1  TRB  CASSYLPGQGDHYSNQPQHF    TRBV13*01  TRBJ1-5*01  HomoSapiens\n",
       "2           0  TRB   CASSFEAGQGFFSNQPQHF    TRBV13*01  TRBJ1-5*01  HomoSapiens"
      ]
     },
     "execution_count": 45,
     "metadata": {},
     "output_type": "execute_result"
    }
   ],
   "source": [
    "df.head(3)"
   ]
  },
  {
   "cell_type": "markdown",
   "id": "6ddbd0b2",
   "metadata": {},
   "source": [
    "# Separating data set in to alpha and beta dataframe"
   ]
  },
  {
   "cell_type": "code",
   "execution_count": 55,
   "id": "011e65d0",
   "metadata": {},
   "outputs": [],
   "source": [
    "import pandas as pd\n",
    "\n",
    "# Assuming df is your original dataframe\n",
    "# Create separate dataframes for alpha and beta chains\n",
    "df_alpha = df[df['gene'] == 'TRA'].rename(columns={'cdr3': 'cdr3_a_aa', 'v.segm': 'v_a_gene', 'j.segm': 'j_a_gene'})\n",
    "df_beta = df[df['gene'] == 'TRB'].rename(columns={'cdr3': 'cdr3_b_aa', 'v.segm': 'v_b_gene', 'j.segm': 'j_b_gene'})\n",
    "\n"
   ]
  },
  {
   "cell_type": "code",
   "execution_count": 53,
   "id": "c0b34128",
   "metadata": {},
   "outputs": [],
   "source": [
    "df_alpha.reset_index(drop=True, inplace=True)\n"
   ]
  },
  {
   "cell_type": "code",
   "execution_count": 54,
   "id": "876bed93",
   "metadata": {},
   "outputs": [
    {
     "data": {
      "text/html": [
       "<div>\n",
       "<style scoped>\n",
       "    .dataframe tbody tr th:only-of-type {\n",
       "        vertical-align: middle;\n",
       "    }\n",
       "\n",
       "    .dataframe tbody tr th {\n",
       "        vertical-align: top;\n",
       "    }\n",
       "\n",
       "    .dataframe thead th {\n",
       "        text-align: right;\n",
       "    }\n",
       "</style>\n",
       "<table border=\"1\" class=\"dataframe\">\n",
       "  <thead>\n",
       "    <tr style=\"text-align: right;\">\n",
       "      <th></th>\n",
       "      <th>complex.id</th>\n",
       "      <th>gene</th>\n",
       "      <th>cdr3_a_aa</th>\n",
       "      <th>v_a_gene</th>\n",
       "      <th>j_a_gene</th>\n",
       "      <th>species</th>\n",
       "    </tr>\n",
       "  </thead>\n",
       "  <tbody>\n",
       "    <tr>\n",
       "      <th>0</th>\n",
       "      <td>1</td>\n",
       "      <td>TRA</td>\n",
       "      <td>CIVRAPGRADMRF</td>\n",
       "      <td>TRAV26-1*01</td>\n",
       "      <td>TRAJ43*01</td>\n",
       "      <td>HomoSapiens</td>\n",
       "    </tr>\n",
       "    <tr>\n",
       "      <th>1</th>\n",
       "      <td>2</td>\n",
       "      <td>TRA</td>\n",
       "      <td>CAVPSGAGSYQLTF</td>\n",
       "      <td>TRAV20*01</td>\n",
       "      <td>TRAJ28*01</td>\n",
       "      <td>HomoSapiens</td>\n",
       "    </tr>\n",
       "    <tr>\n",
       "      <th>2</th>\n",
       "      <td>3</td>\n",
       "      <td>TRA</td>\n",
       "      <td>CAVKASGSRLT</td>\n",
       "      <td>TRAV2*01</td>\n",
       "      <td>NaN</td>\n",
       "      <td>HomoSapiens</td>\n",
       "    </tr>\n",
       "    <tr>\n",
       "      <th>3</th>\n",
       "      <td>4</td>\n",
       "      <td>TRA</td>\n",
       "      <td>CAYRPPGTYKYIF</td>\n",
       "      <td>TRAV38-2/DV8*01</td>\n",
       "      <td>TRAJ40*01</td>\n",
       "      <td>HomoSapiens</td>\n",
       "    </tr>\n",
       "    <tr>\n",
       "      <th>4</th>\n",
       "      <td>5</td>\n",
       "      <td>TRA</td>\n",
       "      <td>CIVRAPGRADMRF</td>\n",
       "      <td>TRAV26-1*01</td>\n",
       "      <td>TRAJ43*01</td>\n",
       "      <td>HomoSapiens</td>\n",
       "    </tr>\n",
       "    <tr>\n",
       "      <th>...</th>\n",
       "      <td>...</td>\n",
       "      <td>...</td>\n",
       "      <td>...</td>\n",
       "      <td>...</td>\n",
       "      <td>...</td>\n",
       "      <td>...</td>\n",
       "    </tr>\n",
       "    <tr>\n",
       "      <th>38044</th>\n",
       "      <td>30590</td>\n",
       "      <td>TRA</td>\n",
       "      <td>CMDEGGSNYKLTF</td>\n",
       "      <td>TRAV26-1*01</td>\n",
       "      <td>TRAJ53*01</td>\n",
       "      <td>HomoSapiens</td>\n",
       "    </tr>\n",
       "    <tr>\n",
       "      <th>38045</th>\n",
       "      <td>30591</td>\n",
       "      <td>TRA</td>\n",
       "      <td>CSLYNNNDMRF</td>\n",
       "      <td>TRAV26-1*01</td>\n",
       "      <td>TRAJ43*01</td>\n",
       "      <td>HomoSapiens</td>\n",
       "    </tr>\n",
       "    <tr>\n",
       "      <th>38046</th>\n",
       "      <td>30592</td>\n",
       "      <td>TRA</td>\n",
       "      <td>CALSTDSWGKLQF</td>\n",
       "      <td>TRAV6*01</td>\n",
       "      <td>TRAJ24*01</td>\n",
       "      <td>HomoSapiens</td>\n",
       "    </tr>\n",
       "    <tr>\n",
       "      <th>38047</th>\n",
       "      <td>30593</td>\n",
       "      <td>TRA</td>\n",
       "      <td>CAPQGATNKLIF</td>\n",
       "      <td>TRAV12-2*01</td>\n",
       "      <td>TRAJ32*01</td>\n",
       "      <td>HomoSapiens</td>\n",
       "    </tr>\n",
       "    <tr>\n",
       "      <th>38048</th>\n",
       "      <td>30594</td>\n",
       "      <td>TRA</td>\n",
       "      <td>CLVGGSGGYNKLIF</td>\n",
       "      <td>TRAV4*01</td>\n",
       "      <td>TRAJ4*01</td>\n",
       "      <td>HomoSapiens</td>\n",
       "    </tr>\n",
       "  </tbody>\n",
       "</table>\n",
       "<p>38049 rows × 6 columns</p>\n",
       "</div>"
      ],
      "text/plain": [
       "       complex.id gene       cdr3_a_aa         v_a_gene   j_a_gene  \\\n",
       "0               1  TRA   CIVRAPGRADMRF      TRAV26-1*01  TRAJ43*01   \n",
       "1               2  TRA  CAVPSGAGSYQLTF        TRAV20*01  TRAJ28*01   \n",
       "2               3  TRA     CAVKASGSRLT         TRAV2*01        NaN   \n",
       "3               4  TRA   CAYRPPGTYKYIF  TRAV38-2/DV8*01  TRAJ40*01   \n",
       "4               5  TRA   CIVRAPGRADMRF      TRAV26-1*01  TRAJ43*01   \n",
       "...           ...  ...             ...              ...        ...   \n",
       "38044       30590  TRA   CMDEGGSNYKLTF      TRAV26-1*01  TRAJ53*01   \n",
       "38045       30591  TRA     CSLYNNNDMRF      TRAV26-1*01  TRAJ43*01   \n",
       "38046       30592  TRA   CALSTDSWGKLQF         TRAV6*01  TRAJ24*01   \n",
       "38047       30593  TRA    CAPQGATNKLIF      TRAV12-2*01  TRAJ32*01   \n",
       "38048       30594  TRA  CLVGGSGGYNKLIF         TRAV4*01   TRAJ4*01   \n",
       "\n",
       "           species  \n",
       "0      HomoSapiens  \n",
       "1      HomoSapiens  \n",
       "2      HomoSapiens  \n",
       "3      HomoSapiens  \n",
       "4      HomoSapiens  \n",
       "...            ...  \n",
       "38044  HomoSapiens  \n",
       "38045  HomoSapiens  \n",
       "38046  HomoSapiens  \n",
       "38047  HomoSapiens  \n",
       "38048  HomoSapiens  \n",
       "\n",
       "[38049 rows x 6 columns]"
      ]
     },
     "execution_count": 54,
     "metadata": {},
     "output_type": "execute_result"
    }
   ],
   "source": [
    "df_alpha"
   ]
  },
  {
   "cell_type": "code",
   "execution_count": 30,
   "id": "dc96e937",
   "metadata": {
    "scrolled": false
   },
   "outputs": [
    {
     "data": {
      "text/plain": [
       "array(['HomoSapiens', 'MusMusculus', 'MacacaMulatta'], dtype=object)"
      ]
     },
     "execution_count": 30,
     "metadata": {},
     "output_type": "execute_result"
    }
   ],
   "source": [
    "df_alpha['species'].unique()\n"
   ]
  },
  {
   "cell_type": "markdown",
   "id": "3821120f",
   "metadata": {},
   "source": [
    "# Removing mouse and monkey"
   ]
  },
  {
   "cell_type": "code",
   "execution_count": 62,
   "id": "1e75096b",
   "metadata": {},
   "outputs": [],
   "source": [
    "df_alpha = df_alpha[~df_alpha['species'].isin(['MusMusculus', 'MacacaMulatta'])]\n"
   ]
  },
  {
   "cell_type": "code",
   "execution_count": 64,
   "id": "3633c68c",
   "metadata": {
    "scrolled": true
   },
   "outputs": [
    {
     "data": {
      "text/plain": [
       "array(['HomoSapiens'], dtype=object)"
      ]
     },
     "execution_count": 64,
     "metadata": {},
     "output_type": "execute_result"
    }
   ],
   "source": [
    "df_alpha['species'].unique()\n"
   ]
  },
  {
   "cell_type": "code",
   "execution_count": 36,
   "id": "5a8c3cc3",
   "metadata": {
    "scrolled": false
   },
   "outputs": [
    {
     "name": "stdout",
     "output_type": "stream",
     "text": [
      "<class 'pandas.core.frame.DataFrame'>\n",
      "Int64Index: 35643 entries, 0 to 92769\n",
      "Data columns (total 7 columns):\n",
      " #   Column      Non-Null Count  Dtype \n",
      "---  ------      --------------  ----- \n",
      " 0   complex.id  35643 non-null  int64 \n",
      " 1   gene        35643 non-null  object\n",
      " 2   cdr3_a_aa   35643 non-null  object\n",
      " 3   v_a_gene    35639 non-null  object\n",
      " 4   j_a_gene    34754 non-null  object\n",
      " 5   species     35643 non-null  object\n",
      " 6   count       35643 non-null  int64 \n",
      "dtypes: int64(2), object(5)\n",
      "memory usage: 2.2+ MB\n"
     ]
    }
   ],
   "source": [
    "df_alpha.info()"
   ]
  },
  {
   "cell_type": "markdown",
   "id": "a1560a6d",
   "metadata": {},
   "source": [
    "## Dropping null values"
   ]
  },
  {
   "cell_type": "code",
   "execution_count": 65,
   "id": "1ad9abf1",
   "metadata": {
    "scrolled": true
   },
   "outputs": [
    {
     "name": "stdout",
     "output_type": "stream",
     "text": [
      "complex.id    0\n",
      "gene          0\n",
      "cdr3_a_aa     0\n",
      "v_a_gene      0\n",
      "j_a_gene      0\n",
      "species       0\n",
      "dtype: int64\n"
     ]
    }
   ],
   "source": [
    "df_alpha=df_alpha.dropna()\n",
    "print(df_alpha.isnull().sum())"
   ]
  },
  {
   "cell_type": "markdown",
   "id": "46bd62e0",
   "metadata": {},
   "source": [
    "## Dropping duplicates"
   ]
  },
  {
   "cell_type": "code",
   "execution_count": 66,
   "id": "ff0cfe66",
   "metadata": {},
   "outputs": [
    {
     "data": {
      "text/plain": [
       "(33939, 6)"
      ]
     },
     "execution_count": 66,
     "metadata": {},
     "output_type": "execute_result"
    }
   ],
   "source": [
    "df_alpha=df_alpha.drop_duplicates()\n",
    "df_alpha.shape"
   ]
  },
  {
   "cell_type": "markdown",
   "id": "16622957",
   "metadata": {},
   "source": [
    "## Run TCRDist on alpha gene dataset"
   ]
  },
  {
   "cell_type": "code",
   "execution_count": 43,
   "id": "8ddfc43d",
   "metadata": {},
   "outputs": [
    {
     "data": {
      "application/vnd.jupyter.widget-view+json": {
       "model_id": "ab78b8b274934b6fa0ea3a781d8a950a",
       "version_major": 2,
       "version_minor": 0
      },
      "text/plain": [
       "  0%|          | 0/340 [00:00<?, ?it/s]"
      ]
     },
     "metadata": {},
     "output_type": "display_data"
    },
    {
     "data": {
      "text/plain": [
       "<33939x33939 sparse matrix of type '<class 'numpy.int16'>'\n",
       "\twith 3076083 stored elements in Compressed Sparse Row format>"
      ]
     },
     "execution_count": 43,
     "metadata": {},
     "output_type": "execute_result"
    }
   ],
   "source": [
    "from tcrdist.repertoire import TCRrep\n",
    "tr = TCRrep(cell_df = df_alpha, \n",
    "            organism = 'human', \n",
    "            chains = ['alpha'], \n",
    "            db_file = 'alphabeta_gammadelta_db.tsv',\n",
    "            compute_distances=False)\n",
    "tr.cpus=2\n",
    "tr.compute_sparse_rect_distances(radius = 50, chunk_size = 100)\n",
    "tr.rw_alpha\n"
   ]
  },
  {
   "cell_type": "code",
   "execution_count": 44,
   "id": "749e217f",
   "metadata": {},
   "outputs": [
    {
     "name": "stdout",
     "output_type": "stream",
     "text": [
      "  (0, 0)\t-1\n",
      "  (0, 3989)\t48\n",
      "  (0, 4088)\t48\n",
      "  (0, 4132)\t48\n",
      "  (0, 10748)\t45\n",
      "  (0, 11827)\t48\n",
      "  (0, 14916)\t45\n",
      "  (0, 15870)\t48\n",
      "  (0, 21126)\t48\n",
      "  (0, 25630)\t45\n",
      "  (0, 26708)\t48\n",
      "  (0, 27577)\t45\n",
      "  (1, 1)\t-1\n",
      "  (1, 334)\t47\n",
      "  (1, 1392)\t33\n",
      "  (1, 2652)\t47\n",
      "  (1, 2906)\t50\n",
      "  (1, 2964)\t-1\n",
      "  (1, 3330)\t36\n",
      "  (1, 3343)\t24\n",
      "  (1, 3660)\t36\n",
      "  (1, 3824)\t36\n",
      "  (1, 4051)\t33\n",
      "  (1, 4061)\t36\n",
      "  (1, 4077)\t36\n",
      "  :\t:\n",
      "  (33938, 27249)\t48\n",
      "  (33938, 27725)\t48\n",
      "  (33938, 27915)\t36\n",
      "  (33938, 28568)\t21\n",
      "  (33938, 29487)\t21\n",
      "  (33938, 29490)\t45\n",
      "  (33938, 29543)\t48\n",
      "  (33938, 29551)\t48\n",
      "  (33938, 29706)\t36\n",
      "  (33938, 30657)\t24\n",
      "  (33938, 30658)\t24\n",
      "  (33938, 30660)\t36\n",
      "  (33938, 31640)\t48\n",
      "  (33938, 31837)\t48\n",
      "  (33938, 32563)\t24\n",
      "  (33938, 32899)\t36\n",
      "  (33938, 32954)\t48\n",
      "  (33938, 33294)\t48\n",
      "  (33938, 33705)\t48\n",
      "  (33938, 33714)\t48\n",
      "  (33938, 33815)\t36\n",
      "  (33938, 33912)\t9\n",
      "  (33938, 33913)\t-1\n",
      "  (33938, 33914)\t-1\n",
      "  (33938, 33938)\t-1\n"
     ]
    }
   ],
   "source": [
    "print(tr.rw_alpha)"
   ]
  }
 ],
 "metadata": {
  "kernelspec": {
   "display_name": "Python 3 (ipykernel)",
   "language": "python",
   "name": "python3"
  },
  "language_info": {
   "codemirror_mode": {
    "name": "ipython",
    "version": 3
   },
   "file_extension": ".py",
   "mimetype": "text/x-python",
   "name": "python",
   "nbconvert_exporter": "python",
   "pygments_lexer": "ipython3",
   "version": "3.9.13"
  }
 },
 "nbformat": 4,
 "nbformat_minor": 5
}
