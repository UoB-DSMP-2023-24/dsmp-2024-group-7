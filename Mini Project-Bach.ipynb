{
 "cells": [
  {
   "cell_type": "code",
   "execution_count": 1,
   "id": "692cbb62",
   "metadata": {
    "scrolled": false
   },
   "outputs": [
    {
     "ename": "FileNotFoundError",
     "evalue": "[Errno 2] No such file or directory: 'vdjdb.txt'",
     "output_type": "error",
     "traceback": [
      "\u001b[0;31m---------------------------------------------------------------------------\u001b[0m",
      "\u001b[0;31mFileNotFoundError\u001b[0m                         Traceback (most recent call last)",
      "\u001b[0;32m/var/folders/sz/gqjdvyvj0gb5ct5sxhb6jj5c0000gn/T/ipykernel_4021/2284676538.py\u001b[0m in \u001b[0;36m<module>\u001b[0;34m\u001b[0m\n\u001b[1;32m      1\u001b[0m \u001b[0;32mimport\u001b[0m \u001b[0mpandas\u001b[0m \u001b[0;32mas\u001b[0m \u001b[0mpd\u001b[0m\u001b[0;34m\u001b[0m\u001b[0;34m\u001b[0m\u001b[0m\n\u001b[1;32m      2\u001b[0m \u001b[0;31m# Read the entire file into a DataFrame\u001b[0m\u001b[0;34m\u001b[0m\u001b[0;34m\u001b[0m\u001b[0m\n\u001b[0;32m----> 3\u001b[0;31m \u001b[0mdf\u001b[0m \u001b[0;34m=\u001b[0m \u001b[0mpd\u001b[0m\u001b[0;34m.\u001b[0m\u001b[0mread_csv\u001b[0m\u001b[0;34m(\u001b[0m\u001b[0;34m\"vdjdb.txt\"\u001b[0m\u001b[0;34m,\u001b[0m \u001b[0mdelimiter\u001b[0m\u001b[0;34m=\u001b[0m\u001b[0;34m'\\t'\u001b[0m\u001b[0;34m)\u001b[0m  \u001b[0;31m# Assuming the file is tab-delimited, adjust if needed\u001b[0m\u001b[0;34m\u001b[0m\u001b[0;34m\u001b[0m\u001b[0m\n\u001b[0m\u001b[1;32m      4\u001b[0m \u001b[0;34m\u001b[0m\u001b[0m\n\u001b[1;32m      5\u001b[0m \u001b[0;31m# Display the DataFrame\u001b[0m\u001b[0;34m\u001b[0m\u001b[0;34m\u001b[0m\u001b[0m\n",
      "\u001b[0;32m/opt/anaconda3/lib/python3.9/site-packages/pandas/util/_decorators.py\u001b[0m in \u001b[0;36mwrapper\u001b[0;34m(*args, **kwargs)\u001b[0m\n\u001b[1;32m    309\u001b[0m                     \u001b[0mstacklevel\u001b[0m\u001b[0;34m=\u001b[0m\u001b[0mstacklevel\u001b[0m\u001b[0;34m,\u001b[0m\u001b[0;34m\u001b[0m\u001b[0;34m\u001b[0m\u001b[0m\n\u001b[1;32m    310\u001b[0m                 )\n\u001b[0;32m--> 311\u001b[0;31m             \u001b[0;32mreturn\u001b[0m \u001b[0mfunc\u001b[0m\u001b[0;34m(\u001b[0m\u001b[0;34m*\u001b[0m\u001b[0margs\u001b[0m\u001b[0;34m,\u001b[0m \u001b[0;34m**\u001b[0m\u001b[0mkwargs\u001b[0m\u001b[0;34m)\u001b[0m\u001b[0;34m\u001b[0m\u001b[0;34m\u001b[0m\u001b[0m\n\u001b[0m\u001b[1;32m    312\u001b[0m \u001b[0;34m\u001b[0m\u001b[0m\n\u001b[1;32m    313\u001b[0m         \u001b[0;32mreturn\u001b[0m \u001b[0mwrapper\u001b[0m\u001b[0;34m\u001b[0m\u001b[0;34m\u001b[0m\u001b[0m\n",
      "\u001b[0;32m/opt/anaconda3/lib/python3.9/site-packages/pandas/io/parsers/readers.py\u001b[0m in \u001b[0;36mread_csv\u001b[0;34m(filepath_or_buffer, sep, delimiter, header, names, index_col, usecols, squeeze, prefix, mangle_dupe_cols, dtype, engine, converters, true_values, false_values, skipinitialspace, skiprows, skipfooter, nrows, na_values, keep_default_na, na_filter, verbose, skip_blank_lines, parse_dates, infer_datetime_format, keep_date_col, date_parser, dayfirst, cache_dates, iterator, chunksize, compression, thousands, decimal, lineterminator, quotechar, quoting, doublequote, escapechar, comment, encoding, encoding_errors, dialect, error_bad_lines, warn_bad_lines, on_bad_lines, delim_whitespace, low_memory, memory_map, float_precision, storage_options)\u001b[0m\n\u001b[1;32m    676\u001b[0m     \u001b[0mkwds\u001b[0m\u001b[0;34m.\u001b[0m\u001b[0mupdate\u001b[0m\u001b[0;34m(\u001b[0m\u001b[0mkwds_defaults\u001b[0m\u001b[0;34m)\u001b[0m\u001b[0;34m\u001b[0m\u001b[0;34m\u001b[0m\u001b[0m\n\u001b[1;32m    677\u001b[0m \u001b[0;34m\u001b[0m\u001b[0m\n\u001b[0;32m--> 678\u001b[0;31m     \u001b[0;32mreturn\u001b[0m \u001b[0m_read\u001b[0m\u001b[0;34m(\u001b[0m\u001b[0mfilepath_or_buffer\u001b[0m\u001b[0;34m,\u001b[0m \u001b[0mkwds\u001b[0m\u001b[0;34m)\u001b[0m\u001b[0;34m\u001b[0m\u001b[0;34m\u001b[0m\u001b[0m\n\u001b[0m\u001b[1;32m    679\u001b[0m \u001b[0;34m\u001b[0m\u001b[0m\n\u001b[1;32m    680\u001b[0m \u001b[0;34m\u001b[0m\u001b[0m\n",
      "\u001b[0;32m/opt/anaconda3/lib/python3.9/site-packages/pandas/io/parsers/readers.py\u001b[0m in \u001b[0;36m_read\u001b[0;34m(filepath_or_buffer, kwds)\u001b[0m\n\u001b[1;32m    573\u001b[0m \u001b[0;34m\u001b[0m\u001b[0m\n\u001b[1;32m    574\u001b[0m     \u001b[0;31m# Create the parser.\u001b[0m\u001b[0;34m\u001b[0m\u001b[0;34m\u001b[0m\u001b[0m\n\u001b[0;32m--> 575\u001b[0;31m     \u001b[0mparser\u001b[0m \u001b[0;34m=\u001b[0m \u001b[0mTextFileReader\u001b[0m\u001b[0;34m(\u001b[0m\u001b[0mfilepath_or_buffer\u001b[0m\u001b[0;34m,\u001b[0m \u001b[0;34m**\u001b[0m\u001b[0mkwds\u001b[0m\u001b[0;34m)\u001b[0m\u001b[0;34m\u001b[0m\u001b[0;34m\u001b[0m\u001b[0m\n\u001b[0m\u001b[1;32m    576\u001b[0m \u001b[0;34m\u001b[0m\u001b[0m\n\u001b[1;32m    577\u001b[0m     \u001b[0;32mif\u001b[0m \u001b[0mchunksize\u001b[0m \u001b[0;32mor\u001b[0m \u001b[0miterator\u001b[0m\u001b[0;34m:\u001b[0m\u001b[0;34m\u001b[0m\u001b[0;34m\u001b[0m\u001b[0m\n",
      "\u001b[0;32m/opt/anaconda3/lib/python3.9/site-packages/pandas/io/parsers/readers.py\u001b[0m in \u001b[0;36m__init__\u001b[0;34m(self, f, engine, **kwds)\u001b[0m\n\u001b[1;32m    930\u001b[0m \u001b[0;34m\u001b[0m\u001b[0m\n\u001b[1;32m    931\u001b[0m         \u001b[0mself\u001b[0m\u001b[0;34m.\u001b[0m\u001b[0mhandles\u001b[0m\u001b[0;34m:\u001b[0m \u001b[0mIOHandles\u001b[0m \u001b[0;34m|\u001b[0m \u001b[0;32mNone\u001b[0m \u001b[0;34m=\u001b[0m \u001b[0;32mNone\u001b[0m\u001b[0;34m\u001b[0m\u001b[0;34m\u001b[0m\u001b[0m\n\u001b[0;32m--> 932\u001b[0;31m         \u001b[0mself\u001b[0m\u001b[0;34m.\u001b[0m\u001b[0m_engine\u001b[0m \u001b[0;34m=\u001b[0m \u001b[0mself\u001b[0m\u001b[0;34m.\u001b[0m\u001b[0m_make_engine\u001b[0m\u001b[0;34m(\u001b[0m\u001b[0mf\u001b[0m\u001b[0;34m,\u001b[0m \u001b[0mself\u001b[0m\u001b[0;34m.\u001b[0m\u001b[0mengine\u001b[0m\u001b[0;34m)\u001b[0m\u001b[0;34m\u001b[0m\u001b[0;34m\u001b[0m\u001b[0m\n\u001b[0m\u001b[1;32m    933\u001b[0m \u001b[0;34m\u001b[0m\u001b[0m\n\u001b[1;32m    934\u001b[0m     \u001b[0;32mdef\u001b[0m \u001b[0mclose\u001b[0m\u001b[0;34m(\u001b[0m\u001b[0mself\u001b[0m\u001b[0;34m)\u001b[0m\u001b[0;34m:\u001b[0m\u001b[0;34m\u001b[0m\u001b[0;34m\u001b[0m\u001b[0m\n",
      "\u001b[0;32m/opt/anaconda3/lib/python3.9/site-packages/pandas/io/parsers/readers.py\u001b[0m in \u001b[0;36m_make_engine\u001b[0;34m(self, f, engine)\u001b[0m\n\u001b[1;32m   1214\u001b[0m             \u001b[0;31m# \"Union[str, PathLike[str], ReadCsvBuffer[bytes], ReadCsvBuffer[str]]\"\u001b[0m\u001b[0;34m\u001b[0m\u001b[0;34m\u001b[0m\u001b[0m\n\u001b[1;32m   1215\u001b[0m             \u001b[0;31m# , \"str\", \"bool\", \"Any\", \"Any\", \"Any\", \"Any\", \"Any\"\u001b[0m\u001b[0;34m\u001b[0m\u001b[0;34m\u001b[0m\u001b[0m\n\u001b[0;32m-> 1216\u001b[0;31m             self.handles = get_handle(  # type: ignore[call-overload]\n\u001b[0m\u001b[1;32m   1217\u001b[0m                 \u001b[0mf\u001b[0m\u001b[0;34m,\u001b[0m\u001b[0;34m\u001b[0m\u001b[0;34m\u001b[0m\u001b[0m\n\u001b[1;32m   1218\u001b[0m                 \u001b[0mmode\u001b[0m\u001b[0;34m,\u001b[0m\u001b[0;34m\u001b[0m\u001b[0;34m\u001b[0m\u001b[0m\n",
      "\u001b[0;32m/opt/anaconda3/lib/python3.9/site-packages/pandas/io/common.py\u001b[0m in \u001b[0;36mget_handle\u001b[0;34m(path_or_buf, mode, encoding, compression, memory_map, is_text, errors, storage_options)\u001b[0m\n\u001b[1;32m    784\u001b[0m         \u001b[0;32mif\u001b[0m \u001b[0mioargs\u001b[0m\u001b[0;34m.\u001b[0m\u001b[0mencoding\u001b[0m \u001b[0;32mand\u001b[0m \u001b[0;34m\"b\"\u001b[0m \u001b[0;32mnot\u001b[0m \u001b[0;32min\u001b[0m \u001b[0mioargs\u001b[0m\u001b[0;34m.\u001b[0m\u001b[0mmode\u001b[0m\u001b[0;34m:\u001b[0m\u001b[0;34m\u001b[0m\u001b[0;34m\u001b[0m\u001b[0m\n\u001b[1;32m    785\u001b[0m             \u001b[0;31m# Encoding\u001b[0m\u001b[0;34m\u001b[0m\u001b[0;34m\u001b[0m\u001b[0m\n\u001b[0;32m--> 786\u001b[0;31m             handle = open(\n\u001b[0m\u001b[1;32m    787\u001b[0m                 \u001b[0mhandle\u001b[0m\u001b[0;34m,\u001b[0m\u001b[0;34m\u001b[0m\u001b[0;34m\u001b[0m\u001b[0m\n\u001b[1;32m    788\u001b[0m                 \u001b[0mioargs\u001b[0m\u001b[0;34m.\u001b[0m\u001b[0mmode\u001b[0m\u001b[0;34m,\u001b[0m\u001b[0;34m\u001b[0m\u001b[0;34m\u001b[0m\u001b[0m\n",
      "\u001b[0;31mFileNotFoundError\u001b[0m: [Errno 2] No such file or directory: 'vdjdb.txt'"
     ]
    }
   ],
   "source": [
    "import pandas as pd\n",
    "# Read the entire file into a DataFrame\n",
    "df = pd.read_csv(\"vdjdb.txt\", delimiter='\\t')  # Assuming the file is tab-delimited, adjust if needed\n",
    "\n",
    "# Display the DataFrame\n",
    "df.columns.values"
   ]
  },
  {
   "cell_type": "code",
   "execution_count": null,
   "id": "f82871e3",
   "metadata": {
    "scrolled": true
   },
   "outputs": [],
   "source": [
    "df = df[['complex.id', 'gene', 'cdr3', 'v.segm', 'j.segm', 'species',\n",
    "       'mhc.a', 'mhc.b', 'mhc.class', 'antigen.epitope', 'antigen.gene',\n",
    "       'antigen.species','vdjdb.score', 'meta']]"
   ]
  },
  {
   "cell_type": "code",
   "execution_count": null,
   "id": "534a32a2",
   "metadata": {},
   "outputs": [],
   "source": [
    "df['species'].unique()"
   ]
  },
  {
   "cell_type": "code",
   "execution_count": null,
   "id": "056a8f05",
   "metadata": {},
   "outputs": [],
   "source": [
    "pd.set_option('display.max_colwidth', None)\n",
    "df[['meta']].head(3)"
   ]
  },
  {
   "cell_type": "code",
   "execution_count": null,
   "id": "d00d390a",
   "metadata": {
    "scrolled": true
   },
   "outputs": [],
   "source": [
    "pd.reset_option('display.max_colwidth')\n",
    "\n",
    "filtered_df = df[df['complex.id'] == 4]\n",
    "filtered_df.head(5)"
   ]
  },
  {
   "cell_type": "code",
   "execution_count": null,
   "id": "5329a145",
   "metadata": {
    "scrolled": false
   },
   "outputs": [],
   "source": [
    "df.info()"
   ]
  },
  {
   "cell_type": "code",
   "execution_count": null,
   "id": "11a97679",
   "metadata": {},
   "outputs": [],
   "source": [
    "df.dtypes"
   ]
  },
  {
   "cell_type": "code",
   "execution_count": null,
   "id": "acf6ee46",
   "metadata": {},
   "outputs": [],
   "source": [
    "df.shape"
   ]
  },
  {
   "cell_type": "code",
   "execution_count": null,
   "id": "5aabee6d",
   "metadata": {},
   "outputs": [],
   "source": [
    "# Number of duplicate rows\n",
    "duplicate_rows_df = df[df.duplicated()]\n",
    "duplicate_rows_df.shape"
   ]
  },
  {
   "cell_type": "code",
   "execution_count": null,
   "id": "b5c301ef",
   "metadata": {
    "scrolled": false
   },
   "outputs": [],
   "source": [
    "df.count()"
   ]
  },
  {
   "cell_type": "markdown",
   "id": "a5816557",
   "metadata": {},
   "source": [
    "### Dropping duplicate rows"
   ]
  },
  {
   "cell_type": "code",
   "execution_count": null,
   "id": "6c954574",
   "metadata": {},
   "outputs": [],
   "source": [
    "# Drop duplicate rows\n",
    "df=df.drop_duplicates()\n",
    "df.shape"
   ]
  },
  {
   "cell_type": "markdown",
   "id": "43ad8db4",
   "metadata": {},
   "source": [
    "### Dropping missing and null value"
   ]
  },
  {
   "cell_type": "code",
   "execution_count": null,
   "id": "13f28026",
   "metadata": {},
   "outputs": [],
   "source": [
    "print(df.isnull().sum())"
   ]
  },
  {
   "cell_type": "code",
   "execution_count": null,
   "id": "c5d87c67",
   "metadata": {},
   "outputs": [],
   "source": [
    "df=df.dropna()\n",
    "df.shape"
   ]
  },
  {
   "cell_type": "markdown",
   "id": "4efc7d83",
   "metadata": {},
   "source": [
    "**After dropping null value**\n",
    "* Bulleted"
   ]
  },
  {
   "cell_type": "code",
   "execution_count": null,
   "id": "077556f0",
   "metadata": {},
   "outputs": [],
   "source": [
    "print(df.isnull().sum())"
   ]
  },
  {
   "cell_type": "markdown",
   "id": "f0e2cc93",
   "metadata": {},
   "source": [
    "<div class=\"alert alert-block alert-info\">\n",
    "<b>Tip:</b> Use blue boxes (alert-info) for tips and notes. \n",
    "If it’s a note, you don’t have to include the word “Note”.\n",
    "</div>\n"
   ]
  },
  {
   "cell_type": "markdown",
   "id": "fb96bfb3",
   "metadata": {},
   "source": [
    "<div class=\"alert alert-block alert-warning\">\n",
    "<b>Example:</b> Use yellow boxes for examples that are not \n",
    "inside code cells, or use for mathematical formulas if needed.\n",
    "</div>"
   ]
  },
  {
   "cell_type": "markdown",
   "id": "54cb5219",
   "metadata": {},
   "source": [
    ">**## Exploring the data ##**"
   ]
  },
  {
   "cell_type": "code",
   "execution_count": null,
   "id": "1c2cbb3d",
   "metadata": {},
   "outputs": [],
   "source": [
    "# Specify the substring to search for\n",
    "# pd.set_option('display.max_colwidth', None)\n",
    "pd.reset_option('display.max_colwidth')\n",
    "substring = 'CD8+'\n",
    "\n",
    "# Use boolean indexing to filter rows containing the substring in 'Description'\n",
    "\n",
    "filtered_df = df[df['meta'].str.contains(substring, case=False, na=False)]\n",
    "\n",
    "filtered_df[filtered_df['mhc.class']=='MHCII'].head(3)\n",
    "\n"
   ]
  },
  {
   "cell_type": "markdown",
   "id": "1533c1dd",
   "metadata": {},
   "source": [
    "##  TCRDist3"
   ]
  },
  {
   "cell_type": "code",
   "execution_count": null,
   "id": "e9c93c70",
   "metadata": {},
   "outputs": [],
   "source": [
    "df_dash = pd.read_csv(\"https://raw.githubusercontent.com/kmayerb/tcrdist2/API2/tcrdist/test_files_compact/dash.csv\")"
   ]
  },
  {
   "cell_type": "code",
   "execution_count": null,
   "id": "0e6a1daf",
   "metadata": {
    "scrolled": true
   },
   "outputs": [],
   "source": [
    "df_dash.head(3)"
   ]
  },
  {
   "cell_type": "markdown",
   "id": "c3465abc",
   "metadata": {},
   "source": [
    "## Installing tcrdist3 package ##"
   ]
  },
  {
   "cell_type": "code",
   "execution_count": null,
   "id": "90d806a4",
   "metadata": {},
   "outputs": [],
   "source": [
    "# pip install tcrdist3\n",
    "# installing tcrdist3"
   ]
  },
  {
   "cell_type": "code",
   "execution_count": null,
   "id": "6a0919ce",
   "metadata": {},
   "outputs": [],
   "source": [
    "# from tcrdist.repertoire import TCRrep\n",
    "# tr = TCRrep(cell_df = df_dash, \n",
    "#             organism = 'mouse', \n",
    "#             chains = ['alpha','beta'], \n",
    "#             db_file = 'alphabeta_gammadelta_db.tsv')\n",
    "\n",
    "# tr.pw_alpha\n",
    "# # tr.pw_beta\n",
    "# # tr.pw_cdr3_a_aa\n",
    "# # tr.pw_cdr3_b_aa"
   ]
  },
  {
   "cell_type": "code",
   "execution_count": null,
   "id": "48806023",
   "metadata": {},
   "outputs": [],
   "source": [
    "# tr = TCRrep(cell_df = df_dash,\n",
    "#             organism = 'mouse',\n",
    "#             chains = ['alpha','beta'],\n",
    "#             db_file = 'alphabeta_gammadelta_db.tsv',\n",
    "#             compute_distances = False)\n",
    "\n",
    "# tr.cpus = 2\n",
    "# tr.compute_sparse_rect_distances(radius = 50, chunk_size = 100)\n",
    "# tr.rw_beta\n",
    "# # \"\"\"<1920x1920 sparse matrix of type '<class 'numpy.int16'>'\n",
    "# # with 108846 stored elements in Compressed Sparse Row format>\n",
    "# # \"\"\"\n",
    "# # print(tr.rw_beta)    "
   ]
  },
  {
   "cell_type": "code",
   "execution_count": null,
   "id": "bcf4bb76",
   "metadata": {},
   "outputs": [],
   "source": [
    "# print(tr.rw_beta)    "
   ]
  },
  {
   "cell_type": "markdown",
   "id": "3f3d8607",
   "metadata": {},
   "source": [
    "## Preprocess vdjdb.text data frame for tcrdist3"
   ]
  },
  {
   "cell_type": "code",
   "execution_count": null,
   "id": "d09c4960",
   "metadata": {
    "scrolled": true
   },
   "outputs": [],
   "source": [
    "df.columns.values"
   ]
  },
  {
   "cell_type": "code",
   "execution_count": null,
   "id": "83898518",
   "metadata": {},
   "outputs": [],
   "source": [
    "df = df[['complex.id', 'gene', 'cdr3', 'v.segm', 'j.segm', 'species', 'antigen.epitope', 'antigen.gene', 'vdjdb.score']]"
   ]
  },
  {
   "cell_type": "code",
   "execution_count": null,
   "id": "48953943",
   "metadata": {
    "scrolled": false
   },
   "outputs": [],
   "source": [
    "filter=df['vdjdb.score']==0\n",
    "df=df[~filter]\n",
    "df.head(5)"
   ]
  },
  {
   "cell_type": "markdown",
   "id": "6ddbd0b2",
   "metadata": {},
   "source": [
    "# Separating data set in to alpha and beta dataframe"
   ]
  },
  {
   "cell_type": "markdown",
   "id": "2122dfa5",
   "metadata": {},
   "source": [
    "# Alpha data frame"
   ]
  },
  {
   "cell_type": "code",
   "execution_count": null,
   "id": "011e65d0",
   "metadata": {},
   "outputs": [],
   "source": [
    "import pandas as pd\n",
    "\n",
    "# Assuming df is your original dataframe\n",
    "# Create separate dataframes for alpha and beta chains\n",
    "df_alpha = df[df['gene'] == 'TRA'].rename(columns={'cdr3': 'cdr3_a_aa', 'v.segm': 'v_a_gene', 'j.segm': 'j_a_gene'})\n",
    "df_beta = df[df['gene'] == 'TRB'].rename(columns={'cdr3': 'cdr3_b_aa', 'v.segm': 'v_b_gene', 'j.segm': 'j_b_gene'})"
   ]
  },
  {
   "cell_type": "code",
   "execution_count": null,
   "id": "c0b34128",
   "metadata": {},
   "outputs": [],
   "source": [
    "df_alpha.reset_index(drop=True, inplace=True)"
   ]
  },
  {
   "cell_type": "code",
   "execution_count": null,
   "id": "dc96e937",
   "metadata": {
    "scrolled": false
   },
   "outputs": [],
   "source": [
    "df_alpha['species'].unique()"
   ]
  },
  {
   "cell_type": "markdown",
   "id": "3821120f",
   "metadata": {},
   "source": [
    "### Removing mouse and monkey"
   ]
  },
  {
   "cell_type": "code",
   "execution_count": null,
   "id": "1e75096b",
   "metadata": {},
   "outputs": [],
   "source": [
    "df_alpha = df_alpha[~df_alpha['species'].isin(['MusMusculus', 'MacacaMulatta'])]"
   ]
  },
  {
   "cell_type": "code",
   "execution_count": null,
   "id": "3633c68c",
   "metadata": {
    "scrolled": true
   },
   "outputs": [],
   "source": [
    "df_alpha['species'].unique()"
   ]
  },
  {
   "cell_type": "code",
   "execution_count": null,
   "id": "5a8c3cc3",
   "metadata": {
    "scrolled": false
   },
   "outputs": [],
   "source": [
    "df_alpha.info()"
   ]
  },
  {
   "cell_type": "markdown",
   "id": "a1560a6d",
   "metadata": {},
   "source": [
    "### Dropping null values"
   ]
  },
  {
   "cell_type": "code",
   "execution_count": null,
   "id": "1ad9abf1",
   "metadata": {
    "scrolled": true
   },
   "outputs": [],
   "source": [
    "df_alpha=df_alpha.dropna()\n",
    "print(df_alpha.isnull().sum())"
   ]
  },
  {
   "cell_type": "markdown",
   "id": "46bd62e0",
   "metadata": {},
   "source": [
    "### Dropping duplicates"
   ]
  },
  {
   "cell_type": "code",
   "execution_count": null,
   "id": "ff0cfe66",
   "metadata": {
    "scrolled": true
   },
   "outputs": [],
   "source": [
    "df_alpha=df_alpha.drop_duplicates()\n",
    "df_alpha.shape"
   ]
  },
  {
   "cell_type": "code",
   "execution_count": null,
   "id": "ba7b20ab",
   "metadata": {},
   "outputs": [],
   "source": [
    "df_alpha"
   ]
  },
  {
   "cell_type": "markdown",
   "id": "16622957",
   "metadata": {},
   "source": [
    "## Run TCRDist on alpha gene dataset"
   ]
  },
  {
   "cell_type": "code",
   "execution_count": null,
   "id": "8ddfc43d",
   "metadata": {},
   "outputs": [],
   "source": [
    "from tcrdist.repertoire import TCRrep\n",
    "tr = TCRrep(cell_df = df_alpha, \n",
    "            organism = 'human', \n",
    "            chains = ['alpha'], \n",
    "            db_file = 'alphabeta_gammadelta_db.tsv')"
   ]
  },
  {
   "cell_type": "code",
   "execution_count": null,
   "id": "749e217f",
   "metadata": {},
   "outputs": [],
   "source": [
    "print(tr.pw_alpha.shape)"
   ]
  },
  {
   "cell_type": "markdown",
   "id": "44be08e4",
   "metadata": {},
   "source": [
    "# Beta data frame - human"
   ]
  },
  {
   "cell_type": "code",
   "execution_count": null,
   "id": "d792f1a5",
   "metadata": {},
   "outputs": [],
   "source": [
    "df_beta = df[df['gene'] == 'TRB'].rename(columns={'cdr3': 'cdr3_b_aa', 'v.segm': 'v_b_gene', 'j.segm': 'j_b_gene'})"
   ]
  },
  {
   "cell_type": "code",
   "execution_count": null,
   "id": "9a9467d5",
   "metadata": {},
   "outputs": [],
   "source": [
    "df_beta['species'].unique()"
   ]
  },
  {
   "cell_type": "code",
   "execution_count": null,
   "id": "b60cecfe",
   "metadata": {},
   "outputs": [],
   "source": [
    "df_beta = df_beta[~df_beta['species'].isin(['MusMusculus', 'MacacaMulatta'])]"
   ]
  },
  {
   "cell_type": "code",
   "execution_count": null,
   "id": "76f7e575",
   "metadata": {
    "scrolled": false
   },
   "outputs": [],
   "source": [
    "df_beta.info()"
   ]
  },
  {
   "cell_type": "code",
   "execution_count": null,
   "id": "a3e7fc05",
   "metadata": {},
   "outputs": [],
   "source": [
    "df_beta=df_beta.dropna()\n",
    "print(df_beta.isnull().sum())"
   ]
  },
  {
   "cell_type": "code",
   "execution_count": null,
   "id": "19555ddf",
   "metadata": {
    "scrolled": true
   },
   "outputs": [],
   "source": [
    "df_beta=df_beta.drop_duplicates()\n",
    "df_beta.shape"
   ]
  },
  {
   "cell_type": "code",
   "execution_count": null,
   "id": "fc72ccdd",
   "metadata": {},
   "outputs": [],
   "source": [
    "from tcrdist.repertoire import TCRrep\n",
    "tr = TCRrep(cell_df = df_beta, \n",
    "            organism = 'human', \n",
    "            chains = ['beta'], \n",
    "            db_file = 'alphabeta_gammadelta_db.tsv')\n",
    "\n",
    "tr.pw_beta"
   ]
  },
  {
   "cell_type": "code",
   "execution_count": null,
   "id": "45d3d4d6",
   "metadata": {
    "scrolled": true
   },
   "outputs": [],
   "source": [
    "print(tr.pw_beta.shape)"
   ]
  },
  {
   "cell_type": "markdown",
   "id": "32e69a54",
   "metadata": {},
   "source": [
    "## Adding extra data file from TCRDist"
   ]
  },
  {
   "cell_type": "code",
   "execution_count": null,
   "id": "8c3b3ba2",
   "metadata": {},
   "outputs": [],
   "source": [
    "from tcrdist.setup_tests import list_available_zip_files  \n",
    "list_available_zip_files()"
   ]
  },
  {
   "cell_type": "code",
   "execution_count": null,
   "id": "eef04678",
   "metadata": {},
   "outputs": [],
   "source": [
    "from tcrdist.setup_tests import download_and_extract_zip_file\n",
    "download_and_extract_zip_file( 'dash.zip', source = \"dropbox\", dest = \".\")\n",
    "import os\n",
    "assert os.path.isfile(\"dash.zip\")\n",
    "assert os.path.isfile(\"dash.csv\")\n",
    "assert os.path.isfile(\"dash2.csv\")\n",
    "assert os.path.isfile(\"dash_human.csv\")\n",
    "assert os.path.isfile(\"dash_beta_airr.csv\")"
   ]
  },
  {
   "cell_type": "code",
   "execution_count": null,
   "id": "f58cad65",
   "metadata": {},
   "outputs": [],
   "source": [
    "import os\n",
    "os.getcwd()"
   ]
  },
  {
   "cell_type": "markdown",
   "id": "6966d1d8",
   "metadata": {},
   "source": [
    "## Create data frame with alpha and beta chain"
   ]
  },
  {
   "cell_type": "code",
   "execution_count": null,
   "id": "a2113d5f",
   "metadata": {},
   "outputs": [],
   "source": [
    "df_alpha = df[df['gene'] == 'TRA'].rename(columns={'cdr3': 'cdr3_a_aa', 'v.segm': 'v_a_gene', 'j.segm': 'j_a_gene'})\n",
    "df_beta = df[df['gene'] == 'TRB'].rename(columns={'cdr3': 'cdr3_b_aa', 'v.segm': 'v_b_gene', 'j.segm': 'j_b_gene'})"
   ]
  },
  {
   "cell_type": "code",
   "execution_count": null,
   "id": "58e5516d",
   "metadata": {},
   "outputs": [],
   "source": [
    "df_alpha"
   ]
  },
  {
   "cell_type": "code",
   "execution_count": null,
   "id": "bfed3f99",
   "metadata": {},
   "outputs": [],
   "source": [
    "df_alpha = df_alpha[df_alpha['complex.id'] != 0].reset_index(drop=True)\n",
    "df_beta = df_beta[df_beta['complex.id'] != 0].reset_index(drop=True)"
   ]
  },
  {
   "cell_type": "code",
   "execution_count": null,
   "id": "df0dadec",
   "metadata": {},
   "outputs": [],
   "source": [
    "df_merge = pd.merge(df_alpha, df_beta, on='complex.id')\n",
    "df_merge.shape"
   ]
  },
  {
   "cell_type": "code",
   "execution_count": null,
   "id": "2a854191",
   "metadata": {},
   "outputs": [],
   "source": [
    "df_merge.drop(['species_y'], axis=1, inplace=True)"
   ]
  },
  {
   "cell_type": "code",
   "execution_count": null,
   "id": "a6d6f93f",
   "metadata": {},
   "outputs": [],
   "source": [
    "df_merge.species_x.value_counts()"
   ]
  },
  {
   "cell_type": "code",
   "execution_count": null,
   "id": "2bedd189",
   "metadata": {
    "scrolled": true
   },
   "outputs": [],
   "source": [
    "filter=df_merge['species_x']=='MusMusculus'\n",
    "df_merge[~filter].reset_index(drop=True, inplace=True)\n",
    "df_merge.head(5)"
   ]
  },
  {
   "cell_type": "code",
   "execution_count": null,
   "id": "52564450",
   "metadata": {},
   "outputs": [],
   "source": [
    "df_merge"
   ]
  },
  {
   "cell_type": "code",
   "execution_count": null,
   "id": "19f3ddcf",
   "metadata": {},
   "outputs": [],
   "source": [
    "df_merge.info()"
   ]
  },
  {
   "cell_type": "code",
   "execution_count": null,
   "id": "7a8ab5ff",
   "metadata": {},
   "outputs": [],
   "source": [
    "# df_dash\n",
    "\n",
    "# df = df_dash[df_dash['subject'].str.contains('mouse')] \n",
    "# #search for a specific string in a cell\n",
    "# #select rows that contain specific text using pandas"
   ]
  },
  {
   "cell_type": "code",
   "execution_count": null,
   "id": "28ed955f",
   "metadata": {},
   "outputs": [],
   "source": [
    "top_10_epitope = df_merge['antigen.epitope_y'].value_counts().nlargest(10)\n",
    "print(top_10_epitope)\n",
    "\n",
    "# convert to list\n",
    "list_top10epitopes = top_10_epitope.index.tolist()"
   ]
  },
  {
   "cell_type": "code",
   "execution_count": null,
   "id": "a6dcedc4",
   "metadata": {
    "scrolled": false
   },
   "outputs": [],
   "source": [
    "df_merge=df_merge.drop_duplicates()\n",
    "df_merge.shape"
   ]
  },
  {
   "cell_type": "markdown",
   "id": "33adb1ae",
   "metadata": {},
   "source": [
    "**Extract top 10 most common epitope from df_merge data frame**"
   ]
  },
  {
   "cell_type": "code",
   "execution_count": null,
   "id": "05b0c160",
   "metadata": {
    "scrolled": true
   },
   "outputs": [],
   "source": [
    "df_merge = df_merge[df_merge['antigen.epitope_x'].\\\n",
    "                    isin(list_top10epitopes)].reset_index(drop = True)"
   ]
  },
  {
   "cell_type": "code",
   "execution_count": null,
   "id": "5089df18",
   "metadata": {
    "scrolled": true
   },
   "outputs": [],
   "source": [
    "df_merge"
   ]
  },
  {
   "cell_type": "markdown",
   "id": "be050c10",
   "metadata": {},
   "source": [
    "### How to implement PCA, tSNE and UMAP."
   ]
  },
  {
   "cell_type": "code",
   "execution_count": null,
   "id": "f1479f0c",
   "metadata": {},
   "outputs": [],
   "source": [
    "from tcrdist.repertoire import TCRrep\n",
    "tr = TCRrep(cell_df = df_merge, \n",
    "            organism = 'human', \n",
    "            chains = ['alpha','beta'], \n",
    "            db_file = 'alphabeta_gammadelta_db.tsv',\n",
    "            deduplicate = True,\n",
    "            compute_distances = True)"
   ]
  },
  {
   "cell_type": "code",
   "execution_count": null,
   "id": "76f501d0",
   "metadata": {
    "scrolled": true
   },
   "outputs": [],
   "source": [
    "df_merge"
   ]
  },
  {
   "cell_type": "code",
   "execution_count": null,
   "id": "5df0ac0c",
   "metadata": {},
   "outputs": [],
   "source": [
    "print(\"alpha shape:\", tr.pw_beta.shape)\n",
    "print(\"beta shape\", tr.pw_beta.shape)"
   ]
  },
  {
   "cell_type": "code",
   "execution_count": null,
   "id": "4c61c8b9",
   "metadata": {},
   "outputs": [],
   "source": [
    "print(\"alpha shape:\", tr.pw_cdr3_b_aa.shape)\n",
    "print(\"beta shape\", tr.pw_cdr3_b_aa.shape)"
   ]
  },
  {
   "cell_type": "code",
   "execution_count": null,
   "id": "24f470cf",
   "metadata": {},
   "outputs": [],
   "source": [
    "combined_pw_distance = tr.pw_cdr3_a_aa + tr.pw_cdr3_b_aa"
   ]
  },
  {
   "cell_type": "markdown",
   "id": "467d706a",
   "metadata": {},
   "source": [
    "### Combined alpha and beta distance"
   ]
  },
  {
   "cell_type": "code",
   "execution_count": null,
   "id": "696c5f3c",
   "metadata": {},
   "outputs": [],
   "source": [
    "pw_distance.shape"
   ]
  },
  {
   "cell_type": "markdown",
   "id": "c5b38a51",
   "metadata": {},
   "source": [
    "### Testing PCA "
   ]
  },
  {
   "cell_type": "markdown",
   "id": "555cf069",
   "metadata": {},
   "source": [
    "Using a different dataset"
   ]
  },
  {
   "cell_type": "code",
   "execution_count": null,
   "id": "2e04ea14",
   "metadata": {
    "scrolled": true
   },
   "outputs": [],
   "source": [
    "import pandas as pd\n",
    "df_wine = pd.read_csv('https://archive.ics.uci.edu/ml/'\n",
    "                      'machine-learning-databases/wine/wine.data',\n",
    "                      header=None)\n",
    "df_wine"
   ]
  },
  {
   "cell_type": "code",
   "execution_count": null,
   "id": "14c4e7d1",
   "metadata": {},
   "outputs": [],
   "source": [
    "pip install -U scikit-learn"
   ]
  },
  {
   "cell_type": "code",
   "execution_count": null,
   "id": "0e3a02ea",
   "metadata": {},
   "outputs": [],
   "source": [
    "from sklearn.model_selection import train_test_split\n",
    "from sklearn.preprocessing import StandardScaler\n",
    "\n",
    "# split into training and testing sets\n",
    "X, y = df_wine.iloc[:, 1:].values, df_wine.iloc[:, 0].values\n",
    "X_train, X_test, y_train, y_test = train_test_split(\n",
    "    X, y, test_size=0.3,\n",
    "    stratify=y, random_state=0\n",
    ")\n",
    "# standardize the features\n",
    "sc = StandardScaler()\n",
    "X_train_std = sc.fit_transform(X_train)\n",
    "X_test_std = sc.transform(X_test)"
   ]
  },
  {
   "cell_type": "code",
   "execution_count": null,
   "id": "ee0210b9",
   "metadata": {},
   "outputs": [],
   "source": [
    "import numpy as np\n",
    "\n",
    "cov_mat = np.cov(X_train_std.T)\n",
    "eigen_vals, eigen_vecs = np.linalg.eig(cov_mat)"
   ]
  },
  {
   "cell_type": "code",
   "execution_count": null,
   "id": "3f2d5f88",
   "metadata": {},
   "outputs": [],
   "source": [
    "import matplotlib.pyplot as plt\n",
    "\n",
    "# calculate cumulative sum of explained variances\n",
    "tot = sum(eigen_vals)\n",
    "var_exp = [(i / tot) for i in sorted(eigen_vals, reverse=True)]\n",
    "cum_var_exp = np.cumsum(var_exp)\n",
    "\n",
    "# plot explained variances\n",
    "plt.bar(range(1,14), var_exp, alpha=0.5,\n",
    "        align='center', label='individual explained variance')\n",
    "plt.step(range(1,14), cum_var_exp, where='mid',\n",
    "         label='cumulative explained variance')\n",
    "plt.ylabel('Explained variance ratio')\n",
    "plt.xlabel('Principal component index')\n",
    "plt.legend(loc='best')\n",
    "plt.show()"
   ]
  },
  {
   "cell_type": "code",
   "execution_count": null,
   "id": "513a6090",
   "metadata": {},
   "outputs": [],
   "source": [
    "# Make a list of (eigenvalue, eigenvector) tuples\n",
    "eigen_pairs = [(np.abs(eigen_vals[i]), eigen_vecs[:, i]) for i in range(len(eigen_vals))]\n",
    "\n",
    "# Sort the (eigenvalue, eigenvector) tuples from high to low\n",
    "eigen_pairs.sort(key=lambda k: k[0], reverse=True)"
   ]
  },
  {
   "cell_type": "code",
   "execution_count": null,
   "id": "41e122b1",
   "metadata": {},
   "outputs": [],
   "source": [
    "w = np.hstack((eigen_pairs[0][1][:, np.newaxis], eigen_pairs[1][1][:, np.newaxis]))\n",
    "print('Matrix W:\\n', w)"
   ]
  },
  {
   "cell_type": "code",
   "execution_count": null,
   "id": "d03978fb",
   "metadata": {},
   "outputs": [],
   "source": [
    "X_train_std[0].dot(w)"
   ]
  },
  {
   "cell_type": "code",
   "execution_count": null,
   "id": "01d4a6e8",
   "metadata": {},
   "outputs": [],
   "source": [
    "X_train_pca = X_train_std.dot(w)"
   ]
  },
  {
   "cell_type": "code",
   "execution_count": null,
   "id": "004a8661",
   "metadata": {},
   "outputs": [],
   "source": [
    "colors = ['r', 'b', 'g']\n",
    "markers = ['s', 'x', 'o']\n",
    "for l, c, m in zip(np.unique(y_train), colors, markers):\n",
    "    plt.scatter(X_train_pca[y_train==l, 0], \n",
    "                X_train_pca[y_train==l, 1], \n",
    "                c=c, label=l, marker=m) \n",
    "plt.xlabel('PC 1')\n",
    "plt.ylabel('PC 2')\n",
    "plt.legend(loc='lower left')\n",
    "plt.show()"
   ]
  },
  {
   "cell_type": "code",
   "execution_count": null,
   "id": "e42bf67d",
   "metadata": {},
   "outputs": [],
   "source": [
    "from sklearn.linear_model import LogisticRegression\n",
    "from sklearn.decomposition import PCA\n",
    "\n",
    "# intialize pca and logistic regression model\n",
    "pca = PCA(n_components=2)\n",
    "lr = LogisticRegression(multi_class='auto', solver='liblinear')\n",
    "\n",
    "# fit and transform data\n",
    "X_train_pca = pca.fit_transform(X_train_std)\n",
    "X_test_pca = pca.transform(X_test_std)\n",
    "lr.fit(X_train_pca, y_train)"
   ]
  },
  {
   "cell_type": "code",
   "execution_count": null,
   "id": "b6dfd749",
   "metadata": {},
   "outputs": [],
   "source": [
    "from sklearn.datasets import load_digits\n",
    "X, _ = load_digits(return_X_y=True)\n",
    "X.shape\n"
   ]
  },
  {
   "cell_type": "code",
   "execution_count": null,
   "id": "1e330ba6",
   "metadata": {},
   "outputs": [],
   "source": [
    "print(X)"
   ]
  },
  {
   "cell_type": "markdown",
   "id": "85f8412c",
   "metadata": {},
   "source": [
    "### Testing MDS\n",
    "\n",
    "With number classification dataset"
   ]
  },
  {
   "cell_type": "code",
   "execution_count": null,
   "id": "1d8e3ebc",
   "metadata": {},
   "outputs": [],
   "source": [
    "import numpy as np\n",
    "import matplotlib.pyplot as plt\n",
    "from sklearn.datasets import load_digits\n",
    "from sklearn.manifold import MDS\n",
    "\n",
    "# Load a sample dataset (e.g., the digits dataset)\n",
    "data = load_digits()\n",
    "X, y = data.data, data.target\n",
    "\n",
    "print('Original Dimesnion of X = ', X.shape)\n",
    "# Create an MDS model with the desired number of dimensions\n",
    "# Number of dimensions for visualization\n",
    "n_components = 2\n",
    "mds = MDS(n_components=n_components)\n",
    "\n",
    "# Fit the MDS model to your data\n",
    "X_reduced = mds.fit_transform(X)\n",
    "\n",
    "print('Dimesnion of X after MDS = ',X_reduced.shape)\n",
    "\n",
    "# Visualize the reduced data\n",
    "plt.figure(figsize=(8, 6))\n",
    "plt.scatter(X_reduced[:, 0], X_reduced[:, 1], c=y, cmap=plt.cm.get_cmap(\"jet\", 10))\n",
    "plt.colorbar(label='Digit Label', ticks=range(10))\n",
    "plt.title(\"MDS Visualization of Digits Dataset\")\n",
    "plt.xlabel(\"MDS Dimension 1\")\n",
    "plt.ylabel(\"MDS Dimension 2\")\n",
    "plt.show()\n"
   ]
  },
  {
   "cell_type": "code",
   "execution_count": null,
   "id": "8f2f2796",
   "metadata": {},
   "outputs": [],
   "source": [
    "X"
   ]
  },
  {
   "cell_type": "code",
   "execution_count": null,
   "id": "89d28133",
   "metadata": {},
   "outputs": [],
   "source": [
    "import numpy as np\n",
    "import matplotlib.pyplot as plt\n",
    "from sklearn.datasets import load_digits\n",
    "from sklearn.manifold import MDS"
   ]
  },
  {
   "cell_type": "code",
   "execution_count": null,
   "id": "3a79202f",
   "metadata": {},
   "outputs": [],
   "source": [
    "alpha_chain = tr.pw_alpha\n",
    "alpha_chain.shape"
   ]
  },
  {
   "cell_type": "code",
   "execution_count": null,
   "id": "ffebfc92",
   "metadata": {},
   "outputs": [],
   "source": [
    "data.target"
   ]
  },
  {
   "cell_type": "code",
   "execution_count": null,
   "id": "c86b2864",
   "metadata": {},
   "outputs": [],
   "source": [
    "## Ploting pairwise alpha chain\n",
    "\n",
    "print(\"Original Dimensionn of alpha chain  =\", tr.pw_alpha.shape)\n",
    "\n",
    "#Create an MDS model with the desired number of dimensions\n",
    "#Number of dimensions for visualization\n",
    "\n",
    "n_components = 2\n",
    "msd = MDS(n_components = n_components)\n",
    "\n",
    "#Fit the MDS model to the data\n",
    "X_reduced = mds.fit_transform(alpha_chain)"
   ]
  },
  {
   "cell_type": "code",
   "execution_count": null,
   "id": "7fb9b69d",
   "metadata": {},
   "outputs": [],
   "source": [
    "print(X_reduced.shape)"
   ]
  },
  {
   "cell_type": "code",
   "execution_count": null,
   "id": "b9b09534",
   "metadata": {},
   "outputs": [],
   "source": [
    "X_reduced"
   ]
  },
  {
   "cell_type": "code",
   "execution_count": null,
   "id": "c39c66c1",
   "metadata": {},
   "outputs": [],
   "source": [
    "plt.figure(figsize=(8, 6))\n",
    "plt.scatter(X_reduced[:, 0], X_reduced[:, 1])\n",
    "plt.title(\"MDS Visualization of alpha chain\")\n",
    "plt.xlabel(\"MDS Dimension 1\")\n",
    "plt.ylabel(\"MDS Dimension 2\")\n",
    "plt.show()"
   ]
  },
  {
   "cell_type": "code",
   "execution_count": null,
   "id": "23c68dd0",
   "metadata": {},
   "outputs": [],
   "source": [
    "# Check that file for example 1 is available. If not, download it directly from GitHub\n",
    "import os\n",
    "f = 'clonotypes_minervina.tsv'\n",
    "if not os.path.isfile(f):\n",
    "    os.system('wget https://raw.githubusercontent.com/kmayerb/tcrdist3_book_chapter/main/data/clonotypes_minervina.tsv')\n",
    "          \n",
    "          \n",
    "# Make a folder ‘data’ where some outputs will be written\n",
    "path = 'data'\n",
    "if not os.path.isdir(path):\n",
    "    os.mkdir(path)\n",
    "import os\n",
    "import pandas as pd\n",
    "import numpy as np\n",
    "from tcrdist.repertoire import TCRrep\n",
    "# Load Pandas DataFrame from SI Table 6 (Minervina and Pogorelyy et al., 2021)\n",
    "f = 'clonotypes_minervina.tsv'\n",
    "df = pd.read_csv(f,sep =\"\\t\")\n",
    "# Subset to top 6 epitopes.\n",
    "list_of_epitopes = ['A01_TTD', 'A02_YLQ', 'A01_LTD', \n",
    "'B15_NQK', 'A01_FTS', 'A24_NYN']\n",
    "df = df[ df['epitope'].isin(list_of_epitopes)].\\\n",
    "reset_index(drop = True)\n",
    "# Rename columns.\n",
    "df = df.rename(columns = {\n",
    "'cdr3b':'cdr3_b_aa', \n",
    "'vb'   :'v_b_gene', \n",
    "'jb'   :'j_b_gene',\n",
    "'cdr3a':'cdr3_a_aa', \n",
    "'va'   :'v_a_gene', \n",
    "'ja'   :'j_a_gene',\n",
    "'donor':'subject'} )\n",
    "# Preview the first 2 lines of DataFrame.\n",
    "df.head(3)"
   ]
  },
  {
   "cell_type": "code",
   "execution_count": null,
   "id": "438c0b9a",
   "metadata": {},
   "outputs": [],
   "source": [
    "df_merge.head(3)"
   ]
  },
  {
   "cell_type": "code",
   "execution_count": null,
   "id": "c553fea7",
   "metadata": {},
   "outputs": [],
   "source": [
    "df_merge.drop(columns=['gene_x', 'antigen.gene_x', 'antigen.gene_y', 'vdjdb.score_y'], inplace=True)\n"
   ]
  },
  {
   "cell_type": "code",
   "execution_count": null,
   "id": "9a9fcee1",
   "metadata": {},
   "outputs": [],
   "source": [
    "# Add *01 allele level designation.\n",
    "df['v_a_gene']  = df['v_a_gene'].apply(lambda x: f\"{x}*01\")\n",
    "df['v_b_gene']  = df['v_b_gene'].apply(lambda x: f\"{x}*01\")\n",
    "df['j_a_gene']  = df['j_a_gene'].apply(lambda x: f\"{x}*01\")\n",
    "df['j_b_gene']  = df['j_b_gene'].apply(lambda x: f\"{x}*01\")\n",
    "df['count'] = 1\n",
    "\n",
    "\n",
    "from tcrdist.repertoire import TCRrep\n",
    "tr = TCRrep(cell_df = df[['subject','epitope','cdr3_a_aa','v_a_gene',\n",
    "'j_a_gene','cdr3_b_aa','v_b_gene','j_b_gene',\n",
    "'category','count','cdr3a_nt','cdr3b_nt']], \n",
    "organism = \"human\", \n",
    "chains = ['alpha','beta'],\n",
    "deduplicate = True,\n",
    "compute_distances = True)"
   ]
  },
  {
   "cell_type": "code",
   "execution_count": null,
   "id": "df6a298d",
   "metadata": {},
   "outputs": [],
   "source": [
    "print(\"alpha shape:\", tr.pw_beta.shape)\n",
    "print(\"beta shape\", tr.pw_beta.shape)"
   ]
  },
  {
   "cell_type": "code",
   "execution_count": null,
   "id": "01f71107",
   "metadata": {},
   "outputs": [],
   "source": [
    "tr.pw_alpha_beta = tr.pw_beta + tr.pw_alpha"
   ]
  },
  {
   "cell_type": "code",
   "execution_count": null,
   "id": "1d34880b",
   "metadata": {},
   "outputs": [],
   "source": [
    "from tcrdist.public import _neighbors_fixed_radius\n",
    "# <edge_threshold> is used to define maximum distance to for a network edge.\n",
    "edge_threshold = 120\n",
    "# <tr.pw_alpha_beta> is paired chain TCRdist.\n",
    "tr.pw_alpha_beta = tr.pw_beta + tr.pw_alpha\n",
    "# <network> initialize a list to populate with edges between TCRs.\n",
    "network = list()\n",
    "for i,n in enumerate(_neighbors_fixed_radius(tr.pw_alpha_beta, edge_threshold)):\n",
    "for j in n:\n",
    "if i != j:\n",
    "network.append((\n",
    "i,                                 # ‘node_1’ - row index\n",
    "j,                                 # ‘node_2’ - column index\n",
    "(tr.pw_alpha_beta )[i,j],          # ‘dist’- gets the distance between TCR(i,j)\n",
    "tr.clone_df[‘v_b_gene’].iloc[i],   # ‘v_b_gene_1’ - v beta gene of clone i\n",
    "tr.clone_df[‘v_b_gene’].iloc[j],   # ‘v_b_gene_2’ - v beta gene of clone j\n",
    "tr.clone_df[‘cdr3_b_aa’].iloc[i],  # ‘cdr3_b_aa_1’ - cdr3 beta of clone i\n",
    "tr.clone_df[‘cdr3_b_aa’].iloc[j],  # ‘cdr3_b_aa_2’ - cdr3 beta of clone j\n",
    "tr.clone_df[‘subject’].iloc[i],    # ‘subject_1’ - subject of clone i\n",
    "tr.clone_df[‘subject’].iloc[j],    # ‘subject_2’ - subject of clone j\n",
    "tr.clone_df[‘epitope’].iloc[i],    # ‘epitope_1’ - epitope associated with clone i\n",
    "tr.clone_df[‘epitope’].iloc[j],    # ‘epitope_2’ - epitope associated with clone j\n",
    "len(n)-1))                         # ‘K_neighbors’ - number of neighbors\n",
    "cols = [‘node_1’, ‘node_2’, ‘dist’, ‘v_b_gene_1’, ‘v_b_gene_2’, \n",
    "‘cdr3_b_aa_1’,’cdr3_b_aa_2’, ‘subject_1’,’subject_2’,\n",
    "‘epitope_1’,’epitope_2’, ‘K_neighbors’]\n",
    "# Store the <network> edge list as a DataFrame.\n",
    "df_net = pd.DataFrame(network, columns = cols)\n",
    "# Option to write the edge list to a file for use in Gephi, Cytoscape, R, etc.\n",
    "outfile = os.path.join(path,f\"{f}_paired_TCRdist_{edge_threshold}_network.csv\")\n",
    "df_net.to_csv(outfile, sep = “,”, index = False)\n"
   ]
  },
  {
   "cell_type": "code",
   "execution_count": null,
   "id": "9708b96b",
   "metadata": {},
   "outputs": [],
   "source": [
    "df.epitope.value_counts()"
   ]
  },
  {
   "cell_type": "code",
   "execution_count": null,
   "id": "5d18a729",
   "metadata": {},
   "outputs": [],
   "source": []
  }
 ],
 "metadata": {
  "kernelspec": {
   "display_name": "Python 3 (ipykernel)",
   "language": "python",
   "name": "python3"
  },
  "language_info": {
   "codemirror_mode": {
    "name": "ipython",
    "version": 3
   },
   "file_extension": ".py",
   "mimetype": "text/x-python",
   "name": "python",
   "nbconvert_exporter": "python",
   "pygments_lexer": "ipython3",
   "version": "3.9.13"
  }
 },
 "nbformat": 4,
 "nbformat_minor": 5
}
